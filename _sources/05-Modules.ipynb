{
 "cells": [
  {
   "cell_type": "markdown",
   "metadata": {
    "slideshow": {
     "slide_type": "slide"
    }
   },
   "source": [
    "# Modules\n",
    "\n",
    "If your Python program gets longer, you may want to split it into several files for easier maintenance. To support this, Python has a way to put definitions in a file and use them in a script or in an interactive instance of the interpreter. Such a file is called a module."
   ]
  },
  {
   "cell_type": "markdown",
   "metadata": {
    "slideshow": {
     "slide_type": "slide"
    }
   },
   "source": [
    "Run the cell below to create a file named fibo.py with several functions inside:"
   ]
  },
  {
   "cell_type": "code",
   "execution_count": null,
   "metadata": {
    "slideshow": {
     "slide_type": "slide"
    }
   },
   "outputs": [],
   "source": [
    "%%file fibo.py\n",
    "\"\"\" Simple module with\n",
    "    two functions to compute Fibonacci series \"\"\"\n",
    "\n",
    "def fib1(n):\n",
    "   \"\"\" write Fibonacci series up to n \"\"\"\n",
    "   a, b = 0, 1\n",
    "   while b < n:\n",
    "      print(b, end=', ')\n",
    "      a, b = b, a+b\n",
    "\n",
    "def fib2(n):   \n",
    "    \"\"\" return Fibonacci series up to n \"\"\"\n",
    "    result = []\n",
    "    a, b = 0, 1\n",
    "    while b < n:\n",
    "        result.append(b)\n",
    "        a, b = b, a+b\n",
    "    return result\n",
    "\n",
    "if __name__ == \"__main__\":\n",
    "    import sys\n",
    "    fib1(int(sys.argv[1]))"
   ]
  },
  {
   "cell_type": "markdown",
   "metadata": {
    "slideshow": {
     "slide_type": "slide"
    }
   },
   "source": [
    "You can use the function fib by importing fibo which is the name of the file without .py extension."
   ]
  },
  {
   "cell_type": "code",
   "execution_count": null,
   "metadata": {
    "slideshow": {
     "slide_type": "fragment"
    }
   },
   "outputs": [],
   "source": [
    "import fibo\n",
    "print(fibo.__name__)\n",
    "print(fibo.__file__)\n",
    "fibo.fib1(1000)"
   ]
  },
  {
   "cell_type": "code",
   "execution_count": null,
   "metadata": {},
   "outputs": [],
   "source": [
    "%run fibo.py 1000"
   ]
  },
  {
   "cell_type": "code",
   "execution_count": null,
   "metadata": {
    "slideshow": {
     "slide_type": "slide"
    }
   },
   "outputs": [],
   "source": [
    "help(fibo)"
   ]
  },
  {
   "cell_type": "markdown",
   "metadata": {
    "slideshow": {
     "slide_type": "slide"
    }
   },
   "source": [
    "## Executing modules as scripts\n",
    "\n",
    "When you run a Python module with\n",
    "```bash\n",
    "$ python fibo.py <arguments>\n",
    "```\n",
    "the code in the module will be executed, just as if you imported it, but with the __name__ set to \"__main__\". The following code will be executed only in this case and not when it is imported.\n",
    "```python\n",
    "if __name__ == \"__main__\":\n",
    "    import sys\n",
    "    fib(int(sys.argv[1]))\n",
    "```\n",
    "In Jupyter notebook, you can run the fibo.py python script using magic command."
   ]
  },
  {
   "cell_type": "code",
   "execution_count": null,
   "metadata": {
    "slideshow": {
     "slide_type": "slide"
    }
   },
   "outputs": [],
   "source": [
    "%run fibo.py 1000"
   ]
  },
  {
   "cell_type": "markdown",
   "metadata": {
    "slideshow": {
     "slide_type": "fragment"
    }
   },
   "source": [
    "The module is also imported."
   ]
  },
  {
   "cell_type": "code",
   "execution_count": null,
   "metadata": {
    "slideshow": {
     "slide_type": "fragment"
    }
   },
   "outputs": [],
   "source": [
    "fib1(1000)"
   ]
  },
  {
   "cell_type": "markdown",
   "metadata": {
    "slideshow": {
     "slide_type": "slide"
    }
   },
   "source": [
    "## Different ways to import a module\n",
    "```python\n",
    "import fibo\n",
    "import fibo as f\n",
    "from fibo import fib1, fib2\n",
    "from fibo import *\n",
    "```"
   ]
  },
  {
   "cell_type": "markdown",
   "metadata": {
    "slideshow": {
     "slide_type": "fragment"
    }
   },
   "source": [
    "- Last command with '*' imports all names except those beginning with an underscore (_). In most cases, do not use this facility since it introduces an unknown set of names into the interpreter, possibly hiding some things you have already defined."
   ]
  },
  {
   "cell_type": "markdown",
   "metadata": {
    "slideshow": {
     "slide_type": "slide"
    }
   },
   "source": [
    "- If a function with same name is present in different modules imported. Last module function imported replace the previous one."
   ]
  },
  {
   "cell_type": "code",
   "execution_count": null,
   "metadata": {
    "slideshow": {
     "slide_type": "fragment"
    }
   },
   "outputs": [],
   "source": [
    "from numpy import sqrt\n",
    "from scipy import sqrt\n",
    "sqrt(-1)"
   ]
  },
  {
   "cell_type": "code",
   "execution_count": null,
   "metadata": {
    "slideshow": {
     "slide_type": "fragment"
    }
   },
   "outputs": [],
   "source": [
    "from scipy import sqrt\n",
    "from numpy import sqrt\n",
    "sqrt(-1)"
   ]
  },
  {
   "cell_type": "code",
   "execution_count": null,
   "metadata": {
    "slideshow": {
     "slide_type": "slide"
    }
   },
   "outputs": [],
   "source": [
    "import numpy as np\n",
    "import scipy as sp\n",
    "\n",
    "print(np.sqrt(-1+0j), sp.sqrt(-1))"
   ]
  },
  {
   "cell_type": "markdown",
   "metadata": {
    "slideshow": {
     "slide_type": "slide"
    }
   },
   "source": [
    "- For efficiency reasons, each module is only imported once per interpreter session. Therefore, if you change your modules, you must restart the interpreter \n",
    "– If you really want to test interactively after a long run, use :\n",
    "```python\n",
    "import importlib\n",
    "importlib.reload(modulename)\n",
    "```"
   ]
  },
  {
   "cell_type": "markdown",
   "metadata": {
    "slideshow": {
     "slide_type": "slide"
    }
   },
   "source": [
    "## The Module Search Path\n",
    "\n",
    "When a module is imported, the interpreter searches for a file named module.py in a list of directories given by the variable sys.path.\n",
    "- Python programs can modify sys.path\n",
    "- export the PYTHONPATH environment variable to change it on your system."
   ]
  },
  {
   "cell_type": "code",
   "execution_count": null,
   "metadata": {
    "slideshow": {
     "slide_type": "fragment"
    }
   },
   "outputs": [],
   "source": [
    "import sys\n",
    "sys.path"
   ]
  },
  {
   "cell_type": "code",
   "execution_count": null,
   "metadata": {
    "slideshow": {
     "slide_type": "slide"
    }
   },
   "outputs": [],
   "source": [
    "import collections\n",
    "collections.__path__"
   ]
  },
  {
   "cell_type": "markdown",
   "metadata": {
    "slideshow": {
     "slide_type": "slide"
    }
   },
   "source": [
    "`sys.path` is a list and you can append some directories:"
   ]
  },
  {
   "cell_type": "code",
   "execution_count": null,
   "metadata": {},
   "outputs": [],
   "source": [
    "sys.path.append(\"/Users/navaro/python-notebooks/\")\n",
    "print(sys.path)"
   ]
  },
  {
   "cell_type": "markdown",
   "metadata": {
    "slideshow": {
     "slide_type": "slide"
    }
   },
   "source": [
    "When you import a module `foo`, following files are searched in this order:\n",
    "\n",
    "- **foo.dll**, **foo.dylib** or **foo.so**\n",
    "- **foo.py**\n",
    "- **foo.pyc**\n",
    "- **foo/\\_\\_init__.py**\n"
   ]
  },
  {
   "cell_type": "markdown",
   "metadata": {
    "slideshow": {
     "slide_type": "slide"
    }
   },
   "source": [
    "## Packages\n",
    "\n",
    "- A package is a directory containing Python module files.\n",
    "- This directory always contains a file name \\_\\_init\\_\\_.py"
   ]
  },
  {
   "cell_type": "markdown",
   "metadata": {
    "slideshow": {
     "slide_type": "slide"
    }
   },
   "source": [
    "<pre>\n",
    "sklearn\n",
    "├── base.py\n",
    "├── calibration.py\n",
    "├── cluster\n",
    "│   ├── __init__.py\n",
    "│   ├── _kmeans.py\n",
    "│   ├── _mean_shift.py\n",
    "├── ensemble\n",
    "│   ├── __init__.py\n",
    "│   ├── _bagging.py\n",
    "│   ├── _forest.py\n",
    "</pre>\n",
    "\n",
    "cluster `__init__.py`\n",
    "\n",
    "<pre>\n",
    "from ._mean_shift import mean_shift, MeanShift\n",
    "from ._kmeans import k_means, KMeans, MiniBatchKMeans\n",
    "</pre>"
   ]
  },
  {
   "cell_type": "markdown",
   "metadata": {
    "slideshow": {
     "slide_type": "slide"
    }
   },
   "source": [
    "## Relative imports\n",
    "\n",
    "These imports use leading dots to indicate the current and parent packages involved in the relative import. In the sugiton module, you can use:\n",
    "```python\n",
    "from . import cluster # import module in the same directory\n",
    "from .. import base   # import module in parent directory\n",
    "from ..ensemble import _forest # import module in another subdirectory of the parent directory\n",
    "```"
   ]
  },
  {
   "cell_type": "markdown",
   "metadata": {
    "slideshow": {
     "slide_type": "slide"
    }
   },
   "source": [
    "## Reminder\n",
    "\n",
    "Don't forget that importing * is not recommended"
   ]
  },
  {
   "cell_type": "code",
   "execution_count": null,
   "metadata": {
    "slideshow": {
     "slide_type": "fragment"
    }
   },
   "outputs": [],
   "source": [
    "sum(range(5),-1)"
   ]
  },
  {
   "cell_type": "code",
   "execution_count": null,
   "metadata": {
    "slideshow": {
     "slide_type": "fragment"
    }
   },
   "outputs": [],
   "source": [
    "from numpy import *\n",
    "sum(range(5),-1)"
   ]
  },
  {
   "cell_type": "code",
   "execution_count": null,
   "metadata": {
    "slideshow": {
     "slide_type": "slide"
    }
   },
   "outputs": [],
   "source": [
    "del sum # delete imported sum function from numpy \n",
    "help(sum)"
   ]
  },
  {
   "cell_type": "code",
   "execution_count": null,
   "metadata": {
    "slideshow": {
     "slide_type": "slide"
    }
   },
   "outputs": [],
   "source": [
    "import numpy as np\n",
    "help(np.sum)"
   ]
  }
 ],
 "metadata": {
  "jupytext": {
   "cell_metadata_json": true,
   "comment_magics": false,
   "encoding": "# -*- coding: utf-8 -*-"
  },
  "kernelspec": {
   "display_name": "Python 3",
   "language": "python",
   "name": "python3"
  }
 },
 "nbformat": 4,
 "nbformat_minor": 4
}
