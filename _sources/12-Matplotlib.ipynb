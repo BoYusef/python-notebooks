{
 "cells": [
  {
   "cell_type": "markdown",
   "metadata": {
    "slideshow": {
     "slide_type": "slide"
    }
   },
   "source": [
    "# Matplotlib\n",
    "\n",
    "- Python 2D plotting library which produces figures in many formats and interactive environments.\n",
    "- Tries to make easy things easy and hard things possible. \n",
    "- You can generate plots, histograms, power spectra, bar charts, errorcharts, scatterplots, etc., with just a few lines of code. \n",
    "- Check the [Matplotlib gallery](https://matplotlib.org/gallery.html).\n",
    "- For simple plotting the pyplot module provides a MATLAB-like interface, particularly when combined with IPython. \n",
    "- Matplotlib provides a set of functions familiar to MATLAB users.\n",
    "\n",
    "*In this notebook we use some numpy command that will be explain more precisely later.*"
   ]
  },
  {
   "cell_type": "markdown",
   "metadata": {
    "slideshow": {
     "slide_type": "slide"
    }
   },
   "source": [
    "## Line Plots\n",
    " - `np.linspace(0,1,10)` return 10 evenly spaced values over $[0,1]$."
   ]
  },
  {
   "cell_type": "code",
   "execution_count": null,
   "metadata": {
    "slideshow": {
     "slide_type": "fragment"
    }
   },
   "outputs": [],
   "source": [
    "%matplotlib inline\n",
    "# inline can be replaced by notebook to get interactive plots\n",
    "import numpy as np\n",
    "import matplotlib.pyplot as plt"
   ]
  },
  {
   "cell_type": "code",
   "execution_count": null,
   "metadata": {
    "slideshow": {
     "slide_type": "fragment"
    }
   },
   "outputs": [],
   "source": [
    "plt.rcParams['figure.figsize'] = (10.0, 6.0) # set figures display bigger\n",
    "x = np.linspace(- 5*np.pi,5*np.pi,100) \n",
    "plt.plot(x,np.sin(x)/x);"
   ]
  },
  {
   "cell_type": "code",
   "execution_count": null,
   "metadata": {
    "slideshow": {
     "slide_type": "slide"
    }
   },
   "outputs": [],
   "source": [
    "plt.plot(x,np.sin(x)/x,x,np.sin(2*x)/x);"
   ]
  },
  {
   "cell_type": "markdown",
   "metadata": {
    "slideshow": {
     "slide_type": "skip"
    }
   },
   "source": [
    "If you have a recent Macbook with a Retina screen, you can display high-resolution plot outputs.\n",
    "Running the next cell will give you double resolution plot output for Retina screens. \n",
    "\n",
    "*Note: the example below won’t render on non-retina screens*"
   ]
  },
  {
   "cell_type": "code",
   "execution_count": null,
   "metadata": {
    "slideshow": {
     "slide_type": "skip"
    }
   },
   "outputs": [],
   "source": [
    "%config InlineBackend.figure_format = 'retina'"
   ]
  },
  {
   "cell_type": "code",
   "execution_count": null,
   "metadata": {
    "slideshow": {
     "slide_type": "slide"
    }
   },
   "outputs": [],
   "source": [
    "# red, dot-dash, triangles and blue, dot-dash, bullet\n",
    "plt.plot(x,np.sin(x)/x, 'r-^',x,np.sin(2*x)/x, 'b-o');"
   ]
  },
  {
   "cell_type": "markdown",
   "metadata": {
    "slideshow": {
     "slide_type": "slide"
    }
   },
   "source": [
    "## Simple Scatter Plot"
   ]
  },
  {
   "cell_type": "code",
   "execution_count": null,
   "metadata": {
    "slideshow": {
     "slide_type": "fragment"
    }
   },
   "outputs": [],
   "source": [
    "x = np.linspace(-1,1,50)\n",
    "y = np.sqrt(1-x**2)\n",
    "plt.scatter(x,y);"
   ]
  },
  {
   "cell_type": "markdown",
   "metadata": {
    "slideshow": {
     "slide_type": "slide"
    }
   },
   "source": [
    "## Colormapped Scatter Plot"
   ]
  },
  {
   "cell_type": "code",
   "execution_count": null,
   "metadata": {
    "slideshow": {
     "slide_type": "fragment"
    }
   },
   "outputs": [],
   "source": [
    "theta = np.linspace(0,6*np.pi,50) # 50 steps from 0 to 6 PI\n",
    "size = 30*np.ones(50) # array with 50 values set to 30\n",
    "z = np.random.rand(50) # array with 50 random values in [0,1]\n",
    "x = theta*np.cos(theta)\n",
    "y = theta*np.sin(theta)\n",
    "plt.scatter(x,y,size,z)\n",
    "plt.colorbar();"
   ]
  },
  {
   "cell_type": "markdown",
   "metadata": {
    "slideshow": {
     "slide_type": "slide"
    }
   },
   "source": [
    "## Change Colormap"
   ]
  },
  {
   "cell_type": "code",
   "execution_count": null,
   "metadata": {
    "slideshow": {
     "slide_type": "fragment"
    }
   },
   "outputs": [],
   "source": [
    "fig = plt.figure() # create a figure\n",
    "ax = fig.add_subplot(1, 1, 1) # add a single plot\n",
    "ax.scatter(x,y,size,z,cmap='jet');\n",
    "ax.set_aspect('equal', 'datalim')"
   ]
  },
  {
   "cell_type": "markdown",
   "metadata": {
    "slideshow": {
     "slide_type": "fragment"
    }
   },
   "source": [
    "[colormaps](http://matplotlib.org/api/pyplot_summary.html?highlight=colormaps#matplotlib.pyplot.colormaps) in matplotlib documentation."
   ]
  },
  {
   "cell_type": "markdown",
   "metadata": {
    "slideshow": {
     "slide_type": "slide"
    }
   },
   "source": [
    "## Multiple Figures"
   ]
  },
  {
   "cell_type": "code",
   "execution_count": null,
   "metadata": {
    "slideshow": {
     "slide_type": "fragment"
    }
   },
   "outputs": [],
   "source": [
    "plt.figure()\n",
    "plt.plot(x)\n",
    "plt.figure()\n",
    "plt.plot(z,'ro');"
   ]
  },
  {
   "cell_type": "markdown",
   "metadata": {
    "slideshow": {
     "slide_type": "slide"
    }
   },
   "source": [
    "## Multiple Plots Using `subplot`"
   ]
  },
  {
   "cell_type": "code",
   "execution_count": null,
   "metadata": {
    "slideshow": {
     "slide_type": "fragment"
    }
   },
   "outputs": [],
   "source": [
    "plt.subplot(1,2,1) # 1 row 1, 2 columns, active plot number 1\n",
    "plt.plot(x,'b-*')\n",
    "plt.subplot(1,2,2) # 1 row 1, 2 columns, active plot number 2\n",
    "plt.plot(z,'ro');"
   ]
  },
  {
   "cell_type": "markdown",
   "metadata": {
    "slideshow": {
     "slide_type": "slide"
    }
   },
   "source": [
    "## Legends\n",
    " - Legends labels with plot"
   ]
  },
  {
   "cell_type": "code",
   "execution_count": null,
   "metadata": {
    "slideshow": {
     "slide_type": "fragment"
    }
   },
   "outputs": [],
   "source": [
    "theta =np.linspace(0,4*np.pi,200)\n",
    "plt.plot(np.sin(theta), label='sin')\n",
    "plt.plot(np.cos(theta), label='cos')\n",
    "plt.legend();"
   ]
  },
  {
   "cell_type": "markdown",
   "metadata": {
    "slideshow": {
     "slide_type": "subslide"
    }
   },
   "source": [
    "- Labelling with `legend`"
   ]
  },
  {
   "cell_type": "code",
   "execution_count": null,
   "metadata": {
    "slideshow": {
     "slide_type": "fragment"
    }
   },
   "outputs": [],
   "source": [
    "plt.plot(np.sin(theta))\n",
    "plt.plot(np.cos(theta)**2)\n",
    "plt.legend(['sin','$\\cos^2$']);"
   ]
  },
  {
   "cell_type": "markdown",
   "metadata": {
    "slideshow": {
     "slide_type": "slide"
    }
   },
   "source": [
    "## Titles and Axis Labels"
   ]
  },
  {
   "cell_type": "code",
   "execution_count": null,
   "metadata": {
    "slideshow": {
     "slide_type": "fragment"
    }
   },
   "outputs": [],
   "source": [
    "plt.plot(theta,np.sin(theta))\n",
    "plt.xlabel('radians from 0 to $4\\pi$')\n",
    "plt.ylabel('amplitude');"
   ]
  },
  {
   "cell_type": "code",
   "execution_count": null,
   "metadata": {
    "lines_to_next_cell": 2,
    "slideshow": {
     "slide_type": "slide"
    }
   },
   "outputs": [],
   "source": [
    "t = np.arange(0.01, 20.0, 0.01)\n",
    "\n",
    "plt.subplot(121) \n",
    "plt.semilogy(t, np.exp(-t/5.0))\n",
    "plt.title('semilogy')\n",
    "plt.grid(True)\n",
    "\n",
    "plt.subplot(122,fc='y') \n",
    "plt.semilogx(t, np.sin(2*np.pi*t))\n",
    "plt.title('semilogx')\n",
    "plt.grid(True)"
   ]
  },
  {
   "cell_type": "markdown",
   "metadata": {
    "slideshow": {
     "slide_type": "slide"
    }
   },
   "source": [
    "## Plot Grid and Save to File"
   ]
  },
  {
   "cell_type": "code",
   "execution_count": null,
   "metadata": {
    "lines_to_next_cell": 2,
    "slideshow": {
     "slide_type": "fragment"
    }
   },
   "outputs": [],
   "source": [
    "theta = np.linspace(0,2*np.pi,100)\n",
    "plt.plot(np.cos(theta),np.sin(theta))\n",
    "plt.grid();"
   ]
  },
  {
   "cell_type": "code",
   "execution_count": null,
   "metadata": {
    "slideshow": {
     "slide_type": "fragment"
    }
   },
   "outputs": [],
   "source": [
    "plt.savefig('circle.png');\n",
    "%ls *.png"
   ]
  },
  {
   "cell_type": "markdown",
   "metadata": {
    "slideshow": {
     "slide_type": "slide"
    }
   },
   "source": [
    "## Histogram "
   ]
  },
  {
   "cell_type": "code",
   "execution_count": null,
   "metadata": {
    "slideshow": {
     "slide_type": "fragment"
    }
   },
   "outputs": [],
   "source": [
    "from numpy.random import randn\n",
    "plt.hist(randn(1000));"
   ]
  },
  {
   "cell_type": "markdown",
   "metadata": {
    "slideshow": {
     "slide_type": "slide"
    }
   },
   "source": [
    "Change the number of bins and supress display of returned array with ;\n"
   ]
  },
  {
   "cell_type": "code",
   "execution_count": null,
   "metadata": {
    "slideshow": {
     "slide_type": "fragment"
    }
   },
   "outputs": [],
   "source": [
    "plt.hist(randn(1000), 30);"
   ]
  },
  {
   "cell_type": "markdown",
   "metadata": {
    "slideshow": {
     "slide_type": "slide"
    }
   },
   "source": [
    "## Contour Plot"
   ]
  },
  {
   "cell_type": "code",
   "execution_count": null,
   "metadata": {
    "slideshow": {
     "slide_type": "fragment"
    }
   },
   "outputs": [],
   "source": [
    "x = y = np.arange(-2.0*np.pi, 2.0*np.pi+0.01, 0.01)\n",
    "X, Y = np.meshgrid(x, y)\n",
    "Z = np.sin(X)*np.cos(Y)\n",
    "\n",
    "plt.contourf(X, Y, Z,cmap=plt.cm.hot);"
   ]
  },
  {
   "cell_type": "markdown",
   "metadata": {
    "slideshow": {
     "slide_type": "slide"
    }
   },
   "source": [
    "## Image Display"
   ]
  },
  {
   "cell_type": "code",
   "execution_count": null,
   "metadata": {
    "slideshow": {
     "slide_type": "fragment"
    }
   },
   "outputs": [],
   "source": [
    "img = plt.imread(\"https://hackage.haskell.org/package/JuicyPixels-extra-0.1.0/src/data-examples/lenna.png\")\n",
    "plt.imshow(img)"
   ]
  },
  {
   "cell_type": "markdown",
   "metadata": {
    "slideshow": {
     "slide_type": "slide"
    }
   },
   "source": [
    "## figure and axis\n",
    "\n",
    "Best method to create a plot with many components"
   ]
  },
  {
   "cell_type": "code",
   "execution_count": null,
   "metadata": {
    "slideshow": {
     "slide_type": "fragment"
    }
   },
   "outputs": [],
   "source": [
    "fig = plt.figure()\n",
    "axis = fig.add_subplot(111, aspect='equal',\n",
    "                     xlim=(-2, 2), ylim=(-2, 2))\n",
    "\n",
    "state = -0.5 + np.random.random((50, 4))\n",
    "state[:, :2] *= 3.9\n",
    "bounds = [-1, 1, -1, 1]\n",
    "\n",
    "particles = axis.plot(state[:,0], state[:,1], 'bo', ms=6)\n",
    "rect = plt.Rectangle(bounds[::2],\n",
    "                     bounds[1] - bounds[0],\n",
    "                     bounds[3] - bounds[2],\n",
    "                     ec='r', lw=2, fc='none')\n",
    "axis.grid()\n",
    "axis.add_patch(rect)\n",
    "axis.text(-0.5,1.1,\"BOX\")"
   ]
  },
  {
   "cell_type": "markdown",
   "metadata": {
    "slideshow": {
     "slide_type": "slide"
    }
   },
   "source": [
    "## Exercises\n",
    "\n",
    "Recreate the image my_plots.png using the *delicate_arch.png* file in *images* directory.\n"
   ]
  },
  {
   "cell_type": "markdown",
   "metadata": {
    "slideshow": {
     "slide_type": "slide"
    }
   },
   "source": [
    "## Alternatives\n",
    "\n",
    "- [bqplot](https://github.com/bloomberg/bqplot/blob/master/README.md) : Jupyter Notebooks, Interactive.\n",
    "- [seaborn](https://seaborn.pydata.org) : Statistics.\n",
    "- [toyplot](http://toyplot.readthedocs.io/en/stable/) : Nice graphes.\n",
    "- [bokeh](http://bokeh.pydata.org/en/latest/) : Interactive and Server mode.\n",
    "- [pygal](http://pygal.org/en/stable/) : Charting\n",
    "- [Altair](https://github.com/altair-viz/altair) : Data science\n",
    "- [plot.ly](https://plot.ly/) : Data science and interactive\n",
    "- [Mayavi](http://code.enthought.com/projects/mayavi/): 3D \n",
    "- [YT](http://yt-project.org): Astrophysics (volume rendering, contours, particles). \n",
    "- [VisIt](http://www.visitusers.org/index.php?title=VisIt-tutorial-Python-scripting): Powerful, easy to use but heavy.\n",
    "- [Paraview](http://www.itk.org/Wiki/ParaView/Python_Scripting): The most-used visualization application. Need high learning effort.\n",
    "- [PyVista](https://docs.pyvista.org): 3D plotting and mesh analysis through a streamlined interface for the Visualization Toolkit (VTK)\n",
    "- [Yellowbrick](https://www.scikit-yb.org/en/latest/) : Yellowbrick: Machine Learning Visualization"
   ]
  },
  {
   "cell_type": "code",
   "execution_count": null,
   "metadata": {
    "slideshow": {
     "slide_type": "slide"
    }
   },
   "outputs": [],
   "source": [
    "#example from Filipe Fernandes\n",
    "#http://nbviewer.jupyter.org/gist/ocefpaf/9730c697819e91b99f1d694983e39a8f\n",
    "import numpy as np\n",
    "import matplotlib.pyplot as plt\n",
    "from matplotlib import animation\n",
    "\n",
    "g = 9.81\n",
    "denw = 1025.0  # Seawater density [kg/m**3].\n",
    "sig = 7.3e-2  # Surface tension [N/m].\n",
    "a = 1.0  # Wave amplitude [m].\n",
    "\n",
    "L, h = 100.0, 50.0  # Wave height and water column depth.\n",
    "k = 2 * np.pi / L\n",
    "omega = np.sqrt((g * k + (sig / denw) * (k**3)) * np.tanh(k * h))\n",
    "T = 2 * np.pi / omega\n",
    "c = np.sqrt((g / k + (sig / denw) * k) * np.tanh(k * h))\n",
    "\n",
    "# We'll solve the wave velocities in the `x` and `z` directions.\n",
    "x, z = np.meshgrid(np.arange(0, 160, 10), np.arange(0, -80, -10),)\n",
    "u, w = np.zeros_like(x), np.zeros_like(z)\n",
    "\n",
    "\n",
    "def compute_vel(phase):\n",
    "    u = a * omega * (np.cosh(k * (z+h)) / np.sinh(k*h)) * np.cos(k * x - phase)\n",
    "    w = a * omega * (np.sinh(k * (z+h)) / np.sinh(k*h)) * np.sin(k * x - phase)\n",
    "    mask = -z > h\n",
    "    u[mask] = 0.0\n",
    "    w[mask] = 0.0\n",
    "    return u, w\n",
    "\n",
    "\n",
    "def basic_animation(frames=91, interval=30, dt=0.3):\n",
    "    fig = plt.figure(figsize=(8, 6))\n",
    "    ax = plt.axes(xlim=(0, 150), ylim=(-70, 10))\n",
    "\n",
    "    # Animated.\n",
    "    quiver = ax.quiver(x, z, u, w, units='inches', scale=2)\n",
    "    ax.quiverkey(quiver, 120, -60, 1,\n",
    "                 label=r'1 m s$^{-1}$',\n",
    "                 coordinates='data')\n",
    "    line, = ax.plot([], [], 'b')\n",
    "\n",
    "    # Non-animated.\n",
    "    ax.plot([0, 150], [0, 0], 'k:')\n",
    "    ax.set_ylabel('Depth [m]')\n",
    "    ax.set_xlabel('Distance [m]')\n",
    "    text = (r'$\\lambda$ = %s m;  h = %s m;  kh = %2.3f;  h/L = %s' %\n",
    "            (L, h, k * h, h/L))\n",
    "    ax.text(10, -65, text)\n",
    "    time_step = ax.text(10, -58, '')\n",
    "    line.set_data([], [])\n",
    "\n",
    "    def init():\n",
    "        return line, quiver, time_step\n",
    "\n",
    "    def animate(i):\n",
    "        time = i * dt\n",
    "        phase = omega * time\n",
    "        eta = a * np.cos(x[0] * k - phase)\n",
    "        u, w = compute_vel(phase)\n",
    "        quiver.set_UVC(u, w)\n",
    "        line.set_data(x[0], 5 * eta)\n",
    "        time_step.set_text('Time = {:.2f} s'.format(time))\n",
    "        return line, quiver, time_step\n",
    "\n",
    "    return animation.FuncAnimation(fig, animate, init_func=init,\n",
    "                                   frames=frames, interval=interval)"
   ]
  },
  {
   "cell_type": "code",
   "execution_count": null,
   "metadata": {
    "slideshow": {
     "slide_type": "slide"
    }
   },
   "outputs": [],
   "source": [
    "from IPython.display import HTML\n",
    "\n",
    "HTML(basic_animation(dt=0.3).to_jshtml())"
   ]
  },
  {
   "cell_type": "markdown",
   "metadata": {
    "slideshow": {
     "slide_type": "slide"
    }
   },
   "source": [
    "## References\n",
    "- Simple examples with increasing difficulty https://matplotlib.org/examples/index.html\n",
    "- Gallery https://matplotlib.org/gallery.html\n",
    "- A [matplotlib tutorial](http://nbviewer.ipython.org/github/jrjohansson/scientific-python-lectures/blob/master/Lecture-4-Matplotlib.ipynb), part of the [Lectures on Scientific Computing with Python](http://nbviewer.ipython.org/github/jrjohansson/scientific-python-lectures/tree/master) by [J.R. Johansson](https://github.com/jrjohansson).\n",
    "- [NumPy Beginner | SciPy 2016 Tutorial | Alexandre Chabot LeClerc](https://youtu.be/gtejJ3RCddE)\n",
    "- [matplotlib tutorial](http://www.loria.fr/~rougier/teaching/matplotlib) by Nicolas Rougier from LORIA.\n",
    "- [10 Useful Python Data Visualization Libraries for Any Discipline](https://blog.modeanalytics.com/python-data-visualization-libraries/)"
   ]
  }
 ],
 "metadata": {
  "jupytext": {
   "cell_metadata_json": true,
   "comment_magics": false,
   "encoding": "# -*- coding: utf-8 -*-"
  },
  "kernelspec": {
   "display_name": "Python 3",
   "language": "python",
   "name": "python3"
  }
 },
 "nbformat": 4,
 "nbformat_minor": 4
}
