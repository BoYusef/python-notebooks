{
 "cells": [
  {
   "cell_type": "markdown",
   "metadata": {
    "slideshow": {
     "slide_type": "slide"
    }
   },
   "source": [
    "# Scipy\n",
    "\n",
    "![scipy](images/scipyshiny_small.png)\n",
    "\n",
    "Scipy is the scientific Python ecosystem : \n",
    "- fft, linear algebra, scientific computation,...\n",
    "- scipy contains numpy, it can be considered as an extension of numpy.\n",
    "- the add-on toolkits [Scikits](https://scikits.appspot.com/scikits) complements scipy."
   ]
  },
  {
   "cell_type": "code",
   "execution_count": null,
   "metadata": {
    "slideshow": {
     "slide_type": "skip"
    }
   },
   "outputs": [],
   "source": [
    "%matplotlib inline\n",
    "%config InlineBackend.figure_format = 'retina'\n",
    "import matplotlib.pyplot as plt\n",
    "plt.rcParams['figure.figsize'] = (10,6)"
   ]
  },
  {
   "cell_type": "code",
   "execution_count": null,
   "metadata": {
    "slideshow": {
     "slide_type": "slide"
    }
   },
   "outputs": [],
   "source": [
    "import numpy as np\n",
    "import scipy as sp\n",
    "np.sqrt(-1.), np.log(-2.) "
   ]
  },
  {
   "cell_type": "code",
   "execution_count": null,
   "metadata": {
    "slideshow": {
     "slide_type": "fragment"
    }
   },
   "outputs": [],
   "source": [
    "sp.sqrt(-1.), sp.log(-2.) "
   ]
  },
  {
   "cell_type": "code",
   "execution_count": null,
   "metadata": {
    "slideshow": {
     "slide_type": "fragment"
    }
   },
   "outputs": [],
   "source": [
    "sp.exp(sp.log(-2.))"
   ]
  },
  {
   "cell_type": "markdown",
   "metadata": {
    "slideshow": {
     "slide_type": "slide"
    }
   },
   "source": [
    "##  SciPy main packages\n",
    "- `constants` : Physical and mathematical constants\n",
    "- `fftpack` : Fast Fourier Transform routines\n",
    "- `integrate` : Integration and ordinary differential equation solvers\n",
    "- `interpolate` : Interpolation and smoothing splines\n",
    "- `io` : Input and Output\n",
    "- `linalg` : Linear algebra\n",
    "- `signal` : Signal processing\n",
    "- `sparse` : Sparse matrices and associated routines \n"
   ]
  },
  {
   "cell_type": "code",
   "execution_count": null,
   "metadata": {
    "slideshow": {
     "slide_type": "slide"
    }
   },
   "outputs": [],
   "source": [
    "from scipy.interpolate import interp1d \n",
    "x = np.linspace(-1, 1, num=5)  # 5 points evenly spaced in [-1,1].\n",
    "y = (x-1.)*(x-0.5)*(x+0.5)     # x and y are numpy arrays\n",
    "f0 = interp1d(x,y, kind='zero')\n",
    "f1 = interp1d(x,y, kind='linear') \n",
    "f2 = interp1d(x,y, kind='quadratic') \n",
    "f3 = interp1d(x,y, kind='cubic') \n",
    "f4 = interp1d(x,y, kind='nearest') "
   ]
  },
  {
   "cell_type": "code",
   "execution_count": null,
   "metadata": {
    "slideshow": {
     "slide_type": "slide"
    }
   },
   "outputs": [],
   "source": [
    "xnew = sp.linspace(-1, 1, num=40) \n",
    "ynew = (xnew-1.)*(xnew-0.5)*(xnew+0.5) \n",
    "plt.plot(x,y,'D',xnew,f0(xnew),':', xnew, f1(xnew),'-.',\n",
    "                xnew,f2(xnew),'-',xnew ,f3(xnew),'--',\n",
    "                xnew,f4(xnew),'--',xnew, ynew, linewidth=2)\n",
    "plt.legend(['data','zero','linear','quadratic','cubic','nearest','exact'],\n",
    "          loc='best');"
   ]
  },
  {
   "cell_type": "code",
   "execution_count": null,
   "metadata": {
    "slideshow": {
     "slide_type": "slide"
    }
   },
   "outputs": [],
   "source": [
    "from scipy.interpolate import interp2d\n",
    "x,y=sp.mgrid[0:1:20j,0:1:20j]  #create the grid 20x20\n",
    "z=sp.cos(4*sp.pi*x)*sp.sin(4*sp.pi*y) #initialize the field\n",
    "T1=interp2d(x,y,z,kind='linear') \n",
    "T2=interp2d(x,y,z,kind='cubic') \n",
    "T3=interp2d(x,y,z,kind='quintic')"
   ]
  },
  {
   "cell_type": "code",
   "execution_count": null,
   "metadata": {
    "slideshow": {
     "slide_type": "slide"
    }
   },
   "outputs": [],
   "source": [
    "X,Y=sp.mgrid[0:1:100j,0:1:100j] #create the interpolation grid 100x100 \n",
    "# complex -> number of points, float -> step size\n",
    "plt.figure(1) \n",
    "plt.subplot(221) #Plot original data\n",
    "plt.contourf(x,y,z) \n",
    "plt.title('20x20') \n",
    "plt.subplot(222) #Plot linear interpolation\n",
    "plt.contourf(X,Y,T1(X[:,0],Y[0,:])) \n",
    "plt.title('100x100 linear') \n",
    "plt.subplot(223) #Plot cubic interpolation\n",
    "plt.contourf(X,Y,T2(X[:,0],Y[0,:])) \n",
    "plt.title('100x100 cubic')\n",
    "plt.subplot(224) #Plot quintic interpolation\n",
    "plt.contourf(X,Y,T3(X[:,0],Y[0,:])) \n",
    "plt.title('100x100 quintic') "
   ]
  },
  {
   "cell_type": "markdown",
   "metadata": {
    "slideshow": {
     "slide_type": "slide"
    }
   },
   "source": [
    "## FFT : scipy.fftpack\n",
    "- FFT dimension 1, 2 and n : fft, ifft (inverse), rfft (real), irfft, fft2 (dimension 2), ifft2, fftn (dimension n), ifftn.\n",
    "- Discrete cosinus transform : dct\n",
    "- Convolution product : convolve"
   ]
  },
  {
   "cell_type": "code",
   "execution_count": null,
   "metadata": {
    "slideshow": {
     "slide_type": "fragment"
    }
   },
   "outputs": [],
   "source": [
    "from numpy.fft import fft, ifft\n",
    "x = np.random.random(1024)\n",
    "%timeit ifft(fft(x))"
   ]
  },
  {
   "cell_type": "code",
   "execution_count": null,
   "metadata": {
    "slideshow": {
     "slide_type": "fragment"
    }
   },
   "outputs": [],
   "source": [
    "from scipy.fftpack import fft, ifft\n",
    "x = np.random.random(1024)\n",
    "%timeit ifft(fft(x))"
   ]
  },
  {
   "cell_type": "markdown",
   "metadata": {
    "slideshow": {
     "slide_type": "slide"
    }
   },
   "source": [
    "## Linear algebra : scipy.linalg\n",
    "- Sovers, decompositions, eigen values. (same as numpy).\n",
    "- Matrix functions : expm, sinm, sinhm,...  \n",
    "- Block matrices diagonal, triangular, periodic,..."
   ]
  },
  {
   "cell_type": "code",
   "execution_count": null,
   "metadata": {
    "lines_to_next_cell": 2,
    "slideshow": {
     "slide_type": "fragment"
    }
   },
   "outputs": [],
   "source": [
    "import scipy.linalg as spl \n",
    "b=sp.ones(5)\n",
    "A=sp.array([[1.,3.,0., 0.,0.],\n",
    "           [ 2.,1.,-4, 0.,0.],\n",
    "           [ 6.,1., 2,-3.,0.], \n",
    "           [ 0.,1., 4.,-2.,-3.], \n",
    "           [ 0.,0., 6.,-3., 2.]])\n",
    "print(\"x=\",spl.solve(A,b,sym_pos=False)) # LAPACK ( gesv ou posv )\n",
    "AB=sp.array([[0.,3.,-4.,-3.,-3.],\n",
    "             [1.,1., 2.,-2., 2.],\n",
    "             [2.,1., 4.,-3., 0.],\n",
    "             [6.,1., 6., 0., 0.]])\n",
    "print(\"x=\",spl.solve_banded((2,1),AB,b)) # LAPACK ( gbsv )"
   ]
  },
  {
   "cell_type": "code",
   "execution_count": null,
   "metadata": {
    "slideshow": {
     "slide_type": "slide"
    }
   },
   "outputs": [],
   "source": [
    "P,L,U = spl.lu(A) #  P A = L U\n",
    "np.set_printoptions(precision=3)\n",
    "for M in (P,L,U):\n",
    "    print(M, end=\"\\n\"+20*\"-\"+\"\\n\")"
   ]
  },
  {
   "cell_type": "markdown",
   "metadata": {
    "slideshow": {
     "slide_type": "slide"
    }
   },
   "source": [
    "##  CSC (Compressed Sparse Column) \n",
    "\n",
    "- All operations are optimized \n",
    "- Efficient \"slicing\" along axis=1.\n",
    "- Fast Matrix-vector product.\n",
    "- Conversion to other format could be costly."
   ]
  },
  {
   "cell_type": "code",
   "execution_count": null,
   "metadata": {
    "slideshow": {
     "slide_type": "fragment"
    }
   },
   "outputs": [],
   "source": [
    "import scipy.sparse as spsp\n",
    "row = sp.array([0,2,2,0,1,2]) \n",
    "col = sp.array([0,0,1,2,2,2])\n",
    "data  = sp.array([1,2,3,4,5,6]) \n",
    "Mcsc1 = spsp.csc_matrix((data,(row,col)),shape=(3,3)) \n",
    "Mcsc1.todense()"
   ]
  },
  {
   "cell_type": "code",
   "execution_count": null,
   "metadata": {
    "slideshow": {
     "slide_type": "fragment"
    }
   },
   "outputs": [],
   "source": [
    "indptr  = sp.array([0,2,3,6]) \n",
    "indices = sp.array([0,2,2,0,1,2]) \n",
    "data    = sp.array([1,2,3,4,5,6]) \n",
    "Mcsc2 = spsp.csc_matrix ((data,indices,indptr),shape=(3,3))\n",
    "Mcsc2.todense()"
   ]
  },
  {
   "cell_type": "markdown",
   "metadata": {
    "slideshow": {
     "slide_type": "slide"
    }
   },
   "source": [
    "## Dedicated format for assembling \n",
    "- `lil_matrix` : Row-based linked list matrix. Easy format to build your matrix and convert to other format before solving.\n",
    "- `dok_matrix` : A dictionary of keys based matrix. Ideal format for\n",
    "incremental matrix building. The conversion to csc/csr format is efficient.\n",
    "- `coo_matrix`  : coordinate list format. Fast conversion to formats CSC/CSR.\n",
    "\n",
    "[Lien vers la documentation scipy](http://docs.scipy.org/doc/scipy/reference/sparse.html)"
   ]
  },
  {
   "cell_type": "markdown",
   "metadata": {
    "slideshow": {
     "slide_type": "slide"
    }
   },
   "source": [
    "## Sparse matrices : [scipy.sparse.linalg](https://docs.scipy.org/doc/scipy/reference/generated/scipy.sparse.linalg)\n",
    "\n",
    "- speigen, speigen_symmetric, lobpcg : (ARPACK).\n",
    "- svd : (ARPACK).\n",
    "- Direct methods (UMFPACK or SUPERLU) or Krylov based methods \n",
    "- Minimization : lsqr and minres\n",
    "\n",
    "For linear algebra:\n",
    "- Noobs: spsolve.\n",
    "- Intermmediate: dsolve.spsolve or isolve.spsolve\n",
    "- Advanced: splu, spilu (direct); cg, cgs, bicg, bicgstab, gmres, lgmres et qmr (iterative)\n",
    "- Boss: petsc4py et slepc4py.\n"
   ]
  },
  {
   "cell_type": "markdown",
   "metadata": {
    "slideshow": {
     "slide_type": "slide"
    }
   },
   "source": [
    "## LinearOperator\n",
    "\n",
    "The LinearOperator is used for matrix-free numerical methods."
   ]
  },
  {
   "cell_type": "code",
   "execution_count": null,
   "metadata": {
    "slideshow": {
     "slide_type": "fragment"
    }
   },
   "outputs": [],
   "source": [
    "import scipy.sparse.linalg as spspl\n",
    "def mv(v):\n",
    "   return sp.array([2*v[0],3*v[1]])\n",
    "\n",
    "A=spspl.LinearOperator((2 ,2),matvec=mv,dtype=float )\n",
    "A"
   ]
  },
  {
   "cell_type": "code",
   "execution_count": null,
   "metadata": {
    "slideshow": {
     "slide_type": "slide"
    }
   },
   "outputs": [],
   "source": [
    "A*sp.ones(2)"
   ]
  },
  {
   "cell_type": "code",
   "execution_count": null,
   "metadata": {
    "slideshow": {
     "slide_type": "fragment"
    }
   },
   "outputs": [],
   "source": [
    "A.matmat(sp.array([[1,-2],[3,6]]))"
   ]
  },
  {
   "cell_type": "markdown",
   "metadata": {
    "slideshow": {
     "slide_type": "slide"
    }
   },
   "source": [
    "## LU decomposition"
   ]
  },
  {
   "cell_type": "code",
   "execution_count": null,
   "metadata": {
    "slideshow": {
     "slide_type": "fragment"
    }
   },
   "outputs": [],
   "source": [
    "N = 50\n",
    "un = sp.ones(N)\n",
    "w = sp.rand(N+1)\n",
    "A = spsp.spdiags([w[1:],-2*un,w[:-1]],[-1,0,1],N,N) # tridiagonal matrix\n",
    "A = A.tocsc()\n",
    "b = un\n",
    "op = spspl.splu(A)\n",
    "op"
   ]
  },
  {
   "cell_type": "code",
   "execution_count": null,
   "metadata": {
    "slideshow": {
     "slide_type": "fragment"
    }
   },
   "outputs": [],
   "source": [
    "x=op.solve(b)\n",
    "spl.norm(A*x-b)"
   ]
  },
  {
   "cell_type": "markdown",
   "metadata": {
    "slideshow": {
     "slide_type": "slide"
    }
   },
   "source": [
    "## Conjugate Gradient"
   ]
  },
  {
   "cell_type": "code",
   "execution_count": null,
   "metadata": {
    "slideshow": {
     "slide_type": "fragment"
    }
   },
   "outputs": [],
   "source": [
    "global k\n",
    "k=0\n",
    "def f(xk): # function called at every iterations\n",
    "     global k\n",
    "     print (\"iteration {0:2d} residu = {1:7.3g}\".format(k,spl.norm(A*xk-b)))\n",
    "     k += 1\n",
    "\n",
    "x,info=spspl.cg(A,b,x0=sp.zeros(N),tol=1.0e-12,maxiter=N,M=None,callback=f)"
   ]
  },
  {
   "cell_type": "markdown",
   "metadata": {
    "slideshow": {
     "slide_type": "slide"
    }
   },
   "source": [
    "## Preconditioned conjugate gradient"
   ]
  },
  {
   "cell_type": "code",
   "execution_count": null,
   "metadata": {
    "slideshow": {
     "slide_type": "fragment"
    }
   },
   "outputs": [],
   "source": [
    "pc=spspl.spilu(A,drop_tol=0.1)  # pc is an ILU decomposition\n",
    "xp=pc.solve(b)\n",
    "spl.norm(A*xp-b)"
   ]
  },
  {
   "cell_type": "code",
   "execution_count": null,
   "metadata": {
    "slideshow": {
     "slide_type": "fragment"
    }
   },
   "outputs": [],
   "source": [
    "def mv(v):\n",
    "    return pc.solve(v)\n",
    "lo = spspl.LinearOperator((N,N),matvec=mv)\n",
    "k = 0\n",
    "x,info=spspl.cg(A,b,x0=sp.zeros(N),tol=1.e-12,maxiter=N,M=lo,callback=f)"
   ]
  },
  {
   "cell_type": "markdown",
   "metadata": {
    "slideshow": {
     "slide_type": "slide"
    }
   },
   "source": [
    "## Numerical integration \n",
    "\n",
    "- quad, dblquad, tplquad,... Fortran library QUADPACK.\n"
   ]
  },
  {
   "cell_type": "code",
   "execution_count": null,
   "metadata": {
    "slideshow": {
     "slide_type": "fragment"
    }
   },
   "outputs": [],
   "source": [
    "import scipy.integrate as spi\n",
    "\n",
    "x2=lambda x: x**2\n",
    "4.**3/3  # int(x2) in [0,4]"
   ]
  },
  {
   "cell_type": "code",
   "execution_count": null,
   "metadata": {
    "slideshow": {
     "slide_type": "fragment"
    }
   },
   "outputs": [],
   "source": [
    "spi.quad(x2,0.,4.)"
   ]
  },
  {
   "cell_type": "markdown",
   "metadata": {
    "slideshow": {
     "slide_type": "slide"
    }
   },
   "source": [
    "## Scipy ODE solver\n",
    "\n",
    "It uses the Fortran ODEPACK library. \n",
    "\n",
    "### Van der Pol Oscillator\n",
    "\\begin{align}\n",
    "y_1'(t)\t& = y_2(t), \\nonumber \\\\\n",
    "y_2'(t)\t& = 1000(1 - y_1^2(t))y_2(t) - y_1(t) \\nonumber\n",
    "\\end{align}\n",
    "$$\n",
    "with $y_1(0) = 2 $ and $ y_2(0) = 0. $."
   ]
  },
  {
   "cell_type": "code",
   "execution_count": null,
   "metadata": {
    "slideshow": {
     "slide_type": "fragment"
    }
   },
   "outputs": [],
   "source": [
    "import numpy as np\n",
    "import scipy.integrate as spi\n",
    "\n",
    "def vdp1000(y,t):\n",
    "     dy=np.zeros(2)\n",
    "     dy[0]=y[1]\n",
    "     dy[1]=1000.*(1.-y[0]**2)*y[1]-y[0]\n",
    "     return dy "
   ]
  },
  {
   "cell_type": "code",
   "execution_count": null,
   "metadata": {
    "slideshow": {
     "slide_type": "slide"
    }
   },
   "outputs": [],
   "source": [
    "t0, tf =0,  3000\n",
    "N = 300000\n",
    "t, dt = np.linspace(t0,tf,N, retstep=True)"
   ]
  },
  {
   "cell_type": "code",
   "execution_count": null,
   "metadata": {
    "slideshow": {
     "slide_type": "fragment"
    }
   },
   "outputs": [],
   "source": [
    "y=spi.odeint(vdp1000,[2.,0.],t)\n",
    "plt.plot(t,y[:,0]);"
   ]
  },
  {
   "cell_type": "markdown",
   "metadata": {},
   "source": [
    "## Exercise \n",
    "\n",
    "The following code solve the Laplace equation using a dense matrix.\n",
    "- Modified the code to use a sparse matrix"
   ]
  },
  {
   "cell_type": "code",
   "execution_count": null,
   "metadata": {},
   "outputs": [],
   "source": [
    "%%time\n",
    "%matplotlib inline\n",
    "%config InlineBackend.figure_format = \"retina\"\n",
    "import numpy as np\n",
    "import matplotlib.pyplot as plt\n",
    "plt.rcParams['figure.figsize'] = (10,6)\n",
    "\n",
    "# Boundary conditions\n",
    "Tnorth, Tsouth, Twest, Teast = 100, 20, 50, 50\n",
    "\n",
    "# Set meshgrid\n",
    "n = 50\n",
    "l = 1.0\n",
    "h = l / (n-1)\n",
    "X, Y = np.meshgrid(np.linspace(0,l,n), np.linspace(0,l,n))\n",
    "T = np.zeros((n,n),dtype='d')\n",
    "\n",
    "# Set Boundary condition\n",
    "T[n-1:, :] = Tnorth / h**2\n",
    "T[:1, :] = Tsouth / h**2\n",
    "T[:, n-1:] = Teast / h**2\n",
    "T[:, :1] = Twest / h**2\n",
    "\n",
    "A = np.zeros((n*n,n*n),dtype='d')\n",
    "nn = n*n\n",
    "ii = 0\n",
    "for j in range(n):\n",
    "    for i in range(n):   \n",
    "      if j > 0:\n",
    "         jj = ii - n\n",
    "         A[ii,jj] = -1\n",
    "      if j < n-1: \n",
    "         jj = ii + n\n",
    "         A[ii,jj] = -1\n",
    "      if i > 0:\n",
    "         jj = ii - 1\n",
    "         A[ii,jj] = -1\n",
    "      if i < n-1:\n",
    "         jj = ii + 1\n",
    "         A[ii,jj] = -1\n",
    "      A[ii,ii] = 4\n",
    "      ii = ii+1\n",
    "        \n",
    "\n",
    "U = np.linalg.solve(A,np.ravel(h**2*T))\n",
    "T = U.reshape(n,n)\n",
    "plt.contourf(X,Y,T)\n",
    "plt.colorbar()"
   ]
  },
  {
   "cell_type": "code",
   "execution_count": null,
   "metadata": {},
   "outputs": [],
   "source": [
    "%%time\n",
    "import scipy.sparse as spsp\n",
    "import scipy.sparse.linalg as spspl\n",
    "\n",
    "# Boundary conditions\n",
    "Tnorth, Tsouth, Twest, Teast = 100, 20, 50, 50\n",
    "\n",
    "# Set meshgrid\n",
    "n = 50\n",
    "l = 1.0\n",
    "h = l / (n-1)\n",
    "X, Y = np.meshgrid(np.linspace(0,l,n), np.linspace(0,l,n))\n",
    "T = np.zeros((n,n),dtype='d')\n",
    "\n",
    "# Set Boundary condition\n",
    "T[n-1:, :]    = Tnorth / h**2\n",
    "T[  :1, :]    = Tsouth / h**2\n",
    "T[   :, n-1:] = Teast  / h**2\n",
    "T[   :, :1]   = Twest  / h**2\n",
    "\n",
    "bdiag = -4 * np.eye(n)\n",
    "bup   = np.diag([1] * (n - 1), 1)\n",
    "blow  = np.diag([1] * (n - 1), -1)\n",
    "block = bdiag + bup + blow\n",
    "# Creat a list of n blocks\n",
    "blist = [block] * n\n",
    "S = spsp.block_diag(blist)\n",
    "# Upper diagonal array offset by -n\n",
    "upper = np.diag(np.ones(n * (n - 1)), n)\n",
    "# Lower diagonal array offset by -n\n",
    "lower = np.diag(np.ones(n * (n - 1)), -n)\n",
    "S += upper + lower\n",
    "\n",
    "T = sp.linalg.solve(S,np.ravel(h**2*T))\n",
    "plt.contourf(X,Y,T.reshape(n,n))\n",
    "plt.colorbar();"
   ]
  }
 ],
 "metadata": {
  "jupytext": {
   "cell_metadata_json": true,
   "comment_magics": false,
   "formats": "py:light,notebooks//ipynb"
  },
  "kernelspec": {
   "display_name": "Python 3",
   "language": "python",
   "name": "python3"
  }
 },
 "nbformat": 4,
 "nbformat_minor": 4
}
