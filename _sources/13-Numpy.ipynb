{
 "cells": [
  {
   "cell_type": "markdown",
   "metadata": {
    "slideshow": {
     "slide_type": "slide"
    }
   },
   "source": [
    "# What provide Numpy to Python ?\n",
    "\n",
    "- `ndarray` multi-dimensional array object\n",
    "- derived objects such as masked arrays and matrices\n",
    "- `ufunc` fast array mathematical operations.\n",
    "- Offers some Matlab-ish capabilities within Python\n",
    "- Initially developed by [Travis Oliphant](https://www.continuum.io/people/travis-oliphant).\n",
    "- Numpy 1.0 released October, 2006.\n",
    "- The [SciPy.org website](https://docs.scipy.org/doc/numpy) is very helpful.\n",
    "- NumPy fully supports an object-oriented approach."
   ]
  },
  {
   "cell_type": "markdown",
   "metadata": {
    "slideshow": {
     "slide_type": "slide"
    }
   },
   "source": [
    "## Routines for fast operations on arrays.\n",
    "\n",
    "    - shape manipulation\n",
    "    - sorting\n",
    "    - I/O\n",
    "    - FFT\n",
    "    - basic linear algebra\n",
    "    - basic statistical operations\n",
    "    - random simulation\n",
    "    - statistics\n",
    "    - and much more..."
   ]
  },
  {
   "cell_type": "markdown",
   "metadata": {
    "slideshow": {
     "slide_type": "slide"
    }
   },
   "source": [
    "## Getting Started with NumPy\n",
    "\n",
    "- It is handy to import everything from NumPy into a Python console:\n",
    "```python\n",
    "from numpy import *\n",
    "```\n",
    "- But it is easier to read and debug if you use explicit imports.\n",
    "```python\n",
    "import numpy as np\n",
    "import scipy as sp\n",
    "import matplotlib.pyplot as plt\n",
    "```"
   ]
  },
  {
   "cell_type": "code",
   "execution_count": null,
   "metadata": {
    "slideshow": {
     "slide_type": "fragment"
    }
   },
   "outputs": [],
   "source": [
    "import numpy as np\n",
    "print(np.__version__)"
   ]
  },
  {
   "cell_type": "markdown",
   "metadata": {
    "slideshow": {
     "slide_type": "slide"
    }
   },
   "source": [
    "## Why Arrays ?"
   ]
  },
  {
   "cell_type": "markdown",
   "metadata": {
    "slideshow": {
     "slide_type": "fragment"
    }
   },
   "source": [
    "- Python lists are slow to process and use a lot of memory.\n",
    "- For tables, matrices, or volumetric data, you need lists of lists of lists... which becomes messy to program."
   ]
  },
  {
   "cell_type": "code",
   "execution_count": null,
   "metadata": {
    "slideshow": {
     "slide_type": "fragment"
    }
   },
   "outputs": [],
   "source": [
    "from random import random\n",
    "from operator import truediv"
   ]
  },
  {
   "cell_type": "code",
   "execution_count": null,
   "metadata": {
    "slideshow": {
     "slide_type": "fragment"
    }
   },
   "outputs": [],
   "source": [
    "l1 = [random() for i in range(1000)]\n",
    "l2 = [random() for i in range(1000)]\n",
    "%timeit s = sum(map(truediv,l1,l2))"
   ]
  },
  {
   "cell_type": "code",
   "execution_count": null,
   "metadata": {
    "slideshow": {
     "slide_type": "fragment"
    }
   },
   "outputs": [],
   "source": [
    "a1 = np.array(l1)\n",
    "a2 = np.array(l2)\n",
    "%timeit s = np.sum(a1/a2)"
   ]
  },
  {
   "cell_type": "markdown",
   "metadata": {
    "slideshow": {
     "slide_type": "slide"
    }
   },
   "source": [
    "## Numpy Arrays: The `ndarray` class.\n",
    "\n",
    "- There are important differences between NumPy arrays and Python lists:\n",
    "    - NumPy arrays have a fixed size at creation.\n",
    "    - NumPy arrays elements are all required to be of the same data type.\n",
    "    - NumPy arrays operations are performed in compiled code for performance.\n",
    "- Most of today's scientific/mathematical Python-based software use NumPy arrays.\n",
    "- NumPy gives us the code simplicity of Python, but the operation is speedily executed by pre-compiled C code."
   ]
  },
  {
   "cell_type": "code",
   "execution_count": null,
   "metadata": {
    "slideshow": {
     "slide_type": "fragment"
    }
   },
   "outputs": [],
   "source": [
    "a = np.array([0,1,2,3])  #  list\n",
    "b = np.array((4,5,6,7))  #  tuple\n",
    "c = np.matrix('8 9 0 1') #  string (matlab syntax)"
   ]
  },
  {
   "cell_type": "code",
   "execution_count": null,
   "metadata": {
    "slideshow": {
     "slide_type": "fragment"
    }
   },
   "outputs": [],
   "source": [
    "print(a,b,c)"
   ]
  },
  {
   "cell_type": "markdown",
   "metadata": {
    "slideshow": {
     "slide_type": "slide"
    }
   },
   "source": [
    "## Element wise operations are the “default mode” "
   ]
  },
  {
   "cell_type": "code",
   "execution_count": null,
   "metadata": {
    "slideshow": {
     "slide_type": "fragment"
    }
   },
   "outputs": [],
   "source": [
    "a*b,a+b"
   ]
  },
  {
   "cell_type": "code",
   "execution_count": null,
   "metadata": {
    "slideshow": {
     "slide_type": "fragment"
    }
   },
   "outputs": [],
   "source": [
    "5*a, 5+a"
   ]
  },
  {
   "cell_type": "code",
   "execution_count": null,
   "metadata": {
    "slideshow": {
     "slide_type": "fragment"
    }
   },
   "outputs": [],
   "source": [
    "a @ b, np.dot(a,b)  # Matrix multiplication"
   ]
  },
  {
   "cell_type": "markdown",
   "metadata": {
    "slideshow": {
     "slide_type": "slide"
    }
   },
   "source": [
    "##  NumPy Arrays Properties"
   ]
  },
  {
   "cell_type": "code",
   "execution_count": null,
   "metadata": {
    "slideshow": {
     "slide_type": "fragment"
    }
   },
   "outputs": [],
   "source": [
    "a = np.array([1,2,3,4,5]) # Simple array creation"
   ]
  },
  {
   "cell_type": "code",
   "execution_count": null,
   "metadata": {
    "slideshow": {
     "slide_type": "fragment"
    }
   },
   "outputs": [],
   "source": [
    "type(a) # Checking the type"
   ]
  },
  {
   "cell_type": "code",
   "execution_count": null,
   "metadata": {
    "slideshow": {
     "slide_type": "fragment"
    }
   },
   "outputs": [],
   "source": [
    "a.dtype # Print numeric type of elements"
   ]
  },
  {
   "cell_type": "code",
   "execution_count": null,
   "metadata": {
    "slideshow": {
     "slide_type": "fragment"
    }
   },
   "outputs": [],
   "source": [
    "a.itemsize # Print Bytes per element"
   ]
  },
  {
   "cell_type": "code",
   "execution_count": null,
   "metadata": {
    "slideshow": {
     "slide_type": "slide"
    }
   },
   "outputs": [],
   "source": [
    "a.shape # returns a tuple listing the length along each dimension"
   ]
  },
  {
   "cell_type": "code",
   "execution_count": null,
   "metadata": {
    "slideshow": {
     "slide_type": "fragment"
    }
   },
   "outputs": [],
   "source": [
    "np.size(a), a.size # returns the entire number of elements."
   ]
  },
  {
   "cell_type": "code",
   "execution_count": null,
   "metadata": {
    "slideshow": {
     "slide_type": "fragment"
    }
   },
   "outputs": [],
   "source": [
    "a.ndim  # Number of dimensions"
   ]
  },
  {
   "cell_type": "code",
   "execution_count": null,
   "metadata": {
    "slideshow": {
     "slide_type": "fragment"
    }
   },
   "outputs": [],
   "source": [
    "a.nbytes # Memory used"
   ]
  },
  {
   "cell_type": "markdown",
   "metadata": {
    "slideshow": {
     "slide_type": "fragment"
    }
   },
   "source": [
    "- ** Always use `shape` or `size` for numpy arrays instead of `len` **\n",
    "- `len` gives same information only for 1d array."
   ]
  },
  {
   "cell_type": "markdown",
   "metadata": {
    "slideshow": {
     "slide_type": "slide"
    }
   },
   "source": [
    "## Functions to allocate arrays"
   ]
  },
  {
   "cell_type": "code",
   "execution_count": null,
   "metadata": {
    "slideshow": {
     "slide_type": "fragment"
    }
   },
   "outputs": [],
   "source": [
    "x = np.zeros((2,),dtype=('i4,f4,a10'))\n",
    "x"
   ]
  },
  {
   "cell_type": "markdown",
   "metadata": {
    "slideshow": {
     "slide_type": "fragment"
    }
   },
   "source": [
    "`empty, empty_like, ones, ones_like, zeros, zeros_like, full, full_like`"
   ]
  },
  {
   "cell_type": "markdown",
   "metadata": {
    "slideshow": {
     "slide_type": "slide"
    }
   },
   "source": [
    "##  Setting Array Elements Values"
   ]
  },
  {
   "cell_type": "code",
   "execution_count": null,
   "metadata": {
    "slideshow": {
     "slide_type": "fragment"
    }
   },
   "outputs": [],
   "source": [
    "a = np.array([1,2,3,4,5])\n",
    "print(a.dtype)"
   ]
  },
  {
   "cell_type": "code",
   "execution_count": null,
   "metadata": {
    "slideshow": {
     "slide_type": "fragment"
    }
   },
   "outputs": [],
   "source": [
    "a[0] = 10 # Change first item value\n",
    "a, a.dtype"
   ]
  },
  {
   "cell_type": "code",
   "execution_count": null,
   "metadata": {
    "slideshow": {
     "slide_type": "fragment"
    }
   },
   "outputs": [],
   "source": [
    "a.fill(0) # slighty faster than a[:] = 0\n",
    "a"
   ]
  },
  {
   "cell_type": "markdown",
   "metadata": {
    "slideshow": {
     "slide_type": "slide"
    }
   },
   "source": [
    "## Setting Array Elements Types"
   ]
  },
  {
   "cell_type": "code",
   "execution_count": null,
   "metadata": {
    "slideshow": {
     "slide_type": "fragment"
    }
   },
   "outputs": [],
   "source": [
    "b = np.array([1,2,3,4,5.0]) # Last item is a float\n",
    "b, b.dtype"
   ]
  },
  {
   "cell_type": "code",
   "execution_count": null,
   "metadata": {
    "slideshow": {
     "slide_type": "fragment"
    }
   },
   "outputs": [],
   "source": [
    "a.fill(3.0)  # assigning a float into a int array \n",
    "a[1] = 1.5   # truncates the decimal part\n",
    "print(a.dtype, a)"
   ]
  },
  {
   "cell_type": "code",
   "execution_count": null,
   "metadata": {
    "slideshow": {
     "slide_type": "fragment"
    }
   },
   "outputs": [],
   "source": [
    "a.astype('float64') # returns a new array containing doubles"
   ]
  },
  {
   "cell_type": "code",
   "execution_count": null,
   "metadata": {
    "slideshow": {
     "slide_type": "fragment"
    }
   },
   "outputs": [],
   "source": [
    "np.asfarray([1,2,3,4]) # Return an array converted to a float type"
   ]
  },
  {
   "cell_type": "markdown",
   "metadata": {
    "slideshow": {
     "slide_type": "slide"
    }
   },
   "source": [
    "## Slicing x[lower:upper:step]\n",
    "- Extracts a portion of a sequence by specifying a lower and upper bound.\n",
    "- The lower-bound element is included, but the upper-bound element is **not** included.\n",
    "- The default step value is 1 and can be negative."
   ]
  },
  {
   "cell_type": "code",
   "execution_count": null,
   "metadata": {
    "slideshow": {
     "slide_type": "fragment"
    }
   },
   "outputs": [],
   "source": [
    "a = np.array([10,11,12,13,14])"
   ]
  },
  {
   "cell_type": "code",
   "execution_count": null,
   "metadata": {
    "slideshow": {
     "slide_type": "fragment"
    }
   },
   "outputs": [],
   "source": [
    "a[:2], a[-5:-3], a[0:2], a[-2:] # negative indices work"
   ]
  },
  {
   "cell_type": "code",
   "execution_count": null,
   "metadata": {
    "slideshow": {
     "slide_type": "fragment"
    }
   },
   "outputs": [],
   "source": [
    "a[::2], a[::-1]"
   ]
  },
  {
   "cell_type": "markdown",
   "metadata": {
    "slideshow": {
     "slide_type": "slide"
    }
   },
   "source": [
    "### Exercise: \n",
    "- Compute derivative of $f(x) = \\sin(x)$ with finite difference method.\n",
    "$$\n",
    "    \\frac{\\partial f}{\\partial x} \\sim \\frac{f(x+dx)-f(x)}{dx}\n",
    "$$\n",
    "\n",
    "derivatives values are centered in-between sample points."
   ]
  },
  {
   "cell_type": "code",
   "execution_count": null,
   "metadata": {
    "slideshow": {
     "slide_type": "fragment"
    }
   },
   "outputs": [],
   "source": [
    "x, dx = np.linspace(0,4*np.pi,100, retstep=True)\n",
    "y = np.sin(x)"
   ]
  },
  {
   "cell_type": "code",
   "execution_count": null,
   "metadata": {
    "slideshow": {
     "slide_type": "slide"
    }
   },
   "outputs": [],
   "source": [
    "%matplotlib inline\n",
    "import matplotlib.pyplot as plt\n",
    "plt.rcParams['figure.figsize'] = [12.,8.] # Increase plot size\n",
    "plt.plot(x, np.cos(x),'b')\n",
    "plt.title(r\"$\\rm{Derivative\\ of}\\ \\sin(x)$\");"
   ]
  },
  {
   "cell_type": "code",
   "execution_count": null,
   "metadata": {
    "slideshow": {
     "slide_type": "slide"
    }
   },
   "outputs": [],
   "source": [
    "# Compute integral of x numerically\n",
    "avg_height = 0.5*(y[1:]+y[:-1])\n",
    "int_sin = np.cumsum(dx*avg_height)\n",
    "plt.plot(x[1:], int_sin, 'ro', x, np.cos(0)-np.cos(x));"
   ]
  },
  {
   "cell_type": "markdown",
   "metadata": {
    "slideshow": {
     "slide_type": "slide"
    }
   },
   "source": [
    "## Multidimensional array"
   ]
  },
  {
   "cell_type": "code",
   "execution_count": null,
   "metadata": {
    "slideshow": {
     "slide_type": "fragment"
    }
   },
   "outputs": [],
   "source": [
    "a = np.arange(4*3).reshape(4,3) # NumPy array\n",
    "l = [[0,1,2],[3,4,5],[6,7,8],[9,10,11]] # Python List"
   ]
  },
  {
   "cell_type": "code",
   "execution_count": null,
   "metadata": {
    "slideshow": {
     "slide_type": "fragment"
    }
   },
   "outputs": [],
   "source": [
    "print(a)\n",
    "print(l)"
   ]
  },
  {
   "cell_type": "code",
   "execution_count": null,
   "metadata": {
    "slideshow": {
     "slide_type": "slide"
    }
   },
   "outputs": [],
   "source": [
    "l[-1][-1] # Access to last item"
   ]
  },
  {
   "cell_type": "code",
   "execution_count": null,
   "metadata": {
    "slideshow": {
     "slide_type": "fragment"
    }
   },
   "outputs": [],
   "source": [
    "print(a[-1,-1])  # Indexing syntax is different with NumPy array\n",
    "print(a[0,0])    # returns the first item\n",
    "print(a[1,:])    # returns the second line"
   ]
  },
  {
   "cell_type": "code",
   "execution_count": null,
   "metadata": {
    "slideshow": {
     "slide_type": "fragment"
    }
   },
   "outputs": [],
   "source": [
    "print(a[1]) # second line with 2d array\n",
    "print(a[:,-1])  # last column"
   ]
  },
  {
   "cell_type": "markdown",
   "metadata": {
    "slideshow": {
     "slide_type": "slide"
    }
   },
   "source": [
    "### Exercise \n",
    "- We compute numerically the Laplace Equation Solution using Finite Difference Method\n",
    "- Replace the computation of the discrete form of Laplace equation with numpy arrays\n",
    "$$\n",
    "T_{i,j} = \\frac{1}{4} ( T_{i+1,j} + T_{i-1,j} + T_{i,j+1} + T_{i,j-1})\n",
    "$$\n",
    "- The function numpy.allclose can help you to compute the residual."
   ]
  },
  {
   "cell_type": "code",
   "execution_count": null,
   "metadata": {
    "slideshow": {
     "slide_type": "slide"
    }
   },
   "outputs": [],
   "source": [
    "%%time\n",
    "# Boundary conditions\n",
    "Tnorth, Tsouth, Twest, Teast = 100, 20, 50, 50\n",
    "\n",
    "# Set meshgrid\n",
    "n, l = 64, 1.0\n",
    "X, Y = np.meshgrid(np.linspace(0,l,n), np.linspace(0,l,n))\n",
    "T = np.zeros((n,n))\n",
    "\n",
    "# Set Boundary condition\n",
    "T[n-1:, :] = Tnorth\n",
    "T[:1, :]   = Tsouth\n",
    "T[:, n-1:] = Teast\n",
    "T[:, :1]   = Twest\n",
    "\n",
    "residual = 1.0   \n",
    "istep = 0\n",
    "while residual > 1e-5 :\n",
    "    istep += 1\n",
    "    print ((istep, residual), end=\"\\r\")\n",
    "    residual = 0.0   \n",
    "    for i in range(1, n-1):\n",
    "        for j in range(1, n-1):\n",
    "            T_old = T[i,j]\n",
    "            T[i, j] = 0.25 * (T[i+1,j] + T[i-1,j] + T[i,j+1] + T[i,j-1])\n",
    "            if T[i,j]>0:\n",
    "                residual=max(residual,abs((T_old-T[i,j])/T[i,j]))\n",
    "\n",
    "\n",
    "print()\n",
    "print(\"iterations = \",istep)\n",
    "plt.title(\"Temperature\")\n",
    "plt.contourf(X, Y, T)\n",
    "plt.colorbar()"
   ]
  },
  {
   "cell_type": "markdown",
   "metadata": {
    "slideshow": {
     "slide_type": "slide"
    }
   },
   "source": [
    "## Arrays to ASCII files\n"
   ]
  },
  {
   "cell_type": "code",
   "execution_count": null,
   "metadata": {
    "slideshow": {
     "slide_type": "fragment"
    }
   },
   "outputs": [],
   "source": [
    "x = y = z = np.arange(0.0,5.0,1.0)"
   ]
  },
  {
   "cell_type": "code",
   "execution_count": null,
   "metadata": {
    "slideshow": {
     "slide_type": "fragment"
    }
   },
   "outputs": [],
   "source": [
    "np.savetxt('test.out', (x,y,z), delimiter=',')   # X is an array\n",
    "%cat test.out"
   ]
  },
  {
   "cell_type": "code",
   "execution_count": null,
   "metadata": {
    "slideshow": {
     "slide_type": "slide"
    }
   },
   "outputs": [],
   "source": [
    "np.savetxt('test.out', (x,y,z), fmt='%1.4e')   # use exponential notation\n",
    "%cat test.out"
   ]
  },
  {
   "cell_type": "markdown",
   "metadata": {
    "slideshow": {
     "slide_type": "slide"
    }
   },
   "source": [
    "## Arrays from ASCII files"
   ]
  },
  {
   "cell_type": "code",
   "execution_count": null,
   "metadata": {
    "slideshow": {
     "slide_type": "fragment"
    }
   },
   "outputs": [],
   "source": [
    "np.loadtxt('test.out')"
   ]
  },
  {
   "cell_type": "markdown",
   "metadata": {
    "slideshow": {
     "slide_type": "fragment"
    }
   },
   "source": [
    "- [save](https://docs.scipy.org/doc/numpy-1.13.0/reference/generated/numpy.save.html#numpy.save): Save an array to a binary file in NumPy .npy format\n",
    "- [savez](https://docs.scipy.org/doc/numpy-1.13.0/reference/generated/numpy.savez.html#numpy.savez) : Save several arrays into an uncompressed .npz archive\n",
    "- [savez_compressed](https://docs.scipy.org/doc/numpy-1.13.0/reference/generated/numpy.savez_compressed.html#numpy.savez_compressed): Save several arrays into a compressed .npz archive\n",
    "- [load](https://docs.scipy.org/doc/numpy-1.13.0/reference/generated/numpy.load.html#numpy.load): Load arrays or pickled objects from .npy, .npz or pickled files."
   ]
  },
  {
   "cell_type": "markdown",
   "metadata": {
    "slideshow": {
     "slide_type": "slide"
    }
   },
   "source": [
    "## H5py\n",
    "\n",
    "Pythonic interface to the HDF5 binary data format. [h5py user manual](http://docs.h5py.org)"
   ]
  },
  {
   "cell_type": "code",
   "execution_count": null,
   "metadata": {
    "slideshow": {
     "slide_type": "fragment"
    }
   },
   "outputs": [],
   "source": [
    "import h5py as h5\n",
    "\n",
    "with h5.File('test.h5','w') as f:\n",
    "    f['x'] = x\n",
    "    f['y'] = y\n",
    "    f['z'] = z"
   ]
  },
  {
   "cell_type": "code",
   "execution_count": null,
   "metadata": {
    "lines_to_next_cell": 2,
    "slideshow": {
     "slide_type": "fragment"
    }
   },
   "outputs": [],
   "source": [
    "with h5.File('test.h5','r') as f:\n",
    "    for field in f.keys():\n",
    "        print(field+':',f[field].value)"
   ]
  },
  {
   "cell_type": "markdown",
   "metadata": {
    "slideshow": {
     "slide_type": "slide"
    }
   },
   "source": [
    "## Slices Are References\n",
    "- Slices are references to memory in the original array.\n",
    "- Changing values in a slice also changes the original array.\n"
   ]
  },
  {
   "cell_type": "code",
   "execution_count": null,
   "metadata": {
    "slideshow": {
     "slide_type": "fragment"
    }
   },
   "outputs": [],
   "source": [
    "a = np.arange(10)\n",
    "b = a[3:6]\n",
    "b  # `b` is a view of array `a` and `a` is called base of `b`"
   ]
  },
  {
   "cell_type": "code",
   "execution_count": null,
   "metadata": {
    "slideshow": {
     "slide_type": "fragment"
    }
   },
   "outputs": [],
   "source": [
    "b[0] = -1\n",
    "a  # you change a view the base is changed."
   ]
  },
  {
   "cell_type": "markdown",
   "metadata": {
    "slideshow": {
     "slide_type": "fragment"
    }
   },
   "source": [
    "- Numpy does not copy if it is not necessary to save memory."
   ]
  },
  {
   "cell_type": "code",
   "execution_count": null,
   "metadata": {
    "slideshow": {
     "slide_type": "fragment"
    }
   },
   "outputs": [],
   "source": [
    "c = a[7:8].copy() # Explicit copy of the array slice\n",
    "c[0] = -1 \n",
    "a"
   ]
  },
  {
   "cell_type": "markdown",
   "metadata": {
    "slideshow": {
     "slide_type": "slide"
    }
   },
   "source": [
    "## Fancy Indexing"
   ]
  },
  {
   "cell_type": "code",
   "execution_count": null,
   "metadata": {
    "slideshow": {
     "slide_type": "fragment"
    }
   },
   "outputs": [],
   "source": [
    "a = np.fromfunction(lambda i, j: (i+1)*10+j, (4, 5), dtype=int)\n",
    "a"
   ]
  },
  {
   "cell_type": "code",
   "execution_count": null,
   "metadata": {
    "slideshow": {
     "slide_type": "fragment"
    }
   },
   "outputs": [],
   "source": [
    "np.random.shuffle(a.flat) # shuffle modify only the first axis\n",
    "a"
   ]
  },
  {
   "cell_type": "code",
   "execution_count": null,
   "metadata": {
    "slideshow": {
     "slide_type": "slide"
    }
   },
   "outputs": [],
   "source": [
    "locations = a % 3 == 0 # locations can be used as a mask\n",
    "a[locations] = 0 #set to 0 only the values that are divisible by 3\n",
    "a"
   ]
  },
  {
   "cell_type": "code",
   "execution_count": null,
   "metadata": {
    "slideshow": {
     "slide_type": "fragment"
    }
   },
   "outputs": [],
   "source": [
    "a += a == 0\n",
    "a"
   ]
  },
  {
   "cell_type": "markdown",
   "metadata": {
    "slideshow": {
     "slide_type": "slide"
    }
   },
   "source": [
    "### `numpy.take`"
   ]
  },
  {
   "cell_type": "code",
   "execution_count": null,
   "metadata": {
    "slideshow": {
     "slide_type": "fragment"
    }
   },
   "outputs": [],
   "source": [
    "a[1:3,2:5]"
   ]
  },
  {
   "cell_type": "code",
   "execution_count": null,
   "metadata": {
    "slideshow": {
     "slide_type": "fragment"
    }
   },
   "outputs": [],
   "source": [
    "np.take(a,[[6,7],[10,11]])  # Use flatten array indices"
   ]
  },
  {
   "cell_type": "markdown",
   "metadata": {
    "slideshow": {
     "slide_type": "slide"
    }
   },
   "source": [
    "## Changing array shape"
   ]
  },
  {
   "cell_type": "code",
   "execution_count": null,
   "metadata": {
    "slideshow": {
     "slide_type": "fragment"
    }
   },
   "outputs": [],
   "source": [
    "grid = np.indices((2,3)) # Return an array representing the indices of a grid.\n",
    "grid[0]"
   ]
  },
  {
   "cell_type": "code",
   "execution_count": null,
   "metadata": {
    "slideshow": {
     "slide_type": "fragment"
    }
   },
   "outputs": [],
   "source": [
    "grid[1]"
   ]
  },
  {
   "cell_type": "code",
   "execution_count": null,
   "metadata": {
    "slideshow": {
     "slide_type": "slide"
    }
   },
   "outputs": [],
   "source": [
    "grid.flat[:] # Return a view of grid array"
   ]
  },
  {
   "cell_type": "code",
   "execution_count": null,
   "metadata": {
    "slideshow": {
     "slide_type": "fragment"
    }
   },
   "outputs": [],
   "source": [
    "grid.flatten() # Return a copy"
   ]
  },
  {
   "cell_type": "code",
   "execution_count": null,
   "metadata": {
    "slideshow": {
     "slide_type": "fragment"
    }
   },
   "outputs": [],
   "source": [
    "np.ravel(grid, order='C') # A copy is made only if needed."
   ]
  },
  {
   "cell_type": "markdown",
   "metadata": {
    "slideshow": {
     "slide_type": "slide"
    }
   },
   "source": [
    "## Sorting"
   ]
  },
  {
   "cell_type": "code",
   "execution_count": null,
   "metadata": {
    "slideshow": {
     "slide_type": "fragment"
    }
   },
   "outputs": [],
   "source": [
    "a=np.array([5,3,6,1,6,7,9,0,8])\n",
    "np.sort(a) #. Return a view"
   ]
  },
  {
   "cell_type": "code",
   "execution_count": null,
   "metadata": {
    "slideshow": {
     "slide_type": "fragment"
    }
   },
   "outputs": [],
   "source": [
    "a"
   ]
  },
  {
   "cell_type": "code",
   "execution_count": null,
   "metadata": {
    "slideshow": {
     "slide_type": "fragment"
    }
   },
   "outputs": [],
   "source": [
    "a.sort() # Change the array inplace\n",
    "a"
   ]
  },
  {
   "cell_type": "markdown",
   "metadata": {
    "slideshow": {
     "slide_type": "slide"
    }
   },
   "source": [
    "## Transpose-like operations"
   ]
  },
  {
   "cell_type": "code",
   "execution_count": null,
   "metadata": {
    "slideshow": {
     "slide_type": "fragment"
    }
   },
   "outputs": [],
   "source": [
    "a = np.array([5,3,6,1,6,7,9,0,8])\n",
    "b = a\n",
    "b.shape = (3,3) # b is a reference so a will be changed"
   ]
  },
  {
   "cell_type": "code",
   "execution_count": null,
   "metadata": {
    "slideshow": {
     "slide_type": "fragment"
    }
   },
   "outputs": [],
   "source": [
    "a"
   ]
  },
  {
   "cell_type": "code",
   "execution_count": null,
   "metadata": {
    "slideshow": {
     "slide_type": "fragment"
    }
   },
   "outputs": [],
   "source": [
    "c = a.T # Return a view so a is not changed\n",
    "np.may_share_memory(a,c)"
   ]
  },
  {
   "cell_type": "code",
   "execution_count": null,
   "metadata": {
    "slideshow": {
     "slide_type": "fragment"
    }
   },
   "outputs": [],
   "source": [
    "c[0,0] = -1 # c is stored in same memory so change c you change a\n",
    "a"
   ]
  },
  {
   "cell_type": "code",
   "execution_count": null,
   "metadata": {
    "slideshow": {
     "slide_type": "slide"
    }
   },
   "outputs": [],
   "source": [
    "c  # is a transposed view of a"
   ]
  },
  {
   "cell_type": "code",
   "execution_count": null,
   "metadata": {
    "slideshow": {
     "slide_type": "fragment"
    }
   },
   "outputs": [],
   "source": [
    "b  # b is a reference to a"
   ]
  },
  {
   "cell_type": "code",
   "execution_count": null,
   "metadata": {
    "slideshow": {
     "slide_type": "fragment"
    }
   },
   "outputs": [],
   "source": [
    "c.base  # When the array is not a view `base` return None"
   ]
  },
  {
   "cell_type": "markdown",
   "metadata": {
    "slideshow": {
     "slide_type": "slide"
    }
   },
   "source": [
    "## Methods Attached to NumPy Arrays"
   ]
  },
  {
   "cell_type": "code",
   "execution_count": null,
   "metadata": {
    "slideshow": {
     "slide_type": "fragment"
    }
   },
   "outputs": [],
   "source": [
    "a = np.arange(20).reshape(4,5)\n",
    "np.random.shuffle(a.flat)\n",
    "a"
   ]
  },
  {
   "cell_type": "code",
   "execution_count": null,
   "metadata": {
    "slideshow": {
     "slide_type": "fragment"
    }
   },
   "outputs": [],
   "source": [
    "a = (a - a.mean())/ a.std() # Standardize the matrix\n",
    "print(a)"
   ]
  },
  {
   "cell_type": "code",
   "execution_count": null,
   "metadata": {
    "slideshow": {
     "slide_type": "slide"
    }
   },
   "outputs": [],
   "source": [
    "np.set_printoptions(precision=4)\n",
    "print(a)"
   ]
  },
  {
   "cell_type": "code",
   "execution_count": null,
   "metadata": {
    "slideshow": {
     "slide_type": "fragment"
    }
   },
   "outputs": [],
   "source": [
    "a.argmax() # max position in the memory contiguous array"
   ]
  },
  {
   "cell_type": "code",
   "execution_count": null,
   "metadata": {
    "slideshow": {
     "slide_type": "fragment"
    }
   },
   "outputs": [],
   "source": [
    "np.unravel_index(a.argmax(),a.shape) # get position in the matrix"
   ]
  },
  {
   "cell_type": "markdown",
   "metadata": {
    "slideshow": {
     "slide_type": "slide"
    }
   },
   "source": [
    "## Array Operations over a given axis"
   ]
  },
  {
   "cell_type": "code",
   "execution_count": null,
   "metadata": {
    "slideshow": {
     "slide_type": "fragment"
    }
   },
   "outputs": [],
   "source": [
    "a = np.arange(20).reshape(5,4)\n",
    "np.random.shuffle(a.flat)"
   ]
  },
  {
   "cell_type": "code",
   "execution_count": null,
   "metadata": {
    "slideshow": {
     "slide_type": "fragment"
    }
   },
   "outputs": [],
   "source": [
    "a.sum(axis=0) # sum of each column"
   ]
  },
  {
   "cell_type": "code",
   "execution_count": null,
   "metadata": {
    "slideshow": {
     "slide_type": "fragment"
    }
   },
   "outputs": [],
   "source": [
    "np.apply_along_axis(sum, axis=0, arr=a)"
   ]
  },
  {
   "cell_type": "code",
   "execution_count": null,
   "metadata": {
    "slideshow": {
     "slide_type": "fragment"
    }
   },
   "outputs": [],
   "source": [
    "np.apply_along_axis(sorted, axis=0, arr=a)"
   ]
  },
  {
   "cell_type": "markdown",
   "metadata": {
    "slideshow": {
     "slide_type": "fragment"
    }
   },
   "source": [
    "You can replace the `sorted` builtin fonction by a user defined function."
   ]
  },
  {
   "cell_type": "code",
   "execution_count": null,
   "metadata": {
    "slideshow": {
     "slide_type": "slide"
    }
   },
   "outputs": [],
   "source": [
    "np.empty(10)"
   ]
  },
  {
   "cell_type": "code",
   "execution_count": null,
   "metadata": {
    "slideshow": {
     "slide_type": "fragment"
    }
   },
   "outputs": [],
   "source": [
    "np.linspace(0,2*np.pi,10)"
   ]
  },
  {
   "cell_type": "code",
   "execution_count": null,
   "metadata": {
    "slideshow": {
     "slide_type": "fragment"
    }
   },
   "outputs": [],
   "source": [
    "np.arange(0,2.+0.4,0.4)"
   ]
  },
  {
   "cell_type": "code",
   "execution_count": null,
   "metadata": {
    "slideshow": {
     "slide_type": "slide"
    }
   },
   "outputs": [],
   "source": [
    "np.eye(4)"
   ]
  },
  {
   "cell_type": "code",
   "execution_count": null,
   "metadata": {
    "slideshow": {
     "slide_type": "fragment"
    }
   },
   "outputs": [],
   "source": [
    "a = np.diag(range(4))\n",
    "a"
   ]
  },
  {
   "cell_type": "code",
   "execution_count": null,
   "metadata": {
    "slideshow": {
     "slide_type": "slide"
    }
   },
   "outputs": [],
   "source": [
    "a[:,:,np.newaxis]"
   ]
  },
  {
   "cell_type": "markdown",
   "metadata": {
    "slideshow": {
     "slide_type": "slide"
    }
   },
   "source": [
    "### Create the following arrays\n",
    "```python\n",
    "[100 101 102 103 104 105 106 107 108 109]\n",
    "```\n",
    "Hint: numpy.arange\n",
    "```python\n",
    "[-2. -1.8 -1.6 -1.4 -1.2 -1. -0.8 -0.6 -0.4 -0.2 0. \n",
    "0.2 0.4 0.6 0.8 1. 1.2 1.4 1.6 1.8]\n",
    "```\n",
    "Hint: numpy.linspace\n",
    "```python\n",
    "[[ 0.001\t0.00129155 0.0016681 0.00215443 0.00278256 \n",
    "     0.003593810.00464159 0.00599484 0.00774264 0.01]\n",
    "```\n",
    "Hint: numpy.logspace\n",
    "```python\n",
    "[[ 0. 0. -1. -1. -1.] \n",
    " [ 0. 0.  0. -1. -1.] \n",
    " [ 0. 0.  0.  0. -1.]\n",
    " [ 0. 0.  0.  0.  0.]\n",
    " [ 0. 0.  0.  0.  0.] \n",
    " [ 0. 0.  0.  0.  0.] \n",
    " [ 0. 0.  0.  0.  0.]]\n",
    "```\n",
    "Hint: numpy.tri, numpy.zeros, numpy.transpose\n",
    "\n",
    "```python\n",
    "[[ 0.  1.  2.  3. 4.] \n",
    " [-1.  0.  1.  2. 3.] \n",
    " [-1. -1.  0.  1. 2.] \n",
    " [-1. -1. -1.  0. 1.] \n",
    " [-1. -1. -1. -1. 0.]]\n",
    "```\n",
    "Hint: numpy.ones, numpy.diag\n",
    "\n",
    "* Compute the integral numerically with Trapezoidal rule\n",
    "$$\n",
    "I = \\int_{-\\infty}^\\infty e^{-v^2} dv\n",
    "$$\n",
    "with  $v \\in [-10;10]$ and n=20.\n",
    "\n"
   ]
  },
  {
   "cell_type": "markdown",
   "metadata": {
    "slideshow": {
     "slide_type": "slide"
    }
   },
   "source": [
    "## Views and Memory Management\n",
    "- If it exists one view of a NumPy array, it can be destroyed.\n"
   ]
  },
  {
   "cell_type": "code",
   "execution_count": null,
   "metadata": {
    "slideshow": {
     "slide_type": "fragment"
    }
   },
   "outputs": [],
   "source": [
    "big = np.arange(1000000)\n",
    "small = big[:5]\n",
    "del big\n",
    "small.base"
   ]
  },
  {
   "cell_type": "markdown",
   "metadata": {
    "slideshow": {
     "slide_type": "fragment"
    }
   },
   "source": [
    "- Array called `big` is still allocated.\n",
    "- Sometimes it is better to create a copy."
   ]
  },
  {
   "cell_type": "code",
   "execution_count": null,
   "metadata": {
    "slideshow": {
     "slide_type": "fragment"
    }
   },
   "outputs": [],
   "source": [
    "big = np.arange(1000000)\n",
    "small = big[:5].copy()\n",
    "del big\n",
    "print(small.base)"
   ]
  },
  {
   "cell_type": "markdown",
   "metadata": {
    "slideshow": {
     "slide_type": "slide"
    }
   },
   "source": [
    "### Change memory alignement"
   ]
  },
  {
   "cell_type": "code",
   "execution_count": null,
   "metadata": {
    "slideshow": {
     "slide_type": "fragment"
    }
   },
   "outputs": [],
   "source": [
    "del(a)\n",
    "a = np.arange(20).reshape(5,4)\n",
    "print(a.flags)"
   ]
  },
  {
   "cell_type": "code",
   "execution_count": null,
   "metadata": {
    "slideshow": {
     "slide_type": "fragment"
    }
   },
   "outputs": [],
   "source": [
    "b = np.asfortranarray(a) # makes a copy\n",
    "b.flags"
   ]
  },
  {
   "cell_type": "code",
   "execution_count": null,
   "metadata": {
    "slideshow": {
     "slide_type": "fragment"
    }
   },
   "outputs": [],
   "source": [
    "b.base is a"
   ]
  },
  {
   "cell_type": "markdown",
   "metadata": {
    "slideshow": {
     "slide_type": "slide"
    }
   },
   "source": [
    "You can also create a fortran array with array function."
   ]
  },
  {
   "cell_type": "code",
   "execution_count": null,
   "metadata": {
    "slideshow": {
     "slide_type": "fragment"
    }
   },
   "outputs": [],
   "source": [
    "c = np.array([[1,2,3],[4,5,6]])\n",
    "f = np.asfortranarray(c)"
   ]
  },
  {
   "cell_type": "code",
   "execution_count": null,
   "metadata": {
    "slideshow": {
     "slide_type": "fragment"
    }
   },
   "outputs": [],
   "source": [
    "print(f.ravel(order='K')) # Return a 1D array using memory order\n",
    "print(c.ravel(order='K')) # Copy is made only if necessary"
   ]
  },
  {
   "cell_type": "markdown",
   "metadata": {
    "slideshow": {
     "slide_type": "slide"
    }
   },
   "source": [
    "## Broadcasting rules\n",
    "\n",
    "Broadcasting rules allow you to make an outer product between two vectors: the first method involves array tiling, the second one involves broadcasting. The last method is significantly faster.\n"
   ]
  },
  {
   "cell_type": "code",
   "execution_count": null,
   "metadata": {
    "slideshow": {
     "slide_type": "fragment"
    }
   },
   "outputs": [],
   "source": [
    "n = 1000\n",
    "a = np.arange(n)\n",
    "ac = a[:, np.newaxis]   # column matrix\n",
    "ar = a[np.newaxis, :]   # row matrix"
   ]
  },
  {
   "cell_type": "code",
   "execution_count": null,
   "metadata": {
    "slideshow": {
     "slide_type": "fragment"
    }
   },
   "outputs": [],
   "source": [
    "%timeit np.tile(a, (n,1)).T * np.tile(a, (n,1))"
   ]
  },
  {
   "cell_type": "code",
   "execution_count": null,
   "metadata": {
    "slideshow": {
     "slide_type": "fragment"
    }
   },
   "outputs": [],
   "source": [
    "%timeit ac * ar"
   ]
  },
  {
   "cell_type": "code",
   "execution_count": null,
   "metadata": {
    "slideshow": {
     "slide_type": "fragment"
    }
   },
   "outputs": [],
   "source": [
    "np.all(np.tile(a, (n,1)).T * np.tile(a, (n,1)) == ac * ar)"
   ]
  },
  {
   "cell_type": "markdown",
   "metadata": {
    "slideshow": {
     "slide_type": "slide"
    }
   },
   "source": [
    "## Numpy Matrix\n",
    "\n",
    "Specialized 2-D array that retains its 2-D nature through operations. It has certain special operators, such as $*$ (matrix multiplication) and $**$ (matrix power)."
   ]
  },
  {
   "cell_type": "code",
   "execution_count": null,
   "metadata": {
    "slideshow": {
     "slide_type": "fragment"
    }
   },
   "outputs": [],
   "source": [
    "m = np.matrix('1 2; 3 4') #Matlab syntax\n",
    "m"
   ]
  },
  {
   "cell_type": "code",
   "execution_count": null,
   "metadata": {
    "slideshow": {
     "slide_type": "fragment"
    }
   },
   "outputs": [],
   "source": [
    "a = np.matrix([[1, 2],[ 3, 4]]) #Python syntax\n",
    "a"
   ]
  },
  {
   "cell_type": "code",
   "execution_count": null,
   "metadata": {
    "slideshow": {
     "slide_type": "slide"
    }
   },
   "outputs": [],
   "source": [
    "a = np.arange(1,4)\n",
    "b = np.mat(a) # 2D view, no copy!\n",
    "b, np.may_share_memory(a,b)"
   ]
  },
  {
   "cell_type": "code",
   "execution_count": null,
   "metadata": {
    "slideshow": {
     "slide_type": "fragment"
    }
   },
   "outputs": [],
   "source": [
    "a = np.matrix([[1, 2, 3],[ 3, 4, 5]])\n",
    "a * b.T # Matrix vector product"
   ]
  },
  {
   "cell_type": "code",
   "execution_count": null,
   "metadata": {
    "slideshow": {
     "slide_type": "fragment"
    }
   },
   "outputs": [],
   "source": [
    "m * a # Matrix multiplication"
   ]
  },
  {
   "cell_type": "markdown",
   "metadata": {
    "slideshow": {
     "slide_type": "slide"
    }
   },
   "source": [
    "## StructuredArray using a compound data type specification"
   ]
  },
  {
   "cell_type": "code",
   "execution_count": null,
   "metadata": {
    "slideshow": {
     "slide_type": "fragment"
    }
   },
   "outputs": [],
   "source": [
    "data = np.zeros(4, dtype={'names':('name', 'age', 'weight'),\n",
    "                          'formats':('U10', 'i4', 'f8')})\n",
    "print(data.dtype)"
   ]
  },
  {
   "cell_type": "code",
   "execution_count": null,
   "metadata": {
    "slideshow": {
     "slide_type": "fragment"
    }
   },
   "outputs": [],
   "source": [
    "data['name'] = ['Pierre', 'Paul', 'Jacques', 'Francois']\n",
    "data['age'] = [45, 10, 71, 39]\n",
    "data['weight'] = [95.0, 75.0, 88.0, 71.0]\n",
    "print(data)"
   ]
  },
  {
   "cell_type": "markdown",
   "metadata": {
    "slideshow": {
     "slide_type": "fragment"
    }
   },
   "source": [
    "## RecordArray"
   ]
  },
  {
   "cell_type": "code",
   "execution_count": null,
   "metadata": {
    "slideshow": {
     "slide_type": "fragment"
    }
   },
   "outputs": [],
   "source": [
    "data_rec = data.view(np.recarray)\n",
    "data_rec.age"
   ]
  },
  {
   "cell_type": "markdown",
   "metadata": {
    "slideshow": {
     "slide_type": "slide"
    }
   },
   "source": [
    "## NumPy Array Programming\n",
    "- Array operations are fast, Python loops are slow. \n",
    "- Top priority: **avoid loops**\n",
    "- It’s better to do the work three times witharray operations than once with a loop.\n",
    "- This does require a change of habits.\n",
    "- This does require some experience.\n",
    "- NumPy’s array operations are designed to make this possible."
   ]
  },
  {
   "cell_type": "markdown",
   "metadata": {
    "slideshow": {
     "slide_type": "slide"
    }
   },
   "source": [
    "## Fast Evaluation Of Array Expressions \n",
    "\n",
    "- The `numexpr` package supplies routines for the fast evaluation of array expressions elementwise by using a vector-based virtual machine.\n",
    "- Expressions are cached, so reuse is fast.\n",
    "\n",
    "[Numexpr Users Guide](https://github.com/pydata/numexpr/wiki/Numexpr-Users-Guide)"
   ]
  },
  {
   "cell_type": "code",
   "execution_count": null,
   "metadata": {
    "slideshow": {
     "slide_type": "slide"
    }
   },
   "outputs": [],
   "source": [
    "import numexpr as ne\n",
    "import numpy as np\n",
    "nrange = (2 ** np.arange(6, 24)).astype(int)\n",
    "\n",
    "t_numpy = []\n",
    "t_numexpr = []\n",
    "\n",
    "for n in nrange:\n",
    "    a = np.random.random(n)\n",
    "    b = np.arange(n, dtype=np.double)\n",
    "    c = np.random.random(n)\n",
    "    \n",
    "    c1 = ne.evaluate(\"a ** 2 + b ** 2 + 2 * a * b * c \", optimization='aggressive')\n",
    "\n",
    "    t1 = %timeit -oq -n 10 a ** 2 + b ** 2 + 2 * a * b * c\n",
    "    t2 = %timeit -oq -n 10 ne.re_evaluate()\n",
    "\n",
    "    t_numpy.append(t1.best)\n",
    "    t_numexpr.append(t2.best)\n",
    "\n",
    "%matplotlib inline\n",
    "%config InlineBackend.figure_format = 'retina'\n",
    "import matplotlib.pyplot as plt\n",
    "import seaborn; seaborn.set()\n",
    "\n",
    "plt.loglog(nrange, t_numpy, label='numpy')\n",
    "plt.loglog(nrange, t_numexpr, label='numexpr')\n",
    "\n",
    "plt.legend(loc='lower right')\n",
    "plt.xlabel('Vectors size')\n",
    "plt.ylabel('Execution Time (s)');"
   ]
  },
  {
   "cell_type": "markdown",
   "metadata": {
    "slideshow": {
     "slide_type": "slide"
    }
   },
   "source": [
    "## References\n",
    "- [NumPy reference](http://docs.scipy.org/doc/numpy/reference/)\n",
    "- [Getting the Best Performance out of NumPy](http://ipython-books.github.io/featured-01/)\n",
    "- [Numpy by Konrad Hinsen](http://calcul.math.cnrs.fr/Documents/Ecoles/2013/python/NumPy%20avance.pdf)"
   ]
  }
 ],
 "metadata": {
  "jupytext": {
   "cell_metadata_json": true,
   "comment_magics": false,
   "encoding": "# -*- coding: utf-8 -*-"
  },
  "kernelspec": {
   "display_name": "Python 3",
   "language": "python",
   "name": "python3"
  }
 },
 "nbformat": 4,
 "nbformat_minor": 4
}
