{
 "cells": [
  {
   "cell_type": "markdown",
   "metadata": {
    "slideshow": {
     "slide_type": "slide"
    }
   },
   "source": [
    "# Semi-Lagrangian method\n",
    "\n",
    "Let us consider an abstract scalar advection equation of the form\n",
    "$$\n",
    "\\frac{\\partial f}{\\partial t}+ a(x, t) \\cdot \\nabla f = 0. \n",
    "$$\n",
    "The characteristic curves associated to this equation are the solutions of the ordinary differential equations\n",
    "$$\n",
    "\\frac{dX}{dt} = a(X(t), t)\n",
    "$$\n",
    "We shall denote by $X(t, x, s)$ the unique solution of this equation associated to the initial condition $X(s) = x$.\n",
    "\n",
    "The classical semi-Lagrangian method is based on a backtracking of characteristics. Two steps are needed to update the distribution function $f^{n+1}$ at $t^{n+1}$ from its value $f^n$ at time $t^n$ :\n",
    "1. For each grid point $x_i$ compute $X(t^n; x_i, t^{n+1})$ the value of the characteristic at $t^n$ which takes the value $x_i$ at $t^{n+1}$.\n",
    "2. As the distribution solution of first equation verifies \n",
    "$$f^{n+1}(x_i) = f^n(X(t^n; x_i, t^{n+1})),$$\n",
    "we obtain the desired value of $f^{n+1}(x_i)$ by computing $f^n(X(t^n;x_i,t^{n+1})$ by interpolation as $X(t^n; x_i, t^{n+1})$ is in general not a grid point.\n",
    "\n",
    "*[Eric Sonnendrücker - Numerical methods for the Vlasov equations](http://www-m16.ma.tum.de/foswiki/pub/M16/Allgemeines/NumMethVlasov/Num-Meth-Vlasov-Notes.pdf)*"
   ]
  },
  {
   "cell_type": "code",
   "execution_count": 1,
   "metadata": {},
   "outputs": [],
   "source": [
    "%matplotlib inline\n",
    "%config InlineBackend.figure_format = 'retina'\n",
    "import matplotlib.pyplot as plt\n",
    "plt.rcParams['figure.figsize'] = (10.0, 6.0)"
   ]
  },
  {
   "cell_type": "code",
   "execution_count": 2,
   "metadata": {},
   "outputs": [],
   "source": [
    "# Disable the pager for lprun\n",
    "from IPython.core import page\n",
    "page.page = print"
   ]
  },
  {
   "cell_type": "markdown",
   "metadata": {},
   "source": [
    "## Bspline interpolator\n",
    "\n",
    "- [De Boor's Algorithm - Wikipedia](https://en.wikipedia.org/wiki/De_Boor%27s_algorithm)\n",
    "\n",
    "### Numpy"
   ]
  },
  {
   "cell_type": "code",
   "execution_count": 3,
   "metadata": {
    "slideshow": {
     "slide_type": "slide"
    }
   },
   "outputs": [],
   "source": [
    "import numpy as np\n",
    "from scipy.fftpack import fft, ifft \n",
    "\n",
    "def bspline_python(p, j, x):\n",
    "        \"\"\"Return the value at x in [0,1[ of the B-spline with \n",
    "        integer nodes of degree p with support starting at j.\n",
    "        Implemented recursively using the de Boor's recursion formula\"\"\"\n",
    "        assert (x >= 0.0) & (x <= 1.0)\n",
    "        assert (type(p) == int) & (type(j) == int)\n",
    "        if p == 0:\n",
    "            if j == 0:\n",
    "                return 1.0\n",
    "            else:\n",
    "                return 0.0\n",
    "        else:\n",
    "            w = (x - j) / p\n",
    "            w1 = (x - j - 1) / p\n",
    "        return w * bspline_python(p - 1, j, x) + (1 - w1) * bspline_python(p - 1, j + 1, x)\n",
    "\n",
    "class BSplineNumpy:\n",
    "    \n",
    "    \"\"\" Class to compute BSL advection of 1d function \"\"\"\n",
    "    \n",
    "    def __init__(self, p, xmin, xmax, ncells):\n",
    "        assert p & 1 == 1  # check that p is odd\n",
    "        self.p = p\n",
    "        self.ncells = ncells\n",
    "        # compute eigenvalues of degree p b-spline matrix\n",
    "        self.modes = 2 * np.pi * np.arange(ncells) / ncells\n",
    "        self.deltax = (xmax - xmin) / ncells\n",
    "        \n",
    "        self.eig_bspl = bspline_python(p, -(p + 1) // 2, 0.0)\n",
    "        for j in range(1, (p + 1) // 2):\n",
    "            self.eig_bspl += bspline_python(p, j - (p + 1) // 2, 0.0) * 2 * np.cos(j * self.modes)\n",
    "            \n",
    "        self.eigalpha = np.zeros(ncells, dtype=complex)\n",
    "    \n",
    "    def interpolate_disp(self, f, alpha):\n",
    "        \"\"\"compute the interpolating spline of degree p of odd degree \n",
    "        of a function f on a periodic uniform mesh, at\n",
    "        all points xi-alpha\"\"\"\n",
    "        p = self.p\n",
    "        assert (np.size(f) == self.ncells)\n",
    "        # compute eigenvalues of cubic splines evaluated at displaced points\n",
    "        ishift = np.floor(-alpha / self.deltax)\n",
    "        beta = -ishift - alpha / self.deltax\n",
    "        self.eigalpha.fill(0.)\n",
    "        for j in range(-(p-1)//2, (p+1)//2 + 1):\n",
    "            self.eigalpha += bspline_python(p, j-(p+1)//2, beta) * np.exp((ishift+j)*1j*self.modes)\n",
    "            \n",
    "        # compute interpolating spline using fft and properties of circulant matrices\n",
    "        return np.real(ifft(fft(f) * self.eigalpha / self.eig_bspl))\n",
    "\n"
   ]
  },
  {
   "cell_type": "markdown",
   "metadata": {
    "slideshow": {
     "slide_type": "slide"
    }
   },
   "source": [
    "### Interpolation test\n",
    "$\\sin$ function after a displacement of alpha"
   ]
  },
  {
   "cell_type": "code",
   "execution_count": 4,
   "metadata": {
    "slideshow": {
     "slide_type": "fragment"
    }
   },
   "outputs": [
    {
     "data": {
      "text/plain": [
       "True"
      ]
     },
     "execution_count": 4,
     "metadata": {},
     "output_type": "execute_result"
    }
   ],
   "source": [
    "def interpolation_test(BSplineClass):\n",
    "    \"\"\" Test to check interpolation\"\"\"\n",
    "    n = 64\n",
    "    cs = BSplineClass(3,0,1,n)\n",
    "    x = np.linspace(0,1,n, endpoint=False)\n",
    "    f = np.sin(x*4*np.pi)\n",
    "    alpha = 0.2\n",
    "    return np.allclose(np.sin((x-alpha)*4*np.pi), cs.interpolate_disp(f, alpha))\n",
    "    \n",
    "\n",
    "interpolation_test(BSplineNumpy)"
   ]
  },
  {
   "cell_type": "markdown",
   "metadata": {
    "slideshow": {
     "slide_type": "slide"
    }
   },
   "source": [
    "### Profiling the code"
   ]
  },
  {
   "cell_type": "code",
   "execution_count": 5,
   "metadata": {
    "slideshow": {
     "slide_type": "fragment"
    }
   },
   "outputs": [],
   "source": [
    "%load_ext line_profiler"
   ]
  },
  {
   "cell_type": "code",
   "execution_count": 6,
   "metadata": {
    "slideshow": {
     "slide_type": "fragment"
    }
   },
   "outputs": [
    {
     "name": "stdout",
     "output_type": "stream",
     "text": [
      "Timer unit: 1e-06 s\n",
      "\n",
      "Total time: 0.000783 s\n",
      "File: <ipython-input-3-e4558e235572>\n",
      "Function: interpolate_disp at line 38\n",
      "\n",
      "Line #      Hits         Time  Per Hit   % Time  Line Contents\n",
      "==============================================================\n",
      "    38                                               def interpolate_disp(self, f, alpha):\n",
      "    39                                                   \"\"\"compute the interpolating spline of degree p of odd degree \n",
      "    40                                                   of a function f on a periodic uniform mesh, at\n",
      "    41                                                   all points xi-alpha\"\"\"\n",
      "    42         1          2.0      2.0      0.3          p = self.p\n",
      "    43         1         10.0     10.0      1.3          assert (np.size(f) == self.ncells)\n",
      "    44                                                   # compute eigenvalues of cubic splines evaluated at displaced points\n",
      "    45         1          7.0      7.0      0.9          ishift = np.floor(-alpha / self.deltax)\n",
      "    46         1          2.0      2.0      0.3          beta = -ishift - alpha / self.deltax\n",
      "    47         1          5.0      5.0      0.6          self.eigalpha.fill(0.)\n",
      "    48         5          6.0      1.2      0.8          for j in range(-(p-1)//2, (p+1)//2 + 1):\n",
      "    49         4        599.0    149.8     76.5              self.eigalpha += bspline_python(p, j-(p+1)//2, beta) * np.exp((ishift+j)*1j*self.modes)\n",
      "    50                                                       \n",
      "    51                                                   # compute interpolating spline using fft and properties of circulant matrices\n",
      "    52         1        152.0    152.0     19.4          return np.real(ifft(fft(f) * self.eigalpha / self.eig_bspl))\n",
      "\n",
      "*** Profile printout saved to text file 'lp_results.txt'. \n"
     ]
    }
   ],
   "source": [
    "n =1024\n",
    "cs = BSplineNumpy(3,0,1,n)\n",
    "x = np.linspace(0,1,n, endpoint=False)\n",
    "f = np.sin(x*4*np.pi)\n",
    "alpha = 0.2;\n",
    "%lprun -s -f cs.interpolate_disp -T lp_results.txt cs.interpolate_disp(f, alpha);"
   ]
  },
  {
   "cell_type": "markdown",
   "metadata": {
    "slideshow": {
     "slide_type": "slide"
    }
   },
   "source": [
    "### Fortran\n",
    "\n",
    "Replace the bspline computation by a fortran function, call it **bspline_fortran**."
   ]
  },
  {
   "cell_type": "code",
   "execution_count": 7,
   "metadata": {
    "slideshow": {
     "slide_type": "fragment"
    }
   },
   "outputs": [
    {
     "data": {
      "application/javascript": [
       "new Promise(function(resolve, reject) {\n",
       "\tvar script = document.createElement(\"script\");\n",
       "\tscript.onload = resolve;\n",
       "\tscript.onerror = reject;\n",
       "\tscript.src = \"https://raw.github.com/marijnh/CodeMirror/master/mode/fortran/fortran.js\";\n",
       "\tdocument.head.appendChild(script);\n",
       "}).then(() => {\n",
       "IPython.config.cell_magic_highlight['magic_fortran'] = {'reg':[/^%%fortran/]};\n",
       "});"
      ]
     },
     "metadata": {},
     "output_type": "display_data"
    }
   ],
   "source": [
    "%load_ext fortranmagic"
   ]
  },
  {
   "cell_type": "code",
   "execution_count": 8,
   "metadata": {
    "slideshow": {
     "slide_type": "skip"
    }
   },
   "outputs": [],
   "source": [
    "%%fortran\n",
    "recursive function bspline_fortran(p, j, x) result(res)\n",
    "    integer :: p, j\n",
    "    real(8) :: x, w, w1\n",
    "    real(8) :: res\n",
    "\n",
    "    if (p == 0) then\n",
    "        if (j == 0) then\n",
    "            res = 1.0\n",
    "            return\n",
    "        else\n",
    "            res = 0.0\n",
    "            return\n",
    "        end if\n",
    "    else\n",
    "        w = (x - j) / p\n",
    "        w1 = (x - j - 1) / p\n",
    "    end if\n",
    "    \n",
    "    res = w * bspline_fortran(p-1,j,x) &\n",
    "    +(1-w1)*bspline_fortran(p-1,j+1,x)\n",
    "\n",
    "end function bspline_fortran"
   ]
  },
  {
   "cell_type": "code",
   "execution_count": 9,
   "metadata": {
    "slideshow": {
     "slide_type": "slide"
    }
   },
   "outputs": [],
   "source": [
    "import numpy as np\n",
    "from scipy.fftpack import fft, ifft\n",
    "\n",
    "class BSplineFortran:\n",
    "    \n",
    "    def __init__(self, p, xmin, xmax, ncells):\n",
    "        assert p & 1 == 1  # check that p is odd\n",
    "        self.p = p\n",
    "        self.ncells = ncells\n",
    "        # compute eigenvalues of degree p b-spline matrix\n",
    "        self.modes = 2 * np.pi * np.arange(ncells) / ncells\n",
    "        self.deltax = (xmax - xmin) / ncells\n",
    "        \n",
    "        self.eig_bspl = bspline_fortran(p, -(p+1)//2, 0.0)\n",
    "        for j in range(1, (p+1)//2):\n",
    "            self.eig_bspl += bspline_fortran(p, j-(p+1)//2,0.0)*2*np.cos(j*self.modes)\n",
    "            \n",
    "        self.eigalpha = np.zeros(ncells, dtype=complex)\n",
    "    \n",
    "    def interpolate_disp(self, f, alpha):\n",
    "        \"\"\"compute the interpolating spline of degree p of odd degree \n",
    "        of a function f on a periodic uniform mesh, at\n",
    "        all points xi-alpha\"\"\"\n",
    "        p = self.p\n",
    "        assert (np.size(f) == self.ncells)\n",
    "        # compute eigenvalues of cubic splines evaluated at displaced points\n",
    "        ishift = np.floor(-alpha / self.deltax)\n",
    "        beta = -ishift - alpha / self.deltax\n",
    "        self.eigalpha.fill(0.)\n",
    "        for j in range(-(p-1)//2, (p+1)//2 + 1):\n",
    "            self.eigalpha += bspline_fortran(p, j-(p+1)//2, beta) * np.exp((ishift+j)*1j*self.modes)\n",
    "            \n",
    "        # compute interpolating spline using fft and properties of circulant matrices\n",
    "        return np.real(ifft(fft(f) * self.eigalpha / self.eig_bspl))\n",
    "\n"
   ]
  },
  {
   "cell_type": "code",
   "execution_count": 10,
   "metadata": {
    "slideshow": {
     "slide_type": "slide"
    }
   },
   "outputs": [
    {
     "data": {
      "text/plain": [
       "True"
      ]
     },
     "execution_count": 10,
     "metadata": {},
     "output_type": "execute_result"
    }
   ],
   "source": [
    "interpolation_test(BSplineFortran)"
   ]
  },
  {
   "cell_type": "markdown",
   "metadata": {
    "slideshow": {
     "slide_type": "slide"
    }
   },
   "source": [
    "### Numba\n",
    "\n",
    "Create a optimized function of bspline python function with Numba. Call it bspline_numba."
   ]
  },
  {
   "cell_type": "code",
   "execution_count": 11,
   "metadata": {
    "slideshow": {
     "slide_type": "skip"
    }
   },
   "outputs": [],
   "source": [
    "# %load solutions/landau_damping/bspline_numba.py\n",
    "from numba import jit,  int32, float64\n",
    "from scipy.fftpack import fft, ifft\n",
    "\n",
    "@jit(\"float64(int32,int32,float64)\",nopython=True)\n",
    "def bspline_numba(p, j, x):\n",
    "    \n",
    "        \"\"\"Return the value at x in [0,1[ of the B-spline with \n",
    "        integer nodes of degree p with support starting at j.\n",
    "        Implemented recursively using the de Boor's recursion formula\"\"\"\n",
    "        \n",
    "        assert ((x >= 0.0) & (x <= 1.0))\n",
    "        if p == 0:\n",
    "            if j == 0:\n",
    "                return 1.0\n",
    "            else:\n",
    "                return 0.0\n",
    "        else:\n",
    "            w = (x-j)/p\n",
    "            w1 = (x-j-1)/p\n",
    "        return w * bspline_numba(p-1,j,x)+(1-w1)*bspline_numba(p-1,j+1,x)"
   ]
  },
  {
   "cell_type": "code",
   "execution_count": 12,
   "metadata": {},
   "outputs": [],
   "source": [
    "class BSplineNumba:\n",
    "    \n",
    "    def __init__(self, p, xmin, xmax, ncells):\n",
    "        assert p & 1 == 1  # check that p is odd\n",
    "        self.p = p\n",
    "        self.ncells = ncells\n",
    "        # compute eigenvalues of degree p b-spline matrix\n",
    "        self.modes = 2 * np.pi * np.arange(ncells) / ncells\n",
    "        self.deltax = (xmax - xmin) / ncells\n",
    "        \n",
    "        self.eig_bspl = bspline_numba(p, -(p+1)//2, 0.0)\n",
    "        for j in range(1, (p + 1) // 2):\n",
    "            self.eig_bspl += bspline_numba(p,j-(p+1)//2,0.0)*2*np.cos(j*self.modes)\n",
    "            \n",
    "        self.eigalpha = np.zeros(ncells, dtype=complex)\n",
    "        \n",
    "    def interpolate_disp(self, f, alpha):\n",
    "        \"\"\"compute the interpolating spline of degree p of odd degree \n",
    "        of a function f on a periodic uniform mesh, at\n",
    "        all points xi-alpha\"\"\"\n",
    "        \n",
    "        p = self.p\n",
    "        assert (np.size(f) == self.ncells)\n",
    "        # compute eigenvalues of cubic splines evaluated at displaced points\n",
    "        ishift = np.floor(-alpha / self.deltax)\n",
    "        beta = -ishift - alpha / self.deltax\n",
    "        self.eigalpha.fill(0.)\n",
    "        for j in range(-(p-1)//2, (p+1)//2+1):\n",
    "            self.eigalpha += bspline_numba(p, j-(p+1)//2, beta)*np.exp((ishift+j)*1j*self.modes)\n",
    "            \n",
    "        # compute interpolating spline using fft and properties of circulant matrices\n",
    "        return np.real(ifft(fft(f) * self.eigalpha / self.eig_bspl))\n",
    "\n"
   ]
  },
  {
   "cell_type": "code",
   "execution_count": 13,
   "metadata": {},
   "outputs": [
    {
     "data": {
      "text/plain": [
       "True"
      ]
     },
     "execution_count": 13,
     "metadata": {},
     "output_type": "execute_result"
    }
   ],
   "source": [
    "interpolation_test(BSplineNumba)"
   ]
  },
  {
   "cell_type": "markdown",
   "metadata": {
    "slideshow": {
     "slide_type": "slide"
    }
   },
   "source": [
    "### Pythran"
   ]
  },
  {
   "cell_type": "code",
   "execution_count": 14,
   "metadata": {
    "slideshow": {
     "slide_type": "fragment"
    }
   },
   "outputs": [],
   "source": [
    "import pythran"
   ]
  },
  {
   "cell_type": "code",
   "execution_count": 15,
   "metadata": {
    "slideshow": {
     "slide_type": "fragment"
    }
   },
   "outputs": [],
   "source": [
    "%load_ext pythran.magic"
   ]
  },
  {
   "cell_type": "code",
   "execution_count": 16,
   "metadata": {
    "slideshow": {
     "slide_type": "fragment"
    }
   },
   "outputs": [],
   "source": [
    "# %load solutions/landau_damping/bspline_pythran.py\n",
    "\n",
    "#pythran export bspline_pythran(int,int,float64)\n",
    "def bspline_pythran(p, j, x):\n",
    "    if p == 0:\n",
    "        if j == 0:\n",
    "            return 1.0\n",
    "        else:\n",
    "            return 0.0\n",
    "    else:\n",
    "        w = (x-j)/p\n",
    "        w1 = (x-j-1)/p\n",
    "    return w * bspline_pythran(p-1,j,x)+(1-w1)*bspline_pythran(p-1,j+1,x)"
   ]
  },
  {
   "cell_type": "code",
   "execution_count": 17,
   "metadata": {
    "slideshow": {
     "slide_type": "slide"
    }
   },
   "outputs": [],
   "source": [
    "class BSplinePythran:\n",
    "    \n",
    "    def __init__(self, p, xmin, xmax, ncells):\n",
    "        assert p & 1 == 1  # check that p is odd\n",
    "        self.p = p\n",
    "        self.ncells = ncells\n",
    "        # compute eigenvalues of degree p b-spline matrix\n",
    "        self.modes = 2 * np.pi * np.arange(ncells) / ncells\n",
    "        self.deltax = (xmax - xmin) / ncells\n",
    "        \n",
    "        self.eig_bspl = bspline_pythran(p, -(p+1)//2, 0.0)\n",
    "        for j in range(1, (p + 1) // 2):\n",
    "            self.eig_bspl += bspline_pythran(p,j-(p+1)//2,0.0)*2*np.cos(j*self.modes)\n",
    "            \n",
    "        self.eigalpha = np.zeros(ncells, dtype=complex)\n",
    "        \n",
    "    def interpolate_disp(self, f, alpha):\n",
    "        \"\"\"compute the interpolating spline of degree p of odd degree \n",
    "        of a function f on a periodic uniform mesh, at\n",
    "        all points xi-alpha\"\"\"\n",
    "        \n",
    "        p = self.p\n",
    "        assert (f.size == self.ncells)\n",
    "        # compute eigenvalues of cubic splines evaluated at displaced points\n",
    "        ishift = np.floor(-alpha / self.deltax)\n",
    "        beta = -ishift - alpha / self.deltax\n",
    "        self.eigalpha.fill(0.)\n",
    "        for j in range(-(p-1)//2, (p+1)//2+1):\n",
    "            self.eigalpha += bspline_pythran(p, j-(p+1)//2, beta)*np.exp((ishift+j)*1j*self.modes)\n",
    "            \n",
    "        # compute interpolating spline using fft and properties of circulant matrices\n",
    "        return np.real(ifft(fft(f) * self.eigalpha / self.eig_bspl))\n",
    "\n"
   ]
  },
  {
   "cell_type": "code",
   "execution_count": 18,
   "metadata": {
    "slideshow": {
     "slide_type": "slide"
    }
   },
   "outputs": [
    {
     "data": {
      "text/plain": [
       "True"
      ]
     },
     "execution_count": 18,
     "metadata": {},
     "output_type": "execute_result"
    }
   ],
   "source": [
    "interpolation_test(BSplinePythran)"
   ]
  },
  {
   "cell_type": "markdown",
   "metadata": {
    "slideshow": {
     "slide_type": "slide"
    }
   },
   "source": [
    "### Cython\n",
    "\n",
    "- Create **bspline_cython** function."
   ]
  },
  {
   "cell_type": "code",
   "execution_count": 19,
   "metadata": {
    "slideshow": {
     "slide_type": "fragment"
    }
   },
   "outputs": [],
   "source": [
    "%load_ext cython"
   ]
  },
  {
   "cell_type": "code",
   "execution_count": 20,
   "metadata": {
    "slideshow": {
     "slide_type": "fragment"
    }
   },
   "outputs": [
    {
     "data": {
      "text/html": [
       "<!DOCTYPE html>\n",
       "<!-- Generated by Cython 0.29.21 -->\n",
       "<html>\n",
       "<head>\n",
       "    <meta http-equiv=\"Content-Type\" content=\"text/html; charset=utf-8\" />\n",
       "    <title>Cython: _cython_magic_0d6c6786bdedcdb9fbae7f15b074d34c.pyx</title>\n",
       "    <style type=\"text/css\">\n",
       "    \n",
       "body.cython { font-family: courier; font-size: 12; }\n",
       "\n",
       ".cython.tag  {  }\n",
       ".cython.line { margin: 0em }\n",
       ".cython.code { font-size: 9; color: #444444; display: none; margin: 0px 0px 0px 8px; border-left: 8px none; }\n",
       "\n",
       ".cython.line .run { background-color: #B0FFB0; }\n",
       ".cython.line .mis { background-color: #FFB0B0; }\n",
       ".cython.code.run  { border-left: 8px solid #B0FFB0; }\n",
       ".cython.code.mis  { border-left: 8px solid #FFB0B0; }\n",
       "\n",
       ".cython.code .py_c_api  { color: red; }\n",
       ".cython.code .py_macro_api  { color: #FF7000; }\n",
       ".cython.code .pyx_c_api  { color: #FF3000; }\n",
       ".cython.code .pyx_macro_api  { color: #FF7000; }\n",
       ".cython.code .refnanny  { color: #FFA000; }\n",
       ".cython.code .trace  { color: #FFA000; }\n",
       ".cython.code .error_goto  { color: #FFA000; }\n",
       "\n",
       ".cython.code .coerce  { color: #008000; border: 1px dotted #008000 }\n",
       ".cython.code .py_attr { color: #FF0000; font-weight: bold; }\n",
       ".cython.code .c_attr  { color: #0000FF; }\n",
       ".cython.code .py_call { color: #FF0000; font-weight: bold; }\n",
       ".cython.code .c_call  { color: #0000FF; }\n",
       "\n",
       ".cython.score-0 {background-color: #FFFFff;}\n",
       ".cython.score-1 {background-color: #FFFFe7;}\n",
       ".cython.score-2 {background-color: #FFFFd4;}\n",
       ".cython.score-3 {background-color: #FFFFc4;}\n",
       ".cython.score-4 {background-color: #FFFFb6;}\n",
       ".cython.score-5 {background-color: #FFFFaa;}\n",
       ".cython.score-6 {background-color: #FFFF9f;}\n",
       ".cython.score-7 {background-color: #FFFF96;}\n",
       ".cython.score-8 {background-color: #FFFF8d;}\n",
       ".cython.score-9 {background-color: #FFFF86;}\n",
       ".cython.score-10 {background-color: #FFFF7f;}\n",
       ".cython.score-11 {background-color: #FFFF79;}\n",
       ".cython.score-12 {background-color: #FFFF73;}\n",
       ".cython.score-13 {background-color: #FFFF6e;}\n",
       ".cython.score-14 {background-color: #FFFF6a;}\n",
       ".cython.score-15 {background-color: #FFFF66;}\n",
       ".cython.score-16 {background-color: #FFFF62;}\n",
       ".cython.score-17 {background-color: #FFFF5e;}\n",
       ".cython.score-18 {background-color: #FFFF5b;}\n",
       ".cython.score-19 {background-color: #FFFF57;}\n",
       ".cython.score-20 {background-color: #FFFF55;}\n",
       ".cython.score-21 {background-color: #FFFF52;}\n",
       ".cython.score-22 {background-color: #FFFF4f;}\n",
       ".cython.score-23 {background-color: #FFFF4d;}\n",
       ".cython.score-24 {background-color: #FFFF4b;}\n",
       ".cython.score-25 {background-color: #FFFF48;}\n",
       ".cython.score-26 {background-color: #FFFF46;}\n",
       ".cython.score-27 {background-color: #FFFF44;}\n",
       ".cython.score-28 {background-color: #FFFF43;}\n",
       ".cython.score-29 {background-color: #FFFF41;}\n",
       ".cython.score-30 {background-color: #FFFF3f;}\n",
       ".cython.score-31 {background-color: #FFFF3e;}\n",
       ".cython.score-32 {background-color: #FFFF3c;}\n",
       ".cython.score-33 {background-color: #FFFF3b;}\n",
       ".cython.score-34 {background-color: #FFFF39;}\n",
       ".cython.score-35 {background-color: #FFFF38;}\n",
       ".cython.score-36 {background-color: #FFFF37;}\n",
       ".cython.score-37 {background-color: #FFFF36;}\n",
       ".cython.score-38 {background-color: #FFFF35;}\n",
       ".cython.score-39 {background-color: #FFFF34;}\n",
       ".cython.score-40 {background-color: #FFFF33;}\n",
       ".cython.score-41 {background-color: #FFFF32;}\n",
       ".cython.score-42 {background-color: #FFFF31;}\n",
       ".cython.score-43 {background-color: #FFFF30;}\n",
       ".cython.score-44 {background-color: #FFFF2f;}\n",
       ".cython.score-45 {background-color: #FFFF2e;}\n",
       ".cython.score-46 {background-color: #FFFF2d;}\n",
       ".cython.score-47 {background-color: #FFFF2c;}\n",
       ".cython.score-48 {background-color: #FFFF2b;}\n",
       ".cython.score-49 {background-color: #FFFF2b;}\n",
       ".cython.score-50 {background-color: #FFFF2a;}\n",
       ".cython.score-51 {background-color: #FFFF29;}\n",
       ".cython.score-52 {background-color: #FFFF29;}\n",
       ".cython.score-53 {background-color: #FFFF28;}\n",
       ".cython.score-54 {background-color: #FFFF27;}\n",
       ".cython.score-55 {background-color: #FFFF27;}\n",
       ".cython.score-56 {background-color: #FFFF26;}\n",
       ".cython.score-57 {background-color: #FFFF26;}\n",
       ".cython.score-58 {background-color: #FFFF25;}\n",
       ".cython.score-59 {background-color: #FFFF24;}\n",
       ".cython.score-60 {background-color: #FFFF24;}\n",
       ".cython.score-61 {background-color: #FFFF23;}\n",
       ".cython.score-62 {background-color: #FFFF23;}\n",
       ".cython.score-63 {background-color: #FFFF22;}\n",
       ".cython.score-64 {background-color: #FFFF22;}\n",
       ".cython.score-65 {background-color: #FFFF22;}\n",
       ".cython.score-66 {background-color: #FFFF21;}\n",
       ".cython.score-67 {background-color: #FFFF21;}\n",
       ".cython.score-68 {background-color: #FFFF20;}\n",
       ".cython.score-69 {background-color: #FFFF20;}\n",
       ".cython.score-70 {background-color: #FFFF1f;}\n",
       ".cython.score-71 {background-color: #FFFF1f;}\n",
       ".cython.score-72 {background-color: #FFFF1f;}\n",
       ".cython.score-73 {background-color: #FFFF1e;}\n",
       ".cython.score-74 {background-color: #FFFF1e;}\n",
       ".cython.score-75 {background-color: #FFFF1e;}\n",
       ".cython.score-76 {background-color: #FFFF1d;}\n",
       ".cython.score-77 {background-color: #FFFF1d;}\n",
       ".cython.score-78 {background-color: #FFFF1c;}\n",
       ".cython.score-79 {background-color: #FFFF1c;}\n",
       ".cython.score-80 {background-color: #FFFF1c;}\n",
       ".cython.score-81 {background-color: #FFFF1c;}\n",
       ".cython.score-82 {background-color: #FFFF1b;}\n",
       ".cython.score-83 {background-color: #FFFF1b;}\n",
       ".cython.score-84 {background-color: #FFFF1b;}\n",
       ".cython.score-85 {background-color: #FFFF1a;}\n",
       ".cython.score-86 {background-color: #FFFF1a;}\n",
       ".cython.score-87 {background-color: #FFFF1a;}\n",
       ".cython.score-88 {background-color: #FFFF1a;}\n",
       ".cython.score-89 {background-color: #FFFF19;}\n",
       ".cython.score-90 {background-color: #FFFF19;}\n",
       ".cython.score-91 {background-color: #FFFF19;}\n",
       ".cython.score-92 {background-color: #FFFF19;}\n",
       ".cython.score-93 {background-color: #FFFF18;}\n",
       ".cython.score-94 {background-color: #FFFF18;}\n",
       ".cython.score-95 {background-color: #FFFF18;}\n",
       ".cython.score-96 {background-color: #FFFF18;}\n",
       ".cython.score-97 {background-color: #FFFF17;}\n",
       ".cython.score-98 {background-color: #FFFF17;}\n",
       ".cython.score-99 {background-color: #FFFF17;}\n",
       ".cython.score-100 {background-color: #FFFF17;}\n",
       ".cython.score-101 {background-color: #FFFF16;}\n",
       ".cython.score-102 {background-color: #FFFF16;}\n",
       ".cython.score-103 {background-color: #FFFF16;}\n",
       ".cython.score-104 {background-color: #FFFF16;}\n",
       ".cython.score-105 {background-color: #FFFF16;}\n",
       ".cython.score-106 {background-color: #FFFF15;}\n",
       ".cython.score-107 {background-color: #FFFF15;}\n",
       ".cython.score-108 {background-color: #FFFF15;}\n",
       ".cython.score-109 {background-color: #FFFF15;}\n",
       ".cython.score-110 {background-color: #FFFF15;}\n",
       ".cython.score-111 {background-color: #FFFF15;}\n",
       ".cython.score-112 {background-color: #FFFF14;}\n",
       ".cython.score-113 {background-color: #FFFF14;}\n",
       ".cython.score-114 {background-color: #FFFF14;}\n",
       ".cython.score-115 {background-color: #FFFF14;}\n",
       ".cython.score-116 {background-color: #FFFF14;}\n",
       ".cython.score-117 {background-color: #FFFF14;}\n",
       ".cython.score-118 {background-color: #FFFF13;}\n",
       ".cython.score-119 {background-color: #FFFF13;}\n",
       ".cython.score-120 {background-color: #FFFF13;}\n",
       ".cython.score-121 {background-color: #FFFF13;}\n",
       ".cython.score-122 {background-color: #FFFF13;}\n",
       ".cython.score-123 {background-color: #FFFF13;}\n",
       ".cython.score-124 {background-color: #FFFF13;}\n",
       ".cython.score-125 {background-color: #FFFF12;}\n",
       ".cython.score-126 {background-color: #FFFF12;}\n",
       ".cython.score-127 {background-color: #FFFF12;}\n",
       ".cython.score-128 {background-color: #FFFF12;}\n",
       ".cython.score-129 {background-color: #FFFF12;}\n",
       ".cython.score-130 {background-color: #FFFF12;}\n",
       ".cython.score-131 {background-color: #FFFF12;}\n",
       ".cython.score-132 {background-color: #FFFF11;}\n",
       ".cython.score-133 {background-color: #FFFF11;}\n",
       ".cython.score-134 {background-color: #FFFF11;}\n",
       ".cython.score-135 {background-color: #FFFF11;}\n",
       ".cython.score-136 {background-color: #FFFF11;}\n",
       ".cython.score-137 {background-color: #FFFF11;}\n",
       ".cython.score-138 {background-color: #FFFF11;}\n",
       ".cython.score-139 {background-color: #FFFF11;}\n",
       ".cython.score-140 {background-color: #FFFF11;}\n",
       ".cython.score-141 {background-color: #FFFF10;}\n",
       ".cython.score-142 {background-color: #FFFF10;}\n",
       ".cython.score-143 {background-color: #FFFF10;}\n",
       ".cython.score-144 {background-color: #FFFF10;}\n",
       ".cython.score-145 {background-color: #FFFF10;}\n",
       ".cython.score-146 {background-color: #FFFF10;}\n",
       ".cython.score-147 {background-color: #FFFF10;}\n",
       ".cython.score-148 {background-color: #FFFF10;}\n",
       ".cython.score-149 {background-color: #FFFF10;}\n",
       ".cython.score-150 {background-color: #FFFF0f;}\n",
       ".cython.score-151 {background-color: #FFFF0f;}\n",
       ".cython.score-152 {background-color: #FFFF0f;}\n",
       ".cython.score-153 {background-color: #FFFF0f;}\n",
       ".cython.score-154 {background-color: #FFFF0f;}\n",
       ".cython.score-155 {background-color: #FFFF0f;}\n",
       ".cython.score-156 {background-color: #FFFF0f;}\n",
       ".cython.score-157 {background-color: #FFFF0f;}\n",
       ".cython.score-158 {background-color: #FFFF0f;}\n",
       ".cython.score-159 {background-color: #FFFF0f;}\n",
       ".cython.score-160 {background-color: #FFFF0f;}\n",
       ".cython.score-161 {background-color: #FFFF0e;}\n",
       ".cython.score-162 {background-color: #FFFF0e;}\n",
       ".cython.score-163 {background-color: #FFFF0e;}\n",
       ".cython.score-164 {background-color: #FFFF0e;}\n",
       ".cython.score-165 {background-color: #FFFF0e;}\n",
       ".cython.score-166 {background-color: #FFFF0e;}\n",
       ".cython.score-167 {background-color: #FFFF0e;}\n",
       ".cython.score-168 {background-color: #FFFF0e;}\n",
       ".cython.score-169 {background-color: #FFFF0e;}\n",
       ".cython.score-170 {background-color: #FFFF0e;}\n",
       ".cython.score-171 {background-color: #FFFF0e;}\n",
       ".cython.score-172 {background-color: #FFFF0e;}\n",
       ".cython.score-173 {background-color: #FFFF0d;}\n",
       ".cython.score-174 {background-color: #FFFF0d;}\n",
       ".cython.score-175 {background-color: #FFFF0d;}\n",
       ".cython.score-176 {background-color: #FFFF0d;}\n",
       ".cython.score-177 {background-color: #FFFF0d;}\n",
       ".cython.score-178 {background-color: #FFFF0d;}\n",
       ".cython.score-179 {background-color: #FFFF0d;}\n",
       ".cython.score-180 {background-color: #FFFF0d;}\n",
       ".cython.score-181 {background-color: #FFFF0d;}\n",
       ".cython.score-182 {background-color: #FFFF0d;}\n",
       ".cython.score-183 {background-color: #FFFF0d;}\n",
       ".cython.score-184 {background-color: #FFFF0d;}\n",
       ".cython.score-185 {background-color: #FFFF0d;}\n",
       ".cython.score-186 {background-color: #FFFF0d;}\n",
       ".cython.score-187 {background-color: #FFFF0c;}\n",
       ".cython.score-188 {background-color: #FFFF0c;}\n",
       ".cython.score-189 {background-color: #FFFF0c;}\n",
       ".cython.score-190 {background-color: #FFFF0c;}\n",
       ".cython.score-191 {background-color: #FFFF0c;}\n",
       ".cython.score-192 {background-color: #FFFF0c;}\n",
       ".cython.score-193 {background-color: #FFFF0c;}\n",
       ".cython.score-194 {background-color: #FFFF0c;}\n",
       ".cython.score-195 {background-color: #FFFF0c;}\n",
       ".cython.score-196 {background-color: #FFFF0c;}\n",
       ".cython.score-197 {background-color: #FFFF0c;}\n",
       ".cython.score-198 {background-color: #FFFF0c;}\n",
       ".cython.score-199 {background-color: #FFFF0c;}\n",
       ".cython.score-200 {background-color: #FFFF0c;}\n",
       ".cython.score-201 {background-color: #FFFF0c;}\n",
       ".cython.score-202 {background-color: #FFFF0c;}\n",
       ".cython.score-203 {background-color: #FFFF0b;}\n",
       ".cython.score-204 {background-color: #FFFF0b;}\n",
       ".cython.score-205 {background-color: #FFFF0b;}\n",
       ".cython.score-206 {background-color: #FFFF0b;}\n",
       ".cython.score-207 {background-color: #FFFF0b;}\n",
       ".cython.score-208 {background-color: #FFFF0b;}\n",
       ".cython.score-209 {background-color: #FFFF0b;}\n",
       ".cython.score-210 {background-color: #FFFF0b;}\n",
       ".cython.score-211 {background-color: #FFFF0b;}\n",
       ".cython.score-212 {background-color: #FFFF0b;}\n",
       ".cython.score-213 {background-color: #FFFF0b;}\n",
       ".cython.score-214 {background-color: #FFFF0b;}\n",
       ".cython.score-215 {background-color: #FFFF0b;}\n",
       ".cython.score-216 {background-color: #FFFF0b;}\n",
       ".cython.score-217 {background-color: #FFFF0b;}\n",
       ".cython.score-218 {background-color: #FFFF0b;}\n",
       ".cython.score-219 {background-color: #FFFF0b;}\n",
       ".cython.score-220 {background-color: #FFFF0b;}\n",
       ".cython.score-221 {background-color: #FFFF0b;}\n",
       ".cython.score-222 {background-color: #FFFF0a;}\n",
       ".cython.score-223 {background-color: #FFFF0a;}\n",
       ".cython.score-224 {background-color: #FFFF0a;}\n",
       ".cython.score-225 {background-color: #FFFF0a;}\n",
       ".cython.score-226 {background-color: #FFFF0a;}\n",
       ".cython.score-227 {background-color: #FFFF0a;}\n",
       ".cython.score-228 {background-color: #FFFF0a;}\n",
       ".cython.score-229 {background-color: #FFFF0a;}\n",
       ".cython.score-230 {background-color: #FFFF0a;}\n",
       ".cython.score-231 {background-color: #FFFF0a;}\n",
       ".cython.score-232 {background-color: #FFFF0a;}\n",
       ".cython.score-233 {background-color: #FFFF0a;}\n",
       ".cython.score-234 {background-color: #FFFF0a;}\n",
       ".cython.score-235 {background-color: #FFFF0a;}\n",
       ".cython.score-236 {background-color: #FFFF0a;}\n",
       ".cython.score-237 {background-color: #FFFF0a;}\n",
       ".cython.score-238 {background-color: #FFFF0a;}\n",
       ".cython.score-239 {background-color: #FFFF0a;}\n",
       ".cython.score-240 {background-color: #FFFF0a;}\n",
       ".cython.score-241 {background-color: #FFFF0a;}\n",
       ".cython.score-242 {background-color: #FFFF0a;}\n",
       ".cython.score-243 {background-color: #FFFF0a;}\n",
       ".cython.score-244 {background-color: #FFFF0a;}\n",
       ".cython.score-245 {background-color: #FFFF0a;}\n",
       ".cython.score-246 {background-color: #FFFF09;}\n",
       ".cython.score-247 {background-color: #FFFF09;}\n",
       ".cython.score-248 {background-color: #FFFF09;}\n",
       ".cython.score-249 {background-color: #FFFF09;}\n",
       ".cython.score-250 {background-color: #FFFF09;}\n",
       ".cython.score-251 {background-color: #FFFF09;}\n",
       ".cython.score-252 {background-color: #FFFF09;}\n",
       ".cython.score-253 {background-color: #FFFF09;}\n",
       ".cython.score-254 {background-color: #FFFF09;}\n",
       ".cython .hll { background-color: #ffffcc }\n",
       ".cython  { background: #f8f8f8; }\n",
       ".cython .c { color: #408080; font-style: italic } /* Comment */\n",
       ".cython .err { border: 1px solid #FF0000 } /* Error */\n",
       ".cython .k { color: #008000; font-weight: bold } /* Keyword */\n",
       ".cython .o { color: #666666 } /* Operator */\n",
       ".cython .ch { color: #408080; font-style: italic } /* Comment.Hashbang */\n",
       ".cython .cm { color: #408080; font-style: italic } /* Comment.Multiline */\n",
       ".cython .cp { color: #BC7A00 } /* Comment.Preproc */\n",
       ".cython .cpf { color: #408080; font-style: italic } /* Comment.PreprocFile */\n",
       ".cython .c1 { color: #408080; font-style: italic } /* Comment.Single */\n",
       ".cython .cs { color: #408080; font-style: italic } /* Comment.Special */\n",
       ".cython .gd { color: #A00000 } /* Generic.Deleted */\n",
       ".cython .ge { font-style: italic } /* Generic.Emph */\n",
       ".cython .gr { color: #FF0000 } /* Generic.Error */\n",
       ".cython .gh { color: #000080; font-weight: bold } /* Generic.Heading */\n",
       ".cython .gi { color: #00A000 } /* Generic.Inserted */\n",
       ".cython .go { color: #888888 } /* Generic.Output */\n",
       ".cython .gp { color: #000080; font-weight: bold } /* Generic.Prompt */\n",
       ".cython .gs { font-weight: bold } /* Generic.Strong */\n",
       ".cython .gu { color: #800080; font-weight: bold } /* Generic.Subheading */\n",
       ".cython .gt { color: #0044DD } /* Generic.Traceback */\n",
       ".cython .kc { color: #008000; font-weight: bold } /* Keyword.Constant */\n",
       ".cython .kd { color: #008000; font-weight: bold } /* Keyword.Declaration */\n",
       ".cython .kn { color: #008000; font-weight: bold } /* Keyword.Namespace */\n",
       ".cython .kp { color: #008000 } /* Keyword.Pseudo */\n",
       ".cython .kr { color: #008000; font-weight: bold } /* Keyword.Reserved */\n",
       ".cython .kt { color: #B00040 } /* Keyword.Type */\n",
       ".cython .m { color: #666666 } /* Literal.Number */\n",
       ".cython .s { color: #BA2121 } /* Literal.String */\n",
       ".cython .na { color: #7D9029 } /* Name.Attribute */\n",
       ".cython .nb { color: #008000 } /* Name.Builtin */\n",
       ".cython .nc { color: #0000FF; font-weight: bold } /* Name.Class */\n",
       ".cython .no { color: #880000 } /* Name.Constant */\n",
       ".cython .nd { color: #AA22FF } /* Name.Decorator */\n",
       ".cython .ni { color: #999999; font-weight: bold } /* Name.Entity */\n",
       ".cython .ne { color: #D2413A; font-weight: bold } /* Name.Exception */\n",
       ".cython .nf { color: #0000FF } /* Name.Function */\n",
       ".cython .nl { color: #A0A000 } /* Name.Label */\n",
       ".cython .nn { color: #0000FF; font-weight: bold } /* Name.Namespace */\n",
       ".cython .nt { color: #008000; font-weight: bold } /* Name.Tag */\n",
       ".cython .nv { color: #19177C } /* Name.Variable */\n",
       ".cython .ow { color: #AA22FF; font-weight: bold } /* Operator.Word */\n",
       ".cython .w { color: #bbbbbb } /* Text.Whitespace */\n",
       ".cython .mb { color: #666666 } /* Literal.Number.Bin */\n",
       ".cython .mf { color: #666666 } /* Literal.Number.Float */\n",
       ".cython .mh { color: #666666 } /* Literal.Number.Hex */\n",
       ".cython .mi { color: #666666 } /* Literal.Number.Integer */\n",
       ".cython .mo { color: #666666 } /* Literal.Number.Oct */\n",
       ".cython .sa { color: #BA2121 } /* Literal.String.Affix */\n",
       ".cython .sb { color: #BA2121 } /* Literal.String.Backtick */\n",
       ".cython .sc { color: #BA2121 } /* Literal.String.Char */\n",
       ".cython .dl { color: #BA2121 } /* Literal.String.Delimiter */\n",
       ".cython .sd { color: #BA2121; font-style: italic } /* Literal.String.Doc */\n",
       ".cython .s2 { color: #BA2121 } /* Literal.String.Double */\n",
       ".cython .se { color: #BB6622; font-weight: bold } /* Literal.String.Escape */\n",
       ".cython .sh { color: #BA2121 } /* Literal.String.Heredoc */\n",
       ".cython .si { color: #BB6688; font-weight: bold } /* Literal.String.Interpol */\n",
       ".cython .sx { color: #008000 } /* Literal.String.Other */\n",
       ".cython .sr { color: #BB6688 } /* Literal.String.Regex */\n",
       ".cython .s1 { color: #BA2121 } /* Literal.String.Single */\n",
       ".cython .ss { color: #19177C } /* Literal.String.Symbol */\n",
       ".cython .bp { color: #008000 } /* Name.Builtin.Pseudo */\n",
       ".cython .fm { color: #0000FF } /* Name.Function.Magic */\n",
       ".cython .vc { color: #19177C } /* Name.Variable.Class */\n",
       ".cython .vg { color: #19177C } /* Name.Variable.Global */\n",
       ".cython .vi { color: #19177C } /* Name.Variable.Instance */\n",
       ".cython .vm { color: #19177C } /* Name.Variable.Magic */\n",
       ".cython .il { color: #666666 } /* Literal.Number.Integer.Long */\n",
       "    </style>\n",
       "</head>\n",
       "<body class=\"cython\">\n",
       "<p><span style=\"border-bottom: solid 1px grey;\">Generated by Cython 0.29.21</span></p>\n",
       "<p>\n",
       "    <span style=\"background-color: #FFFF00\">Yellow lines</span> hint at Python interaction.<br />\n",
       "    Click on a line that starts with a \"<code>+</code>\" to see the C code that Cython generated for it.\n",
       "</p>\n",
       "<div class=\"cython\"><pre class=\"cython line score-53\" onclick=\"(function(s){s.display=s.display==='block'?'none':'block'})(this.nextElementSibling.style)\">+<span class=\"\">01</span>: <span class=\"k\">def</span> <span class=\"nf\">bspline_cython</span><span class=\"p\">(</span><span class=\"n\">p</span><span class=\"p\">,</span> <span class=\"n\">j</span><span class=\"p\">,</span> <span class=\"n\">x</span><span class=\"p\">):</span></pre>\n",
       "<pre class='cython code score-53 '>/* Python wrapper */\n",
       "static PyObject *__pyx_pw_46_cython_magic_0d6c6786bdedcdb9fbae7f15b074d34c_1bspline_cython(PyObject *__pyx_self, PyObject *__pyx_args, PyObject *__pyx_kwds); /*proto*/\n",
       "static char __pyx_doc_46_cython_magic_0d6c6786bdedcdb9fbae7f15b074d34c_bspline_cython[] = \"Return the value at x in [0,1[ of the B-spline with \\n        integer nodes of degree p with support starting at j.\\n        Implemented recursively using the de Boor's recursion formula\";\n",
       "static PyMethodDef __pyx_mdef_46_cython_magic_0d6c6786bdedcdb9fbae7f15b074d34c_1bspline_cython = {\"bspline_cython\", (PyCFunction)(void*)(PyCFunctionWithKeywords)__pyx_pw_46_cython_magic_0d6c6786bdedcdb9fbae7f15b074d34c_1bspline_cython, METH_VARARGS|METH_KEYWORDS, __pyx_doc_46_cython_magic_0d6c6786bdedcdb9fbae7f15b074d34c_bspline_cython};\n",
       "static PyObject *__pyx_pw_46_cython_magic_0d6c6786bdedcdb9fbae7f15b074d34c_1bspline_cython(PyObject *__pyx_self, PyObject *__pyx_args, PyObject *__pyx_kwds) {\n",
       "  PyObject *__pyx_v_p = 0;\n",
       "  PyObject *__pyx_v_j = 0;\n",
       "  PyObject *__pyx_v_x = 0;\n",
       "  PyObject *__pyx_r = 0;\n",
       "  <span class='refnanny'>__Pyx_RefNannyDeclarations</span>\n",
       "  <span class='refnanny'>__Pyx_RefNannySetupContext</span>(\"bspline_cython (wrapper)\", 0);\n",
       "  {\n",
       "    static PyObject **__pyx_pyargnames[] = {&amp;__pyx_n_s_p,&amp;__pyx_n_s_j,&amp;__pyx_n_s_x,0};\n",
       "    PyObject* values[3] = {0,0,0};\n",
       "    if (unlikely(__pyx_kwds)) {\n",
       "      Py_ssize_t kw_args;\n",
       "      const Py_ssize_t pos_args = <span class='py_macro_api'>PyTuple_GET_SIZE</span>(__pyx_args);\n",
       "      switch (pos_args) {\n",
       "        case  3: values[2] = <span class='py_macro_api'>PyTuple_GET_ITEM</span>(__pyx_args, 2);\n",
       "        CYTHON_FALLTHROUGH;\n",
       "        case  2: values[1] = <span class='py_macro_api'>PyTuple_GET_ITEM</span>(__pyx_args, 1);\n",
       "        CYTHON_FALLTHROUGH;\n",
       "        case  1: values[0] = <span class='py_macro_api'>PyTuple_GET_ITEM</span>(__pyx_args, 0);\n",
       "        CYTHON_FALLTHROUGH;\n",
       "        case  0: break;\n",
       "        default: goto __pyx_L5_argtuple_error;\n",
       "      }\n",
       "      kw_args = <span class='py_c_api'>PyDict_Size</span>(__pyx_kwds);\n",
       "      switch (pos_args) {\n",
       "        case  0:\n",
       "        if (likely((values[0] = <span class='pyx_c_api'>__Pyx_PyDict_GetItemStr</span>(__pyx_kwds, __pyx_n_s_p)) != 0)) kw_args--;\n",
       "        else goto __pyx_L5_argtuple_error;\n",
       "        CYTHON_FALLTHROUGH;\n",
       "        case  1:\n",
       "        if (likely((values[1] = <span class='pyx_c_api'>__Pyx_PyDict_GetItemStr</span>(__pyx_kwds, __pyx_n_s_j)) != 0)) kw_args--;\n",
       "        else {\n",
       "          <span class='pyx_c_api'>__Pyx_RaiseArgtupleInvalid</span>(\"bspline_cython\", 1, 3, 3, 1); <span class='error_goto'>__PYX_ERR(0, 1, __pyx_L3_error)</span>\n",
       "        }\n",
       "        CYTHON_FALLTHROUGH;\n",
       "        case  2:\n",
       "        if (likely((values[2] = <span class='pyx_c_api'>__Pyx_PyDict_GetItemStr</span>(__pyx_kwds, __pyx_n_s_x)) != 0)) kw_args--;\n",
       "        else {\n",
       "          <span class='pyx_c_api'>__Pyx_RaiseArgtupleInvalid</span>(\"bspline_cython\", 1, 3, 3, 2); <span class='error_goto'>__PYX_ERR(0, 1, __pyx_L3_error)</span>\n",
       "        }\n",
       "      }\n",
       "      if (unlikely(kw_args &gt; 0)) {\n",
       "        if (unlikely(<span class='pyx_c_api'>__Pyx_ParseOptionalKeywords</span>(__pyx_kwds, __pyx_pyargnames, 0, values, pos_args, \"bspline_cython\") &lt; 0)) <span class='error_goto'>__PYX_ERR(0, 1, __pyx_L3_error)</span>\n",
       "      }\n",
       "    } else if (<span class='py_macro_api'>PyTuple_GET_SIZE</span>(__pyx_args) != 3) {\n",
       "      goto __pyx_L5_argtuple_error;\n",
       "    } else {\n",
       "      values[0] = <span class='py_macro_api'>PyTuple_GET_ITEM</span>(__pyx_args, 0);\n",
       "      values[1] = <span class='py_macro_api'>PyTuple_GET_ITEM</span>(__pyx_args, 1);\n",
       "      values[2] = <span class='py_macro_api'>PyTuple_GET_ITEM</span>(__pyx_args, 2);\n",
       "    }\n",
       "    __pyx_v_p = values[0];\n",
       "    __pyx_v_j = values[1];\n",
       "    __pyx_v_x = values[2];\n",
       "  }\n",
       "  goto __pyx_L4_argument_unpacking_done;\n",
       "  __pyx_L5_argtuple_error:;\n",
       "  <span class='pyx_c_api'>__Pyx_RaiseArgtupleInvalid</span>(\"bspline_cython\", 1, 3, 3, <span class='py_macro_api'>PyTuple_GET_SIZE</span>(__pyx_args)); <span class='error_goto'>__PYX_ERR(0, 1, __pyx_L3_error)</span>\n",
       "  __pyx_L3_error:;\n",
       "  <span class='pyx_c_api'>__Pyx_AddTraceback</span>(\"_cython_magic_0d6c6786bdedcdb9fbae7f15b074d34c.bspline_cython\", __pyx_clineno, __pyx_lineno, __pyx_filename);\n",
       "  <span class='refnanny'>__Pyx_RefNannyFinishContext</span>();\n",
       "  return NULL;\n",
       "  __pyx_L4_argument_unpacking_done:;\n",
       "  __pyx_r = __pyx_pf_46_cython_magic_0d6c6786bdedcdb9fbae7f15b074d34c_bspline_cython(__pyx_self, __pyx_v_p, __pyx_v_j, __pyx_v_x);\n",
       "  int __pyx_lineno = 0;\n",
       "  const char *__pyx_filename = NULL;\n",
       "  int __pyx_clineno = 0;\n",
       "\n",
       "  /* function exit code */\n",
       "  <span class='refnanny'>__Pyx_RefNannyFinishContext</span>();\n",
       "  return __pyx_r;\n",
       "}\n",
       "\n",
       "static PyObject *__pyx_pf_46_cython_magic_0d6c6786bdedcdb9fbae7f15b074d34c_bspline_cython(CYTHON_UNUSED PyObject *__pyx_self, PyObject *__pyx_v_p, PyObject *__pyx_v_j, PyObject *__pyx_v_x) {\n",
       "  PyObject *__pyx_v_w = NULL;\n",
       "  PyObject *__pyx_v_w1 = NULL;\n",
       "  PyObject *__pyx_r = NULL;\n",
       "  <span class='refnanny'>__Pyx_RefNannyDeclarations</span>\n",
       "  <span class='refnanny'>__Pyx_RefNannySetupContext</span>(\"bspline_cython\", 0);\n",
       "/* … */\n",
       "  /* function exit code */\n",
       "  __pyx_L1_error:;\n",
       "  <span class='pyx_macro_api'>__Pyx_XDECREF</span>(__pyx_t_1);\n",
       "  <span class='pyx_macro_api'>__Pyx_XDECREF</span>(__pyx_t_2);\n",
       "  <span class='pyx_macro_api'>__Pyx_XDECREF</span>(__pyx_t_3);\n",
       "  <span class='pyx_macro_api'>__Pyx_XDECREF</span>(__pyx_t_5);\n",
       "  <span class='pyx_macro_api'>__Pyx_XDECREF</span>(__pyx_t_7);\n",
       "  <span class='pyx_macro_api'>__Pyx_XDECREF</span>(__pyx_t_8);\n",
       "  <span class='pyx_macro_api'>__Pyx_XDECREF</span>(__pyx_t_9);\n",
       "  <span class='pyx_macro_api'>__Pyx_XDECREF</span>(__pyx_t_10);\n",
       "  <span class='pyx_c_api'>__Pyx_AddTraceback</span>(\"_cython_magic_0d6c6786bdedcdb9fbae7f15b074d34c.bspline_cython\", __pyx_clineno, __pyx_lineno, __pyx_filename);\n",
       "  __pyx_r = NULL;\n",
       "  __pyx_L0:;\n",
       "  <span class='pyx_macro_api'>__Pyx_XDECREF</span>(__pyx_v_w);\n",
       "  <span class='pyx_macro_api'>__Pyx_XDECREF</span>(__pyx_v_w1);\n",
       "  <span class='refnanny'>__Pyx_XGIVEREF</span>(__pyx_r);\n",
       "  <span class='refnanny'>__Pyx_RefNannyFinishContext</span>();\n",
       "  return __pyx_r;\n",
       "}\n",
       "/* … */\n",
       "  __pyx_tuple_ = <span class='py_c_api'>PyTuple_Pack</span>(5, __pyx_n_s_p, __pyx_n_s_j, __pyx_n_s_x, __pyx_n_s_w, __pyx_n_s_w1);<span class='error_goto'> if (unlikely(!__pyx_tuple_)) __PYX_ERR(0, 1, __pyx_L1_error)</span>\n",
       "  <span class='refnanny'>__Pyx_GOTREF</span>(__pyx_tuple_);\n",
       "  <span class='refnanny'>__Pyx_GIVEREF</span>(__pyx_tuple_);\n",
       "/* … */\n",
       "  __pyx_t_1 = PyCFunction_NewEx(&amp;__pyx_mdef_46_cython_magic_0d6c6786bdedcdb9fbae7f15b074d34c_1bspline_cython, NULL, __pyx_n_s_cython_magic_0d6c6786bdedcdb9fb);<span class='error_goto'> if (unlikely(!__pyx_t_1)) __PYX_ERR(0, 1, __pyx_L1_error)</span>\n",
       "  <span class='refnanny'>__Pyx_GOTREF</span>(__pyx_t_1);\n",
       "  if (<span class='py_c_api'>PyDict_SetItem</span>(__pyx_d, __pyx_n_s_bspline_cython, __pyx_t_1) &lt; 0) <span class='error_goto'>__PYX_ERR(0, 1, __pyx_L1_error)</span>\n",
       "  <span class='pyx_macro_api'>__Pyx_DECREF</span>(__pyx_t_1); __pyx_t_1 = 0;\n",
       "</pre><pre class=\"cython line score-0\">&#xA0;<span class=\"\">02</span>:         <span class=\"sd\">&quot;&quot;&quot;Return the value at x in [0,1[ of the B-spline with </span></pre>\n",
       "<pre class=\"cython line score-0\">&#xA0;<span class=\"\">03</span>: <span class=\"sd\">        integer nodes of degree p with support starting at j.</span></pre>\n",
       "<pre class=\"cython line score-0\">&#xA0;<span class=\"\">04</span>: <span class=\"sd\">        Implemented recursively using the de Boor&#39;s recursion formula&quot;&quot;&quot;</span></pre>\n",
       "<pre class=\"cython line score-25\" onclick=\"(function(s){s.display=s.display==='block'?'none':'block'})(this.nextElementSibling.style)\">+<span class=\"\">05</span>:         <span class=\"k\">assert</span> <span class=\"p\">(</span><span class=\"n\">x</span> <span class=\"o\">&gt;=</span> <span class=\"mf\">0.0</span><span class=\"p\">)</span> <span class=\"o\">&amp;</span> <span class=\"p\">(</span><span class=\"n\">x</span> <span class=\"o\">&lt;=</span> <span class=\"mf\">1.0</span><span class=\"p\">)</span></pre>\n",
       "<pre class='cython code score-25 '>  #ifndef CYTHON_WITHOUT_ASSERTIONS\n",
       "  if (unlikely(!Py_OptimizeFlag)) {\n",
       "    __pyx_t_1 = <span class='py_c_api'>PyObject_RichCompare</span>(__pyx_v_x, __pyx_float_0_0, Py_GE); <span class='refnanny'>__Pyx_XGOTREF</span>(__pyx_t_1);<span class='error_goto'> if (unlikely(!__pyx_t_1)) __PYX_ERR(0, 5, __pyx_L1_error)</span>\n",
       "    __pyx_t_2 = <span class='py_c_api'>PyObject_RichCompare</span>(__pyx_v_x, __pyx_float_1_0, Py_LE); <span class='refnanny'>__Pyx_XGOTREF</span>(__pyx_t_2);<span class='error_goto'> if (unlikely(!__pyx_t_2)) __PYX_ERR(0, 5, __pyx_L1_error)</span>\n",
       "    __pyx_t_3 = <span class='py_c_api'>PyNumber_And</span>(__pyx_t_1, __pyx_t_2);<span class='error_goto'> if (unlikely(!__pyx_t_3)) __PYX_ERR(0, 5, __pyx_L1_error)</span>\n",
       "    <span class='refnanny'>__Pyx_GOTREF</span>(__pyx_t_3);\n",
       "    <span class='pyx_macro_api'>__Pyx_DECREF</span>(__pyx_t_1); __pyx_t_1 = 0;\n",
       "    <span class='pyx_macro_api'>__Pyx_DECREF</span>(__pyx_t_2); __pyx_t_2 = 0;\n",
       "    __pyx_t_4 = <span class='pyx_c_api'>__Pyx_PyObject_IsTrue</span>(__pyx_t_3); if (unlikely(__pyx_t_4 &lt; 0)) <span class='error_goto'>__PYX_ERR(0, 5, __pyx_L1_error)</span>\n",
       "    <span class='pyx_macro_api'>__Pyx_DECREF</span>(__pyx_t_3); __pyx_t_3 = 0;\n",
       "    if (unlikely(!__pyx_t_4)) {\n",
       "      <span class='py_c_api'>PyErr_SetNone</span>(PyExc_AssertionError);\n",
       "      <span class='error_goto'>__PYX_ERR(0, 5, __pyx_L1_error)</span>\n",
       "    }\n",
       "  }\n",
       "  #endif\n",
       "</pre><pre class=\"cython line score-25\" onclick=\"(function(s){s.display=s.display==='block'?'none':'block'})(this.nextElementSibling.style)\">+<span class=\"\">06</span>:         <span class=\"k\">assert</span> <span class=\"p\">(</span><span class=\"nb\">type</span><span class=\"p\">(</span><span class=\"n\">p</span><span class=\"p\">)</span> <span class=\"o\">==</span> <span class=\"nb\">int</span><span class=\"p\">)</span> <span class=\"o\">&amp;</span> <span class=\"p\">(</span><span class=\"nb\">type</span><span class=\"p\">(</span><span class=\"n\">j</span><span class=\"p\">)</span> <span class=\"o\">==</span> <span class=\"nb\">int</span><span class=\"p\">)</span></pre>\n",
       "<pre class='cython code score-25 '>  #ifndef CYTHON_WITHOUT_ASSERTIONS\n",
       "  if (unlikely(!Py_OptimizeFlag)) {\n",
       "    __pyx_t_3 = <span class='py_c_api'>PyObject_RichCompare</span>(((PyObject *)Py_TYPE(__pyx_v_p)), ((PyObject *)(&amp;PyInt_Type)), Py_EQ); <span class='refnanny'>__Pyx_XGOTREF</span>(__pyx_t_3);<span class='error_goto'> if (unlikely(!__pyx_t_3)) __PYX_ERR(0, 6, __pyx_L1_error)</span>\n",
       "    __pyx_t_2 = <span class='py_c_api'>PyObject_RichCompare</span>(((PyObject *)Py_TYPE(__pyx_v_j)), ((PyObject *)(&amp;PyInt_Type)), Py_EQ); <span class='refnanny'>__Pyx_XGOTREF</span>(__pyx_t_2);<span class='error_goto'> if (unlikely(!__pyx_t_2)) __PYX_ERR(0, 6, __pyx_L1_error)</span>\n",
       "    __pyx_t_1 = <span class='py_c_api'>PyNumber_And</span>(__pyx_t_3, __pyx_t_2);<span class='error_goto'> if (unlikely(!__pyx_t_1)) __PYX_ERR(0, 6, __pyx_L1_error)</span>\n",
       "    <span class='refnanny'>__Pyx_GOTREF</span>(__pyx_t_1);\n",
       "    <span class='pyx_macro_api'>__Pyx_DECREF</span>(__pyx_t_3); __pyx_t_3 = 0;\n",
       "    <span class='pyx_macro_api'>__Pyx_DECREF</span>(__pyx_t_2); __pyx_t_2 = 0;\n",
       "    __pyx_t_4 = <span class='pyx_c_api'>__Pyx_PyObject_IsTrue</span>(__pyx_t_1); if (unlikely(__pyx_t_4 &lt; 0)) <span class='error_goto'>__PYX_ERR(0, 6, __pyx_L1_error)</span>\n",
       "    <span class='pyx_macro_api'>__Pyx_DECREF</span>(__pyx_t_1); __pyx_t_1 = 0;\n",
       "    if (unlikely(!__pyx_t_4)) {\n",
       "      <span class='py_c_api'>PyErr_SetNone</span>(PyExc_AssertionError);\n",
       "      <span class='error_goto'>__PYX_ERR(0, 6, __pyx_L1_error)</span>\n",
       "    }\n",
       "  }\n",
       "  #endif\n",
       "</pre><pre class=\"cython line score-5\" onclick=\"(function(s){s.display=s.display==='block'?'none':'block'})(this.nextElementSibling.style)\">+<span class=\"\">07</span>:         <span class=\"k\">if</span> <span class=\"n\">p</span> <span class=\"o\">==</span> <span class=\"mf\">0</span><span class=\"p\">:</span></pre>\n",
       "<pre class='cython code score-5 '>  __pyx_t_1 = <span class='pyx_c_api'>__Pyx_PyInt_EqObjC</span>(__pyx_v_p, __pyx_int_0, 0, 0);<span class='error_goto'> if (unlikely(!__pyx_t_1)) __PYX_ERR(0, 7, __pyx_L1_error)</span>\n",
       "  <span class='refnanny'>__Pyx_GOTREF</span>(__pyx_t_1);\n",
       "  __pyx_t_4 = <span class='pyx_c_api'>__Pyx_PyObject_IsTrue</span>(__pyx_t_1); if (unlikely(__pyx_t_4 &lt; 0)) <span class='error_goto'>__PYX_ERR(0, 7, __pyx_L1_error)</span>\n",
       "  <span class='pyx_macro_api'>__Pyx_DECREF</span>(__pyx_t_1); __pyx_t_1 = 0;\n",
       "  if (__pyx_t_4) {\n",
       "/* … */\n",
       "  }\n",
       "</pre><pre class=\"cython line score-5\" onclick=\"(function(s){s.display=s.display==='block'?'none':'block'})(this.nextElementSibling.style)\">+<span class=\"\">08</span>:             <span class=\"k\">if</span> <span class=\"n\">j</span> <span class=\"o\">==</span> <span class=\"mf\">0</span><span class=\"p\">:</span></pre>\n",
       "<pre class='cython code score-5 '>    __pyx_t_1 = <span class='pyx_c_api'>__Pyx_PyInt_EqObjC</span>(__pyx_v_j, __pyx_int_0, 0, 0);<span class='error_goto'> if (unlikely(!__pyx_t_1)) __PYX_ERR(0, 8, __pyx_L1_error)</span>\n",
       "    <span class='refnanny'>__Pyx_GOTREF</span>(__pyx_t_1);\n",
       "    __pyx_t_4 = <span class='pyx_c_api'>__Pyx_PyObject_IsTrue</span>(__pyx_t_1); if (unlikely(__pyx_t_4 &lt; 0)) <span class='error_goto'>__PYX_ERR(0, 8, __pyx_L1_error)</span>\n",
       "    <span class='pyx_macro_api'>__Pyx_DECREF</span>(__pyx_t_1); __pyx_t_1 = 0;\n",
       "    if (__pyx_t_4) {\n",
       "/* … */\n",
       "    }\n",
       "</pre><pre class=\"cython line score-2\" onclick=\"(function(s){s.display=s.display==='block'?'none':'block'})(this.nextElementSibling.style)\">+<span class=\"\">09</span>:                 <span class=\"k\">return</span> <span class=\"mf\">1.0</span></pre>\n",
       "<pre class='cython code score-2 '>      <span class='pyx_macro_api'>__Pyx_XDECREF</span>(__pyx_r);\n",
       "      <span class='pyx_macro_api'>__Pyx_INCREF</span>(__pyx_float_1_0);\n",
       "      __pyx_r = __pyx_float_1_0;\n",
       "      goto __pyx_L0;\n",
       "</pre><pre class=\"cython line score-0\">&#xA0;<span class=\"\">10</span>:             <span class=\"k\">else</span><span class=\"p\">:</span></pre>\n",
       "<pre class=\"cython line score-2\" onclick=\"(function(s){s.display=s.display==='block'?'none':'block'})(this.nextElementSibling.style)\">+<span class=\"\">11</span>:                 <span class=\"k\">return</span> <span class=\"mf\">0.0</span></pre>\n",
       "<pre class='cython code score-2 '>    /*else*/ {\n",
       "      <span class='pyx_macro_api'>__Pyx_XDECREF</span>(__pyx_r);\n",
       "      <span class='pyx_macro_api'>__Pyx_INCREF</span>(__pyx_float_0_0);\n",
       "      __pyx_r = __pyx_float_0_0;\n",
       "      goto __pyx_L0;\n",
       "    }\n",
       "</pre><pre class=\"cython line score-0\">&#xA0;<span class=\"\">12</span>:         <span class=\"k\">else</span><span class=\"p\">:</span></pre>\n",
       "<pre class=\"cython line score-8\" onclick=\"(function(s){s.display=s.display==='block'?'none':'block'})(this.nextElementSibling.style)\">+<span class=\"\">13</span>:             <span class=\"n\">w</span> <span class=\"o\">=</span> <span class=\"p\">(</span><span class=\"n\">x</span> <span class=\"o\">-</span> <span class=\"n\">j</span><span class=\"p\">)</span> <span class=\"o\">/</span> <span class=\"n\">p</span></pre>\n",
       "<pre class='cython code score-8 '>  /*else*/ {\n",
       "    __pyx_t_1 = <span class='py_c_api'>PyNumber_Subtract</span>(__pyx_v_x, __pyx_v_j);<span class='error_goto'> if (unlikely(!__pyx_t_1)) __PYX_ERR(0, 13, __pyx_L1_error)</span>\n",
       "    <span class='refnanny'>__Pyx_GOTREF</span>(__pyx_t_1);\n",
       "    __pyx_t_2 = <span class='pyx_c_api'>__Pyx_PyNumber_Divide</span>(__pyx_t_1, __pyx_v_p);<span class='error_goto'> if (unlikely(!__pyx_t_2)) __PYX_ERR(0, 13, __pyx_L1_error)</span>\n",
       "    <span class='refnanny'>__Pyx_GOTREF</span>(__pyx_t_2);\n",
       "    <span class='pyx_macro_api'>__Pyx_DECREF</span>(__pyx_t_1); __pyx_t_1 = 0;\n",
       "    __pyx_v_w = __pyx_t_2;\n",
       "    __pyx_t_2 = 0;\n",
       "</pre><pre class=\"cython line score-11\" onclick=\"(function(s){s.display=s.display==='block'?'none':'block'})(this.nextElementSibling.style)\">+<span class=\"\">14</span>:             <span class=\"n\">w1</span> <span class=\"o\">=</span> <span class=\"p\">(</span><span class=\"n\">x</span> <span class=\"o\">-</span> <span class=\"n\">j</span> <span class=\"o\">-</span> <span class=\"mf\">1</span><span class=\"p\">)</span> <span class=\"o\">/</span> <span class=\"n\">p</span></pre>\n",
       "<pre class='cython code score-11 '>    __pyx_t_2 = <span class='py_c_api'>PyNumber_Subtract</span>(__pyx_v_x, __pyx_v_j);<span class='error_goto'> if (unlikely(!__pyx_t_2)) __PYX_ERR(0, 14, __pyx_L1_error)</span>\n",
       "    <span class='refnanny'>__Pyx_GOTREF</span>(__pyx_t_2);\n",
       "    __pyx_t_1 = <span class='pyx_c_api'>__Pyx_PyInt_SubtractObjC</span>(__pyx_t_2, __pyx_int_1, 1, 0, 0);<span class='error_goto'> if (unlikely(!__pyx_t_1)) __PYX_ERR(0, 14, __pyx_L1_error)</span>\n",
       "    <span class='refnanny'>__Pyx_GOTREF</span>(__pyx_t_1);\n",
       "    <span class='pyx_macro_api'>__Pyx_DECREF</span>(__pyx_t_2); __pyx_t_2 = 0;\n",
       "    __pyx_t_2 = <span class='pyx_c_api'>__Pyx_PyNumber_Divide</span>(__pyx_t_1, __pyx_v_p);<span class='error_goto'> if (unlikely(!__pyx_t_2)) __PYX_ERR(0, 14, __pyx_L1_error)</span>\n",
       "    <span class='refnanny'>__Pyx_GOTREF</span>(__pyx_t_2);\n",
       "    <span class='pyx_macro_api'>__Pyx_DECREF</span>(__pyx_t_1); __pyx_t_1 = 0;\n",
       "    __pyx_v_w1 = __pyx_t_2;\n",
       "    __pyx_t_2 = 0;\n",
       "  }\n",
       "</pre><pre class=\"cython line score-114\" onclick=\"(function(s){s.display=s.display==='block'?'none':'block'})(this.nextElementSibling.style)\">+<span class=\"\">15</span>:         <span class=\"k\">return</span> <span class=\"n\">w</span> <span class=\"o\">*</span> <span class=\"n\">bspline_cython</span><span class=\"p\">(</span><span class=\"n\">p</span> <span class=\"o\">-</span> <span class=\"mf\">1</span><span class=\"p\">,</span> <span class=\"n\">j</span><span class=\"p\">,</span> <span class=\"n\">x</span><span class=\"p\">)</span> <span class=\"o\">+</span> <span class=\"p\">(</span><span class=\"mf\">1</span> <span class=\"o\">-</span> <span class=\"n\">w1</span><span class=\"p\">)</span> <span class=\"o\">*</span> <span class=\"n\">bspline_cython</span><span class=\"p\">(</span><span class=\"n\">p</span> <span class=\"o\">-</span> <span class=\"mf\">1</span><span class=\"p\">,</span> <span class=\"n\">j</span> <span class=\"o\">+</span> <span class=\"mf\">1</span><span class=\"p\">,</span> <span class=\"n\">x</span><span class=\"p\">)</span></pre>\n",
       "<pre class='cython code score-114 '>  <span class='pyx_macro_api'>__Pyx_XDECREF</span>(__pyx_r);\n",
       "  <span class='pyx_c_api'>__Pyx_GetModuleGlobalName</span>(__pyx_t_1, __pyx_n_s_bspline_cython);<span class='error_goto'> if (unlikely(!__pyx_t_1)) __PYX_ERR(0, 15, __pyx_L1_error)</span>\n",
       "  <span class='refnanny'>__Pyx_GOTREF</span>(__pyx_t_1);\n",
       "  __pyx_t_3 = <span class='pyx_c_api'>__Pyx_PyInt_SubtractObjC</span>(__pyx_v_p, __pyx_int_1, 1, 0, 0);<span class='error_goto'> if (unlikely(!__pyx_t_3)) __PYX_ERR(0, 15, __pyx_L1_error)</span>\n",
       "  <span class='refnanny'>__Pyx_GOTREF</span>(__pyx_t_3);\n",
       "  __pyx_t_5 = NULL;\n",
       "  __pyx_t_6 = 0;\n",
       "  if (CYTHON_UNPACK_METHODS &amp;&amp; unlikely(<span class='py_c_api'>PyMethod_Check</span>(__pyx_t_1))) {\n",
       "    __pyx_t_5 = <span class='py_macro_api'>PyMethod_GET_SELF</span>(__pyx_t_1);\n",
       "    if (likely(__pyx_t_5)) {\n",
       "      PyObject* function = <span class='py_macro_api'>PyMethod_GET_FUNCTION</span>(__pyx_t_1);\n",
       "      <span class='pyx_macro_api'>__Pyx_INCREF</span>(__pyx_t_5);\n",
       "      <span class='pyx_macro_api'>__Pyx_INCREF</span>(function);\n",
       "      <span class='pyx_macro_api'>__Pyx_DECREF_SET</span>(__pyx_t_1, function);\n",
       "      __pyx_t_6 = 1;\n",
       "    }\n",
       "  }\n",
       "  #if CYTHON_FAST_PYCALL\n",
       "  if (<span class='py_c_api'>PyFunction_Check</span>(__pyx_t_1)) {\n",
       "    PyObject *__pyx_temp[4] = {__pyx_t_5, __pyx_t_3, __pyx_v_j, __pyx_v_x};\n",
       "    __pyx_t_2 = <span class='pyx_c_api'>__Pyx_PyFunction_FastCall</span>(__pyx_t_1, __pyx_temp+1-__pyx_t_6, 3+__pyx_t_6);<span class='error_goto'> if (unlikely(!__pyx_t_2)) __PYX_ERR(0, 15, __pyx_L1_error)</span>\n",
       "    <span class='pyx_macro_api'>__Pyx_XDECREF</span>(__pyx_t_5); __pyx_t_5 = 0;\n",
       "    <span class='refnanny'>__Pyx_GOTREF</span>(__pyx_t_2);\n",
       "    <span class='pyx_macro_api'>__Pyx_DECREF</span>(__pyx_t_3); __pyx_t_3 = 0;\n",
       "  } else\n",
       "  #endif\n",
       "  #if CYTHON_FAST_PYCCALL\n",
       "  if (<span class='pyx_c_api'>__Pyx_PyFastCFunction_Check</span>(__pyx_t_1)) {\n",
       "    PyObject *__pyx_temp[4] = {__pyx_t_5, __pyx_t_3, __pyx_v_j, __pyx_v_x};\n",
       "    __pyx_t_2 = <span class='pyx_c_api'>__Pyx_PyCFunction_FastCall</span>(__pyx_t_1, __pyx_temp+1-__pyx_t_6, 3+__pyx_t_6);<span class='error_goto'> if (unlikely(!__pyx_t_2)) __PYX_ERR(0, 15, __pyx_L1_error)</span>\n",
       "    <span class='pyx_macro_api'>__Pyx_XDECREF</span>(__pyx_t_5); __pyx_t_5 = 0;\n",
       "    <span class='refnanny'>__Pyx_GOTREF</span>(__pyx_t_2);\n",
       "    <span class='pyx_macro_api'>__Pyx_DECREF</span>(__pyx_t_3); __pyx_t_3 = 0;\n",
       "  } else\n",
       "  #endif\n",
       "  {\n",
       "    __pyx_t_7 = <span class='py_c_api'>PyTuple_New</span>(3+__pyx_t_6);<span class='error_goto'> if (unlikely(!__pyx_t_7)) __PYX_ERR(0, 15, __pyx_L1_error)</span>\n",
       "    <span class='refnanny'>__Pyx_GOTREF</span>(__pyx_t_7);\n",
       "    if (__pyx_t_5) {\n",
       "      <span class='refnanny'>__Pyx_GIVEREF</span>(__pyx_t_5); <span class='py_macro_api'>PyTuple_SET_ITEM</span>(__pyx_t_7, 0, __pyx_t_5); __pyx_t_5 = NULL;\n",
       "    }\n",
       "    <span class='refnanny'>__Pyx_GIVEREF</span>(__pyx_t_3);\n",
       "    <span class='py_macro_api'>PyTuple_SET_ITEM</span>(__pyx_t_7, 0+__pyx_t_6, __pyx_t_3);\n",
       "    <span class='pyx_macro_api'>__Pyx_INCREF</span>(__pyx_v_j);\n",
       "    <span class='refnanny'>__Pyx_GIVEREF</span>(__pyx_v_j);\n",
       "    <span class='py_macro_api'>PyTuple_SET_ITEM</span>(__pyx_t_7, 1+__pyx_t_6, __pyx_v_j);\n",
       "    <span class='pyx_macro_api'>__Pyx_INCREF</span>(__pyx_v_x);\n",
       "    <span class='refnanny'>__Pyx_GIVEREF</span>(__pyx_v_x);\n",
       "    <span class='py_macro_api'>PyTuple_SET_ITEM</span>(__pyx_t_7, 2+__pyx_t_6, __pyx_v_x);\n",
       "    __pyx_t_3 = 0;\n",
       "    __pyx_t_2 = <span class='pyx_c_api'>__Pyx_PyObject_Call</span>(__pyx_t_1, __pyx_t_7, NULL);<span class='error_goto'> if (unlikely(!__pyx_t_2)) __PYX_ERR(0, 15, __pyx_L1_error)</span>\n",
       "    <span class='refnanny'>__Pyx_GOTREF</span>(__pyx_t_2);\n",
       "    <span class='pyx_macro_api'>__Pyx_DECREF</span>(__pyx_t_7); __pyx_t_7 = 0;\n",
       "  }\n",
       "  <span class='pyx_macro_api'>__Pyx_DECREF</span>(__pyx_t_1); __pyx_t_1 = 0;\n",
       "  __pyx_t_1 = <span class='py_c_api'>PyNumber_Multiply</span>(__pyx_v_w, __pyx_t_2);<span class='error_goto'> if (unlikely(!__pyx_t_1)) __PYX_ERR(0, 15, __pyx_L1_error)</span>\n",
       "  <span class='refnanny'>__Pyx_GOTREF</span>(__pyx_t_1);\n",
       "  <span class='pyx_macro_api'>__Pyx_DECREF</span>(__pyx_t_2); __pyx_t_2 = 0;\n",
       "  __pyx_t_2 = <span class='pyx_c_api'>__Pyx_PyInt_SubtractCObj</span>(__pyx_int_1, __pyx_v_w1, 1, 0, 0);<span class='error_goto'> if (unlikely(!__pyx_t_2)) __PYX_ERR(0, 15, __pyx_L1_error)</span>\n",
       "  <span class='refnanny'>__Pyx_GOTREF</span>(__pyx_t_2);\n",
       "  <span class='pyx_c_api'>__Pyx_GetModuleGlobalName</span>(__pyx_t_3, __pyx_n_s_bspline_cython);<span class='error_goto'> if (unlikely(!__pyx_t_3)) __PYX_ERR(0, 15, __pyx_L1_error)</span>\n",
       "  <span class='refnanny'>__Pyx_GOTREF</span>(__pyx_t_3);\n",
       "  __pyx_t_5 = <span class='pyx_c_api'>__Pyx_PyInt_SubtractObjC</span>(__pyx_v_p, __pyx_int_1, 1, 0, 0);<span class='error_goto'> if (unlikely(!__pyx_t_5)) __PYX_ERR(0, 15, __pyx_L1_error)</span>\n",
       "  <span class='refnanny'>__Pyx_GOTREF</span>(__pyx_t_5);\n",
       "  __pyx_t_8 = <span class='pyx_c_api'>__Pyx_PyInt_AddObjC</span>(__pyx_v_j, __pyx_int_1, 1, 0, 0);<span class='error_goto'> if (unlikely(!__pyx_t_8)) __PYX_ERR(0, 15, __pyx_L1_error)</span>\n",
       "  <span class='refnanny'>__Pyx_GOTREF</span>(__pyx_t_8);\n",
       "  __pyx_t_9 = NULL;\n",
       "  __pyx_t_6 = 0;\n",
       "  if (CYTHON_UNPACK_METHODS &amp;&amp; unlikely(<span class='py_c_api'>PyMethod_Check</span>(__pyx_t_3))) {\n",
       "    __pyx_t_9 = <span class='py_macro_api'>PyMethod_GET_SELF</span>(__pyx_t_3);\n",
       "    if (likely(__pyx_t_9)) {\n",
       "      PyObject* function = <span class='py_macro_api'>PyMethod_GET_FUNCTION</span>(__pyx_t_3);\n",
       "      <span class='pyx_macro_api'>__Pyx_INCREF</span>(__pyx_t_9);\n",
       "      <span class='pyx_macro_api'>__Pyx_INCREF</span>(function);\n",
       "      <span class='pyx_macro_api'>__Pyx_DECREF_SET</span>(__pyx_t_3, function);\n",
       "      __pyx_t_6 = 1;\n",
       "    }\n",
       "  }\n",
       "  #if CYTHON_FAST_PYCALL\n",
       "  if (<span class='py_c_api'>PyFunction_Check</span>(__pyx_t_3)) {\n",
       "    PyObject *__pyx_temp[4] = {__pyx_t_9, __pyx_t_5, __pyx_t_8, __pyx_v_x};\n",
       "    __pyx_t_7 = <span class='pyx_c_api'>__Pyx_PyFunction_FastCall</span>(__pyx_t_3, __pyx_temp+1-__pyx_t_6, 3+__pyx_t_6);<span class='error_goto'> if (unlikely(!__pyx_t_7)) __PYX_ERR(0, 15, __pyx_L1_error)</span>\n",
       "    <span class='pyx_macro_api'>__Pyx_XDECREF</span>(__pyx_t_9); __pyx_t_9 = 0;\n",
       "    <span class='refnanny'>__Pyx_GOTREF</span>(__pyx_t_7);\n",
       "    <span class='pyx_macro_api'>__Pyx_DECREF</span>(__pyx_t_5); __pyx_t_5 = 0;\n",
       "    <span class='pyx_macro_api'>__Pyx_DECREF</span>(__pyx_t_8); __pyx_t_8 = 0;\n",
       "  } else\n",
       "  #endif\n",
       "  #if CYTHON_FAST_PYCCALL\n",
       "  if (<span class='pyx_c_api'>__Pyx_PyFastCFunction_Check</span>(__pyx_t_3)) {\n",
       "    PyObject *__pyx_temp[4] = {__pyx_t_9, __pyx_t_5, __pyx_t_8, __pyx_v_x};\n",
       "    __pyx_t_7 = <span class='pyx_c_api'>__Pyx_PyCFunction_FastCall</span>(__pyx_t_3, __pyx_temp+1-__pyx_t_6, 3+__pyx_t_6);<span class='error_goto'> if (unlikely(!__pyx_t_7)) __PYX_ERR(0, 15, __pyx_L1_error)</span>\n",
       "    <span class='pyx_macro_api'>__Pyx_XDECREF</span>(__pyx_t_9); __pyx_t_9 = 0;\n",
       "    <span class='refnanny'>__Pyx_GOTREF</span>(__pyx_t_7);\n",
       "    <span class='pyx_macro_api'>__Pyx_DECREF</span>(__pyx_t_5); __pyx_t_5 = 0;\n",
       "    <span class='pyx_macro_api'>__Pyx_DECREF</span>(__pyx_t_8); __pyx_t_8 = 0;\n",
       "  } else\n",
       "  #endif\n",
       "  {\n",
       "    __pyx_t_10 = <span class='py_c_api'>PyTuple_New</span>(3+__pyx_t_6);<span class='error_goto'> if (unlikely(!__pyx_t_10)) __PYX_ERR(0, 15, __pyx_L1_error)</span>\n",
       "    <span class='refnanny'>__Pyx_GOTREF</span>(__pyx_t_10);\n",
       "    if (__pyx_t_9) {\n",
       "      <span class='refnanny'>__Pyx_GIVEREF</span>(__pyx_t_9); <span class='py_macro_api'>PyTuple_SET_ITEM</span>(__pyx_t_10, 0, __pyx_t_9); __pyx_t_9 = NULL;\n",
       "    }\n",
       "    <span class='refnanny'>__Pyx_GIVEREF</span>(__pyx_t_5);\n",
       "    <span class='py_macro_api'>PyTuple_SET_ITEM</span>(__pyx_t_10, 0+__pyx_t_6, __pyx_t_5);\n",
       "    <span class='refnanny'>__Pyx_GIVEREF</span>(__pyx_t_8);\n",
       "    <span class='py_macro_api'>PyTuple_SET_ITEM</span>(__pyx_t_10, 1+__pyx_t_6, __pyx_t_8);\n",
       "    <span class='pyx_macro_api'>__Pyx_INCREF</span>(__pyx_v_x);\n",
       "    <span class='refnanny'>__Pyx_GIVEREF</span>(__pyx_v_x);\n",
       "    <span class='py_macro_api'>PyTuple_SET_ITEM</span>(__pyx_t_10, 2+__pyx_t_6, __pyx_v_x);\n",
       "    __pyx_t_5 = 0;\n",
       "    __pyx_t_8 = 0;\n",
       "    __pyx_t_7 = <span class='pyx_c_api'>__Pyx_PyObject_Call</span>(__pyx_t_3, __pyx_t_10, NULL);<span class='error_goto'> if (unlikely(!__pyx_t_7)) __PYX_ERR(0, 15, __pyx_L1_error)</span>\n",
       "    <span class='refnanny'>__Pyx_GOTREF</span>(__pyx_t_7);\n",
       "    <span class='pyx_macro_api'>__Pyx_DECREF</span>(__pyx_t_10); __pyx_t_10 = 0;\n",
       "  }\n",
       "  <span class='pyx_macro_api'>__Pyx_DECREF</span>(__pyx_t_3); __pyx_t_3 = 0;\n",
       "  __pyx_t_3 = <span class='py_c_api'>PyNumber_Multiply</span>(__pyx_t_2, __pyx_t_7);<span class='error_goto'> if (unlikely(!__pyx_t_3)) __PYX_ERR(0, 15, __pyx_L1_error)</span>\n",
       "  <span class='refnanny'>__Pyx_GOTREF</span>(__pyx_t_3);\n",
       "  <span class='pyx_macro_api'>__Pyx_DECREF</span>(__pyx_t_2); __pyx_t_2 = 0;\n",
       "  <span class='pyx_macro_api'>__Pyx_DECREF</span>(__pyx_t_7); __pyx_t_7 = 0;\n",
       "  __pyx_t_7 = <span class='py_c_api'>PyNumber_Add</span>(__pyx_t_1, __pyx_t_3);<span class='error_goto'> if (unlikely(!__pyx_t_7)) __PYX_ERR(0, 15, __pyx_L1_error)</span>\n",
       "  <span class='refnanny'>__Pyx_GOTREF</span>(__pyx_t_7);\n",
       "  <span class='pyx_macro_api'>__Pyx_DECREF</span>(__pyx_t_1); __pyx_t_1 = 0;\n",
       "  <span class='pyx_macro_api'>__Pyx_DECREF</span>(__pyx_t_3); __pyx_t_3 = 0;\n",
       "  __pyx_r = __pyx_t_7;\n",
       "  __pyx_t_7 = 0;\n",
       "  goto __pyx_L0;\n",
       "</pre><pre class=\"cython line score-0\">&#xA0;<span class=\"\">16</span>: </pre>\n",
       "</div></body></html>"
      ],
      "text/plain": [
       "<IPython.core.display.HTML object>"
      ]
     },
     "execution_count": 20,
     "metadata": {},
     "output_type": "execute_result"
    }
   ],
   "source": [
    "%%cython -a\n",
    "def bspline_cython(p, j, x):\n",
    "        \"\"\"Return the value at x in [0,1[ of the B-spline with \n",
    "        integer nodes of degree p with support starting at j.\n",
    "        Implemented recursively using the de Boor's recursion formula\"\"\"\n",
    "        assert (x >= 0.0) & (x <= 1.0)\n",
    "        assert (type(p) == int) & (type(j) == int)\n",
    "        if p == 0:\n",
    "            if j == 0:\n",
    "                return 1.0\n",
    "            else:\n",
    "                return 0.0\n",
    "        else:\n",
    "            w = (x - j) / p\n",
    "            w1 = (x - j - 1) / p\n",
    "        return w * bspline_cython(p - 1, j, x) + (1 - w1) * bspline_cython(p - 1, j + 1, x)\n",
    "\n"
   ]
  },
  {
   "cell_type": "code",
   "execution_count": 21,
   "metadata": {
    "slideshow": {
     "slide_type": "skip"
    }
   },
   "outputs": [],
   "source": [
    "%%cython\n",
    "import cython\n",
    "import numpy as np\n",
    "cimport numpy as np\n",
    "from scipy.fftpack import fft, ifft\n",
    "\n",
    "@cython.cdivision(True)\n",
    "cdef double bspline_cython(int p, int j, double x):\n",
    "        \"\"\"Return the value at x in [0,1[ of the B-spline with \n",
    "        integer nodes of degree p with support starting at j.\n",
    "        Implemented recursively using the de Boor's recursion formula\"\"\"\n",
    "        cdef double w, w1\n",
    "        if p == 0:\n",
    "            if j == 0:\n",
    "                return 1.0\n",
    "            else:\n",
    "                return 0.0\n",
    "        else:\n",
    "            w = (x - j) / p\n",
    "            w1 = (x - j - 1) / p\n",
    "        return w * bspline_cython(p-1,j,x)+(1-w1)*bspline_cython(p-1,j+1,x)\n",
    "\n",
    "class BSplineCython:\n",
    "    \n",
    "    def __init__(self, p, xmin, xmax, ncells):\n",
    "        self.p = p\n",
    "        self.ncells = ncells\n",
    "        # compute eigenvalues of degree p b-spline matrix\n",
    "        self.modes = 2 * np.pi * np.arange(ncells) / ncells\n",
    "        self.deltax = (xmax - xmin) / ncells\n",
    "        \n",
    "        self.eig_bspl = bspline_cython(p,-(p+1)//2, 0.0)\n",
    "        for j in range(1, (p + 1) // 2):\n",
    "            self.eig_bspl += bspline_cython(p,j-(p+1)//2,0.0)*2*np.cos(j*self.modes)\n",
    "            \n",
    "        self.eigalpha = np.zeros(ncells, dtype=complex)\n",
    "    \n",
    "    @cython.boundscheck(False)\n",
    "    @cython.wraparound(False)\n",
    "    def interpolate_disp(self,  f,  alpha):\n",
    "        \"\"\"compute the interpolating spline of degree p of odd degree \n",
    "        of a function f on a periodic uniform mesh, at\n",
    "        all points xi-alpha\"\"\"\n",
    "        cdef Py_ssize_t j\n",
    "        cdef int p = self.p\n",
    "        # compute eigenvalues of cubic splines evaluated at displaced points\n",
    "        cdef int ishift = np.floor(-alpha / self.deltax)\n",
    "        cdef double beta = -ishift - alpha / self.deltax\n",
    "        self.eigalpha.fill(0)\n",
    "        for j in range(-(p-1)//2, (p+1)//2+1):\n",
    "            self.eigalpha += bspline_cython(p,j-(p+1)//2,beta)*np.exp((ishift+j)*1j*self.modes)\n",
    "            \n",
    "        # compute interpolating spline using fft and properties of circulant matrices\n",
    "        return np.real(ifft(fft(f) * self.eigalpha / self.eig_bspl))\n",
    "\n"
   ]
  },
  {
   "cell_type": "code",
   "execution_count": 22,
   "metadata": {
    "slideshow": {
     "slide_type": "slide"
    }
   },
   "outputs": [
    {
     "data": {
      "text/plain": [
       "True"
      ]
     },
     "execution_count": 22,
     "metadata": {},
     "output_type": "execute_result"
    }
   ],
   "source": [
    "interpolation_test(BSplineCython)"
   ]
  },
  {
   "cell_type": "code",
   "execution_count": 23,
   "metadata": {
    "slideshow": {
     "slide_type": "slide"
    }
   },
   "outputs": [
    {
     "data": {
      "application/vnd.jupyter.widget-view+json": {
       "model_id": "69c7e8de3b2549648440c7cbdf87a6a6",
       "version_major": 2,
       "version_minor": 0
      },
      "text/plain": [
       "HBox(children=(FloatProgress(value=0.0, max=5.0), HTML(value='')))"
      ]
     },
     "metadata": {},
     "output_type": "display_data"
    },
    {
     "name": "stdout",
     "output_type": "stream",
     "text": [
      "\n"
     ]
    },
    {
     "data": {
      "image/png": "[encoded data removed]",
      "text/plain": [
       "<Figure size 720x432 with 1 Axes>"
      ]
     },
     "metadata": {
      "image/png": {
       "height": 378,
       "width": 623
      }
     },
     "output_type": "display_data"
    }
   ],
   "source": [
    "import seaborn; seaborn.set()\n",
    "from tqdm.notebook import tqdm\n",
    "Mrange = (2 ** np.arange(5, 10)).astype(int)\n",
    "\n",
    "t_numpy = []\n",
    "t_fortran = []\n",
    "t_numba = []\n",
    "t_pythran = []\n",
    "t_cython = []\n",
    "\n",
    "for M in tqdm(Mrange):\n",
    "    x = np.linspace(0,1,M, endpoint=False)\n",
    "    f = np.sin(x*4*np.pi)\n",
    "    cs1 = BSplineNumpy(5,0,1,M)\n",
    "    cs2 = BSplineFortran(5,0,1,M)\n",
    "    cs3 = BSplineNumba(5,0,1,M)\n",
    "    cs4 = BSplinePythran(5,0,1,M)\n",
    "    cs5 = BSplineCython(5,0,1,M)\n",
    "    \n",
    "    alpha = 0.1\n",
    "    t1 = %timeit -oq cs1.interpolate_disp(f, alpha)\n",
    "    t2 = %timeit -oq cs2.interpolate_disp(f, alpha)\n",
    "    t3 = %timeit -oq cs3.interpolate_disp(f, alpha)\n",
    "    t4 = %timeit -oq cs4.interpolate_disp(f, alpha)\n",
    "    t5 = %timeit -oq cs5.interpolate_disp(f, alpha)\n",
    "    \n",
    "    t_numpy.append(t1.best)\n",
    "    t_fortran.append(t2.best)\n",
    "    t_numba.append(t3.best)\n",
    "    t_pythran.append(t4.best)\n",
    "    t_cython.append(t5.best)\n",
    "\n",
    "plt.loglog(Mrange, t_numpy, label='numpy')\n",
    "plt.loglog(Mrange, t_fortran, label='fortran')\n",
    "plt.loglog(Mrange, t_numba, label='numba')\n",
    "plt.loglog(Mrange, t_pythran, label='pythran')\n",
    "plt.loglog(Mrange, t_cython, label='cython')\n",
    "plt.legend(loc='lower right')\n",
    "plt.xlabel('Number of points')\n",
    "plt.ylabel('Execution Time (s)');"
   ]
  },
  {
   "cell_type": "markdown",
   "metadata": {
    "slideshow": {
     "slide_type": "slide"
    }
   },
   "source": [
    "## Vlasov-Poisson equation\n",
    "We consider the dimensionless Vlasov-Poisson equation for one species\n",
    "with a neutralizing background.\n",
    "\n",
    "$$ \n",
    "\\frac{\\partial f}{\\partial t}+ v\\cdot \\nabla_x f + E(t,x) \\cdot \\nabla_v f = 0, \\\\\n",
    "- \\Delta \\phi = 1 - \\rho, E = - \\nabla \\phi \\\\\n",
    "\\rho(t,x)  =  \\int f(t,x,v)dv.\n",
    "$$\n",
    "\n",
    "- [Vlasov Equation - Wikipedia](https://en.wikipedia.org/wiki/Vlasov_equation)"
   ]
  },
  {
   "cell_type": "code",
   "execution_count": 24,
   "metadata": {
    "slideshow": {
     "slide_type": "slide"
    }
   },
   "outputs": [],
   "source": [
    "import progressbar\n",
    "\n",
    "BSpline = dict(numpy=BSplineNumpy,\n",
    "               fortran=BSplineFortran,\n",
    "               cython=BSplineCython,\n",
    "               numba=BSplineNumba,\n",
    "               pythran=BSplinePythran)\n",
    "\n",
    "class VlasovPoisson:\n",
    "    \n",
    "    def __init__(self, xmin, xmax, nx, vmin, vmax, nv, opt='numpy'):\n",
    "        \n",
    "        # Grid\n",
    "        self.nx = nx\n",
    "        self.x, self.dx = np.linspace(xmin, xmax, nx, endpoint=False, retstep=True)\n",
    "        self.nv = nv\n",
    "        self.v, self.dv = np.linspace(vmin, vmax, nv, endpoint=False, retstep=True)\n",
    "        \n",
    "        # Distribution function\n",
    "        self.f = np.zeros((nx,nv)) \n",
    "        \n",
    "        # Interpolators for advection\n",
    "        BSplineClass = BSpline[opt]\n",
    "        self.cs_x = BSplineClass(3, xmin, xmax, nx)\n",
    "        self.cs_v = BSplineClass(3, vmin, vmax, nv)\n",
    "        \n",
    "        # Modes for Poisson equation\n",
    "        self.modes = np.zeros(nx)\n",
    "        k =  2* np.pi / (xmax - xmin)\n",
    "        self.modes[:nx//2] = k * np.arange(nx//2)\n",
    "        self.modes[nx//2:] = - k * np.arange(nx//2,0,-1)\n",
    "        self.modes += self.modes == 0 # avoid division by zero \n",
    "        \n",
    "    def advection_x(self, dt):\n",
    "        for j in range(self.nv):\n",
    "            alpha = dt * self.v[j]\n",
    "            self.f[j,:] = self.cs_x.interpolate_disp(self.f[j,:], alpha)\n",
    "            \n",
    "    def advection_v(self, e, dt):\n",
    "        for i in range(self.nx):\n",
    "            alpha = dt * e[i] \n",
    "            self.f[:,i] = self.cs_v.interpolate_disp(self.f[:,i], alpha)\n",
    "            \n",
    "    def compute_rho(self):\n",
    "        rho = self.dv * np.sum(self.f, axis=0)\n",
    "        return  rho - rho.mean()\n",
    "            \n",
    "    def compute_e(self, rho):\n",
    "        # compute Ex using that ik*Ex = rho\n",
    "        rhok = fft(rho)/self.modes\n",
    "        return np.real(ifft(-1j*rhok))\n",
    "    \n",
    "    def run(self, f, nstep, dt):\n",
    "        self.f = f\n",
    "        nrj = []\n",
    "        bar = progressbar.ProgressBar()\n",
    "        self.advection_x(0.5*dt)\n",
    "        for istep in bar(range(nstep)):\n",
    "            rho = self.compute_rho()\n",
    "            e = self.compute_e(rho)\n",
    "            self.advection_v(e, dt)\n",
    "            self.advection_x(dt)\n",
    "            nrj.append( 0.5*np.log(np.sum(e*e)*self.dx))\n",
    "                \n",
    "        return nrj"
   ]
  },
  {
   "cell_type": "markdown",
   "metadata": {},
   "source": [
    "## Landau Damping\n",
    "\n",
    "[Landau damping - Wikipedia](https://en.wikipedia.org/wiki/Landau_damping)"
   ]
  },
  {
   "cell_type": "code",
   "execution_count": 25,
   "metadata": {},
   "outputs": [
    {
     "name": "stderr",
     "output_type": "stream",
     "text": [
      "\r",
      "N/A% (0 of 600) |                        | Elapsed Time: 0:00:00 ETA:  --:--:--"
     ]
    },
    {
     "name": "stderr",
     "output_type": "stream",
     "text": [
      "\r",
      "  1% (6 of 600) |                        | Elapsed Time: 0:00:00 ETA:   0:00:11"
     ]
    },
    {
     "name": "stderr",
     "output_type": "stream",
     "text": [
      "\r",
      "  2% (12 of 600) |                       | Elapsed Time: 0:00:00 ETA:   0:00:10"
     ]
    },
    {
     "name": "stderr",
     "output_type": "stream",
     "text": [
      "\r",
      "  2% (16 of 600) |                       | Elapsed Time: 0:00:00 ETA:   0:00:10"
     ]
    },
    {
     "name": "stderr",
     "output_type": "stream",
     "text": [
      "\r",
      "  3% (22 of 600) |                       | Elapsed Time: 0:00:00 ETA:   0:00:10"
     ]
    },
    {
     "name": "stderr",
     "output_type": "stream",
     "text": [
      "\r",
      "  4% (28 of 600) |#                      | Elapsed Time: 0:00:00 ETA:   0:00:10"
     ]
    },
    {
     "name": "stderr",
     "output_type": "stream",
     "text": [
      "\r",
      "  5% (31 of 600) |#                      | Elapsed Time: 0:00:00 ETA:   0:00:10"
     ]
    },
    {
     "name": "stderr",
     "output_type": "stream",
     "text": [
      "\r",
      "  6% (37 of 600) |#                      | Elapsed Time: 0:00:00 ETA:   0:00:10"
     ]
    },
    {
     "name": "stderr",
     "output_type": "stream",
     "text": [
      "\r",
      "  7% (43 of 600) |#                      | Elapsed Time: 0:00:00 ETA:   0:00:10"
     ]
    },
    {
     "name": "stderr",
     "output_type": "stream",
     "text": [
      "\r",
      "  7% (46 of 600) |#                      | Elapsed Time: 0:00:00 ETA:   0:00:10"
     ]
    },
    {
     "name": "stderr",
     "output_type": "stream",
     "text": [
      "\r",
      "  8% (52 of 600) |#                      | Elapsed Time: 0:00:00 ETA:   0:00:10"
     ]
    },
    {
     "name": "stderr",
     "output_type": "stream",
     "text": [
      "\r",
      "  9% (58 of 600) |##                     | Elapsed Time: 0:00:01 ETA:   0:00:10"
     ]
    },
    {
     "name": "stderr",
     "output_type": "stream",
     "text": [
      "\r",
      " 10% (61 of 600) |##                     | Elapsed Time: 0:00:01 ETA:   0:00:10"
     ]
    },
    {
     "name": "stderr",
     "output_type": "stream",
     "text": [
      "\r",
      " 11% (67 of 600) |##                     | Elapsed Time: 0:00:01 ETA:   0:00:10"
     ]
    },
    {
     "name": "stderr",
     "output_type": "stream",
     "text": [
      "\r",
      " 12% (73 of 600) |##                     | Elapsed Time: 0:00:01 ETA:   0:00:09"
     ]
    },
    {
     "name": "stderr",
     "output_type": "stream",
     "text": [
      "\r",
      " 12% (76 of 600) |##                     | Elapsed Time: 0:00:01 ETA:   0:00:09"
     ]
    },
    {
     "name": "stderr",
     "output_type": "stream",
     "text": [
      "\r",
      " 13% (82 of 600) |###                    | Elapsed Time: 0:00:01 ETA:   0:00:09"
     ]
    },
    {
     "name": "stderr",
     "output_type": "stream",
     "text": [
      "\r",
      " 14% (88 of 600) |###                    | Elapsed Time: 0:00:01 ETA:   0:00:09"
     ]
    },
    {
     "name": "stderr",
     "output_type": "stream",
     "text": [
      "\r",
      " 15% (92 of 600) |###                    | Elapsed Time: 0:00:01 ETA:   0:00:09"
     ]
    },
    {
     "name": "stderr",
     "output_type": "stream",
     "text": [
      "\r",
      " 16% (98 of 600) |###                    | Elapsed Time: 0:00:01 ETA:   0:00:09"
     ]
    },
    {
     "name": "stderr",
     "output_type": "stream",
     "text": [
      "\r",
      " 17% (104 of 600) |###                   | Elapsed Time: 0:00:01 ETA:   0:00:09"
     ]
    },
    {
     "name": "stderr",
     "output_type": "stream",
     "text": [
      "\r",
      " 17% (107 of 600) |###                   | Elapsed Time: 0:00:02 ETA:   0:00:09"
     ]
    },
    {
     "name": "stderr",
     "output_type": "stream",
     "text": [
      "\r",
      " 18% (113 of 600) |####                  | Elapsed Time: 0:00:02 ETA:   0:00:09"
     ]
    },
    {
     "name": "stderr",
     "output_type": "stream",
     "text": [
      "\r",
      " 19% (119 of 600) |####                  | Elapsed Time: 0:00:02 ETA:   0:00:09"
     ]
    },
    {
     "name": "stderr",
     "output_type": "stream",
     "text": [
      "\r",
      " 20% (122 of 600) |####                  | Elapsed Time: 0:00:02 ETA:   0:00:09"
     ]
    },
    {
     "name": "stderr",
     "output_type": "stream",
     "text": [
      "\r",
      " 21% (128 of 600) |####                  | Elapsed Time: 0:00:02 ETA:   0:00:08"
     ]
    },
    {
     "name": "stderr",
     "output_type": "stream",
     "text": [
      "\r",
      " 22% (134 of 600) |####                  | Elapsed Time: 0:00:02 ETA:   0:00:08"
     ]
    },
    {
     "name": "stderr",
     "output_type": "stream",
     "text": [
      "\r",
      " 22% (137 of 600) |#####                 | Elapsed Time: 0:00:02 ETA:   0:00:08"
     ]
    },
    {
     "name": "stderr",
     "output_type": "stream",
     "text": [
      "\r",
      " 23% (143 of 600) |#####                 | Elapsed Time: 0:00:02 ETA:   0:00:08"
     ]
    },
    {
     "name": "stderr",
     "output_type": "stream",
     "text": [
      "\r",
      " 24% (149 of 600) |#####                 | Elapsed Time: 0:00:02 ETA:   0:00:08"
     ]
    },
    {
     "name": "stderr",
     "output_type": "stream",
     "text": [
      "\r",
      " 25% (152 of 600) |#####                 | Elapsed Time: 0:00:02 ETA:   0:00:08"
     ]
    },
    {
     "name": "stderr",
     "output_type": "stream",
     "text": [
      "\r",
      " 26% (158 of 600) |#####                 | Elapsed Time: 0:00:02 ETA:   0:00:08"
     ]
    },
    {
     "name": "stderr",
     "output_type": "stream",
     "text": [
      "\r",
      " 27% (164 of 600) |######                | Elapsed Time: 0:00:03 ETA:   0:00:08"
     ]
    },
    {
     "name": "stderr",
     "output_type": "stream",
     "text": [
      "\r",
      " 28% (168 of 600) |######                | Elapsed Time: 0:00:03 ETA:   0:00:08"
     ]
    },
    {
     "name": "stderr",
     "output_type": "stream",
     "text": [
      "\r",
      " 29% (174 of 600) |######                | Elapsed Time: 0:00:03 ETA:   0:00:08"
     ]
    },
    {
     "name": "stderr",
     "output_type": "stream",
     "text": [
      "\r",
      " 30% (180 of 600) |######                | Elapsed Time: 0:00:03 ETA:   0:00:07"
     ]
    },
    {
     "name": "stderr",
     "output_type": "stream",
     "text": [
      "\r",
      " 30% (183 of 600) |######                | Elapsed Time: 0:00:03 ETA:   0:00:07"
     ]
    },
    {
     "name": "stderr",
     "output_type": "stream",
     "text": [
      "\r",
      " 31% (189 of 600) |######                | Elapsed Time: 0:00:03 ETA:   0:00:07"
     ]
    },
    {
     "name": "stderr",
     "output_type": "stream",
     "text": [
      "\r",
      " 32% (195 of 600) |#######               | Elapsed Time: 0:00:03 ETA:   0:00:07"
     ]
    },
    {
     "name": "stderr",
     "output_type": "stream",
     "text": [
      "\r",
      " 33% (198 of 600) |#######               | Elapsed Time: 0:00:03 ETA:   0:00:07"
     ]
    },
    {
     "name": "stderr",
     "output_type": "stream",
     "text": [
      "\r",
      " 34% (204 of 600) |#######               | Elapsed Time: 0:00:03 ETA:   0:00:07"
     ]
    },
    {
     "name": "stderr",
     "output_type": "stream",
     "text": [
      "\r",
      " 35% (210 of 600) |#######               | Elapsed Time: 0:00:03 ETA:   0:00:07"
     ]
    },
    {
     "name": "stderr",
     "output_type": "stream",
     "text": [
      "\r",
      " 35% (213 of 600) |#######               | Elapsed Time: 0:00:04 ETA:   0:00:07"
     ]
    },
    {
     "name": "stderr",
     "output_type": "stream",
     "text": [
      "\r",
      " 36% (219 of 600) |########              | Elapsed Time: 0:00:04 ETA:   0:00:07"
     ]
    },
    {
     "name": "stderr",
     "output_type": "stream",
     "text": [
      "\r",
      " 37% (225 of 600) |########              | Elapsed Time: 0:00:04 ETA:   0:00:07"
     ]
    },
    {
     "name": "stderr",
     "output_type": "stream",
     "text": [
      "\r",
      " 38% (228 of 600) |########              | Elapsed Time: 0:00:04 ETA:   0:00:07"
     ]
    },
    {
     "name": "stderr",
     "output_type": "stream",
     "text": [
      "\r",
      " 39% (234 of 600) |########              | Elapsed Time: 0:00:04 ETA:   0:00:06"
     ]
    },
    {
     "name": "stderr",
     "output_type": "stream",
     "text": [
      "\r",
      " 40% (240 of 600) |########              | Elapsed Time: 0:00:04 ETA:   0:00:06"
     ]
    },
    {
     "name": "stderr",
     "output_type": "stream",
     "text": [
      "\r",
      " 40% (244 of 600) |########              | Elapsed Time: 0:00:04 ETA:   0:00:06"
     ]
    },
    {
     "name": "stderr",
     "output_type": "stream",
     "text": [
      "\r",
      " 41% (250 of 600) |#########             | Elapsed Time: 0:00:04 ETA:   0:00:06"
     ]
    },
    {
     "name": "stderr",
     "output_type": "stream",
     "text": [
      "\r",
      " 42% (256 of 600) |#########             | Elapsed Time: 0:00:04 ETA:   0:00:06"
     ]
    },
    {
     "name": "stderr",
     "output_type": "stream",
     "text": [
      "\r",
      " 43% (259 of 600) |#########             | Elapsed Time: 0:00:04 ETA:   0:00:06"
     ]
    },
    {
     "name": "stderr",
     "output_type": "stream",
     "text": [
      "\r",
      " 44% (265 of 600) |#########             | Elapsed Time: 0:00:05 ETA:   0:00:06"
     ]
    },
    {
     "name": "stderr",
     "output_type": "stream",
     "text": [
      "\r",
      " 45% (271 of 600) |#########             | Elapsed Time: 0:00:05 ETA:   0:00:06"
     ]
    },
    {
     "name": "stderr",
     "output_type": "stream",
     "text": [
      "\r",
      " 45% (274 of 600) |##########            | Elapsed Time: 0:00:05 ETA:   0:00:06"
     ]
    },
    {
     "name": "stderr",
     "output_type": "stream",
     "text": [
      "\r",
      " 46% (280 of 600) |##########            | Elapsed Time: 0:00:05 ETA:   0:00:06"
     ]
    },
    {
     "name": "stderr",
     "output_type": "stream",
     "text": [
      "\r",
      " 47% (286 of 600) |##########            | Elapsed Time: 0:00:05 ETA:   0:00:05"
     ]
    },
    {
     "name": "stderr",
     "output_type": "stream",
     "text": [
      "\r",
      " 48% (289 of 600) |##########            | Elapsed Time: 0:00:05 ETA:   0:00:05"
     ]
    },
    {
     "name": "stderr",
     "output_type": "stream",
     "text": [
      "\r",
      " 49% (295 of 600) |##########            | Elapsed Time: 0:00:05 ETA:   0:00:05"
     ]
    },
    {
     "name": "stderr",
     "output_type": "stream",
     "text": [
      "\r",
      " 50% (300 of 600) |###########           | Elapsed Time: 0:00:05 ETA:   0:00:05"
     ]
    },
    {
     "name": "stderr",
     "output_type": "stream",
     "text": [
      "\r",
      " 50% (304 of 600) |###########           | Elapsed Time: 0:00:05 ETA:   0:00:05"
     ]
    },
    {
     "name": "stderr",
     "output_type": "stream",
     "text": [
      "\r",
      " 51% (309 of 600) |###########           | Elapsed Time: 0:00:05 ETA:   0:00:05"
     ]
    },
    {
     "name": "stderr",
     "output_type": "stream",
     "text": [
      "\r",
      " 52% (312 of 600) |###########           | Elapsed Time: 0:00:05 ETA:   0:00:05"
     ]
    },
    {
     "name": "stderr",
     "output_type": "stream",
     "text": [
      "\r",
      " 53% (318 of 600) |###########           | Elapsed Time: 0:00:06 ETA:   0:00:05"
     ]
    },
    {
     "name": "stderr",
     "output_type": "stream",
     "text": [
      "\r",
      " 54% (324 of 600) |###########           | Elapsed Time: 0:00:06 ETA:   0:00:05"
     ]
    },
    {
     "name": "stderr",
     "output_type": "stream",
     "text": [
      "\r",
      " 54% (327 of 600) |###########           | Elapsed Time: 0:00:06 ETA:   0:00:05"
     ]
    },
    {
     "name": "stderr",
     "output_type": "stream",
     "text": [
      "\r",
      " 55% (333 of 600) |############          | Elapsed Time: 0:00:06 ETA:   0:00:05"
     ]
    },
    {
     "name": "stderr",
     "output_type": "stream",
     "text": [
      "\r",
      " 56% (339 of 600) |############          | Elapsed Time: 0:00:06 ETA:   0:00:05"
     ]
    },
    {
     "name": "stderr",
     "output_type": "stream",
     "text": [
      "\r",
      " 57% (342 of 600) |############          | Elapsed Time: 0:00:06 ETA:   0:00:04"
     ]
    },
    {
     "name": "stderr",
     "output_type": "stream",
     "text": [
      "\r",
      " 58% (348 of 600) |############          | Elapsed Time: 0:00:06 ETA:   0:00:04"
     ]
    },
    {
     "name": "stderr",
     "output_type": "stream",
     "text": [
      "\r",
      " 59% (354 of 600) |############          | Elapsed Time: 0:00:06 ETA:   0:00:04"
     ]
    },
    {
     "name": "stderr",
     "output_type": "stream",
     "text": [
      "\r",
      " 59% (357 of 600) |#############         | Elapsed Time: 0:00:06 ETA:   0:00:04"
     ]
    },
    {
     "name": "stderr",
     "output_type": "stream",
     "text": [
      "\r",
      " 60% (363 of 600) |#############         | Elapsed Time: 0:00:06 ETA:   0:00:04"
     ]
    },
    {
     "name": "stderr",
     "output_type": "stream",
     "text": [
      "\r",
      " 61% (369 of 600) |#############         | Elapsed Time: 0:00:07 ETA:   0:00:04"
     ]
    },
    {
     "name": "stderr",
     "output_type": "stream",
     "text": [
      "\r",
      " 62% (373 of 600) |#############         | Elapsed Time: 0:00:07 ETA:   0:00:04"
     ]
    },
    {
     "name": "stderr",
     "output_type": "stream",
     "text": [
      "\r",
      " 63% (379 of 600) |#############         | Elapsed Time: 0:00:07 ETA:   0:00:04"
     ]
    },
    {
     "name": "stderr",
     "output_type": "stream",
     "text": [
      "\r",
      " 64% (385 of 600) |##############        | Elapsed Time: 0:00:07 ETA:   0:00:04"
     ]
    },
    {
     "name": "stderr",
     "output_type": "stream",
     "text": [
      "\r",
      " 64% (388 of 600) |##############        | Elapsed Time: 0:00:07 ETA:   0:00:04"
     ]
    },
    {
     "name": "stderr",
     "output_type": "stream",
     "text": [
      "\r",
      " 65% (394 of 600) |##############        | Elapsed Time: 0:00:07 ETA:   0:00:03"
     ]
    },
    {
     "name": "stderr",
     "output_type": "stream",
     "text": [
      "\r",
      " 66% (400 of 600) |##############        | Elapsed Time: 0:00:07 ETA:   0:00:03"
     ]
    },
    {
     "name": "stderr",
     "output_type": "stream",
     "text": [
      "\r",
      " 67% (403 of 600) |##############        | Elapsed Time: 0:00:07 ETA:   0:00:03"
     ]
    },
    {
     "name": "stderr",
     "output_type": "stream",
     "text": [
      "\r",
      " 68% (409 of 600) |##############        | Elapsed Time: 0:00:07 ETA:   0:00:03"
     ]
    },
    {
     "name": "stderr",
     "output_type": "stream",
     "text": [
      "\r",
      " 69% (415 of 600) |###############       | Elapsed Time: 0:00:07 ETA:   0:00:03"
     ]
    },
    {
     "name": "stderr",
     "output_type": "stream",
     "text": [
      "\r",
      " 69% (418 of 600) |###############       | Elapsed Time: 0:00:07 ETA:   0:00:03"
     ]
    },
    {
     "name": "stderr",
     "output_type": "stream",
     "text": [
      "\r",
      " 70% (424 of 600) |###############       | Elapsed Time: 0:00:08 ETA:   0:00:03"
     ]
    },
    {
     "name": "stderr",
     "output_type": "stream",
     "text": [
      "\r",
      " 71% (430 of 600) |###############       | Elapsed Time: 0:00:08 ETA:   0:00:03"
     ]
    },
    {
     "name": "stderr",
     "output_type": "stream",
     "text": [
      "\r",
      " 72% (433 of 600) |###############       | Elapsed Time: 0:00:08 ETA:   0:00:03"
     ]
    },
    {
     "name": "stderr",
     "output_type": "stream",
     "text": [
      "\r",
      " 73% (439 of 600) |################      | Elapsed Time: 0:00:08 ETA:   0:00:03"
     ]
    },
    {
     "name": "stderr",
     "output_type": "stream",
     "text": [
      "\r",
      " 74% (445 of 600) |################      | Elapsed Time: 0:00:08 ETA:   0:00:02"
     ]
    },
    {
     "name": "stderr",
     "output_type": "stream",
     "text": [
      "\r",
      " 74% (449 of 600) |################      | Elapsed Time: 0:00:08 ETA:   0:00:02"
     ]
    },
    {
     "name": "stderr",
     "output_type": "stream",
     "text": [
      "\r",
      " 75% (455 of 600) |################      | Elapsed Time: 0:00:08 ETA:   0:00:02"
     ]
    },
    {
     "name": "stderr",
     "output_type": "stream",
     "text": [
      "\r",
      " 76% (461 of 600) |################      | Elapsed Time: 0:00:08 ETA:   0:00:02"
     ]
    },
    {
     "name": "stderr",
     "output_type": "stream",
     "text": [
      "\r",
      " 77% (464 of 600) |#################     | Elapsed Time: 0:00:08 ETA:   0:00:02"
     ]
    },
    {
     "name": "stderr",
     "output_type": "stream",
     "text": [
      "\r",
      " 78% (470 of 600) |#################     | Elapsed Time: 0:00:08 ETA:   0:00:02"
     ]
    },
    {
     "name": "stderr",
     "output_type": "stream",
     "text": [
      "\r",
      " 79% (476 of 600) |#################     | Elapsed Time: 0:00:09 ETA:   0:00:02"
     ]
    },
    {
     "name": "stderr",
     "output_type": "stream",
     "text": [
      "\r",
      " 79% (479 of 600) |#################     | Elapsed Time: 0:00:09 ETA:   0:00:02"
     ]
    },
    {
     "name": "stderr",
     "output_type": "stream",
     "text": [
      "\r",
      " 80% (485 of 600) |#################     | Elapsed Time: 0:00:09 ETA:   0:00:02"
     ]
    },
    {
     "name": "stderr",
     "output_type": "stream",
     "text": [
      "\r",
      " 81% (491 of 600) |##################    | Elapsed Time: 0:00:09 ETA:   0:00:02"
     ]
    },
    {
     "name": "stderr",
     "output_type": "stream",
     "text": [
      "\r",
      " 82% (494 of 600) |##################    | Elapsed Time: 0:00:09 ETA:   0:00:02"
     ]
    },
    {
     "name": "stderr",
     "output_type": "stream",
     "text": [
      "\r",
      " 83% (500 of 600) |##################    | Elapsed Time: 0:00:09 ETA:   0:00:01"
     ]
    },
    {
     "name": "stderr",
     "output_type": "stream",
     "text": [
      "\r",
      " 84% (506 of 600) |##################    | Elapsed Time: 0:00:09 ETA:   0:00:01"
     ]
    },
    {
     "name": "stderr",
     "output_type": "stream",
     "text": [
      "\r",
      " 84% (509 of 600) |##################    | Elapsed Time: 0:00:09 ETA:   0:00:01"
     ]
    },
    {
     "name": "stderr",
     "output_type": "stream",
     "text": [
      "\r",
      " 85% (515 of 600) |##################    | Elapsed Time: 0:00:09 ETA:   0:00:01"
     ]
    },
    {
     "name": "stderr",
     "output_type": "stream",
     "text": [
      "\r",
      " 86% (521 of 600) |###################   | Elapsed Time: 0:00:09 ETA:   0:00:01"
     ]
    },
    {
     "name": "stderr",
     "output_type": "stream",
     "text": [
      "\r",
      " 87% (525 of 600) |###################   | Elapsed Time: 0:00:10 ETA:   0:00:01"
     ]
    },
    {
     "name": "stderr",
     "output_type": "stream",
     "text": [
      "\r",
      " 88% (531 of 600) |###################   | Elapsed Time: 0:00:10 ETA:   0:00:01"
     ]
    },
    {
     "name": "stderr",
     "output_type": "stream",
     "text": [
      "\r",
      " 89% (537 of 600) |###################   | Elapsed Time: 0:00:10 ETA:   0:00:01"
     ]
    },
    {
     "name": "stderr",
     "output_type": "stream",
     "text": [
      "\r",
      " 90% (540 of 600) |###################   | Elapsed Time: 0:00:10 ETA:   0:00:01"
     ]
    },
    {
     "name": "stderr",
     "output_type": "stream",
     "text": [
      "\r",
      " 91% (546 of 600) |####################  | Elapsed Time: 0:00:10 ETA:   0:00:01"
     ]
    },
    {
     "name": "stderr",
     "output_type": "stream",
     "text": [
      "\r",
      " 92% (552 of 600) |####################  | Elapsed Time: 0:00:10 ETA:   0:00:00"
     ]
    },
    {
     "name": "stderr",
     "output_type": "stream",
     "text": [
      "\r",
      " 92% (555 of 600) |####################  | Elapsed Time: 0:00:10 ETA:   0:00:00"
     ]
    },
    {
     "name": "stderr",
     "output_type": "stream",
     "text": [
      "\r",
      " 93% (561 of 600) |####################  | Elapsed Time: 0:00:10 ETA:   0:00:00"
     ]
    },
    {
     "name": "stderr",
     "output_type": "stream",
     "text": [
      "\r",
      " 94% (567 of 600) |####################  | Elapsed Time: 0:00:10 ETA:   0:00:00"
     ]
    },
    {
     "name": "stderr",
     "output_type": "stream",
     "text": [
      "\r",
      " 95% (570 of 600) |####################  | Elapsed Time: 0:00:10 ETA:   0:00:00"
     ]
    },
    {
     "name": "stderr",
     "output_type": "stream",
     "text": [
      "\r",
      " 96% (576 of 600) |##################### | Elapsed Time: 0:00:10 ETA:   0:00:00"
     ]
    },
    {
     "name": "stderr",
     "output_type": "stream",
     "text": [
      "\r",
      " 97% (582 of 600) |##################### | Elapsed Time: 0:00:11 ETA:   0:00:00"
     ]
    },
    {
     "name": "stderr",
     "output_type": "stream",
     "text": [
      "\r",
      " 97% (585 of 600) |##################### | Elapsed Time: 0:00:11 ETA:   0:00:00"
     ]
    },
    {
     "name": "stderr",
     "output_type": "stream",
     "text": [
      "\r",
      " 98% (591 of 600) |##################### | Elapsed Time: 0:00:11 ETA:   0:00:00"
     ]
    },
    {
     "name": "stderr",
     "output_type": "stream",
     "text": [
      "\r",
      " 99% (597 of 600) |##################### | Elapsed Time: 0:00:11 ETA:   0:00:00"
     ]
    },
    {
     "name": "stderr",
     "output_type": "stream",
     "text": [
      "\r",
      "100% (600 of 600) |######################| Elapsed Time: 0:00:11 Time:  0:00:11"
     ]
    },
    {
     "name": "stderr",
     "output_type": "stream",
     "text": [
      "\n"
     ]
    },
    {
     "name": "stderr",
     "output_type": "stream",
     "text": [
      "\r",
      "N/A% (0 of 600) |                        | Elapsed Time: 0:00:00 ETA:  --:--:--"
     ]
    },
    {
     "name": "stderr",
     "output_type": "stream",
     "text": [
      "\r",
      "  1% (8 of 600) |                        | Elapsed Time: 0:00:00 ETA:  00:00:00"
     ]
    },
    {
     "name": "stderr",
     "output_type": "stream",
     "text": [
      "\r",
      "  2% (16 of 600) |                       | Elapsed Time: 0:00:00 ETA:   0:00:05"
     ]
    },
    {
     "name": "stdout",
     "output_type": "stream",
     "text": [
      " numpy        : 11.4520 \n"
     ]
    },
    {
     "name": "stderr",
     "output_type": "stream",
     "text": [
      "\r",
      "  3% (23 of 600) |                       | Elapsed Time: 0:00:00 ETA:   0:00:05"
     ]
    },
    {
     "name": "stderr",
     "output_type": "stream",
     "text": [
      "\r",
      "  5% (31 of 600) |#                      | Elapsed Time: 0:00:00 ETA:   0:00:04"
     ]
    },
    {
     "name": "stderr",
     "output_type": "stream",
     "text": [
      "\r",
      "  6% (38 of 600) |#                      | Elapsed Time: 0:00:00 ETA:   0:00:04"
     ]
    },
    {
     "name": "stderr",
     "output_type": "stream",
     "text": [
      "\r",
      "  7% (46 of 600) |#                      | Elapsed Time: 0:00:00 ETA:   0:00:05"
     ]
    },
    {
     "name": "stderr",
     "output_type": "stream",
     "text": [
      "\r",
      "  9% (54 of 600) |##                     | Elapsed Time: 0:00:00 ETA:   0:00:05"
     ]
    },
    {
     "name": "stderr",
     "output_type": "stream",
     "text": [
      "\r",
      " 10% (61 of 600) |##                     | Elapsed Time: 0:00:00 ETA:   0:00:04"
     ]
    },
    {
     "name": "stderr",
     "output_type": "stream",
     "text": [
      "\r",
      " 11% (69 of 600) |##                     | Elapsed Time: 0:00:00 ETA:   0:00:04"
     ]
    },
    {
     "name": "stderr",
     "output_type": "stream",
     "text": [
      "\r",
      " 12% (76 of 600) |##                     | Elapsed Time: 0:00:00 ETA:   0:00:04"
     ]
    },
    {
     "name": "stderr",
     "output_type": "stream",
     "text": [
      "\r",
      " 14% (84 of 600) |###                    | Elapsed Time: 0:00:00 ETA:   0:00:04"
     ]
    },
    {
     "name": "stderr",
     "output_type": "stream",
     "text": [
      "\r",
      " 15% (92 of 600) |###                    | Elapsed Time: 0:00:00 ETA:   0:00:04"
     ]
    },
    {
     "name": "stderr",
     "output_type": "stream",
     "text": [
      "\r",
      " 16% (99 of 600) |###                    | Elapsed Time: 0:00:00 ETA:   0:00:04"
     ]
    },
    {
     "name": "stderr",
     "output_type": "stream",
     "text": [
      "\r",
      " 17% (107 of 600) |###                   | Elapsed Time: 0:00:00 ETA:   0:00:04"
     ]
    },
    {
     "name": "stderr",
     "output_type": "stream",
     "text": [
      "\r",
      " 19% (114 of 600) |####                  | Elapsed Time: 0:00:00 ETA:   0:00:04"
     ]
    },
    {
     "name": "stderr",
     "output_type": "stream",
     "text": [
      "\r",
      " 20% (122 of 600) |####                  | Elapsed Time: 0:00:01 ETA:   0:00:04"
     ]
    },
    {
     "name": "stderr",
     "output_type": "stream",
     "text": [
      "\r",
      " 21% (130 of 600) |####                  | Elapsed Time: 0:00:01 ETA:   0:00:04"
     ]
    },
    {
     "name": "stderr",
     "output_type": "stream",
     "text": [
      "\r",
      " 22% (137 of 600) |#####                 | Elapsed Time: 0:00:01 ETA:   0:00:04"
     ]
    },
    {
     "name": "stderr",
     "output_type": "stream",
     "text": [
      "\r",
      " 24% (145 of 600) |#####                 | Elapsed Time: 0:00:01 ETA:   0:00:03"
     ]
    },
    {
     "name": "stderr",
     "output_type": "stream",
     "text": [
      "\r",
      " 25% (152 of 600) |#####                 | Elapsed Time: 0:00:01 ETA:   0:00:03"
     ]
    },
    {
     "name": "stderr",
     "output_type": "stream",
     "text": [
      "\r",
      " 26% (160 of 600) |#####                 | Elapsed Time: 0:00:01 ETA:   0:00:03"
     ]
    },
    {
     "name": "stderr",
     "output_type": "stream",
     "text": [
      "\r",
      " 28% (168 of 600) |######                | Elapsed Time: 0:00:01 ETA:   0:00:03"
     ]
    },
    {
     "name": "stderr",
     "output_type": "stream",
     "text": [
      "\r",
      " 29% (175 of 600) |######                | Elapsed Time: 0:00:01 ETA:   0:00:03"
     ]
    },
    {
     "name": "stderr",
     "output_type": "stream",
     "text": [
      "\r",
      " 30% (183 of 600) |######                | Elapsed Time: 0:00:01 ETA:   0:00:03"
     ]
    },
    {
     "name": "stderr",
     "output_type": "stream",
     "text": [
      "\r",
      " 31% (190 of 600) |######                | Elapsed Time: 0:00:01 ETA:   0:00:03"
     ]
    },
    {
     "name": "stderr",
     "output_type": "stream",
     "text": [
      "\r",
      " 33% (198 of 600) |#######               | Elapsed Time: 0:00:01 ETA:   0:00:03"
     ]
    },
    {
     "name": "stderr",
     "output_type": "stream",
     "text": [
      "\r",
      " 34% (206 of 600) |#######               | Elapsed Time: 0:00:01 ETA:   0:00:03"
     ]
    },
    {
     "name": "stderr",
     "output_type": "stream",
     "text": [
      "\r",
      " 35% (213 of 600) |#######               | Elapsed Time: 0:00:01 ETA:   0:00:03"
     ]
    },
    {
     "name": "stderr",
     "output_type": "stream",
     "text": [
      "\r",
      " 36% (221 of 600) |########              | Elapsed Time: 0:00:01 ETA:   0:00:03"
     ]
    },
    {
     "name": "stderr",
     "output_type": "stream",
     "text": [
      "\r",
      " 38% (228 of 600) |########              | Elapsed Time: 0:00:01 ETA:   0:00:03"
     ]
    },
    {
     "name": "stderr",
     "output_type": "stream",
     "text": [
      "\r",
      " 39% (236 of 600) |########              | Elapsed Time: 0:00:02 ETA:   0:00:03"
     ]
    },
    {
     "name": "stderr",
     "output_type": "stream",
     "text": [
      "\r",
      " 40% (244 of 600) |########              | Elapsed Time: 0:00:02 ETA:   0:00:03"
     ]
    },
    {
     "name": "stderr",
     "output_type": "stream",
     "text": [
      "\r",
      " 41% (251 of 600) |#########             | Elapsed Time: 0:00:02 ETA:   0:00:02"
     ]
    },
    {
     "name": "stderr",
     "output_type": "stream",
     "text": [
      "\r",
      " 43% (259 of 600) |#########             | Elapsed Time: 0:00:02 ETA:   0:00:02"
     ]
    },
    {
     "name": "stderr",
     "output_type": "stream",
     "text": [
      "\r",
      " 44% (266 of 600) |#########             | Elapsed Time: 0:00:02 ETA:   0:00:02"
     ]
    },
    {
     "name": "stderr",
     "output_type": "stream",
     "text": [
      "\r",
      " 45% (274 of 600) |##########            | Elapsed Time: 0:00:02 ETA:   0:00:02"
     ]
    },
    {
     "name": "stderr",
     "output_type": "stream",
     "text": [
      "\r",
      " 47% (282 of 600) |##########            | Elapsed Time: 0:00:02 ETA:   0:00:02"
     ]
    },
    {
     "name": "stderr",
     "output_type": "stream",
     "text": [
      "\r",
      " 48% (289 of 600) |##########            | Elapsed Time: 0:00:02 ETA:   0:00:02"
     ]
    },
    {
     "name": "stderr",
     "output_type": "stream",
     "text": [
      "\r",
      " 49% (297 of 600) |##########            | Elapsed Time: 0:00:02 ETA:   0:00:02"
     ]
    },
    {
     "name": "stderr",
     "output_type": "stream",
     "text": [
      "\r",
      " 50% (304 of 600) |###########           | Elapsed Time: 0:00:02 ETA:   0:00:02"
     ]
    },
    {
     "name": "stderr",
     "output_type": "stream",
     "text": [
      "\r",
      " 52% (312 of 600) |###########           | Elapsed Time: 0:00:02 ETA:   0:00:02"
     ]
    },
    {
     "name": "stderr",
     "output_type": "stream",
     "text": [
      "\r",
      " 53% (319 of 600) |###########           | Elapsed Time: 0:00:02 ETA:   0:00:02"
     ]
    },
    {
     "name": "stderr",
     "output_type": "stream",
     "text": [
      "\r",
      " 54% (327 of 600) |###########           | Elapsed Time: 0:00:02 ETA:   0:00:02"
     ]
    },
    {
     "name": "stderr",
     "output_type": "stream",
     "text": [
      "\r",
      " 55% (335 of 600) |############          | Elapsed Time: 0:00:02 ETA:   0:00:02"
     ]
    },
    {
     "name": "stderr",
     "output_type": "stream",
     "text": [
      "\r",
      " 57% (342 of 600) |############          | Elapsed Time: 0:00:02 ETA:   0:00:02"
     ]
    },
    {
     "name": "stderr",
     "output_type": "stream",
     "text": [
      "\r",
      " 58% (350 of 600) |############          | Elapsed Time: 0:00:03 ETA:   0:00:02"
     ]
    },
    {
     "name": "stderr",
     "output_type": "stream",
     "text": [
      "\r",
      " 59% (357 of 600) |#############         | Elapsed Time: 0:00:03 ETA:   0:00:02"
     ]
    },
    {
     "name": "stderr",
     "output_type": "stream",
     "text": [
      "\r",
      " 60% (365 of 600) |#############         | Elapsed Time: 0:00:03 ETA:   0:00:02"
     ]
    },
    {
     "name": "stderr",
     "output_type": "stream",
     "text": [
      "\r",
      " 62% (373 of 600) |#############         | Elapsed Time: 0:00:03 ETA:   0:00:01"
     ]
    },
    {
     "name": "stderr",
     "output_type": "stream",
     "text": [
      "\r",
      " 63% (380 of 600) |#############         | Elapsed Time: 0:00:03 ETA:   0:00:01"
     ]
    },
    {
     "name": "stderr",
     "output_type": "stream",
     "text": [
      "\r",
      " 64% (388 of 600) |##############        | Elapsed Time: 0:00:03 ETA:   0:00:01"
     ]
    },
    {
     "name": "stderr",
     "output_type": "stream",
     "text": [
      "\r",
      " 65% (395 of 600) |##############        | Elapsed Time: 0:00:03 ETA:   0:00:01"
     ]
    },
    {
     "name": "stderr",
     "output_type": "stream",
     "text": [
      "\r",
      " 67% (403 of 600) |##############        | Elapsed Time: 0:00:03 ETA:   0:00:01"
     ]
    },
    {
     "name": "stderr",
     "output_type": "stream",
     "text": [
      "\r",
      " 68% (411 of 600) |###############       | Elapsed Time: 0:00:03 ETA:   0:00:01"
     ]
    },
    {
     "name": "stderr",
     "output_type": "stream",
     "text": [
      "\r",
      " 69% (418 of 600) |###############       | Elapsed Time: 0:00:03 ETA:   0:00:01"
     ]
    },
    {
     "name": "stderr",
     "output_type": "stream",
     "text": [
      "\r",
      " 71% (426 of 600) |###############       | Elapsed Time: 0:00:03 ETA:   0:00:01"
     ]
    },
    {
     "name": "stderr",
     "output_type": "stream",
     "text": [
      "\r",
      " 72% (433 of 600) |###############       | Elapsed Time: 0:00:03 ETA:   0:00:01"
     ]
    },
    {
     "name": "stderr",
     "output_type": "stream",
     "text": [
      "\r",
      " 73% (441 of 600) |################      | Elapsed Time: 0:00:03 ETA:   0:00:01"
     ]
    },
    {
     "name": "stderr",
     "output_type": "stream",
     "text": [
      "\r",
      " 74% (449 of 600) |################      | Elapsed Time: 0:00:03 ETA:   0:00:01"
     ]
    },
    {
     "name": "stderr",
     "output_type": "stream",
     "text": [
      "\r",
      " 76% (456 of 600) |################      | Elapsed Time: 0:00:03 ETA:   0:00:01"
     ]
    },
    {
     "name": "stderr",
     "output_type": "stream",
     "text": [
      "\r",
      " 77% (464 of 600) |#################     | Elapsed Time: 0:00:03 ETA:   0:00:01"
     ]
    },
    {
     "name": "stderr",
     "output_type": "stream",
     "text": [
      "\r",
      " 78% (471 of 600) |#################     | Elapsed Time: 0:00:04 ETA:   0:00:01"
     ]
    },
    {
     "name": "stderr",
     "output_type": "stream",
     "text": [
      "\r",
      " 79% (479 of 600) |#################     | Elapsed Time: 0:00:04 ETA:   0:00:01"
     ]
    },
    {
     "name": "stderr",
     "output_type": "stream",
     "text": [
      "\r",
      " 81% (487 of 600) |#################     | Elapsed Time: 0:00:04 ETA:   0:00:00"
     ]
    },
    {
     "name": "stderr",
     "output_type": "stream",
     "text": [
      "\r",
      " 82% (494 of 600) |##################    | Elapsed Time: 0:00:04 ETA:   0:00:00"
     ]
    },
    {
     "name": "stderr",
     "output_type": "stream",
     "text": [
      "\r",
      " 83% (502 of 600) |##################    | Elapsed Time: 0:00:04 ETA:   0:00:00"
     ]
    },
    {
     "name": "stderr",
     "output_type": "stream",
     "text": [
      "\r",
      " 84% (509 of 600) |##################    | Elapsed Time: 0:00:04 ETA:   0:00:00"
     ]
    },
    {
     "name": "stderr",
     "output_type": "stream",
     "text": [
      "\r",
      " 86% (517 of 600) |##################    | Elapsed Time: 0:00:04 ETA:   0:00:00"
     ]
    },
    {
     "name": "stderr",
     "output_type": "stream",
     "text": [
      "\r",
      " 87% (525 of 600) |###################   | Elapsed Time: 0:00:04 ETA:   0:00:00"
     ]
    },
    {
     "name": "stderr",
     "output_type": "stream",
     "text": [
      "\r",
      " 88% (532 of 600) |###################   | Elapsed Time: 0:00:04 ETA:   0:00:00"
     ]
    },
    {
     "name": "stderr",
     "output_type": "stream",
     "text": [
      "\r",
      " 90% (540 of 600) |###################   | Elapsed Time: 0:00:04 ETA:   0:00:00"
     ]
    },
    {
     "name": "stderr",
     "output_type": "stream",
     "text": [
      "\r",
      " 91% (547 of 600) |####################  | Elapsed Time: 0:00:04 ETA:   0:00:00"
     ]
    },
    {
     "name": "stderr",
     "output_type": "stream",
     "text": [
      "\r",
      " 92% (555 of 600) |####################  | Elapsed Time: 0:00:04 ETA:   0:00:00"
     ]
    },
    {
     "name": "stderr",
     "output_type": "stream",
     "text": [
      "\r",
      " 93% (563 of 600) |####################  | Elapsed Time: 0:00:04 ETA:   0:00:00"
     ]
    },
    {
     "name": "stderr",
     "output_type": "stream",
     "text": [
      "\r",
      " 95% (570 of 600) |####################  | Elapsed Time: 0:00:04 ETA:   0:00:00"
     ]
    },
    {
     "name": "stderr",
     "output_type": "stream",
     "text": [
      "\r",
      " 96% (578 of 600) |##################### | Elapsed Time: 0:00:04 ETA:   0:00:00"
     ]
    },
    {
     "name": "stderr",
     "output_type": "stream",
     "text": [
      "\r",
      " 97% (585 of 600) |##################### | Elapsed Time: 0:00:05 ETA:   0:00:00"
     ]
    },
    {
     "name": "stderr",
     "output_type": "stream",
     "text": [
      "\r",
      " 98% (593 of 600) |##################### | Elapsed Time: 0:00:05 ETA:   0:00:00"
     ]
    },
    {
     "name": "stderr",
     "output_type": "stream",
     "text": [
      "\r",
      "100% (600 of 600) |######################| Elapsed Time: 0:00:05 Time:  0:00:05"
     ]
    },
    {
     "name": "stderr",
     "output_type": "stream",
     "text": [
      "\n"
     ]
    },
    {
     "name": "stderr",
     "output_type": "stream",
     "text": [
      "\r",
      "N/A% (0 of 600) |                        | Elapsed Time: 0:00:00 ETA:  --:--:--"
     ]
    },
    {
     "name": "stderr",
     "output_type": "stream",
     "text": [
      "\r",
      "  1% (8 of 600) |                        | Elapsed Time: 0:00:00 ETA:  00:00:00"
     ]
    },
    {
     "name": "stderr",
     "output_type": "stream",
     "text": [
      "\r",
      "  2% (16 of 600) |                       | Elapsed Time: 0:00:00 ETA:   0:00:05"
     ]
    },
    {
     "name": "stdout",
     "output_type": "stream",
     "text": [
      " fortran      : 5.1410 \n"
     ]
    },
    {
     "name": "stderr",
     "output_type": "stream",
     "text": [
      "\r",
      "  3% (23 of 600) |                       | Elapsed Time: 0:00:00 ETA:   0:00:05"
     ]
    },
    {
     "name": "stderr",
     "output_type": "stream",
     "text": [
      "\r",
      "  5% (31 of 600) |#                      | Elapsed Time: 0:00:00 ETA:   0:00:04"
     ]
    },
    {
     "name": "stderr",
     "output_type": "stream",
     "text": [
      "\r",
      "  6% (38 of 600) |#                      | Elapsed Time: 0:00:00 ETA:   0:00:04"
     ]
    },
    {
     "name": "stderr",
     "output_type": "stream",
     "text": [
      "\r",
      "  7% (46 of 600) |#                      | Elapsed Time: 0:00:00 ETA:   0:00:04"
     ]
    },
    {
     "name": "stderr",
     "output_type": "stream",
     "text": [
      "\r",
      "  9% (54 of 600) |##                     | Elapsed Time: 0:00:00 ETA:   0:00:04"
     ]
    },
    {
     "name": "stderr",
     "output_type": "stream",
     "text": [
      "\r",
      " 10% (61 of 600) |##                     | Elapsed Time: 0:00:00 ETA:   0:00:04"
     ]
    },
    {
     "name": "stderr",
     "output_type": "stream",
     "text": [
      "\r",
      " 11% (69 of 600) |##                     | Elapsed Time: 0:00:00 ETA:   0:00:04"
     ]
    },
    {
     "name": "stderr",
     "output_type": "stream",
     "text": [
      "\r",
      " 12% (76 of 600) |##                     | Elapsed Time: 0:00:00 ETA:   0:00:04"
     ]
    },
    {
     "name": "stderr",
     "output_type": "stream",
     "text": [
      "\r",
      " 14% (84 of 600) |###                    | Elapsed Time: 0:00:00 ETA:   0:00:04"
     ]
    },
    {
     "name": "stderr",
     "output_type": "stream",
     "text": [
      "\r",
      " 15% (92 of 600) |###                    | Elapsed Time: 0:00:00 ETA:   0:00:04"
     ]
    },
    {
     "name": "stderr",
     "output_type": "stream",
     "text": [
      "\r",
      " 16% (99 of 600) |###                    | Elapsed Time: 0:00:00 ETA:   0:00:04"
     ]
    },
    {
     "name": "stderr",
     "output_type": "stream",
     "text": [
      "\r",
      " 17% (107 of 600) |###                   | Elapsed Time: 0:00:00 ETA:   0:00:04"
     ]
    },
    {
     "name": "stderr",
     "output_type": "stream",
     "text": [
      "\r",
      " 19% (114 of 600) |####                  | Elapsed Time: 0:00:00 ETA:   0:00:04"
     ]
    },
    {
     "name": "stderr",
     "output_type": "stream",
     "text": [
      "\r",
      " 20% (122 of 600) |####                  | Elapsed Time: 0:00:01 ETA:   0:00:04"
     ]
    },
    {
     "name": "stderr",
     "output_type": "stream",
     "text": [
      "\r",
      " 21% (130 of 600) |####                  | Elapsed Time: 0:00:01 ETA:   0:00:04"
     ]
    },
    {
     "name": "stderr",
     "output_type": "stream",
     "text": [
      "\r",
      " 22% (137 of 600) |#####                 | Elapsed Time: 0:00:01 ETA:   0:00:04"
     ]
    },
    {
     "name": "stderr",
     "output_type": "stream",
     "text": [
      "\r",
      " 24% (145 of 600) |#####                 | Elapsed Time: 0:00:01 ETA:   0:00:03"
     ]
    },
    {
     "name": "stderr",
     "output_type": "stream",
     "text": [
      "\r",
      " 25% (152 of 600) |#####                 | Elapsed Time: 0:00:01 ETA:   0:00:03"
     ]
    },
    {
     "name": "stderr",
     "output_type": "stream",
     "text": [
      "\r",
      " 26% (160 of 600) |#####                 | Elapsed Time: 0:00:01 ETA:   0:00:03"
     ]
    },
    {
     "name": "stderr",
     "output_type": "stream",
     "text": [
      "\r",
      " 28% (168 of 600) |######                | Elapsed Time: 0:00:01 ETA:   0:00:03"
     ]
    },
    {
     "name": "stderr",
     "output_type": "stream",
     "text": [
      "\r",
      " 29% (175 of 600) |######                | Elapsed Time: 0:00:01 ETA:   0:00:03"
     ]
    },
    {
     "name": "stderr",
     "output_type": "stream",
     "text": [
      "\r",
      " 30% (183 of 600) |######                | Elapsed Time: 0:00:01 ETA:   0:00:03"
     ]
    },
    {
     "name": "stderr",
     "output_type": "stream",
     "text": [
      "\r",
      " 31% (190 of 600) |######                | Elapsed Time: 0:00:01 ETA:   0:00:03"
     ]
    },
    {
     "name": "stderr",
     "output_type": "stream",
     "text": [
      "\r",
      " 33% (198 of 600) |#######               | Elapsed Time: 0:00:01 ETA:   0:00:03"
     ]
    },
    {
     "name": "stderr",
     "output_type": "stream",
     "text": [
      "\r",
      " 34% (206 of 600) |#######               | Elapsed Time: 0:00:01 ETA:   0:00:03"
     ]
    },
    {
     "name": "stderr",
     "output_type": "stream",
     "text": [
      "\r",
      " 35% (213 of 600) |#######               | Elapsed Time: 0:00:01 ETA:   0:00:03"
     ]
    },
    {
     "name": "stderr",
     "output_type": "stream",
     "text": [
      "\r",
      " 36% (221 of 600) |########              | Elapsed Time: 0:00:01 ETA:   0:00:03"
     ]
    },
    {
     "name": "stderr",
     "output_type": "stream",
     "text": [
      "\r",
      " 38% (228 of 600) |########              | Elapsed Time: 0:00:01 ETA:   0:00:03"
     ]
    },
    {
     "name": "stderr",
     "output_type": "stream",
     "text": [
      "\r",
      " 39% (236 of 600) |########              | Elapsed Time: 0:00:02 ETA:   0:00:03"
     ]
    },
    {
     "name": "stderr",
     "output_type": "stream",
     "text": [
      "\r",
      " 40% (244 of 600) |########              | Elapsed Time: 0:00:02 ETA:   0:00:03"
     ]
    },
    {
     "name": "stderr",
     "output_type": "stream",
     "text": [
      "\r",
      " 41% (251 of 600) |#########             | Elapsed Time: 0:00:02 ETA:   0:00:03"
     ]
    },
    {
     "name": "stderr",
     "output_type": "stream",
     "text": [
      "\r",
      " 43% (259 of 600) |#########             | Elapsed Time: 0:00:02 ETA:   0:00:02"
     ]
    },
    {
     "name": "stderr",
     "output_type": "stream",
     "text": [
      "\r",
      " 44% (266 of 600) |#########             | Elapsed Time: 0:00:02 ETA:   0:00:02"
     ]
    },
    {
     "name": "stderr",
     "output_type": "stream",
     "text": [
      "\r",
      " 45% (274 of 600) |##########            | Elapsed Time: 0:00:02 ETA:   0:00:02"
     ]
    },
    {
     "name": "stderr",
     "output_type": "stream",
     "text": [
      "\r",
      " 47% (282 of 600) |##########            | Elapsed Time: 0:00:02 ETA:   0:00:02"
     ]
    },
    {
     "name": "stderr",
     "output_type": "stream",
     "text": [
      "\r",
      " 48% (289 of 600) |##########            | Elapsed Time: 0:00:02 ETA:   0:00:02"
     ]
    },
    {
     "name": "stderr",
     "output_type": "stream",
     "text": [
      "\r",
      " 49% (297 of 600) |##########            | Elapsed Time: 0:00:02 ETA:   0:00:02"
     ]
    },
    {
     "name": "stderr",
     "output_type": "stream",
     "text": [
      "\r",
      " 50% (304 of 600) |###########           | Elapsed Time: 0:00:02 ETA:   0:00:02"
     ]
    },
    {
     "name": "stderr",
     "output_type": "stream",
     "text": [
      "\r",
      " 52% (312 of 600) |###########           | Elapsed Time: 0:00:02 ETA:   0:00:02"
     ]
    },
    {
     "name": "stderr",
     "output_type": "stream",
     "text": [
      "\r",
      " 53% (319 of 600) |###########           | Elapsed Time: 0:00:02 ETA:   0:00:02"
     ]
    },
    {
     "name": "stderr",
     "output_type": "stream",
     "text": [
      "\r",
      " 54% (327 of 600) |###########           | Elapsed Time: 0:00:02 ETA:   0:00:02"
     ]
    },
    {
     "name": "stderr",
     "output_type": "stream",
     "text": [
      "\r",
      " 55% (335 of 600) |############          | Elapsed Time: 0:00:02 ETA:   0:00:02"
     ]
    },
    {
     "name": "stderr",
     "output_type": "stream",
     "text": [
      "\r",
      " 57% (342 of 600) |############          | Elapsed Time: 0:00:02 ETA:   0:00:02"
     ]
    },
    {
     "name": "stderr",
     "output_type": "stream",
     "text": [
      "\r",
      " 58% (350 of 600) |############          | Elapsed Time: 0:00:03 ETA:   0:00:02"
     ]
    },
    {
     "name": "stderr",
     "output_type": "stream",
     "text": [
      "\r",
      " 59% (357 of 600) |#############         | Elapsed Time: 0:00:03 ETA:   0:00:02"
     ]
    },
    {
     "name": "stderr",
     "output_type": "stream",
     "text": [
      "\r",
      " 60% (365 of 600) |#############         | Elapsed Time: 0:00:03 ETA:   0:00:02"
     ]
    },
    {
     "name": "stderr",
     "output_type": "stream",
     "text": [
      "\r",
      " 62% (373 of 600) |#############         | Elapsed Time: 0:00:03 ETA:   0:00:01"
     ]
    },
    {
     "name": "stderr",
     "output_type": "stream",
     "text": [
      "\r",
      " 63% (380 of 600) |#############         | Elapsed Time: 0:00:03 ETA:   0:00:01"
     ]
    },
    {
     "name": "stderr",
     "output_type": "stream",
     "text": [
      "\r",
      " 64% (388 of 600) |##############        | Elapsed Time: 0:00:03 ETA:   0:00:01"
     ]
    },
    {
     "name": "stderr",
     "output_type": "stream",
     "text": [
      "\r",
      " 65% (395 of 600) |##############        | Elapsed Time: 0:00:03 ETA:   0:00:01"
     ]
    },
    {
     "name": "stderr",
     "output_type": "stream",
     "text": [
      "\r",
      " 67% (403 of 600) |##############        | Elapsed Time: 0:00:03 ETA:   0:00:01"
     ]
    },
    {
     "name": "stderr",
     "output_type": "stream",
     "text": [
      "\r",
      " 68% (411 of 600) |###############       | Elapsed Time: 0:00:03 ETA:   0:00:01"
     ]
    },
    {
     "name": "stderr",
     "output_type": "stream",
     "text": [
      "\r",
      " 69% (418 of 600) |###############       | Elapsed Time: 0:00:03 ETA:   0:00:01"
     ]
    },
    {
     "name": "stderr",
     "output_type": "stream",
     "text": [
      "\r",
      " 71% (426 of 600) |###############       | Elapsed Time: 0:00:03 ETA:   0:00:01"
     ]
    },
    {
     "name": "stderr",
     "output_type": "stream",
     "text": [
      "\r",
      " 72% (433 of 600) |###############       | Elapsed Time: 0:00:03 ETA:   0:00:01"
     ]
    },
    {
     "name": "stderr",
     "output_type": "stream",
     "text": [
      "\r",
      " 73% (441 of 600) |################      | Elapsed Time: 0:00:03 ETA:   0:00:01"
     ]
    },
    {
     "name": "stderr",
     "output_type": "stream",
     "text": [
      "\r",
      " 74% (449 of 600) |################      | Elapsed Time: 0:00:03 ETA:   0:00:01"
     ]
    },
    {
     "name": "stderr",
     "output_type": "stream",
     "text": [
      "\r",
      " 76% (456 of 600) |################      | Elapsed Time: 0:00:03 ETA:   0:00:01"
     ]
    },
    {
     "name": "stderr",
     "output_type": "stream",
     "text": [
      "\r",
      " 77% (464 of 600) |#################     | Elapsed Time: 0:00:04 ETA:   0:00:01"
     ]
    },
    {
     "name": "stderr",
     "output_type": "stream",
     "text": [
      "\r",
      " 78% (471 of 600) |#################     | Elapsed Time: 0:00:04 ETA:   0:00:01"
     ]
    },
    {
     "name": "stderr",
     "output_type": "stream",
     "text": [
      "\r",
      " 79% (479 of 600) |#################     | Elapsed Time: 0:00:04 ETA:   0:00:01"
     ]
    },
    {
     "name": "stderr",
     "output_type": "stream",
     "text": [
      "\r",
      " 81% (487 of 600) |#################     | Elapsed Time: 0:00:04 ETA:   0:00:00"
     ]
    },
    {
     "name": "stderr",
     "output_type": "stream",
     "text": [
      "\r",
      " 82% (494 of 600) |##################    | Elapsed Time: 0:00:04 ETA:   0:00:00"
     ]
    },
    {
     "name": "stderr",
     "output_type": "stream",
     "text": [
      "\r",
      " 83% (502 of 600) |##################    | Elapsed Time: 0:00:04 ETA:   0:00:00"
     ]
    },
    {
     "name": "stderr",
     "output_type": "stream",
     "text": [
      "\r",
      " 84% (509 of 600) |##################    | Elapsed Time: 0:00:04 ETA:   0:00:00"
     ]
    },
    {
     "name": "stderr",
     "output_type": "stream",
     "text": [
      "\r",
      " 86% (517 of 600) |##################    | Elapsed Time: 0:00:04 ETA:   0:00:00"
     ]
    },
    {
     "name": "stderr",
     "output_type": "stream",
     "text": [
      "\r",
      " 87% (525 of 600) |###################   | Elapsed Time: 0:00:04 ETA:   0:00:00"
     ]
    },
    {
     "name": "stderr",
     "output_type": "stream",
     "text": [
      "\r",
      " 88% (532 of 600) |###################   | Elapsed Time: 0:00:04 ETA:   0:00:00"
     ]
    },
    {
     "name": "stderr",
     "output_type": "stream",
     "text": [
      "\r",
      " 90% (540 of 600) |###################   | Elapsed Time: 0:00:04 ETA:   0:00:00"
     ]
    },
    {
     "name": "stderr",
     "output_type": "stream",
     "text": [
      "\r",
      " 91% (547 of 600) |####################  | Elapsed Time: 0:00:04 ETA:   0:00:00"
     ]
    },
    {
     "name": "stderr",
     "output_type": "stream",
     "text": [
      "\r",
      " 92% (555 of 600) |####################  | Elapsed Time: 0:00:04 ETA:   0:00:00"
     ]
    },
    {
     "name": "stderr",
     "output_type": "stream",
     "text": [
      "\r",
      " 93% (563 of 600) |####################  | Elapsed Time: 0:00:04 ETA:   0:00:00"
     ]
    },
    {
     "name": "stderr",
     "output_type": "stream",
     "text": [
      "\r",
      " 95% (570 of 600) |####################  | Elapsed Time: 0:00:04 ETA:   0:00:00"
     ]
    },
    {
     "name": "stderr",
     "output_type": "stream",
     "text": [
      "\r",
      " 96% (578 of 600) |##################### | Elapsed Time: 0:00:05 ETA:   0:00:00"
     ]
    },
    {
     "name": "stderr",
     "output_type": "stream",
     "text": [
      "\r",
      " 97% (585 of 600) |##################### | Elapsed Time: 0:00:05 ETA:   0:00:00"
     ]
    },
    {
     "name": "stderr",
     "output_type": "stream",
     "text": [
      "\r",
      " 98% (593 of 600) |##################### | Elapsed Time: 0:00:05 ETA:   0:00:00"
     ]
    },
    {
     "name": "stderr",
     "output_type": "stream",
     "text": [
      "\r",
      "100% (600 of 600) |######################| Elapsed Time: 0:00:05 Time:  0:00:05"
     ]
    },
    {
     "name": "stderr",
     "output_type": "stream",
     "text": [
      "\n"
     ]
    },
    {
     "name": "stderr",
     "output_type": "stream",
     "text": [
      "\r",
      "N/A% (0 of 600) |                        | Elapsed Time: 0:00:00 ETA:  --:--:--"
     ]
    },
    {
     "name": "stderr",
     "output_type": "stream",
     "text": [
      "\r",
      "  1% (8 of 600) |                        | Elapsed Time: 0:00:00 ETA:  00:00:00"
     ]
    },
    {
     "name": "stderr",
     "output_type": "stream",
     "text": [
      "\r",
      "  2% (16 of 600) |                       | Elapsed Time: 0:00:00 ETA:   0:00:03"
     ]
    },
    {
     "name": "stdout",
     "output_type": "stream",
     "text": [
      " numba        : 5.2862 \n"
     ]
    },
    {
     "name": "stderr",
     "output_type": "stream",
     "text": [
      "\r",
      "  5% (31 of 600) |#                      | Elapsed Time: 0:00:00 ETA:   0:00:03"
     ]
    },
    {
     "name": "stderr",
     "output_type": "stream",
     "text": [
      "\r",
      "  7% (46 of 600) |#                      | Elapsed Time: 0:00:00 ETA:   0:00:03"
     ]
    },
    {
     "name": "stderr",
     "output_type": "stream",
     "text": [
      "\r",
      "  9% (54 of 600) |##                     | Elapsed Time: 0:00:00 ETA:   0:00:03"
     ]
    },
    {
     "name": "stderr",
     "output_type": "stream",
     "text": [
      "\r",
      " 11% (69 of 600) |##                     | Elapsed Time: 0:00:00 ETA:   0:00:03"
     ]
    },
    {
     "name": "stderr",
     "output_type": "stream",
     "text": [
      "\r",
      " 14% (84 of 600) |###                    | Elapsed Time: 0:00:00 ETA:   0:00:03"
     ]
    },
    {
     "name": "stderr",
     "output_type": "stream",
     "text": [
      "\r",
      " 15% (92 of 600) |###                    | Elapsed Time: 0:00:00 ETA:   0:00:03"
     ]
    },
    {
     "name": "stderr",
     "output_type": "stream",
     "text": [
      "\r",
      " 17% (107 of 600) |###                   | Elapsed Time: 0:00:00 ETA:   0:00:03"
     ]
    },
    {
     "name": "stderr",
     "output_type": "stream",
     "text": [
      "\r",
      " 20% (122 of 600) |####                  | Elapsed Time: 0:00:00 ETA:   0:00:03"
     ]
    },
    {
     "name": "stderr",
     "output_type": "stream",
     "text": [
      "\r",
      " 21% (130 of 600) |####                  | Elapsed Time: 0:00:00 ETA:   0:00:03"
     ]
    },
    {
     "name": "stderr",
     "output_type": "stream",
     "text": [
      "\r",
      " 24% (145 of 600) |#####                 | Elapsed Time: 0:00:00 ETA:   0:00:02"
     ]
    },
    {
     "name": "stderr",
     "output_type": "stream",
     "text": [
      "\r",
      " 26% (160 of 600) |#####                 | Elapsed Time: 0:00:01 ETA:   0:00:02"
     ]
    },
    {
     "name": "stderr",
     "output_type": "stream",
     "text": [
      "\r",
      " 29% (175 of 600) |######                | Elapsed Time: 0:00:01 ETA:   0:00:02"
     ]
    },
    {
     "name": "stderr",
     "output_type": "stream",
     "text": [
      "\r",
      " 31% (190 of 600) |######                | Elapsed Time: 0:00:01 ETA:   0:00:02"
     ]
    },
    {
     "name": "stderr",
     "output_type": "stream",
     "text": [
      "\r",
      " 33% (198 of 600) |#######               | Elapsed Time: 0:00:01 ETA:   0:00:02"
     ]
    },
    {
     "name": "stderr",
     "output_type": "stream",
     "text": [
      "\r",
      " 35% (213 of 600) |#######               | Elapsed Time: 0:00:01 ETA:   0:00:02"
     ]
    },
    {
     "name": "stderr",
     "output_type": "stream",
     "text": [
      "\r",
      " 36% (221 of 600) |########              | Elapsed Time: 0:00:01 ETA:   0:00:02"
     ]
    },
    {
     "name": "stderr",
     "output_type": "stream",
     "text": [
      "\r",
      " 39% (236 of 600) |########              | Elapsed Time: 0:00:01 ETA:   0:00:02"
     ]
    },
    {
     "name": "stderr",
     "output_type": "stream",
     "text": [
      "\r",
      " 40% (244 of 600) |########              | Elapsed Time: 0:00:01 ETA:   0:00:02"
     ]
    },
    {
     "name": "stderr",
     "output_type": "stream",
     "text": [
      "\r",
      " 43% (259 of 600) |#########             | Elapsed Time: 0:00:01 ETA:   0:00:02"
     ]
    },
    {
     "name": "stderr",
     "output_type": "stream",
     "text": [
      "\r",
      " 45% (274 of 600) |##########            | Elapsed Time: 0:00:01 ETA:   0:00:02"
     ]
    },
    {
     "name": "stderr",
     "output_type": "stream",
     "text": [
      "\r",
      " 48% (289 of 600) |##########            | Elapsed Time: 0:00:01 ETA:   0:00:01"
     ]
    },
    {
     "name": "stderr",
     "output_type": "stream",
     "text": [
      "\r",
      " 50% (304 of 600) |###########           | Elapsed Time: 0:00:01 ETA:   0:00:01"
     ]
    },
    {
     "name": "stderr",
     "output_type": "stream",
     "text": [
      "\r",
      " 53% (319 of 600) |###########           | Elapsed Time: 0:00:02 ETA:   0:00:01"
     ]
    },
    {
     "name": "stderr",
     "output_type": "stream",
     "text": [
      "\r",
      " 54% (327 of 600) |###########           | Elapsed Time: 0:00:02 ETA:   0:00:01"
     ]
    },
    {
     "name": "stderr",
     "output_type": "stream",
     "text": [
      "\r",
      " 57% (342 of 600) |############          | Elapsed Time: 0:00:02 ETA:   0:00:01"
     ]
    },
    {
     "name": "stderr",
     "output_type": "stream",
     "text": [
      "\r",
      " 59% (357 of 600) |#############         | Elapsed Time: 0:00:02 ETA:   0:00:01"
     ]
    },
    {
     "name": "stderr",
     "output_type": "stream",
     "text": [
      "\r",
      " 62% (373 of 600) |#############         | Elapsed Time: 0:00:02 ETA:   0:00:01"
     ]
    },
    {
     "name": "stderr",
     "output_type": "stream",
     "text": [
      "\r",
      " 64% (388 of 600) |##############        | Elapsed Time: 0:00:02 ETA:   0:00:01"
     ]
    },
    {
     "name": "stderr",
     "output_type": "stream",
     "text": [
      "\r",
      " 67% (403 of 600) |##############        | Elapsed Time: 0:00:02 ETA:   0:00:01"
     ]
    },
    {
     "name": "stderr",
     "output_type": "stream",
     "text": [
      "\r",
      " 68% (411 of 600) |###############       | Elapsed Time: 0:00:02 ETA:   0:00:01"
     ]
    },
    {
     "name": "stderr",
     "output_type": "stream",
     "text": [
      "\r",
      " 71% (426 of 600) |###############       | Elapsed Time: 0:00:02 ETA:   0:00:01"
     ]
    },
    {
     "name": "stderr",
     "output_type": "stream",
     "text": [
      "\r",
      " 73% (441 of 600) |################      | Elapsed Time: 0:00:02 ETA:   0:00:00"
     ]
    },
    {
     "name": "stderr",
     "output_type": "stream",
     "text": [
      "\r",
      " 74% (449 of 600) |################      | Elapsed Time: 0:00:02 ETA:   0:00:00"
     ]
    },
    {
     "name": "stderr",
     "output_type": "stream",
     "text": [
      "\r",
      " 77% (464 of 600) |#################     | Elapsed Time: 0:00:02 ETA:   0:00:00"
     ]
    },
    {
     "name": "stderr",
     "output_type": "stream",
     "text": [
      "\r",
      " 79% (479 of 600) |#################     | Elapsed Time: 0:00:03 ETA:   0:00:00"
     ]
    },
    {
     "name": "stderr",
     "output_type": "stream",
     "text": [
      "\r",
      " 81% (487 of 600) |#################     | Elapsed Time: 0:00:03 ETA:   0:00:00"
     ]
    },
    {
     "name": "stderr",
     "output_type": "stream",
     "text": [
      "\r",
      " 83% (502 of 600) |##################    | Elapsed Time: 0:00:03 ETA:   0:00:00"
     ]
    },
    {
     "name": "stderr",
     "output_type": "stream",
     "text": [
      "\r",
      " 86% (517 of 600) |##################    | Elapsed Time: 0:00:03 ETA:   0:00:00"
     ]
    },
    {
     "name": "stderr",
     "output_type": "stream",
     "text": [
      "\r",
      " 87% (525 of 600) |###################   | Elapsed Time: 0:00:03 ETA:   0:00:00"
     ]
    },
    {
     "name": "stderr",
     "output_type": "stream",
     "text": [
      "\r",
      " 90% (540 of 600) |###################   | Elapsed Time: 0:00:03 ETA:   0:00:00"
     ]
    },
    {
     "name": "stderr",
     "output_type": "stream",
     "text": [
      "\r",
      " 92% (555 of 600) |####################  | Elapsed Time: 0:00:03 ETA:   0:00:00"
     ]
    },
    {
     "name": "stderr",
     "output_type": "stream",
     "text": [
      "\r",
      " 95% (570 of 600) |####################  | Elapsed Time: 0:00:03 ETA:   0:00:00"
     ]
    },
    {
     "name": "stderr",
     "output_type": "stream",
     "text": [
      "\r",
      " 96% (578 of 600) |##################### | Elapsed Time: 0:00:03 ETA:   0:00:00"
     ]
    },
    {
     "name": "stderr",
     "output_type": "stream",
     "text": [
      "\r",
      " 98% (593 of 600) |##################### | Elapsed Time: 0:00:03 ETA:   0:00:00"
     ]
    },
    {
     "name": "stderr",
     "output_type": "stream",
     "text": [
      "\r",
      "100% (600 of 600) |######################| Elapsed Time: 0:00:03 Time:  0:00:03"
     ]
    },
    {
     "name": "stderr",
     "output_type": "stream",
     "text": [
      "\n"
     ]
    },
    {
     "name": "stderr",
     "output_type": "stream",
     "text": [
      "\r",
      "N/A% (0 of 600) |                        | Elapsed Time: 0:00:00 ETA:  --:--:--"
     ]
    },
    {
     "name": "stderr",
     "output_type": "stream",
     "text": [
      "\r",
      "  1% (7 of 600) |                        | Elapsed Time: 0:00:00 ETA:   0:00:09"
     ]
    },
    {
     "name": "stdout",
     "output_type": "stream",
     "text": [
      " cython       : 3.7857 \n"
     ]
    },
    {
     "name": "stderr",
     "output_type": "stream",
     "text": [
      "\r",
      "  2% (13 of 600) |                       | Elapsed Time: 0:00:00 ETA:   0:00:10"
     ]
    },
    {
     "name": "stderr",
     "output_type": "stream",
     "text": [
      "\r",
      "  2% (16 of 600) |                       | Elapsed Time: 0:00:00 ETA:   0:00:09"
     ]
    },
    {
     "name": "stderr",
     "output_type": "stream",
     "text": [
      "\r",
      "  3% (21 of 600) |                       | Elapsed Time: 0:00:00 ETA:   0:00:10"
     ]
    },
    {
     "name": "stderr",
     "output_type": "stream",
     "text": [
      "\r",
      "  4% (27 of 600) |#                      | Elapsed Time: 0:00:00 ETA:   0:00:10"
     ]
    },
    {
     "name": "stderr",
     "output_type": "stream",
     "text": [
      "\r",
      "  5% (31 of 600) |#                      | Elapsed Time: 0:00:00 ETA:   0:00:10"
     ]
    },
    {
     "name": "stderr",
     "output_type": "stream",
     "text": [
      "\r",
      "  6% (38 of 600) |#                      | Elapsed Time: 0:00:00 ETA:   0:00:10"
     ]
    },
    {
     "name": "stderr",
     "output_type": "stream",
     "text": [
      "\r",
      "  7% (44 of 600) |#                      | Elapsed Time: 0:00:00 ETA:   0:00:09"
     ]
    },
    {
     "name": "stderr",
     "output_type": "stream",
     "text": [
      "\r",
      "  8% (51 of 600) |#                      | Elapsed Time: 0:00:00 ETA:   0:00:09"
     ]
    },
    {
     "name": "stderr",
     "output_type": "stream",
     "text": [
      "\r",
      "  9% (58 of 600) |##                     | Elapsed Time: 0:00:01 ETA:   0:00:09"
     ]
    },
    {
     "name": "stderr",
     "output_type": "stream",
     "text": [
      "\r",
      " 10% (61 of 600) |##                     | Elapsed Time: 0:00:01 ETA:   0:00:09"
     ]
    },
    {
     "name": "stderr",
     "output_type": "stream",
     "text": [
      "\r",
      " 11% (68 of 600) |##                     | Elapsed Time: 0:00:01 ETA:   0:00:09"
     ]
    },
    {
     "name": "stderr",
     "output_type": "stream",
     "text": [
      "\r",
      " 12% (74 of 600) |##                     | Elapsed Time: 0:00:01 ETA:   0:00:09"
     ]
    },
    {
     "name": "stderr",
     "output_type": "stream",
     "text": [
      "\r",
      " 13% (81 of 600) |###                    | Elapsed Time: 0:00:01 ETA:   0:00:08"
     ]
    },
    {
     "name": "stderr",
     "output_type": "stream",
     "text": [
      "\r",
      " 14% (84 of 600) |###                    | Elapsed Time: 0:00:01 ETA:   0:00:08"
     ]
    },
    {
     "name": "stderr",
     "output_type": "stream",
     "text": [
      "\r",
      " 15% (90 of 600) |###                    | Elapsed Time: 0:00:01 ETA:   0:00:08"
     ]
    },
    {
     "name": "stderr",
     "output_type": "stream",
     "text": [
      "\r",
      " 16% (97 of 600) |###                    | Elapsed Time: 0:00:01 ETA:   0:00:08"
     ]
    },
    {
     "name": "stderr",
     "output_type": "stream",
     "text": [
      "\r",
      " 17% (103 of 600) |###                   | Elapsed Time: 0:00:01 ETA:   0:00:08"
     ]
    },
    {
     "name": "stderr",
     "output_type": "stream",
     "text": [
      "\r",
      " 17% (107 of 600) |###                   | Elapsed Time: 0:00:01 ETA:   0:00:08"
     ]
    },
    {
     "name": "stderr",
     "output_type": "stream",
     "text": [
      "\r",
      " 19% (114 of 600) |####                  | Elapsed Time: 0:00:01 ETA:   0:00:08"
     ]
    },
    {
     "name": "stderr",
     "output_type": "stream",
     "text": [
      "\r",
      " 20% (120 of 600) |####                  | Elapsed Time: 0:00:02 ETA:   0:00:08"
     ]
    },
    {
     "name": "stderr",
     "output_type": "stream",
     "text": [
      "\r",
      " 21% (126 of 600) |####                  | Elapsed Time: 0:00:02 ETA:   0:00:08"
     ]
    },
    {
     "name": "stderr",
     "output_type": "stream",
     "text": [
      "\r",
      " 21% (130 of 600) |####                  | Elapsed Time: 0:00:02 ETA:   0:00:08"
     ]
    },
    {
     "name": "stderr",
     "output_type": "stream",
     "text": [
      "\r",
      " 22% (137 of 600) |#####                 | Elapsed Time: 0:00:02 ETA:   0:00:07"
     ]
    },
    {
     "name": "stderr",
     "output_type": "stream",
     "text": [
      "\r",
      " 23% (143 of 600) |#####                 | Elapsed Time: 0:00:02 ETA:   0:00:07"
     ]
    },
    {
     "name": "stderr",
     "output_type": "stream",
     "text": [
      "\r",
      " 25% (150 of 600) |#####                 | Elapsed Time: 0:00:02 ETA:   0:00:07"
     ]
    },
    {
     "name": "stderr",
     "output_type": "stream",
     "text": [
      "\r",
      " 26% (156 of 600) |#####                 | Elapsed Time: 0:00:02 ETA:   0:00:07"
     ]
    },
    {
     "name": "stderr",
     "output_type": "stream",
     "text": [
      "\r",
      " 26% (160 of 600) |#####                 | Elapsed Time: 0:00:02 ETA:   0:00:07"
     ]
    },
    {
     "name": "stderr",
     "output_type": "stream",
     "text": [
      "\r",
      " 27% (166 of 600) |######                | Elapsed Time: 0:00:02 ETA:   0:00:07"
     ]
    },
    {
     "name": "stderr",
     "output_type": "stream",
     "text": [
      "\r",
      " 28% (173 of 600) |######                | Elapsed Time: 0:00:02 ETA:   0:00:07"
     ]
    },
    {
     "name": "stderr",
     "output_type": "stream",
     "text": [
      "\r",
      " 29% (179 of 600) |######                | Elapsed Time: 0:00:03 ETA:   0:00:07"
     ]
    },
    {
     "name": "stderr",
     "output_type": "stream",
     "text": [
      "\r",
      " 30% (183 of 600) |######                | Elapsed Time: 0:00:03 ETA:   0:00:07"
     ]
    },
    {
     "name": "stderr",
     "output_type": "stream",
     "text": [
      "\r",
      " 31% (190 of 600) |######                | Elapsed Time: 0:00:03 ETA:   0:00:06"
     ]
    },
    {
     "name": "stderr",
     "output_type": "stream",
     "text": [
      "\r",
      " 32% (197 of 600) |#######               | Elapsed Time: 0:00:03 ETA:   0:00:06"
     ]
    },
    {
     "name": "stderr",
     "output_type": "stream",
     "text": [
      "\r",
      " 34% (204 of 600) |#######               | Elapsed Time: 0:00:03 ETA:   0:00:06"
     ]
    },
    {
     "name": "stderr",
     "output_type": "stream",
     "text": [
      "\r",
      " 35% (210 of 600) |#######               | Elapsed Time: 0:00:03 ETA:   0:00:06"
     ]
    },
    {
     "name": "stderr",
     "output_type": "stream",
     "text": [
      "\r",
      " 35% (213 of 600) |#######               | Elapsed Time: 0:00:03 ETA:   0:00:06"
     ]
    },
    {
     "name": "stderr",
     "output_type": "stream",
     "text": [
      "\r",
      " 36% (220 of 600) |########              | Elapsed Time: 0:00:03 ETA:   0:00:06"
     ]
    },
    {
     "name": "stderr",
     "output_type": "stream",
     "text": [
      "\r",
      " 37% (227 of 600) |########              | Elapsed Time: 0:00:03 ETA:   0:00:06"
     ]
    },
    {
     "name": "stderr",
     "output_type": "stream",
     "text": [
      "\r",
      " 38% (233 of 600) |########              | Elapsed Time: 0:00:03 ETA:   0:00:06"
     ]
    },
    {
     "name": "stderr",
     "output_type": "stream",
     "text": [
      "\r",
      " 39% (236 of 600) |########              | Elapsed Time: 0:00:03 ETA:   0:00:06"
     ]
    },
    {
     "name": "stderr",
     "output_type": "stream",
     "text": [
      "\r",
      " 40% (243 of 600) |########              | Elapsed Time: 0:00:04 ETA:   0:00:05"
     ]
    },
    {
     "name": "stderr",
     "output_type": "stream",
     "text": [
      "\r",
      " 41% (249 of 600) |#########             | Elapsed Time: 0:00:04 ETA:   0:00:05"
     ]
    },
    {
     "name": "stderr",
     "output_type": "stream",
     "text": [
      "\r",
      " 42% (256 of 600) |#########             | Elapsed Time: 0:00:04 ETA:   0:00:05"
     ]
    },
    {
     "name": "stderr",
     "output_type": "stream",
     "text": [
      "\r",
      " 43% (259 of 600) |#########             | Elapsed Time: 0:00:04 ETA:   0:00:05"
     ]
    },
    {
     "name": "stderr",
     "output_type": "stream",
     "text": [
      "\r",
      " 44% (266 of 600) |#########             | Elapsed Time: 0:00:04 ETA:   0:00:05"
     ]
    },
    {
     "name": "stderr",
     "output_type": "stream",
     "text": [
      "\r",
      " 45% (272 of 600) |#########             | Elapsed Time: 0:00:04 ETA:   0:00:05"
     ]
    },
    {
     "name": "stderr",
     "output_type": "stream",
     "text": [
      "\r",
      " 46% (279 of 600) |##########            | Elapsed Time: 0:00:04 ETA:   0:00:05"
     ]
    },
    {
     "name": "stderr",
     "output_type": "stream",
     "text": [
      "\r",
      " 47% (282 of 600) |##########            | Elapsed Time: 0:00:04 ETA:   0:00:05"
     ]
    },
    {
     "name": "stderr",
     "output_type": "stream",
     "text": [
      "\r",
      " 48% (289 of 600) |##########            | Elapsed Time: 0:00:04 ETA:   0:00:05"
     ]
    },
    {
     "name": "stderr",
     "output_type": "stream",
     "text": [
      "\r",
      " 49% (296 of 600) |##########            | Elapsed Time: 0:00:04 ETA:   0:00:05"
     ]
    },
    {
     "name": "stderr",
     "output_type": "stream",
     "text": [
      "\r",
      " 50% (303 of 600) |###########           | Elapsed Time: 0:00:05 ETA:   0:00:04"
     ]
    },
    {
     "name": "stderr",
     "output_type": "stream",
     "text": [
      "\r",
      " 51% (310 of 600) |###########           | Elapsed Time: 0:00:05 ETA:   0:00:04"
     ]
    },
    {
     "name": "stderr",
     "output_type": "stream",
     "text": [
      "\r",
      " 52% (316 of 600) |###########           | Elapsed Time: 0:00:05 ETA:   0:00:04"
     ]
    },
    {
     "name": "stderr",
     "output_type": "stream",
     "text": [
      "\r",
      " 53% (319 of 600) |###########           | Elapsed Time: 0:00:05 ETA:   0:00:04"
     ]
    },
    {
     "name": "stderr",
     "output_type": "stream",
     "text": [
      "\r",
      " 54% (325 of 600) |###########           | Elapsed Time: 0:00:05 ETA:   0:00:04"
     ]
    },
    {
     "name": "stderr",
     "output_type": "stream",
     "text": [
      "\r",
      " 55% (332 of 600) |############          | Elapsed Time: 0:00:05 ETA:   0:00:04"
     ]
    },
    {
     "name": "stderr",
     "output_type": "stream",
     "text": [
      "\r",
      " 55% (335 of 600) |############          | Elapsed Time: 0:00:05 ETA:   0:00:04"
     ]
    },
    {
     "name": "stderr",
     "output_type": "stream",
     "text": [
      "\r",
      " 56% (341 of 600) |############          | Elapsed Time: 0:00:05 ETA:   0:00:04"
     ]
    },
    {
     "name": "stderr",
     "output_type": "stream",
     "text": [
      "\r",
      " 57% (347 of 600) |############          | Elapsed Time: 0:00:05 ETA:   0:00:04"
     ]
    },
    {
     "name": "stderr",
     "output_type": "stream",
     "text": [
      "\r",
      " 58% (350 of 600) |############          | Elapsed Time: 0:00:05 ETA:   0:00:04"
     ]
    },
    {
     "name": "stderr",
     "output_type": "stream",
     "text": [
      "\r",
      " 59% (355 of 600) |#############         | Elapsed Time: 0:00:06 ETA:   0:00:04"
     ]
    },
    {
     "name": "stderr",
     "output_type": "stream",
     "text": [
      "\r",
      " 60% (361 of 600) |#############         | Elapsed Time: 0:00:06 ETA:   0:00:04"
     ]
    },
    {
     "name": "stderr",
     "output_type": "stream",
     "text": [
      "\r",
      " 60% (365 of 600) |#############         | Elapsed Time: 0:00:06 ETA:   0:00:04"
     ]
    },
    {
     "name": "stderr",
     "output_type": "stream",
     "text": [
      "\r",
      " 61% (371 of 600) |#############         | Elapsed Time: 0:00:06 ETA:   0:00:03"
     ]
    },
    {
     "name": "stderr",
     "output_type": "stream",
     "text": [
      "\r",
      " 62% (377 of 600) |#############         | Elapsed Time: 0:00:06 ETA:   0:00:03"
     ]
    },
    {
     "name": "stderr",
     "output_type": "stream",
     "text": [
      "\r",
      " 63% (380 of 600) |#############         | Elapsed Time: 0:00:06 ETA:   0:00:03"
     ]
    },
    {
     "name": "stderr",
     "output_type": "stream",
     "text": [
      "\r",
      " 64% (386 of 600) |##############        | Elapsed Time: 0:00:06 ETA:   0:00:03"
     ]
    },
    {
     "name": "stderr",
     "output_type": "stream",
     "text": [
      "\r",
      " 65% (392 of 600) |##############        | Elapsed Time: 0:00:06 ETA:   0:00:03"
     ]
    },
    {
     "name": "stderr",
     "output_type": "stream",
     "text": [
      "\r",
      " 65% (395 of 600) |##############        | Elapsed Time: 0:00:06 ETA:   0:00:03"
     ]
    },
    {
     "name": "stderr",
     "output_type": "stream",
     "text": [
      "\r",
      " 66% (401 of 600) |##############        | Elapsed Time: 0:00:06 ETA:   0:00:03"
     ]
    },
    {
     "name": "stderr",
     "output_type": "stream",
     "text": [
      "\r",
      " 67% (407 of 600) |##############        | Elapsed Time: 0:00:06 ETA:   0:00:03"
     ]
    },
    {
     "name": "stderr",
     "output_type": "stream",
     "text": [
      "\r",
      " 68% (411 of 600) |###############       | Elapsed Time: 0:00:06 ETA:   0:00:03"
     ]
    },
    {
     "name": "stderr",
     "output_type": "stream",
     "text": [
      "\r",
      " 69% (418 of 600) |###############       | Elapsed Time: 0:00:07 ETA:   0:00:03"
     ]
    },
    {
     "name": "stderr",
     "output_type": "stream",
     "text": [
      "\r",
      " 70% (425 of 600) |###############       | Elapsed Time: 0:00:07 ETA:   0:00:03"
     ]
    },
    {
     "name": "stderr",
     "output_type": "stream",
     "text": [
      "\r",
      " 72% (432 of 600) |###############       | Elapsed Time: 0:00:07 ETA:   0:00:02"
     ]
    },
    {
     "name": "stderr",
     "output_type": "stream",
     "text": [
      "\r",
      " 73% (439 of 600) |################      | Elapsed Time: 0:00:07 ETA:   0:00:02"
     ]
    },
    {
     "name": "stderr",
     "output_type": "stream",
     "text": [
      "\r",
      " 74% (446 of 600) |################      | Elapsed Time: 0:00:07 ETA:   0:00:02"
     ]
    },
    {
     "name": "stderr",
     "output_type": "stream",
     "text": [
      "\r",
      " 74% (449 of 600) |################      | Elapsed Time: 0:00:07 ETA:   0:00:02"
     ]
    },
    {
     "name": "stderr",
     "output_type": "stream",
     "text": [
      "\r",
      " 75% (455 of 600) |################      | Elapsed Time: 0:00:07 ETA:   0:00:02"
     ]
    },
    {
     "name": "stderr",
     "output_type": "stream",
     "text": [
      "\r",
      " 77% (462 of 600) |################      | Elapsed Time: 0:00:07 ETA:   0:00:02"
     ]
    },
    {
     "name": "stderr",
     "output_type": "stream",
     "text": [
      "\r",
      " 78% (469 of 600) |#################     | Elapsed Time: 0:00:07 ETA:   0:00:02"
     ]
    },
    {
     "name": "stderr",
     "output_type": "stream",
     "text": [
      "\r",
      " 79% (475 of 600) |#################     | Elapsed Time: 0:00:08 ETA:   0:00:02"
     ]
    },
    {
     "name": "stderr",
     "output_type": "stream",
     "text": [
      "\r",
      " 79% (479 of 600) |#################     | Elapsed Time: 0:00:08 ETA:   0:00:02"
     ]
    },
    {
     "name": "stderr",
     "output_type": "stream",
     "text": [
      "\r",
      " 80% (485 of 600) |#################     | Elapsed Time: 0:00:08 ETA:   0:00:01"
     ]
    },
    {
     "name": "stderr",
     "output_type": "stream",
     "text": [
      "\r",
      " 81% (491 of 600) |##################    | Elapsed Time: 0:00:08 ETA:   0:00:01"
     ]
    },
    {
     "name": "stderr",
     "output_type": "stream",
     "text": [
      "\r",
      " 82% (494 of 600) |##################    | Elapsed Time: 0:00:08 ETA:   0:00:01"
     ]
    },
    {
     "name": "stderr",
     "output_type": "stream",
     "text": [
      "\r",
      " 83% (500 of 600) |##################    | Elapsed Time: 0:00:08 ETA:   0:00:01"
     ]
    },
    {
     "name": "stderr",
     "output_type": "stream",
     "text": [
      "\r",
      " 84% (506 of 600) |##################    | Elapsed Time: 0:00:08 ETA:   0:00:01"
     ]
    },
    {
     "name": "stderr",
     "output_type": "stream",
     "text": [
      "\r",
      " 84% (509 of 600) |##################    | Elapsed Time: 0:00:08 ETA:   0:00:01"
     ]
    },
    {
     "name": "stderr",
     "output_type": "stream",
     "text": [
      "\r",
      " 85% (515 of 600) |##################    | Elapsed Time: 0:00:08 ETA:   0:00:01"
     ]
    },
    {
     "name": "stderr",
     "output_type": "stream",
     "text": [
      "\r",
      " 86% (521 of 600) |###################   | Elapsed Time: 0:00:08 ETA:   0:00:01"
     ]
    },
    {
     "name": "stderr",
     "output_type": "stream",
     "text": [
      "\r",
      " 87% (525 of 600) |###################   | Elapsed Time: 0:00:08 ETA:   0:00:01"
     ]
    },
    {
     "name": "stderr",
     "output_type": "stream",
     "text": [
      "\r",
      " 88% (531 of 600) |###################   | Elapsed Time: 0:00:09 ETA:   0:00:01"
     ]
    },
    {
     "name": "stderr",
     "output_type": "stream",
     "text": [
      "\r",
      " 89% (537 of 600) |###################   | Elapsed Time: 0:00:09 ETA:   0:00:01"
     ]
    },
    {
     "name": "stderr",
     "output_type": "stream",
     "text": [
      "\r",
      " 90% (540 of 600) |###################   | Elapsed Time: 0:00:09 ETA:   0:00:01"
     ]
    },
    {
     "name": "stderr",
     "output_type": "stream",
     "text": [
      "\r",
      " 91% (546 of 600) |####################  | Elapsed Time: 0:00:09 ETA:   0:00:00"
     ]
    },
    {
     "name": "stderr",
     "output_type": "stream",
     "text": [
      "\r",
      " 92% (552 of 600) |####################  | Elapsed Time: 0:00:09 ETA:   0:00:00"
     ]
    },
    {
     "name": "stderr",
     "output_type": "stream",
     "text": [
      "\r",
      " 92% (555 of 600) |####################  | Elapsed Time: 0:00:09 ETA:   0:00:00"
     ]
    },
    {
     "name": "stderr",
     "output_type": "stream",
     "text": [
      "\r",
      " 93% (561 of 600) |####################  | Elapsed Time: 0:00:09 ETA:   0:00:00"
     ]
    },
    {
     "name": "stderr",
     "output_type": "stream",
     "text": [
      "\r",
      " 94% (567 of 600) |####################  | Elapsed Time: 0:00:09 ETA:   0:00:00"
     ]
    },
    {
     "name": "stderr",
     "output_type": "stream",
     "text": [
      "\r",
      " 95% (570 of 600) |####################  | Elapsed Time: 0:00:09 ETA:   0:00:00"
     ]
    },
    {
     "name": "stderr",
     "output_type": "stream",
     "text": [
      "\r",
      " 96% (576 of 600) |##################### | Elapsed Time: 0:00:09 ETA:   0:00:00"
     ]
    },
    {
     "name": "stderr",
     "output_type": "stream",
     "text": [
      "\r",
      " 97% (583 of 600) |##################### | Elapsed Time: 0:00:09 ETA:   0:00:00"
     ]
    },
    {
     "name": "stderr",
     "output_type": "stream",
     "text": [
      "\r",
      " 98% (590 of 600) |##################### | Elapsed Time: 0:00:10 ETA:   0:00:00"
     ]
    },
    {
     "name": "stderr",
     "output_type": "stream",
     "text": [
      "\r",
      " 99% (597 of 600) |##################### | Elapsed Time: 0:00:10 ETA:   0:00:00"
     ]
    },
    {
     "name": "stderr",
     "output_type": "stream",
     "text": [
      "\r",
      "100% (600 of 600) |######################| Elapsed Time: 0:00:10 Time:  0:00:10"
     ]
    },
    {
     "name": "stderr",
     "output_type": "stream",
     "text": [
      "\n"
     ]
    },
    {
     "name": "stdout",
     "output_type": "stream",
     "text": [
      " pythran      : 10.2099 \n"
     ]
    },
    {
     "data": {
      "image/png": "[encoded data removed]",
      "text/plain": [
       "<Figure size 720x432 with 1 Axes>"
      ]
     },
     "metadata": {
      "image/png": {
       "height": 360,
       "width": 605
      }
     },
     "output_type": "display_data"
    }
   ],
   "source": [
    "from time import time\n",
    "\n",
    "elapsed_time = {}\n",
    "fig, axes = plt.subplots()\n",
    "for opt in ['numpy', 'fortran', 'numba', 'cython','pythran']:\n",
    "    \n",
    "    # Set grid\n",
    "    nx, nv = 32, 64\n",
    "    xmin, xmax = 0.0, 4*np.pi\n",
    "    vmin, vmax = -6., 6.\n",
    "    \n",
    "    # Create Vlasov-Poisson simulation\n",
    "    sim = VlasovPoisson(xmin, xmax, nx, vmin, vmax, nv, opt=opt)\n",
    "\n",
    "    # Initialize distribution function\n",
    "    X, V = np.meshgrid(sim.x, sim.v)\n",
    "    eps, kx = 0.001, 0.5\n",
    "    f = (1.0+eps*np.cos(kx*X))/np.sqrt(2.0*np.pi)* np.exp(-0.5*V*V)\n",
    "\n",
    "    # Set time domain\n",
    "    nstep = 600\n",
    "    t, dt = np.linspace(0.0, 60.0, nstep, retstep=True)\n",
    "    \n",
    "    # Run simulation\n",
    "    etime = time()\n",
    "    nrj = sim.run(f, nstep, dt)\n",
    "    print(\" {0:12s} : {1:.4f} \".format(opt, time()-etime))\n",
    "    \n",
    "    # Plot energy\n",
    "    axes.plot(t, nrj, label=opt)\n",
    "\n",
    "    \n",
    "axes.plot(t, -0.1533*t-5.50)\n",
    "plt.legend();"
   ]
  },
  {
   "cell_type": "markdown",
   "metadata": {
    "slideshow": {
     "slide_type": "skip"
    }
   },
   "source": [
    "## References\n",
    "- [Optimizing Python with NumPy and Numba](https://jakevdp.github.io/blog/2015/02/24/optimizing-python-with-numpy-and-numba/)\n"
   ]
  }
 ],
 "metadata": {
  "@webio": {
   "lastCommId": null,
   "lastKernelId": null
  },
  "jupytext": {
   "cell_metadata_json": true,
   "comment_magics": false,
   "encoding": "# -*- coding: utf-8 -*-"
  },
  "kernelspec": {
   "display_name": "Python 3",
   "language": "python",
   "name": "python3"
  },
  "language_info": {
   "codemirror_mode": {
    "name": "ipython",
    "version": 3
   },
   "file_extension": ".py",
   "mimetype": "text/x-python",
   "name": "python",
   "nbconvert_exporter": "python",
   "pygments_lexer": "ipython3",
   "version": "3.8.5"
  },
  "widgets": {
   "application/vnd.jupyter.widget-state+json": {
    "state": {
     "453a218cb7e6440ea3027963fef53e78": {
      "model_module": "@jupyter-widgets/controls",
      "model_module_version": "1.5.0",
      "model_name": "ProgressStyleModel",
      "state": {
       "_model_module": "@jupyter-widgets/controls",
       "_model_module_version": "1.5.0",
       "_model_name": "ProgressStyleModel",
       "_view_count": null,
       "_view_module": "@jupyter-widgets/base",
       "_view_module_version": "1.2.0",
       "_view_name": "StyleView",
       "bar_color": null,
       "description_width": "initial"
      }
     },
     "5a755195cd4c4dfabf61c807cc33de09": {
      "model_module": "@jupyter-widgets/controls",
      "model_module_version": "1.5.0",
      "model_name": "DescriptionStyleModel",
      "state": {
       "_model_module": "@jupyter-widgets/controls",
       "_model_module_version": "1.5.0",
       "_model_name": "DescriptionStyleModel",
       "_view_count": null,
       "_view_module": "@jupyter-widgets/base",
       "_view_module_version": "1.2.0",
       "_view_name": "StyleView",
       "description_width": ""
      }
     },
     "5ac0d72bd2dc4d1ab780e5bfae64878c": {
      "model_module": "@jupyter-widgets/base",
      "model_module_version": "1.2.0",
      "model_name": "LayoutModel",
      "state": {
       "_model_module": "@jupyter-widgets/base",
       "_model_module_version": "1.2.0",
       "_model_name": "LayoutModel",
       "_view_count": null,
       "_view_module": "@jupyter-widgets/base",
       "_view_module_version": "1.2.0",
       "_view_name": "LayoutView",
       "align_content": null,
       "align_items": null,
       "align_self": null,
       "border": null,
       "bottom": null,
       "display": null,
       "flex": null,
       "flex_flow": null,
       "grid_area": null,
       "grid_auto_columns": null,
       "grid_auto_flow": null,
       "grid_auto_rows": null,
       "grid_column": null,
       "grid_gap": null,
       "grid_row": null,
       "grid_template_areas": null,
       "grid_template_columns": null,
       "grid_template_rows": null,
       "height": null,
       "justify_content": null,
       "justify_items": null,
       "left": null,
       "margin": null,
       "max_height": null,
       "max_width": null,
       "min_height": null,
       "min_width": null,
       "object_fit": null,
       "object_position": null,
       "order": null,
       "overflow": null,
       "overflow_x": null,
       "overflow_y": null,
       "padding": null,
       "right": null,
       "top": null,
       "visibility": null,
       "width": null
      }
     },
     "62959b24b747406a8ff5f6bac3a2d393": {
      "model_module": "@jupyter-widgets/controls",
      "model_module_version": "1.5.0",
      "model_name": "FloatProgressModel",
      "state": {
       "_dom_classes": [],
       "_model_module": "@jupyter-widgets/controls",
       "_model_module_version": "1.5.0",
       "_model_name": "FloatProgressModel",
       "_view_count": null,
       "_view_module": "@jupyter-widgets/controls",
       "_view_module_version": "1.5.0",
       "_view_name": "ProgressView",
       "bar_style": "success",
       "description": "100%",
       "description_tooltip": null,
       "layout": "IPY_MODEL_5ac0d72bd2dc4d1ab780e5bfae64878c",
       "max": 5.0,
       "min": 0.0,
       "orientation": "horizontal",
       "style": "IPY_MODEL_453a218cb7e6440ea3027963fef53e78",
       "value": 5.0
      }
     },
     "69c7e8de3b2549648440c7cbdf87a6a6": {
      "model_module": "@jupyter-widgets/controls",
      "model_module_version": "1.5.0",
      "model_name": "HBoxModel",
      "state": {
       "_dom_classes": [],
       "_model_module": "@jupyter-widgets/controls",
       "_model_module_version": "1.5.0",
       "_model_name": "HBoxModel",
       "_view_count": null,
       "_view_module": "@jupyter-widgets/controls",
       "_view_module_version": "1.5.0",
       "_view_name": "HBoxView",
       "box_style": "",
       "children": [
        "IPY_MODEL_62959b24b747406a8ff5f6bac3a2d393",
        "IPY_MODEL_c4dbca0cc24f468d9318cb5b9e79a691"
       ],
       "layout": "IPY_MODEL_e8812b491f3143e0a1a030d314006d01"
      }
     },
     "919a94d4d6264fa39bfc6c4d51619aeb": {
      "model_module": "@jupyter-widgets/base",
      "model_module_version": "1.2.0",
      "model_name": "LayoutModel",
      "state": {
       "_model_module": "@jupyter-widgets/base",
       "_model_module_version": "1.2.0",
       "_model_name": "LayoutModel",
       "_view_count": null,
       "_view_module": "@jupyter-widgets/base",
       "_view_module_version": "1.2.0",
       "_view_name": "LayoutView",
       "align_content": null,
       "align_items": null,
       "align_self": null,
       "border": null,
       "bottom": null,
       "display": null,
       "flex": null,
       "flex_flow": null,
       "grid_area": null,
       "grid_auto_columns": null,
       "grid_auto_flow": null,
       "grid_auto_rows": null,
       "grid_column": null,
       "grid_gap": null,
       "grid_row": null,
       "grid_template_areas": null,
       "grid_template_columns": null,
       "grid_template_rows": null,
       "height": null,
       "justify_content": null,
       "justify_items": null,
       "left": null,
       "margin": null,
       "max_height": null,
       "max_width": null,
       "min_height": null,
       "min_width": null,
       "object_fit": null,
       "object_position": null,
       "order": null,
       "overflow": null,
       "overflow_x": null,
       "overflow_y": null,
       "padding": null,
       "right": null,
       "top": null,
       "visibility": null,
       "width": null
      }
     },
     "c4dbca0cc24f468d9318cb5b9e79a691": {
      "model_module": "@jupyter-widgets/controls",
      "model_module_version": "1.5.0",
      "model_name": "HTMLModel",
      "state": {
       "_dom_classes": [],
       "_model_module": "@jupyter-widgets/controls",
       "_model_module_version": "1.5.0",
       "_model_name": "HTMLModel",
       "_view_count": null,
       "_view_module": "@jupyter-widgets/controls",
       "_view_module_version": "1.5.0",
       "_view_name": "HTMLView",
       "description": "",
       "description_tooltip": null,
       "layout": "IPY_MODEL_919a94d4d6264fa39bfc6c4d51619aeb",
       "placeholder": "​",
       "style": "IPY_MODEL_5a755195cd4c4dfabf61c807cc33de09",
       "value": " 5/5 [02:58&lt;00:00, 35.64s/it]"
      }
     },
     "e8812b491f3143e0a1a030d314006d01": {
      "model_module": "@jupyter-widgets/base",
      "model_module_version": "1.2.0",
      "model_name": "LayoutModel",
      "state": {
       "_model_module": "@jupyter-widgets/base",
       "_model_module_version": "1.2.0",
       "_model_name": "LayoutModel",
       "_view_count": null,
       "_view_module": "@jupyter-widgets/base",
       "_view_module_version": "1.2.0",
       "_view_name": "LayoutView",
       "align_content": null,
       "align_items": null,
       "align_self": null,
       "border": null,
       "bottom": null,
       "display": null,
       "flex": null,
       "flex_flow": null,
       "grid_area": null,
       "grid_auto_columns": null,
       "grid_auto_flow": null,
       "grid_auto_rows": null,
       "grid_column": null,
       "grid_gap": null,
       "grid_row": null,
       "grid_template_areas": null,
       "grid_template_columns": null,
       "grid_template_rows": null,
       "height": null,
       "justify_content": null,
       "justify_items": null,
       "left": null,
       "margin": null,
       "max_height": null,
       "max_width": null,
       "min_height": null,
       "min_width": null,
       "object_fit": null,
       "object_position": null,
       "order": null,
       "overflow": null,
       "overflow_x": null,
       "overflow_y": null,
       "padding": null,
       "right": null,
       "top": null,
       "visibility": null,
       "width": null
      }
     }
    },
    "version_major": 2,
    "version_minor": 0
   }
  }
 },
 "nbformat": 4,
 "nbformat_minor": 4
}
