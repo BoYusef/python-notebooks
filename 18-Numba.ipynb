{
 "cells": [
  {
   "cell_type": "markdown",
   "metadata": {},
   "source": [
    "# Numba"
   ]
  },
  {
   "cell_type": "code",
   "execution_count": 1,
   "metadata": {
    "slideshow": {
     "slide_type": "skip"
    }
   },
   "outputs": [],
   "source": [
    "import numpy as np"
   ]
  },
  {
   "cell_type": "markdown",
   "metadata": {
    "slideshow": {
     "slide_type": "slide"
    }
   },
   "source": [
    "<img src=\"https://cdn.dribbble.com/users/915978/screenshots/3034118/numba_1x.jpg\" alt=\"Drawing\" style=\"width: 40%;\"/>\n",
    "\n"
   ]
  },
  {
   "cell_type": "markdown",
   "metadata": {
    "slideshow": {
     "slide_type": "slide"
    }
   },
   "source": [
    "- Numba is a compiler for Python array and numerical functions.\n",
    "- Numba generates optimized machine code from pure Python code with a few simple annotations\n",
    "- Python code is just-in-time optimized to performance similar as C, C++ and Fortran, without having to switch languages or Python interpreters.\n",
    "- The code is generated on-the-fly for CPU (default) or GPU hardware."
   ]
  },
  {
   "cell_type": "markdown",
   "metadata": {
    "slideshow": {
     "slide_type": "slide"
    }
   },
   "source": [
    "## Python decorator\n",
    "\n",
    "A decorator is used to modify a function or a class. A reference to a function \"func\" or a class \"C\" is passed to a decorator and the decorator returns a modified function or class. The modified functions or classes usually contain calls to the original function \"func\" or class \"C\". "
   ]
  },
  {
   "cell_type": "code",
   "execution_count": 2,
   "metadata": {
    "slideshow": {
     "slide_type": "fragment"
    }
   },
   "outputs": [
    {
     "name": "stdout",
     "output_type": "stream",
     "text": [
      "execution time 7.152557373046875e-07\n",
      "3\n"
     ]
    }
   ],
   "source": [
    "def timeit(function):\n",
    "    def wrapper(*args, **kargs):\n",
    "        import time\n",
    "        t1 = time.time()\n",
    "        result = function(*args, **kargs)\n",
    "        t2 = time.time()\n",
    "        print(\"execution time\", t2-t1)\n",
    "        return result\n",
    "    return wrapper\n",
    "\n",
    "@timeit\n",
    "def f(a, b):\n",
    "    return a + b\n",
    "\n",
    "print(f(1, 2))"
   ]
  },
  {
   "cell_type": "markdown",
   "metadata": {
    "slideshow": {
     "slide_type": "slide"
    }
   },
   "source": [
    "## First example"
   ]
  },
  {
   "cell_type": "code",
   "execution_count": 3,
   "metadata": {
    "slideshow": {
     "slide_type": "fragment"
    }
   },
   "outputs": [],
   "source": [
    "from numba import jit\n",
    "@jit\n",
    "def sum(a, b):\n",
    "    return a + b"
   ]
  },
  {
   "cell_type": "markdown",
   "metadata": {
    "slideshow": {
     "slide_type": "fragment"
    }
   },
   "source": [
    "- Compilation will be deferred until the first function execution. \n",
    "- Numba will infer the argument types at call time."
   ]
  },
  {
   "cell_type": "code",
   "execution_count": 4,
   "metadata": {
    "slideshow": {
     "slide_type": "fragment"
    }
   },
   "outputs": [
    {
     "data": {
      "text/plain": [
       "(3, (2+1j))"
      ]
     },
     "execution_count": 4,
     "metadata": {},
     "output_type": "execute_result"
    }
   ],
   "source": [
    "sum(1, 2), sum(1j, 2)"
   ]
  },
  {
   "cell_type": "code",
   "execution_count": 5,
   "metadata": {
    "slideshow": {
     "slide_type": "slide"
    }
   },
   "outputs": [
    {
     "data": {
      "text/plain": [
       "array([0.54225828, 1.37064787, 1.91924634, 1.32366855, 1.0163666 ,\n",
       "       0.68193992, 1.30855793, 0.9702832 , 0.55040862, 0.42364913])"
      ]
     },
     "execution_count": 5,
     "metadata": {},
     "output_type": "execute_result"
    }
   ],
   "source": [
    "x = np.random.rand(10)\n",
    "y = np.random.rand(10)\n",
    "sum(x, y)"
   ]
  },
  {
   "cell_type": "markdown",
   "metadata": {
    "slideshow": {
     "slide_type": "slide"
    }
   },
   "source": [
    "## Performance"
   ]
  },
  {
   "cell_type": "code",
   "execution_count": 6,
   "metadata": {
    "slideshow": {
     "slide_type": "fragment"
    }
   },
   "outputs": [],
   "source": [
    "x = np.random.rand(10000000)"
   ]
  },
  {
   "cell_type": "code",
   "execution_count": 7,
   "metadata": {
    "slideshow": {
     "slide_type": "fragment"
    }
   },
   "outputs": [
    {
     "name": "stdout",
     "output_type": "stream",
     "text": [
      "8.15 ms ± 232 µs per loop (mean ± std. dev. of 7 runs, 100 loops each)\n"
     ]
    }
   ],
   "source": [
    "%timeit x.sum() # Numpy"
   ]
  },
  {
   "cell_type": "code",
   "execution_count": 8,
   "metadata": {
    "slideshow": {
     "slide_type": "fragment"
    }
   },
   "outputs": [],
   "source": [
    "@jit\n",
    "def numba_sum(x):\n",
    "    res= 0\n",
    "    for i in range(x.size):\n",
    "        res += x[i]\n",
    "    return res"
   ]
  },
  {
   "cell_type": "code",
   "execution_count": 9,
   "metadata": {
    "slideshow": {
     "slide_type": "fragment"
    }
   },
   "outputs": [
    {
     "name": "stdout",
     "output_type": "stream",
     "text": [
      "12.3 ms ± 118 µs per loop (mean ± std. dev. of 7 runs, 100 loops each)\n"
     ]
    }
   ],
   "source": [
    "%timeit numba_sum(x)"
   ]
  },
  {
   "cell_type": "markdown",
   "metadata": {
    "slideshow": {
     "slide_type": "slide"
    }
   },
   "source": [
    "## Numba methods"
   ]
  },
  {
   "cell_type": "code",
   "execution_count": 10,
   "metadata": {
    "slideshow": {
     "slide_type": "fragment"
    }
   },
   "outputs": [],
   "source": [
    "@jit\n",
    "def jit_sum(a, b):\n",
    "    return a + b"
   ]
  },
  {
   "cell_type": "code",
   "execution_count": 11,
   "metadata": {
    "slideshow": {
     "slide_type": "fragment"
    }
   },
   "outputs": [],
   "source": [
    "jit_sum.inspect_types() # jit_sum has not been compiled"
   ]
  },
  {
   "cell_type": "code",
   "execution_count": 12,
   "metadata": {
    "slideshow": {
     "slide_type": "slide"
    }
   },
   "outputs": [
    {
     "name": "stdout",
     "output_type": "stream",
     "text": [
      "jit_sum (int64, int64)\n",
      "--------------------------------------------------------------------------------\n",
      "# File: <ipython-input-10-ebda2b2f7dda>\n",
      "# --- LINE 1 --- \n",
      "\n",
      "@jit\n",
      "\n",
      "# --- LINE 2 --- \n",
      "\n",
      "def jit_sum(a, b):\n",
      "\n",
      "    # --- LINE 3 --- \n",
      "    # label 0\n",
      "    #   a = arg(0, name=a)  :: int64\n",
      "    #   b = arg(1, name=b)  :: int64\n",
      "    #   $6binary_add.2 = a + b  :: int64\n",
      "    #   del b\n",
      "    #   del a\n",
      "    #   $8return_value.3 = cast(value=$6binary_add.2)  :: int64\n",
      "    #   del $6binary_add.2\n",
      "    #   return $8return_value.3\n",
      "\n",
      "    return a + b\n",
      "\n",
      "\n",
      "================================================================================\n"
     ]
    }
   ],
   "source": [
    "jit_sum(1, 2) # call it once with ints\n",
    "jit_sum.inspect_types()"
   ]
  },
  {
   "cell_type": "code",
   "execution_count": 13,
   "metadata": {
    "slideshow": {
     "slide_type": "slide"
    }
   },
   "outputs": [
    {
     "name": "stdout",
     "output_type": "stream",
     "text": [
      "jit_sum (int64, int64)\n",
      "--------------------------------------------------------------------------------\n",
      "# File: <ipython-input-10-ebda2b2f7dda>\n",
      "# --- LINE 1 --- \n",
      "\n",
      "@jit\n",
      "\n",
      "# --- LINE 2 --- \n",
      "\n",
      "def jit_sum(a, b):\n",
      "\n",
      "    # --- LINE 3 --- \n",
      "    # label 0\n",
      "    #   a = arg(0, name=a)  :: int64\n",
      "    #   b = arg(1, name=b)  :: int64\n",
      "    #   $6binary_add.2 = a + b  :: int64\n",
      "    #   del b\n",
      "    #   del a\n",
      "    #   $8return_value.3 = cast(value=$6binary_add.2)  :: int64\n",
      "    #   del $6binary_add.2\n",
      "    #   return $8return_value.3\n",
      "\n",
      "    return a + b\n",
      "\n",
      "\n",
      "================================================================================\n",
      "jit_sum (float64, float64)\n",
      "--------------------------------------------------------------------------------\n",
      "# File: <ipython-input-10-ebda2b2f7dda>\n",
      "# --- LINE 1 --- \n",
      "\n",
      "@jit\n",
      "\n",
      "# --- LINE 2 --- \n",
      "\n",
      "def jit_sum(a, b):\n",
      "\n",
      "    # --- LINE 3 --- \n",
      "    # label 0\n",
      "    #   a = arg(0, name=a)  :: float64\n",
      "    #   b = arg(1, name=b)  :: float64\n",
      "    #   $6binary_add.2 = a + b  :: float64\n",
      "    #   del b\n",
      "    #   del a\n",
      "    #   $8return_value.3 = cast(value=$6binary_add.2)  :: float64\n",
      "    #   del $6binary_add.2\n",
      "    #   return $8return_value.3\n",
      "\n",
      "    return a + b\n",
      "\n",
      "\n",
      "================================================================================\n"
     ]
    }
   ],
   "source": [
    "jit_sum(1., 2.) # call it once with doubles\n",
    "jit_sum.inspect_types()"
   ]
  },
  {
   "cell_type": "markdown",
   "metadata": {
    "slideshow": {
     "slide_type": "slide"
    }
   },
   "source": [
    "- `jit_sum.inspect_llvm()` returns a dict with llvm representation.\n",
    "\n",
    "LLVM is a library that is used to construct, optimize and produce intermediate and/or binary machine code.\n",
    "\n",
    "- `jit_sum.inspect_asm()` returns a dict with assembler information. "
   ]
  },
  {
   "cell_type": "code",
   "execution_count": 14,
   "metadata": {
    "slideshow": {
     "slide_type": "fragment"
    }
   },
   "outputs": [
    {
     "data": {
      "text/plain": [
       "3"
      ]
     },
     "execution_count": 14,
     "metadata": {},
     "output_type": "execute_result"
    }
   ],
   "source": [
    "jit_sum.py_func(1, 2) # call origin python function without numba process"
   ]
  },
  {
   "cell_type": "markdown",
   "metadata": {
    "slideshow": {
     "slide_type": "slide"
    }
   },
   "source": [
    "## Types coercion\n",
    "\n",
    "Tell Numba the function signature you are expecting."
   ]
  },
  {
   "cell_type": "code",
   "execution_count": 15,
   "metadata": {
    "slideshow": {
     "slide_type": "fragment"
    }
   },
   "outputs": [],
   "source": [
    "@jit(['int32[:](int32[:], int32[:])','int32(int32, int32)'])\n",
    "def product(a, b):\n",
    "    return a*b"
   ]
  },
  {
   "cell_type": "code",
   "execution_count": 16,
   "metadata": {
    "slideshow": {
     "slide_type": "fragment"
    }
   },
   "outputs": [
    {
     "data": {
      "text/plain": [
       "(6, 6)"
      ]
     },
     "execution_count": 16,
     "metadata": {},
     "output_type": "execute_result"
    }
   ],
   "source": [
    "product(2, 3), product(2.2, 3.2)"
   ]
  },
  {
   "cell_type": "code",
   "execution_count": 17,
   "metadata": {
    "slideshow": {
     "slide_type": "fragment"
    }
   },
   "outputs": [
    {
     "data": {
      "text/plain": [
       "array([ 0,  1,  4,  9, 16, 25, 36, 49, 64, 81], dtype=int32)"
      ]
     },
     "execution_count": 17,
     "metadata": {},
     "output_type": "execute_result"
    }
   ],
   "source": [
    "a = np.arange(10, dtype=np.int32)\n",
    "b = np.arange(10, dtype=np.int32)\n",
    "product(a, b)"
   ]
  },
  {
   "cell_type": "code",
   "execution_count": 18,
   "metadata": {
    "slideshow": {
     "slide_type": "slide"
    }
   },
   "outputs": [
    {
     "name": "stdout",
     "output_type": "stream",
     "text": [
      "TypeError: No matching definition for argument type(s) array(float64, 1d, C), array(float64, 1d, C)\n"
     ]
    }
   ],
   "source": [
    "a = np.random.random(10) # Numpy arrays contain double by default\n",
    "b = np.random.random(10)\n",
    "try:\n",
    "    product(a, b)\n",
    "except TypeError as e:\n",
    "    print(\"TypeError:\",e)"
   ]
  },
  {
   "cell_type": "markdown",
   "metadata": {
    "slideshow": {
     "slide_type": "slide"
    }
   },
   "source": [
    "## Numba types\n",
    "```C\n",
    "void,\n",
    "intp, uintp,\n",
    "intc, uintc,\n",
    "int8, uint8, int16, uint16, int32, uint32, int64, uint64,\n",
    "float32, float64,\n",
    "complex64, complex128.\n",
    "```\n",
    "### Arrays\n",
    "```C\n",
    "float32[:] \n",
    "float64[:, :]\n",
    "```"
   ]
  },
  {
   "cell_type": "markdown",
   "metadata": {
    "slideshow": {
     "slide_type": "slide"
    }
   },
   "source": [
    "## Numba compilation options\n",
    "\n",
    "- ** nopython ** : Compilation fails if you use pure Python objects.\n",
    "- ** nogil ** : release Python’s global interpreter lock (GIL).\n",
    "- ** cache ** : Do not recompile the function each time you invoke a Python program.\n",
    "- ** parallel ** : experimental feature that automatically parallelizes must be used in conjunction with nopython=True:\n",
    "\n"
   ]
  },
  {
   "cell_type": "markdown",
   "metadata": {
    "slideshow": {
     "slide_type": "slide"
    }
   },
   "source": [
    "## Inlining\n",
    "\n",
    "Numba-compiled functions can call other compiled functions. The function calls may even be inlined in the native code, depending on optimizer heuristics."
   ]
  },
  {
   "cell_type": "code",
   "execution_count": 19,
   "metadata": {
    "slideshow": {
     "slide_type": "fragment"
    }
   },
   "outputs": [],
   "source": [
    "import math\n",
    "from numba import njit\n",
    "\n",
    "@njit\n",
    "def square(x):\n",
    "    return x ** 2\n",
    "\n",
    "@njit\n",
    "def hypot(x, y):\n",
    "    return math.sqrt(square(x) + square(y)) # square function is inlined"
   ]
  },
  {
   "cell_type": "code",
   "execution_count": 20,
   "metadata": {
    "slideshow": {
     "slide_type": "fragment"
    }
   },
   "outputs": [
    {
     "data": {
      "text/plain": [
       "3.605551275463989"
      ]
     },
     "execution_count": 20,
     "metadata": {},
     "output_type": "execute_result"
    }
   ],
   "source": [
    "hypot(2., 3.)"
   ]
  },
  {
   "cell_type": "markdown",
   "metadata": {
    "slideshow": {
     "slide_type": "slide"
    }
   },
   "source": [
    "## @vectorize decorator\n",
    "\n",
    "- Numba’s vectorize allows Python functions taking scalar input arguments to be used as NumPy ufuncs. \n",
    "- Write your function as operating over input scalars, rather than arrays. Numba will generate the surrounding loop (or kernel) allowing efficient iteration over the actual inputs.\n",
    "\n",
    "### Two modes of operation:\n",
    "\n",
    "1. Eager mode: If you pass one or more type signatures to the decorator, you will be building a Numpy universal function (ufunc). \n",
    "2. Call-time mode: When not given any signatures, the decorator will give you a Numba dynamic universal function (DUFunc) that dynamically compiles a new kernel when called with a previously unsupported input type. \n",
    "\n"
   ]
  },
  {
   "cell_type": "code",
   "execution_count": 21,
   "metadata": {
    "slideshow": {
     "slide_type": "slide"
    }
   },
   "outputs": [],
   "source": [
    "from numba import vectorize, float64, float32, int32, int64\n",
    "\n",
    "@vectorize([float64(float64, float64)])\n",
    "def f(x, y):\n",
    "    return x + y"
   ]
  },
  {
   "cell_type": "markdown",
   "metadata": {
    "slideshow": {
     "slide_type": "fragment"
    }
   },
   "source": [
    "If you pass several signatures, beware that you have to pass most specific signatures before least specific ones (e.g., single-precision floats before double-precision floats)"
   ]
  },
  {
   "cell_type": "code",
   "execution_count": 22,
   "metadata": {
    "slideshow": {
     "slide_type": "fragment"
    }
   },
   "outputs": [],
   "source": [
    "@vectorize([int32(int32, int32),\n",
    "            int64(int64, int64),\n",
    "            float32(float32, float32),\n",
    "            float64(float64, float64)])\n",
    "def f(x, y):\n",
    "    return x + y"
   ]
  },
  {
   "cell_type": "code",
   "execution_count": 23,
   "metadata": {
    "slideshow": {
     "slide_type": "slide"
    }
   },
   "outputs": [
    {
     "data": {
      "text/plain": [
       "array([ 0,  2,  4,  6,  8, 10])"
      ]
     },
     "execution_count": 23,
     "metadata": {},
     "output_type": "execute_result"
    }
   ],
   "source": [
    "a = np.arange(6)\n",
    "f(a, a)"
   ]
  },
  {
   "cell_type": "code",
   "execution_count": 24,
   "metadata": {
    "slideshow": {
     "slide_type": "fragment"
    }
   },
   "outputs": [
    {
     "data": {
      "text/plain": [
       "array([0. , 0.4, 0.8, 1.2, 1.6, 2. ])"
      ]
     },
     "execution_count": 24,
     "metadata": {},
     "output_type": "execute_result"
    }
   ],
   "source": [
    "a = np.linspace(0, 1, 6)\n",
    "f(a, a)"
   ]
  },
  {
   "cell_type": "code",
   "execution_count": 25,
   "metadata": {
    "slideshow": {
     "slide_type": "slide"
    }
   },
   "outputs": [
    {
     "ename": "TypeError",
     "evalue": "ufunc 'f' not supported for the input types, and the inputs could not be safely coerced to any supported types according to the casting rule ''safe''",
     "output_type": "error",
     "traceback": [
      "\u001b[0;31m---------------------------------------------------------------------------\u001b[0m",
      "\u001b[0;31mTypeError\u001b[0m                                 Traceback (most recent call last)",
      "\u001b[0;32m<ipython-input-25-b196490ab338>\u001b[0m in \u001b[0;36m<module>\u001b[0;34m\u001b[0m\n\u001b[1;32m      1\u001b[0m \u001b[0ma\u001b[0m \u001b[0;34m=\u001b[0m \u001b[0mnp\u001b[0m\u001b[0;34m.\u001b[0m\u001b[0mlinspace\u001b[0m\u001b[0;34m(\u001b[0m\u001b[0;36m0\u001b[0m\u001b[0;34m,\u001b[0m \u001b[0;36m1\u001b[0m\u001b[0;34m+\u001b[0m\u001b[0;36m1j\u001b[0m\u001b[0;34m,\u001b[0m \u001b[0;36m6\u001b[0m\u001b[0;34m)\u001b[0m\u001b[0;34m\u001b[0m\u001b[0;34m\u001b[0m\u001b[0m\n\u001b[0;32m----> 2\u001b[0;31m \u001b[0mf\u001b[0m\u001b[0;34m(\u001b[0m\u001b[0ma\u001b[0m\u001b[0;34m,\u001b[0m \u001b[0ma\u001b[0m\u001b[0;34m)\u001b[0m\u001b[0;34m\u001b[0m\u001b[0;34m\u001b[0m\u001b[0m\n\u001b[0m",
      "\u001b[0;31mTypeError\u001b[0m: ufunc 'f' not supported for the input types, and the inputs could not be safely coerced to any supported types according to the casting rule ''safe''"
     ]
    }
   ],
   "source": [
    "a = np.linspace(0, 1+1j, 6)\n",
    "f(a, a)"
   ]
  },
  {
   "cell_type": "markdown",
   "metadata": {
    "slideshow": {
     "slide_type": "slide"
    }
   },
   "source": [
    "### Why not using a simple iteration loop using the @jit decorator? \n",
    "\n",
    "The answer is that NumPy ufuncs automatically get other features such as reduction, accumulation or broadcasting."
   ]
  },
  {
   "cell_type": "code",
   "execution_count": 26,
   "metadata": {
    "slideshow": {
     "slide_type": "fragment"
    }
   },
   "outputs": [
    {
     "data": {
      "text/plain": [
       "array([[ 0,  1,  2,  3],\n",
       "       [ 4,  5,  6,  7],\n",
       "       [ 8,  9, 10, 11]])"
      ]
     },
     "execution_count": 26,
     "metadata": {},
     "output_type": "execute_result"
    }
   ],
   "source": [
    "a = np.arange(12).reshape(3, 4)\n",
    "a"
   ]
  },
  {
   "cell_type": "code",
   "execution_count": 27,
   "metadata": {
    "slideshow": {
     "slide_type": "fragment"
    }
   },
   "outputs": [
    {
     "data": {
      "text/plain": [
       "array([12, 15, 18, 21])"
      ]
     },
     "execution_count": 27,
     "metadata": {},
     "output_type": "execute_result"
    }
   ],
   "source": [
    "f.reduce(a, axis=0)"
   ]
  },
  {
   "cell_type": "code",
   "execution_count": 28,
   "metadata": {
    "slideshow": {
     "slide_type": "fragment"
    }
   },
   "outputs": [
    {
     "data": {
      "text/plain": [
       "array([ 6, 22, 38])"
      ]
     },
     "execution_count": 28,
     "metadata": {},
     "output_type": "execute_result"
    }
   ],
   "source": [
    "f.reduce(a, axis=1)"
   ]
  },
  {
   "cell_type": "code",
   "execution_count": 29,
   "metadata": {
    "slideshow": {
     "slide_type": "slide"
    }
   },
   "outputs": [
    {
     "data": {
      "text/plain": [
       "array([[ 0,  1,  2,  3],\n",
       "       [ 4,  6,  8, 10],\n",
       "       [12, 15, 18, 21]])"
      ]
     },
     "execution_count": 29,
     "metadata": {},
     "output_type": "execute_result"
    }
   ],
   "source": [
    "f.accumulate(a)"
   ]
  },
  {
   "cell_type": "code",
   "execution_count": 30,
   "metadata": {
    "slideshow": {
     "slide_type": "fragment"
    }
   },
   "outputs": [
    {
     "data": {
      "text/plain": [
       "array([[ 0,  1,  3,  6],\n",
       "       [ 4,  9, 15, 22],\n",
       "       [ 8, 17, 27, 38]])"
      ]
     },
     "execution_count": 30,
     "metadata": {},
     "output_type": "execute_result"
    }
   ],
   "source": [
    "f.accumulate(a, axis=1)"
   ]
  },
  {
   "cell_type": "markdown",
   "metadata": {
    "slideshow": {
     "slide_type": "slide"
    }
   },
   "source": [
    "## The vectorize() decorator supports multiple ufunc targets:\n",
    "\n",
    "- **cpu**  *Single-threaded CPU* : small data sizes (approx. less than 1KB), no overhead.\n",
    "- **parallel** *Multi-core CPU* : medium data sizes (approx. less than 1MB), small overhead.\n",
    "- **cuda**  *CUDA GPU* big data sizes (approx. greater than 1MB), significant overhead.\n",
    "\n"
   ]
  },
  {
   "cell_type": "markdown",
   "metadata": {
    "slideshow": {
     "slide_type": "slide"
    }
   },
   "source": [
    "## The @guvectorize decorator"
   ]
  },
  {
   "cell_type": "markdown",
   "metadata": {
    "slideshow": {
     "slide_type": "fragment"
    }
   },
   "source": [
    "- It allows you to write ufuncs that will work on an arbitrary number of elements of input arrays, and take and return arrays of differing dimensions."
   ]
  },
  {
   "cell_type": "code",
   "execution_count": 31,
   "metadata": {
    "slideshow": {
     "slide_type": "fragment"
    }
   },
   "outputs": [],
   "source": [
    "from numba import guvectorize\n",
    "@guvectorize([(int64[:], int64[:], int64[:])], '(n),()->(n)')\n",
    "def g(x, y, res):\n",
    "    for i in range(x.shape[0]):\n",
    "        res[i] = x[i] + y[0]  # adds the scalar y to all elements of x"
   ]
  },
  {
   "cell_type": "markdown",
   "metadata": {
    "slideshow": {
     "slide_type": "fragment"
    }
   },
   "source": [
    "This decorator has two arguments:\n",
    "- the declaration (n),()->(n) tells NumPy that the function takes a n-element one-dimension array, a scalar (symbolically denoted by the empty tuple ()) and returns a n-element one-dimension array;\n",
    "- the list of supported concrete signatures as in @vectorize; here we only support int64 arrays."
   ]
  },
  {
   "cell_type": "markdown",
   "metadata": {
    "slideshow": {
     "slide_type": "slide"
    }
   },
   "source": [
    "## Automatic parallelization with @jit\n",
    "\n",
    "- Setting the parallel option for jit() enables this experimental Numba feature.\n",
    "- **Array Expressions like  element-wise or point-wise array operations are supported.**\n",
    "    - unary operators: + - ~\n",
    "    - binary operators: + - * / /? % | >> ^ << & ** //\n",
    "    - comparison operators: == != < <= > >=\n",
    "    - Numpy ufuncs that are supported in nopython mode.\n",
    "    - Numpy reduction functions sum and prod.\n",
    "\n",
    "- Numpy array creation functions zeros, ones, and several random functions (rand, randn, ranf, random_sample, sample, random, standard_normal, chisquare, weibull, power, geometric, exponential, poisson, rayleigh, normal, uniform, beta, binomial, f, gamma, lognormal, laplace, randint, triangular).\n",
    "\n",
    "Numpy dot function between a matrix and a vector, or two vectors. In all other cases, Numba’s default implementation is used.\n",
    "\n",
    "Multi-dimensional arrays are also supported for the above operations when operands have matching dimension and size. The full semantics of Numpy broadcast between arrays with mixed dimensionality or size is not supported, nor is the reduction across a selected dimension.\n",
    "\n",
    "http://numba.pydata.org/numba-doc/latest/user/parallel.html"
   ]
  },
  {
   "cell_type": "markdown",
   "metadata": {
    "slideshow": {
     "slide_type": "slide"
    }
   },
   "source": [
    "## Explicit Parallel Loops\n",
    "\n",
    "Another experimental feature of this module is support for explicit parallel loops. One can use Numba’s prange instead of range to specify that a loop can be parallelized. The user is required to make sure that the loop does not have cross iteration dependencies except the supported reductions. Currently, reductions on scalar values are supported and are inferred from in-place operations. The example below demonstrates a parallel loop with a reduction (A is a one-dimensional Numpy array):"
   ]
  },
  {
   "cell_type": "code",
   "execution_count": 32,
   "metadata": {
    "slideshow": {
     "slide_type": "fragment"
    }
   },
   "outputs": [],
   "source": [
    "from numba import njit, prange\n",
    "@njit(parallel=True)\n",
    "def prange_test(A):\n",
    "    s = 0\n",
    "    for i in prange(A.shape[0]):\n",
    "        s += A[i]\n",
    "    return s"
   ]
  },
  {
   "cell_type": "markdown",
   "metadata": {
    "slideshow": {
     "slide_type": "slide"
    }
   },
   "source": [
    "## Exercise \n",
    "- Optimize the Laplace equation solver with numba.\n",
    "    1. Use only @jit \n",
    "    2. Try to use @jit(nopython=True) option\n",
    "    3. Optimize the laplace function with the right signature.\n",
    "    4. Try to parallelize."
   ]
  },
  {
   "cell_type": "code",
   "execution_count": 33,
   "metadata": {
    "slideshow": {
     "slide_type": "slide"
    }
   },
   "outputs": [
    {
     "name": "stdout",
     "output_type": "stream",
     "text": [
      "(1, 1.0)\r",
      "(2, 1.0)\r",
      "(3, 1.0)\r",
      "(4, 1.0)\r",
      "(5, 1.0)\r",
      "(6, 1.0)\r",
      "(7, 1.0)\r",
      "(8, 1.0)\r",
      "(9, 0.9999999999999997)\r",
      "(10, 0.9999999999999902)\r",
      "(11, 0.9999999999997455)\r",
      "(12, 0.9999999999940791)\r",
      "(13, 0.9999999998756399)\r",
      "(14, 0.9999999976225641)\r",
      "(15, 0.9999999583376037)\r",
      "(16, 0.999999326700459)\r",
      "(17, 0.9999899130081685)\r",
      "(18, 0.9998592998914099)\r"
     ]
    },
    {
     "name": "stdout",
     "output_type": "stream",
     "text": [
      "(19, 0.9981701345865893)\r",
      "(20, 0.9783799284159196)\r",
      "(21, 0.8955847401702681)\r",
      "(22, 0.86986471833438)\r",
      "(23, 0.8098852631390057)\r",
      "(24, 0.7527529110760323)\r",
      "(25, 0.7272346882718936)\r",
      "(26, 0.6790691522857905)\r",
      "(27, 0.6320458179301557)\r",
      "(28, 0.6069386094512461)\r",
      "(29, 0.575385356496663)\r",
      "(30, 0.5398414266844065)\r",
      "(31, 0.5073489564930949)\r",
      "(32, 0.48297721114570125)\r",
      "(33, 0.4618345475862288)\r",
      "(34, 0.43827557692194496)\r",
      "(35, 0.4143357764645196)\r"
     ]
    },
    {
     "name": "stdout",
     "output_type": "stream",
     "text": [
      "(36, 0.3924382054205373)\r",
      "(37, 0.3733812863051147)\r",
      "(38, 0.35710865017565735)\r",
      "(39, 0.3420793814531387)\r",
      "(40, 0.326723185934865)\r",
      "(41, 0.31152930040701554)\r",
      "(42, 0.2967884812685721)\r",
      "(43, 0.2841936702538212)\r",
      "(44, 0.27229436409349167)\r",
      "(45, 0.2606966680515375)\r",
      "(46, 0.2505059654694677)\r",
      "(47, 0.24105086578370669)\r",
      "(48, 0.23174752119627523)\r",
      "(49, 0.22268821422383456)\r",
      "(50, 0.2139321391802263)\r",
      "(51, 0.2056789240103906)\r",
      "(52, 0.19852000459869076)\r",
      "(53, 0.19154016363351395)\r",
      "(54, 0.1847719042022457)\r",
      "(55, 0.1782359059639316)\r"
     ]
    },
    {
     "name": "stdout",
     "output_type": "stream",
     "text": [
      "(56, 0.1719439656938689)\r",
      "(57, 0.1661317583468397)\r",
      "(58, 0.16080143658541332)\r",
      "(59, 0.15562883918080994)\r",
      "(60, 0.15062374814273707)\r",
      "(61, 0.14579170278101808)\r",
      "(62, 0.14113498009837175)\r",
      "(63, 0.13701556698519357)\r",
      "(64, 0.1330577816617311)\r",
      "(65, 0.12921639402527813)\r",
      "(66, 0.12549428484635763)\r",
      "(67, 0.12189269341938404)\r",
      "(68, 0.11841156181043053)\r",
      "(69, 0.11504981910315674)\r",
      "(70, 0.11180561442912781)\r",
      "(71, 0.10867650683346695)\r",
      "(72, 0.10565961910779918)\r",
      "(73, 0.10277423555972015)\r"
     ]
    },
    {
     "name": "stdout",
     "output_type": "stream",
     "text": [
      "(74, 0.10011529446941532)\r",
      "(75, 0.09753952693641722)\r",
      "(76, 0.09504562060680743)\r",
      "(77, 0.09264232267884208)\r",
      "(78, 0.0904668914161219)\r",
      "(79, 0.08835029199885054)\r",
      "(80, 0.08629213569569119)\r",
      "(81, 0.08429178767300372)\r",
      "(82, 0.08234841271209116)\r",
      "(83, 0.08046101458056627)\r",
      "(84, 0.07862846977337559)\r",
      "(85, 0.07684955629552748)\r",
      "(86, 0.07512297810519541)\r",
      "(87, 0.07344738577824392)\r",
      "(88, 0.07182139389713012)\r",
      "(89, 0.07024359561098874)\r",
      "(90, 0.06871257476095718)\r",
      "(91, 0.06722691591624932)\r",
      "(92, 0.06578521262245907)\r"
     ]
    },
    {
     "name": "stdout",
     "output_type": "stream",
     "text": [
      "(93, 0.06438607412411373)\r",
      "(94, 0.0630281307884429)\r",
      "(95, 0.06171003842639934)\r",
      "(96, 0.06043048167985572)\r",
      "(97, 0.0592152869523178)\r",
      "(98, 0.05806095286424927)\r",
      "(99, 0.05697757075602701)\r",
      "(100, 0.055920346653939454)\r",
      "(101, 0.05488871668696673)\r",
      "(102, 0.053882107696533614)\r",
      "(103, 0.05289994070021914)\r",
      "(104, 0.0519416339031402)\r",
      "(105, 0.0510066053042519)\r",
      "(106, 0.05009427494092695)\r",
      "(107, 0.049204066811402214)\r",
      "(108, 0.04833541051107197)\r",
      "(109, 0.04748774261521061)\r",
      "(110, 0.046660507837522555)\r"
     ]
    },
    {
     "name": "stdout",
     "output_type": "stream",
     "text": [
      "(111, 0.0458531599909676)\r",
      "(112, 0.04506516277460256)\r",
      "(113, 0.04429599040768293)\r",
      "(114, 0.043545128130012725)\r",
      "(115, 0.04281207258546671)\r",
      "(116, 0.04209633210375605)\r",
      "(117, 0.04139742689381655)\r",
      "(118, 0.04071488916070421)\r",
      "(119, 0.04004826315651514)\r",
      "(120, 0.03939710517463711)\r",
      "(121, 0.03876098349555084)\r",
      "(122, 0.03813947829143378)\r",
      "(123, 0.03755177739422651)\r",
      "(124, 0.03697714917736227)\r",
      "(125, 0.03641481589428299)\r",
      "(126, 0.035864467615200624)\r",
      "(127, 0.03532580165895137)\r",
      "(128, 0.03479852258503548)\r",
      "(129, 0.03428234216279196)\r",
      "(130, 0.03377697932076092)\r"
     ]
    },
    {
     "name": "stdout",
     "output_type": "stream",
     "text": [
      "(131, 0.033282160078972826)\r",
      "(132, 0.03279761746660941)\r",
      "(133, 0.032323091427221125)\r",
      "(134, 0.031858328713448805)\r",
      "(135, 0.03140308277297653)\r",
      "(136, 0.0309571136272617)\r",
      "(137, 0.03052018774439911)\r",
      "(138, 0.030092077907334605)\r",
      "(139, 0.029672563078483802)\r",
      "(140, 0.02926142826171095)\r",
      "(141, 0.028858464362480605)\r",
      "(142, 0.028468070612449284)\r",
      "(143, 0.02808756035762739)\r",
      "(144, 0.027714239842811746)\r",
      "(145, 0.02734794309866435)\r",
      "(146, 0.026988508171532363)\r",
      "(147, 0.026635777055176644)\r",
      "(148, 0.026289595619858604)\r",
      "(149, 0.025949813539307552)\r"
     ]
    },
    {
     "name": "stdout",
     "output_type": "stream",
     "text": [
      "(150, 0.02561628421602147)\r",
      "(151, 0.025288864705315075)\r",
      "(152, 0.024967415638481445)\r",
      "(153, 0.024651801145389205)\r",
      "(154, 0.024341888776803735)\r",
      "(155, 0.02403754942669084)\r",
      "(156, 0.02373865725472386)\r",
      "(157, 0.023448442558632248)\r",
      "(158, 0.023167313848241167)\r",
      "(159, 0.022890950986996342)\r",
      "(160, 0.022619254071911316)\r",
      "(161, 0.022352125482355056)\r",
      "(162, 0.02208946983515546)\r",
      "(163, 0.021831193939553087)\r",
      "(164, 0.021577206752121974)\r",
      "(165, 0.021327419331770053)\r",
      "(166, 0.021081744794915463)\r",
      "(167, 0.0208400982709233)\r",
      "(168, 0.020602396857879606)\r",
      "(169, 0.020368559578769898)\r"
     ]
    },
    {
     "name": "stdout",
     "output_type": "stream",
     "text": [
      "(170, 0.020138507338121482)\r",
      "(171, 0.019912162879159593)\r",
      "(172, 0.019689450741525318)\r",
      "(173, 0.019470297219589903)\r",
      "(174, 0.019254630321401043)\r",
      "(175, 0.019042379728289205)\r",
      "(176, 0.01883347675515447)\r",
      "(177, 0.018627854311457605)\r",
      "(178, 0.0184254468629243)\r",
      "(179, 0.018226190393981823)\r",
      "(180, 0.018030022370931223)\r",
      "(181, 0.01783688170586273)\r",
      "(182, 0.017646708721320636)\r",
      "(183, 0.017459445115714647)\r",
      "(184, 0.017275033929479433)\r",
      "(185, 0.017093419511982084)\r",
      "(186, 0.016914547489169235)\r",
      "(187, 0.01673836473195097)\r"
     ]
    },
    {
     "name": "stdout",
     "output_type": "stream",
     "text": [
      "(188, 0.016564819325316015)\r",
      "(189, 0.016393860538167694)\r",
      "(190, 0.016225438793876196)\r",
      "(191, 0.01605950564153134)\r",
      "(192, 0.015896013727896497)\r",
      "(193, 0.01573491677003853)\r",
      "(194, 0.015576169528637449)\r",
      "(195, 0.015419727781954395)\r",
      "(196, 0.015265548300447218)\r",
      "(197, 0.015113588822027244)\r",
      "(198, 0.01496380802793859)\r",
      "(199, 0.01481616551924994)\r",
      "(200, 0.014670621793945515)\r",
      "(201, 0.014527138224605437)\r",
      "(202, 0.01438736890713093)\r",
      "(203, 0.014250539546155195)\r",
      "(204, 0.014115571242966198)\r",
      "(205, 0.01398243147597854)\r",
      "(206, 0.013851088398572414)\r"
     ]
    },
    {
     "name": "stdout",
     "output_type": "stream",
     "text": [
      "(207, 0.013721510823583295)\r",
      "(208, 0.013593668208150188)\r",
      "(209, 0.013467530638913205)\r",
      "(210, 0.013343068817564262)\r",
      "(211, 0.01322025404672726)\r",
      "(212, 0.01309905821618063)\r",
      "(213, 0.012979453789398838)\r",
      "(214, 0.012861413790416843)\r",
      "(215, 0.01274491179100515)\r",
      "(216, 0.012629921898153361)\r",
      "(217, 0.012516418741851219)\r",
      "(218, 0.012404377463161994)\r",
      "(219, 0.012293773702586103)\r",
      "(220, 0.012184583588700093)\r",
      "(221, 0.012076783727073161)\r",
      "(222, 0.011970351189449398)\r",
      "(223, 0.01186526350319165)\r",
      "(224, 0.011761498640982184)\r",
      "(225, 0.011659035010769501)\r"
     ]
    },
    {
     "name": "stdout",
     "output_type": "stream",
     "text": [
      "(226, 0.011557851445963312)\r",
      "(227, 0.011457927195863356)\r",
      "(228, 0.011359241916321566)\r",
      "(229, 0.011261775660631194)\r",
      "(230, 0.011165508870638323)\r",
      "(231, 0.011070422368064244)\r",
      "(232, 0.010976497346044433)\r",
      "(233, 0.010883715360868395)\r",
      "(234, 0.010792058323921695)\r",
      "(235, 0.010701508493823068)\r",
      "(236, 0.010612694239553013)\r",
      "(237, 0.010524939454181407)\r",
      "(238, 0.010438219705069775)\r",
      "(239, 0.010352519213191077)\r",
      "(240, 0.01026782248889201)\r",
      "(241, 0.010184114325863348)\r",
      "(242, 0.010101379795244225)\r",
      "(243, 0.010019604239858305)\r",
      "(244, 0.009938773268580194)\r"
     ]
    },
    {
     "name": "stdout",
     "output_type": "stream",
     "text": [
      "(245, 0.00985887275082239)\r",
      "(246, 0.009779888811153555)\r",
      "(247, 0.009701807824029046)\r",
      "(248, 0.009624616408643843)\r",
      "(249, 0.009548301423900236)\r",
      "(250, 0.009472849963483927)\r",
      "(251, 0.00939824935105715)\r",
      "(252, 0.009324487135551228)\r",
      "(253, 0.009251551086570655)\r",
      "(254, 0.009179429189895819)\r",
      "(255, 0.009108109643086792)\r",
      "(256, 0.009037580851186371)\r",
      "(257, 0.00896783142251806)\r",
      "(258, 0.008899260006120815)\r",
      "(259, 0.008832115486814068)\r",
      "(260, 0.00876568984815935)\r",
      "(261, 0.008699973143390454)\r",
      "(262, 0.008634955591719326)\r",
      "(263, 0.008570627575166957)\r"
     ]
    },
    {
     "name": "stdout",
     "output_type": "stream",
     "text": [
      "(264, 0.008506979635459606)\r",
      "(265, 0.008444002470989845)\r",
      "(266, 0.008381686933840626)\r",
      "(267, 0.008320024026871264)\r",
      "(268, 0.008259004900862737)\r",
      "(269, 0.008198620851723532)\r",
      "(270, 0.008138863317753268)\r",
      "(271, 0.008079723876961544)\r",
      "(272, 0.008021194244443794)\r",
      "(273, 0.007963266269810535)\r",
      "(274, 0.007905931934670499)\r",
      "(275, 0.007849183350162926)\r",
      "(276, 0.007793012754546299)\r",
      "(277, 0.007737412510830088)\r",
      "(278, 0.007682375104460121)\r",
      "(279, 0.007627893141048562)\r",
      "(280, 0.007573959344153423)\r"
     ]
    },
    {
     "name": "stdout",
     "output_type": "stream",
     "text": [
      "(281, 0.0075205665530993756)\r",
      "(282, 0.007467707720847371)\r",
      "(283, 0.0074153759119058565)\r",
      "(284, 0.007363564300283826)\r",
      "(285, 0.007312266167487155)\r",
      "(286, 0.007261474900556202)\r",
      "(287, 0.007211183990140087)\r",
      "(288, 0.007161387028614339)\r",
      "(289, 0.007112077708233471)\r",
      "(290, 0.007063249819323086)\r",
      "(291, 0.007014897248506528)\r",
      "(292, 0.006967013976969338)\r",
      "(293, 0.006919594078757657)\r",
      "(294, 0.006872631719110772)\r",
      "(295, 0.006826121152827085)\r",
      "(296, 0.006780056722665108)\r",
      "(297, 0.0067344328577718035)\r",
      "(298, 0.006689244072147366)\r"
     ]
    },
    {
     "name": "stdout",
     "output_type": "stream",
     "text": [
      "(299, 0.006644484963137547)\r",
      "(300, 0.006600150209957581)\r",
      "(301, 0.006556234572243802)\r",
      "(302, 0.006512732888636181)\r",
      "(303, 0.006469640075388475)\r",
      "(304, 0.006426951125002954)\r",
      "(305, 0.006384661104896593)\r",
      "(306, 0.0063427651560914585)\r",
      "(307, 0.006301258491930171)\r",
      "(308, 0.006260136396817446)\r",
      "(309, 0.006219394224986803)\r",
      "(310, 0.0061790273992908306)\r",
      "(311, 0.006139031410014316)\r",
      "(312, 0.0060994018137132495)\r",
      "(313, 0.006060134232072762)\r",
      "(314, 0.006021224350790561)\r",
      "(315, 0.00598266791847936)\r",
      "(316, 0.005944460745593443)\r",
      "(317, 0.005906598703372343)\r",
      "(318, 0.005869077722809564)\r"
     ]
    },
    {
     "name": "stdout",
     "output_type": "stream",
     "text": [
      "(319, 0.005831893793636156)\r",
      "(320, 0.005795042963327305)\r",
      "(321, 0.005758521336127336)\r",
      "(322, 0.005722325072091993)\r",
      "(323, 0.0056864503861510235)\r",
      "(324, 0.005650893547187218)\r",
      "(325, 0.005616054318304152)\r",
      "(326, 0.005581589574170559)\r",
      "(327, 0.0055474224523471725)\r",
      "(328, 0.005513549607624099)\r",
      "(329, 0.005479967740687844)\r",
      "(330, 0.005446673597385247)\r",
      "(331, 0.005413663968000699)\r",
      "(332, 0.005380935686544988)\r",
      "(333, 0.0053484856300591846)\r",
      "(334, 0.005316310717930253)\r",
      "(335, 0.005284407911217323)\r",
      "(336, 0.005252774211993267)\r",
      "(337, 0.005221406662694877)\r"
     ]
    },
    {
     "name": "stdout",
     "output_type": "stream",
     "text": [
      "(338, 0.005190302345487994)\r",
      "(339, 0.005159458381639975)\r",
      "(340, 0.005128871930907377)\r",
      "(341, 0.005098540190931737)\r",
      "(342, 0.0050684603966477315)\r",
      "(343, 0.005038629819700358)\r",
      "(344, 0.0050090457678744925)\r",
      "(345, 0.0049797055845321415)\r",
      "(346, 0.004950606648062111)\r",
      "(347, 0.004921746371335842)\r",
      "(348, 0.004893122201178207)\r",
      "(349, 0.004864731617842708)\r",
      "(350, 0.00483657213449592)\r",
      "(351, 0.004808641296717055)\r",
      "(352, 0.004780936681997224)\r",
      "(353, 0.004753455899254801)\r",
      "(354, 0.00472619658835662)\r",
      "(355, 0.004699156419644417)\r",
      "(356, 0.004672333093476402)\r"
     ]
    },
    {
     "name": "stdout",
     "output_type": "stream",
     "text": [
      "(357, 0.00464572433976995)\r",
      "(358, 0.00461932791755577)\r",
      "(359, 0.004593141614539014)\r",
      "(360, 0.004567163246668083)\r",
      "(361, 0.004541390657709962)\r",
      "(362, 0.004515821718834098)\r",
      "(363, 0.004490454328202991)\r",
      "(364, 0.004465286410568562)\r",
      "(365, 0.004440315916877363)\r",
      "(366, 0.004415540823880705)\r",
      "(367, 0.00439095913375361)\r",
      "(368, 0.004366568873716622)\r",
      "(369, 0.004342368095667897)\r",
      "(370, 0.004318354875820218)\r",
      "(371, 0.004294527314341681)\r",
      "(372, 0.004270883535005693)\r",
      "(373, 0.004247421684846847)\r",
      "(374, 0.004224139933817786)\r"
     ]
    },
    {
     "name": "stdout",
     "output_type": "stream",
     "text": [
      "(375, 0.004201036474458886)\r",
      "(376, 0.00417810952156812)\r",
      "(377, 0.004155357311878501)\r",
      "(378, 0.004132778103740006)\r",
      "(379, 0.00411037017680847)\r",
      "(380, 0.004088131831736608)\r",
      "(381, 0.004066061389874597)\r",
      "(382, 0.004044157192970289)\r",
      "(383, 0.0040224176028789815)\r",
      "(384, 0.004000841001274278)\r",
      "(385, 0.003979425789367132)\r",
      "(386, 0.00395817038762719)\r",
      "(387, 0.003937073235507937)\r",
      "(388, 0.003916132791179579)\r",
      "(389, 0.0038953475312634442)\r",
      "(390, 0.003874715950571315)\r",
      "(391, 0.003854236561849206)\r",
      "(392, 0.00383390789552609)\r",
      "(393, 0.003813728499464874)\r"
     ]
    },
    {
     "name": "stdout",
     "output_type": "stream",
     "text": [
      "(394, 0.0037936969387189394)\r",
      "(395, 0.003773811795292294)\r",
      "(396, 0.0037540716679027295)\r",
      "(397, 0.003734475171749043)\r",
      "(398, 0.0037150209382838936)\r",
      "(399, 0.00369570761498618)\r",
      "(400, 0.0036765338651425943)\r",
      "(401, 0.003657603476017653)\r",
      "(402, 0.0036389278304378974)\r",
      "(403, 0.003620384211880416)\r",
      "(404, 0.003601971400424073)\r",
      "(405, 0.0035836881899704662)\r",
      "(406, 0.003565533388056064)\r",
      "(407, 0.0035475058156754545)\r",
      "(408, 0.0035296043070984417)\r",
      "(409, 0.003511827709695778)\r",
      "(410, 0.003494174883766871)\r",
      "(411, 0.0034766447023669295)\r"
     ]
    },
    {
     "name": "stdout",
     "output_type": "stream",
     "text": [
      "(412, 0.003459236051140558)\r",
      "(413, 0.0034419478281555987)\r",
      "(414, 0.0034247789437395577)\r",
      "(415, 0.0034077283203201554)\r",
      "(416, 0.0033907948922663974)\r",
      "(417, 0.0033739776057322883)\r",
      "(418, 0.003357275418504187)\r",
      "(419, 0.0033406872998498166)\r",
      "(420, 0.0033242122303675206)\r",
      "(421, 0.003307849201841667)\r",
      "(422, 0.0032915972170971587)\r",
      "(423, 0.0032754552898570533)\r",
      "(424, 0.003259422444601864)\r",
      "(425, 0.0032434977164318753)\r",
      "(426, 0.003227680150930895)\r",
      "(427, 0.0032119688040317595)\r",
      "(428, 0.0031963627418849167)\r",
      "(429, 0.003180861040726662)\r"
     ]
    },
    {
     "name": "stdout",
     "output_type": "stream",
     "text": [
      "(430, 0.003165462786752087)\r",
      "(431, 0.003150167075987455)\r",
      "(432, 0.003134973014167704)\r",
      "(433, 0.0031198797166104796)\r",
      "(434, 0.0031048863080975894)\r",
      "(435, 0.003089991922754272)\r",
      "(436, 0.0030751957039326255)\r",
      "(437, 0.003060496804094991)\r",
      "(438, 0.0030458943847000946)\r",
      "(439, 0.0030313876160901008)\r",
      "(440, 0.0030169756773801874)\r",
      "(441, 0.0030026577563496294)\r",
      "(442, 0.0029884330493314478)\r",
      "(443, 0.002974300761109875)\r",
      "(444, 0.0029602601048135434)\r",
      "(445, 0.002946310301811584)\r",
      "(446, 0.002932450581613523)\r",
      "(447, 0.0029186801817676455)\r",
      "(448, 0.0029049983477629506)\r"
     ]
    },
    {
     "name": "stdout",
     "output_type": "stream",
     "text": [
      "(449, 0.0028914043329316217)\r",
      "(450, 0.0028778973983524755)\r",
      "(451, 0.0028644768127550646)\r",
      "(452, 0.002851141852429146)\r",
      "(453, 0.0028378918011299913)\r",
      "(454, 0.0028247259499885502)\r",
      "(455, 0.0028116435974216993)\r",
      "(456, 0.002798644049043969)\r",
      "(457, 0.0027857266175801074)\r",
      "(458, 0.0027728906227798638)\r",
      "(459, 0.002760135391333096)\r",
      "(460, 0.0027474602567852014)\r",
      "(461, 0.002734864559457011)\r",
      "(462, 0.0027223476463606464)\r",
      "(463, 0.0027099088711219537)\r",
      "(464, 0.0026975475939004074)\r",
      "(465, 0.0026852631813110896)\r"
     ]
    },
    {
     "name": "stdout",
     "output_type": "stream",
     "text": [
      "(466, 0.002673055006347956)\r",
      "(467, 0.0026609224483083605)\r",
      "(468, 0.002648864892717162)\r",
      "(469, 0.002636881731255837)\r",
      "(470, 0.002624972361685407)\r",
      "(471, 0.002613136187778856)\r",
      "(472, 0.002601372619247347)\r",
      "(473, 0.0025896810716725554)\r",
      "(474, 0.002578060966435661)\r",
      "(475, 0.002566511730651644)\r",
      "(476, 0.0025550327971009634)\r",
      "(477, 0.002543623604163094)\r",
      "(478, 0.002532283595752315)\r",
      "(479, 0.0025210122212527947)\r",
      "(480, 0.0025098089354553175)\r",
      "(481, 0.002498673198493582)\r",
      "(482, 0.002487604475784448)\r",
      "(483, 0.0024766022379647985)\r",
      "(484, 0.0024656659608331983)\r",
      "(485, 0.002454795125288454)\r"
     ]
    },
    {
     "name": "stdout",
     "output_type": "stream",
     "text": [
      "(486, 0.0024439892172726284)\r",
      "(487, 0.0024332477277136852)\r",
      "(488, 0.0024226651412696406)\r",
      "(489, 0.002412159787469724)\r",
      "(490, 0.0024017158455573117)\r",
      "(491, 0.0023913328449470853)\r",
      "(492, 0.00238101031950193)\r",
      "(493, 0.0023707478074820963)\r",
      "(494, 0.0023605448514967507)\r",
      "(495, 0.0023504009984552827)\r",
      "(496, 0.002340315799520673)\r",
      "(497, 0.002330288810061297)\r",
      "(498, 0.0023203195896049195)\r",
      "(499, 0.002310407701793127)\r",
      "(500, 0.0023005527143359046)\r",
      "(501, 0.002290754198966925)\r",
      "(502, 0.002281011731398971)\r"
     ]
    },
    {
     "name": "stdout",
     "output_type": "stream",
     "text": [
      "(503, 0.0022713248912806226)\r",
      "(504, 0.002261693262154472)\r",
      "(505, 0.0022521164314124654)\r",
      "(506, 0.002242593990254754)\r",
      "(507, 0.0022331255336493355)\r",
      "(508, 0.002223710660289936)\r",
      "(509, 0.0022143489725565107)\r",
      "(510, 0.002205040076472872)\r",
      "(511, 0.0021957835816715167)\r",
      "(512, 0.0021865791013510874)\r",
      "(513, 0.0021774262522396186)\r",
      "(514, 0.0021683246545560085)\r",
      "(515, 0.002159273931972634)\r",
      "(516, 0.0021502737115785494)\r",
      "(517, 0.00214132362384298)\r",
      "(518, 0.0021324233025782832)\r",
      "(519, 0.0021235723849051223)\r",
      "(520, 0.002114770511217636)\r"
     ]
    },
    {
     "name": "stdout",
     "output_type": "stream",
     "text": [
      "(521, 0.0021060173251470997)\r",
      "(522, 0.0020973124735292727)\r",
      "(523, 0.0020886556063691307)\r",
      "(524, 0.0020800463768076293)\r",
      "(525, 0.0020714844410891138)\r",
      "(526, 0.00206296945852788)\r",
      "(527, 0.0020545010914763285)\r",
      "(528, 0.00204607900529199)\r",
      "(529, 0.0020377028683080094)\r",
      "(530, 0.002029372351799533)\r",
      "(531, 0.00202108712995461)\r",
      "(532, 0.0020128468798430144)\r",
      "(533, 0.0020046512813862013)\r",
      "(534, 0.001996500017327591)\r",
      "(535, 0.0019883927732038354)\r",
      "(536, 0.0019803292373145385)\r",
      "(537, 0.001972309100694285)\r",
      "(538, 0.001964332057085354)\r",
      "(539, 0.0019563978029076955)\r"
     ]
    },
    {
     "name": "stdout",
     "output_type": "stream",
     "text": [
      "(540, 0.0019485060372322486)\r",
      "(541, 0.0019406564617543954)\r",
      "(542, 0.0019328487807653415)\r",
      "(543, 0.001925083921408157)\r",
      "(544, 0.001917372495987318)\r",
      "(545, 0.0019097019015876335)\r",
      "(546, 0.001902071855157633)\r",
      "(547, 0.0018944820760752484)\r",
      "(548, 0.0018869322861252648)\r",
      "(549, 0.0018794222094737586)\r",
      "(550, 0.0018719515726440734)\r",
      "(551, 0.0018645201044945668)\r",
      "(552, 0.0018571275361920743)\r",
      "(553, 0.0018497736011926756)\r",
      "(554, 0.001842458035214703)\r",
      "(555, 0.001835180576219413)\r",
      "(556, 0.0018279409643864764)\r"
     ]
    },
    {
     "name": "stdout",
     "output_type": "stream",
     "text": [
      "(557, 0.0018207389420923695)\r",
      "(558, 0.001813574253888958)\r",
      "(559, 0.0018064466464811323)\r",
      "(560, 0.0017993558687060358)\r",
      "(561, 0.0017923016715107089)\r",
      "(562, 0.0017852838079328278)\r",
      "(563, 0.001778302033079093)\r",
      "(564, 0.0017713561041044327)\r",
      "(565, 0.0017644457801920148)\r",
      "(566, 0.0017575708225341742)\r",
      "(567, 0.0017507309943111263)\r",
      "(568, 0.001743926060672731)\r",
      "(569, 0.0017371557887181604)\r",
      "(570, 0.0017304199474771041)\r",
      "(571, 0.0017237183078916204)\r",
      "(572, 0.0017170506427962723)\r",
      "(573, 0.0017104167269001587)\r",
      "(574, 0.0017038163367689575)\r",
      "(575, 0.0016972492508063692)\r"
     ]
    },
    {
     "name": "stdout",
     "output_type": "stream",
     "text": [
      "(576, 0.001690715249236198)\r",
      "(577, 0.0016842141140857958)\r",
      "(578, 0.0016777456291664384)\r",
      "(579, 0.0016713095800581419)\r",
      "(580, 0.001664905754092013)\r",
      "(581, 0.0016585339403323673)\r",
      "(582, 0.0016521939295609262)\r",
      "(583, 0.0016458855142606357)\r",
      "(584, 0.0016396084885981418)\r",
      "(585, 0.0016333626484086939)\r",
      "(586, 0.0016271477911796934)\r",
      "(587, 0.0016209637160347209)\r",
      "(588, 0.0016148102237180289)\r",
      "(589, 0.0016086871165799789)\r",
      "(590, 0.0016026278920003398)\r",
      "(591, 0.0015966163547597018)\r",
      "(592, 0.0015906339894855021)\r",
      "(593, 0.001584680611609038)\r",
      "(594, 0.0015787560380146224)\r"
     ]
    },
    {
     "name": "stdout",
     "output_type": "stream",
     "text": [
      "(595, 0.0015728600870269379)\r",
      "(596, 0.001566992578396255)\r",
      "(597, 0.0015611533332872557)\r",
      "(598, 0.0015553421742637704)\r",
      "(599, 0.001549558925277841)\r",
      "(600, 0.0015438034116554316)\r",
      "(601, 0.0015380754600840241)\r",
      "(602, 0.0015323748986006283)\r",
      "(603, 0.0015267015565786335)\r",
      "(604, 0.001521055264716523)\r",
      "(605, 0.0015154358550239846)\r",
      "(606, 0.0015098431608118062)\r",
      "(607, 0.00150427701667892)\r",
      "(608, 0.0014987372585006985)\r",
      "(609, 0.0014932237234166956)\r",
      "(610, 0.0014877362498214135)\r",
      "(611, 0.0014822746773498468)\r",
      "(612, 0.0014768388468679686)\r"
     ]
    },
    {
     "name": "stdout",
     "output_type": "stream",
     "text": [
      "(613, 0.0014714286004612169)\r",
      "(614, 0.001466043781423608)\r",
      "(615, 0.0014606842342464103)\r",
      "(616, 0.0014553498046070857)\r",
      "(617, 0.0014500403393595622)\r",
      "(618, 0.0014447556865225212)\r",
      "(619, 0.0014394956952693656)\r",
      "(620, 0.001434260215917978)\r",
      "(621, 0.0014290490999204954)\r",
      "(622, 0.0014238621998522874)\r",
      "(623, 0.0014186993694030679)\r",
      "(624, 0.0014135604633656771)\r",
      "(625, 0.0014084453376275764)\r",
      "(626, 0.0014033538491594337)\r",
      "(627, 0.0013982858560080424)\r",
      "(628, 0.001393241217283072)\r",
      "(629, 0.0013882197931507116)\r",
      "(630, 0.0013832214448230053)\r"
     ]
    },
    {
     "name": "stdout",
     "output_type": "stream",
     "text": [
      "(631, 0.001378246034548716)\r",
      "(632, 0.0013732934256043086)\r",
      "(633, 0.0013683634822840162)\r",
      "(634, 0.0013634560698924554)\r",
      "(635, 0.0013585710547337774)\r",
      "(636, 0.0013537083041056676)\r",
      "(637, 0.0013488676862858599)\r",
      "(638, 0.001344049070529126)\r",
      "(639, 0.0013392523270544848)\r",
      "(640, 0.0013344773270387322)\r",
      "(641, 0.0013297239426081264)\r",
      "(642, 0.0013249920468280155)\r",
      "(643, 0.0013202815136972611)\r",
      "(644, 0.001315592218138992)\r",
      "(645, 0.001310924035992044)\r",
      "(646, 0.001306276844003869)\r",
      "(647, 0.0013016505198218415)\r",
      "(648, 0.001297044941985919)\r"
     ]
    },
    {
     "name": "stdout",
     "output_type": "stream",
     "text": [
      "(649, 0.0012924599899212883)\r",
      "(650, 0.0012878955439289625)\r",
      "(651, 0.0012833514851813414)\r",
      "(652, 0.0012788276957108608)\r",
      "(653, 0.0012743240584059715)\r",
      "(654, 0.0012698404570015652)\r",
      "(655, 0.0012653767760725482)\r",
      "(656, 0.0012609329010263757)\r",
      "(657, 0.0012565087180966934)\r",
      "(658, 0.0012521041143343783)\r",
      "(659, 0.0012477189776031517)\r",
      "(660, 0.0012433531965699105)\r",
      "(661, 0.0012390066606999563)\r",
      "(662, 0.0012346792602492915)\r",
      "(663, 0.0012303708862577893)\r",
      "(664, 0.001226081430542893)\r",
      "(665, 0.0012218107856930632)\r",
      "(666, 0.0012175588450599832)\r"
     ]
    },
    {
     "name": "stdout",
     "output_type": "stream",
     "text": [
      "(667, 0.0012133255027548353)\r",
      "(668, 0.0012091106536387844)\r",
      "(669, 0.0012049141933184225)\r",
      "(670, 0.0012007360181384133)\r",
      "(671, 0.0011965760251775243)\r",
      "(672, 0.001192434112239448)\r",
      "(673, 0.0011883101778485503)\r",
      "(674, 0.0011842041212428334)\r",
      "(675, 0.001180115842369827)\r",
      "(676, 0.001176045241877293)\r",
      "(677, 0.0011719922211105816)\r",
      "(678, 0.0011679566821061096)\r",
      "(679, 0.001163938527583392)\r",
      "(680, 0.0011599376609423837)\r",
      "(681, 0.001155953986255873)\r",
      "(682, 0.0011519874082639087)\r",
      "(683, 0.0011480378323696036)\r",
      "(684, 0.0011441051646330412)\r"
     ]
    },
    {
     "name": "stdout",
     "output_type": "stream",
     "text": [
      "(685, 0.001140189311764611)\r",
      "(686, 0.0011362901811205778)\r",
      "(687, 0.0011324076806995746)\r",
      "(688, 0.0011285417191324637)\r",
      "(689, 0.001124692205683284)\r",
      "(690, 0.0011208590502385972)\r",
      "(691, 0.0011170421633057502)\r",
      "(692, 0.0011132414560066672)\r",
      "(693, 0.001109456840072356)\r",
      "(694, 0.0011056882278385497)\r",
      "(695, 0.0011019355322411893)\r",
      "(696, 0.001098198666810043)\r",
      "(697, 0.0010944775456651684)\r",
      "(698, 0.0010907720835117186)\r",
      "(699, 0.001087082195634598)\r",
      "(700, 0.0010834077978955183)\r",
      "(701, 0.0010797488067252113)\r",
      "(702, 0.0010761051391229397)\r"
     ]
    },
    {
     "name": "stdout",
     "output_type": "stream",
     "text": [
      "(703, 0.0010724767126467003)\r",
      "(704, 0.0010688634454145394)\r",
      "(705, 0.001065265256095296)\r",
      "(706, 0.0010616820639064108)\r",
      "(707, 0.00105811378860924)\r",
      "(708, 0.0010545603505035769)\r",
      "(709, 0.00105102167042624)\r",
      "(710, 0.0010474976697423216)\r",
      "(711, 0.001043988270344725)\r",
      "(712, 0.0010404933946482576)\r",
      "(713, 0.0010370129655858905)\r",
      "(714, 0.0010335469066040115)\r",
      "(715, 0.0010300951416594103)\r",
      "(716, 0.0010266575952142104)\r",
      "(717, 0.00102323419223232)\r",
      "(718, 0.001019824858175091)\r",
      "(719, 0.0010164295189976546)\r",
      "(720, 0.001013048101145926)\r"
     ]
    },
    {
     "name": "stdout",
     "output_type": "stream",
     "text": [
      "(721, 0.0010096952660362363)\r",
      "(722, 0.001006361947680366)\r",
      "(723, 0.0010030421054945705)\r",
      "(724, 0.0009997356700089577)\r",
      "(725, 0.0009964425722030258)\r",
      "(726, 0.0009931627435031969)\r",
      "(727, 0.0009898961157780541)\r",
      "(728, 0.0009866426213363786)\r",
      "(729, 0.000983402192922679)\r",
      "(730, 0.0009801747637134017)\r",
      "(731, 0.0009769602673152897)\r",
      "(732, 0.0009737586377610329)\r",
      "(733, 0.0009705698095055905)\r",
      "(734, 0.0009673937174233978)\r",
      "(735, 0.0009642302968051856)\r",
      "(736, 0.0009610794833554659)\r",
      "(737, 0.0009579412131869047)\r"
     ]
    },
    {
     "name": "stdout",
     "output_type": "stream",
     "text": [
      "(738, 0.0009548154228212396)\r",
      "(739, 0.0009517020491812098)\r",
      "(740, 0.0009486010295925868)\r",
      "(741, 0.0009455123017770181)\r",
      "(742, 0.0009424358038511914)\r",
      "(743, 0.0009393714743226837)\r",
      "(744, 0.0009363192520889754)\r",
      "(745, 0.0009332790764310753)\r",
      "(746, 0.0009302508870138532)\r",
      "(747, 0.0009272346238818145)\r",
      "(748, 0.0009242302274557469)\r",
      "(749, 0.0009212376385312673)\r",
      "(750, 0.0009182567982736642)\r",
      "(751, 0.0009152876482185788)\r",
      "(752, 0.000912330130265049)\r",
      "(753, 0.0009093841866766629)\r",
      "(754, 0.0009064497600765291)\r",
      "(755, 0.0009035267934443539)\r",
      "(756, 0.0009006152301160203)\r",
      "(757, 0.0008977150137780386)\r",
      "(758, 0.0008948260884671845)\r"
     ]
    },
    {
     "name": "stdout",
     "output_type": "stream",
     "text": [
      "(759, 0.0008919483985670701)\r",
      "(760, 0.0008890818888047503)\r",
      "(761, 0.0008862265042496163)\r",
      "(762, 0.0008833821903100566)\r",
      "(763, 0.0008805488927311725)\r",
      "(764, 0.0008777265575910901)\r",
      "(765, 0.0008749151313013914)\r",
      "(766, 0.0008721145606008203)\r",
      "(767, 0.0008693247925563791)\r",
      "(768, 0.0008665457745583183)\r",
      "(769, 0.0008637774543194438)\r",
      "(770, 0.0008610197798717941)\r",
      "(771, 0.0008582726995641639)\r",
      "(772, 0.0008555361620612772)\r",
      "(773, 0.000852810116338716)\r",
      "(774, 0.0008500945116841755)\r",
      "(775, 0.0008473892976918352)\r",
      "(776, 0.0008446944242624422)\r",
      "(777, 0.0008420098415989554)\r",
      "(778, 0.0008393355002072776)\r",
      "(779, 0.0008366713508909385)\r"
     ]
    },
    {
     "name": "stdout",
     "output_type": "stream",
     "text": [
      "(780, 0.0008340173447514659)\r",
      "(781, 0.000831373433183325)\r",
      "(782, 0.0008287395678757443)\r",
      "(783, 0.0008261157008064916)\r",
      "(784, 0.0008235017842427357)\r",
      "(785, 0.0008208977707372894)\r",
      "(786, 0.0008183036131274978)\r",
      "(787, 0.0008157192645327354)\r",
      "(788, 0.0008131446783517294)\r",
      "(789, 0.0008105798082621107)\r",
      "(790, 0.0008080246082173754)\r",
      "(791, 0.0008054790324448735)\r",
      "(792, 0.0008029430354434187)\r",
      "(793, 0.0008004165719833176)\r",
      "(794, 0.0007978995971016201)\r",
      "(795, 0.0007953920661025891)\r",
      "(796, 0.0007928939345545906)\r",
      "(797, 0.0007904051582878085)\r"
     ]
    },
    {
     "name": "stdout",
     "output_type": "stream",
     "text": [
      "(798, 0.0007879256933937688)\r",
      "(799, 0.0007854554962222945)\r",
      "(800, 0.0007829945233810661)\r",
      "(801, 0.0007805427317308304)\r",
      "(802, 0.0007781000783873825)\r",
      "(803, 0.0007756665207168134)\r",
      "(804, 0.0007732420163355408)\r",
      "(805, 0.0007708265231075808)\r",
      "(806, 0.0007684199991432258)\r",
      "(807, 0.0007660224027971463)\r",
      "(808, 0.0007636336926655241)\r",
      "(809, 0.0007612538275879422)\r",
      "(810, 0.0007588827666406041)\r",
      "(811, 0.0007565204691394404)\r",
      "(812, 0.0007541668946341591)\r",
      "(813, 0.0007518220029107871)\r",
      "(814, 0.0007494857539863511)\r",
      "(815, 0.0007471581081096773)\r",
      "(816, 0.0007448390257590579)\r"
     ]
    },
    {
     "name": "stdout",
     "output_type": "stream",
     "text": [
      "(817, 0.0007425284676395468)\r",
      "(818, 0.0007402263946832123)\r",
      "(819, 0.0007379327680466593)\r",
      "(820, 0.0007356475491093531)\r",
      "(821, 0.0007333706994713732)\r",
      "(822, 0.0007311021809547017)\r",
      "(823, 0.0007288419555976835)\r",
      "(824, 0.0007265899856569306)\r",
      "(825, 0.0007243462336033807)\r",
      "(826, 0.000722110662122471)\r",
      "(827, 0.0007198832341119832)\r",
      "(828, 0.000717663912680686)\r",
      "(829, 0.0007154526611466017)\r",
      "(830, 0.0007132494430360664)\r",
      "(831, 0.0007110542220816373)\r",
      "(832, 0.0007088669622215688)\r",
      "(833, 0.000706687627597361)\r"
     ]
    },
    {
     "name": "stdout",
     "output_type": "stream",
     "text": [
      "(834, 0.0007045161825532636)\r",
      "(835, 0.0007023525916348209)\r",
      "(836, 0.0007001968195860791)\r",
      "(837, 0.0006980488313508697)\r",
      "(838, 0.0006959085920684959)\r",
      "(839, 0.0006937760670750412)\r",
      "(840, 0.0006916512218994725)\r",
      "(841, 0.0006895340222653567)\r",
      "(842, 0.0006874244340862218)\r",
      "(843, 0.0006853224234672959)\r",
      "(844, 0.0006832279567014761)\r",
      "(845, 0.0006811410002703199)\r",
      "(846, 0.0006790615208419644)\r",
      "(847, 0.0006769894852688717)\r",
      "(848, 0.0006749248605882739)\r",
      "(849, 0.0006728676140195582)\r",
      "(850, 0.000670817712963776)\r",
      "(851, 0.0006687751250025857)\r",
      "(852, 0.0006667398178964431)\r"
     ]
    },
    {
     "name": "stdout",
     "output_type": "stream",
     "text": [
      "(853, 0.00066471175958357)\r",
      "(854, 0.0006626909181785515)\r",
      "(855, 0.0006606772619719)\r",
      "(856, 0.0006586707594284842)\r",
      "(857, 0.0006566713791863496)\r",
      "(858, 0.0006546790900546011)\r",
      "(859, 0.0006526938610145348)\r",
      "(860, 0.0006507156612162058)\r",
      "(861, 0.0006487444599784393)\r",
      "(862, 0.0006467802267877072)\r",
      "(863, 0.0006448229312968254)\r",
      "(864, 0.0006428725433234734)\r",
      "(865, 0.0006409290328500528)\r",
      "(866, 0.0006389923700208991)\r",
      "(867, 0.0006370625251440573)\r",
      "(868, 0.000635139468686997)\r",
      "(869, 0.0006332231712776501)\r",
      "(870, 0.0006313136037024226)\r",
      "(871, 0.0006294107369059222)\r"
     ]
    },
    {
     "name": "stdout",
     "output_type": "stream",
     "text": [
      "(872, 0.0006275145419897482)\r",
      "(873, 0.0006256249902099705)\r",
      "(874, 0.0006237420529780194)\r",
      "(875, 0.0006218657018595033)\r",
      "(876, 0.0006199959085719082)\r",
      "(877, 0.0006181326449845681)\r",
      "(878, 0.0006162758831175148)\r",
      "(879, 0.0006144255951407114)\r",
      "(880, 0.0006125817533723562)\r",
      "(881, 0.0006107443302788876)\r",
      "(882, 0.0006089132984731181)\r",
      "(883, 0.0006070886307136931)\r",
      "(884, 0.0006052702999045576)\r",
      "(885, 0.0006034582790929308)\r",
      "(886, 0.0006016525414701024)\r",
      "(887, 0.0005998530603679269)\r",
      "(888, 0.0005980598092609465)\r"
     ]
    },
    {
     "name": "stdout",
     "output_type": "stream",
     "text": [
      "(889, 0.0005962727617627173)\r",
      "(890, 0.0005944918916273841)\r",
      "(891, 0.0005927171727460281)\r",
      "(892, 0.000590948579148815)\r",
      "(893, 0.0005891860850019209)\r",
      "(894, 0.0005874296646070819)\r",
      "(895, 0.0005856792924013378)\r",
      "(896, 0.0005839349429556636)\r",
      "(897, 0.0005821965909745406)\r",
      "(898, 0.0005804642112944197)\r",
      "(899, 0.0005787377788833086)\r",
      "(900, 0.0005770172688401795)\r",
      "(901, 0.0005753026563938267)\r",
      "(902, 0.0005735939169015488)\r",
      "(903, 0.0005718910258498764)\r",
      "(904, 0.0005701939588517845)\r",
      "(905, 0.0005685026916472507)\r",
      "(906, 0.0005668172001019647)\r",
      "(907, 0.0005651374602069736)\r"
     ]
    },
    {
     "name": "stdout",
     "output_type": "stream",
     "text": [
      "(908, 0.000563463448076482)\r",
      "(909, 0.000561795139949545)\r",
      "(910, 0.0005601325121867745)\r",
      "(911, 0.0005584755412713044)\r",
      "(912, 0.0005568242038069913)\r",
      "(913, 0.0005551784765180997)\r",
      "(914, 0.0005535383362486247)\r",
      "(915, 0.000551903759961251)\r",
      "(916, 0.0005502747247370585)\r",
      "(917, 0.0005486512077743106)\r",
      "(918, 0.0005470331863876204)\r",
      "(919, 0.0005454206380078575)\r",
      "(920, 0.0005438135401809575)\r",
      "(921, 0.0005422118705674735)\r",
      "(922, 0.0005406156069415833)\r",
      "(923, 0.00053902472719047)\r",
      "(924, 0.0005374392093133421)\r",
      "(925, 0.0005358590314221085)\r"
     ]
    },
    {
     "name": "stdout",
     "output_type": "stream",
     "text": [
      "(926, 0.0005342841717383956)\r",
      "(927, 0.0005327146085947842)\r",
      "(928, 0.0005311503204334868)\r",
      "(929, 0.0005295912858050338)\r",
      "(930, 0.0005280374833693401)\r",
      "(931, 0.0005264888918922105)\r",
      "(932, 0.0005249454902482444)\r",
      "(933, 0.0005234105812393421)\r",
      "(934, 0.0005218823422560093)\r",
      "(935, 0.0005203591815273162)\r",
      "(936, 0.0005188410787590711)\r",
      "(937, 0.000517328013756951)\r",
      "(938, 0.0005158199664259947)\r",
      "(939, 0.000514316916771217)\r",
      "(940, 0.0005128188448950659)\r",
      "(941, 0.00051132573099879)\r",
      "(942, 0.0005098375553800943)\r",
      "(943, 0.000508354298434329)\r"
     ]
    },
    {
     "name": "stdout",
     "output_type": "stream",
     "text": [
      "(944, 0.0005068759406517861)\r",
      "(945, 0.0005054024626194541)\r",
      "(946, 0.0005039338450185104)\r",
      "(947, 0.0005024700686251572)\r",
      "(948, 0.0005010111143088673)\r",
      "(949, 0.0004995569630328574)\r",
      "(950, 0.0004981075958529001)\r",
      "(951, 0.000496662993917065)\r",
      "(952, 0.000495223138464911)\r",
      "(953, 0.000493788010826868)\r",
      "(954, 0.0004923575924249146)\r",
      "(955, 0.0004909318647697532)\r",
      "(956, 0.0004895108094622368)\r",
      "(957, 0.0004880944081925814)\r",
      "(958, 0.00048668264273848136)\r",
      "(959, 0.00048527549496654417)\r",
      "(960, 0.00048387294682986185)\r",
      "(961, 0.0004824749803690852)\r"
     ]
    },
    {
     "name": "stdout",
     "output_type": "stream",
     "text": [
      "(962, 0.00048108157771129244)\r",
      "(963, 0.0004796927210683133)\r",
      "(964, 0.00047830839273891587)\r",
      "(965, 0.00047692857510621867)\r",
      "(966, 0.0004755532506365803)\r",
      "(967, 0.0004741824018816123)\r",
      "(968, 0.0004728160114761561)\r",
      "(969, 0.00047145406213755194)\r",
      "(970, 0.0004700965366650948)\r",
      "(971, 0.0004687434179415078)\r",
      "(972, 0.00046739468892929246)\r",
      "(973, 0.00046605033267294217)\r",
      "(974, 0.00046471033229767995)\r",
      "(975, 0.0004633746710074718)\r",
      "(976, 0.00046204333208779523)\r",
      "(977, 0.0004607162989012847)\r",
      "(978, 0.0004593935548910539)\r",
      "(979, 0.00045807508357689953)\r"
     ]
    },
    {
     "name": "stdout",
     "output_type": "stream",
     "text": [
      "(980, 0.0004567608685571685)\r",
      "(981, 0.00045545089350788935)\r",
      "(982, 0.0004541451421808162)\r",
      "(983, 0.0004528435984054848)\r",
      "(984, 0.0004515462460865347)\r",
      "(985, 0.0004502530692043151)\r",
      "(986, 0.000448964051814582)\r",
      "(987, 0.000447679178047472)\r",
      "(988, 0.00044639843210757057)\r",
      "(989, 0.00044512179827325705)\r",
      "(990, 0.00044384926089641554)\r",
      "(991, 0.0004425808044023309)\r",
      "(992, 0.0004413164132875935)\r",
      "(993, 0.0004400560721225408)\r",
      "(994, 0.00043879976554826185)\r",
      "(995, 0.0004375474782775946)\r",
      "(996, 0.0004362991950943132)\r",
      "(997, 0.00043505490085268107)\r"
     ]
    },
    {
     "name": "stdout",
     "output_type": "stream",
     "text": [
      "(998, 0.0004338145804770081)\r",
      "(999, 0.00043257821896175235)\r",
      "(1000, 0.0004313458013707208)\r",
      "(1001, 0.00043011731283573295)\r",
      "(1002, 0.00042889273855853844)\r",
      "(1003, 0.0004276720638089429)\r",
      "(1004, 0.00042645527392276106)\r",
      "(1005, 0.0004252423543060855)\r",
      "(1006, 0.0004240332904296369)\r",
      "(1007, 0.0004228280678321362)\r",
      "(1008, 0.00042162667211880867)\r",
      "(1009, 0.00042042908895971454)\r",
      "(1010, 0.00041923530409078414)\r",
      "(1011, 0.000418045303314312)\r",
      "(1012, 0.00041685907249621747)\r",
      "(1013, 0.0004156765975667274)\r",
      "(1014, 0.0004144978645217771)\r",
      "(1015, 0.000413322859419204)\r",
      "(1016, 0.00041215156838141304)\r"
     ]
    },
    {
     "name": "stdout",
     "output_type": "stream",
     "text": [
      "(1017, 0.0004109839775939108)\r",
      "(1018, 0.000409820073303667)\r",
      "(1019, 0.0004086598418216033)\r",
      "(1020, 0.00040750326952024063)\r",
      "(1021, 0.0004063503428329668)\r",
      "(1022, 0.0004052010482550967)\r",
      "(1023, 0.0004040553723431429)\r",
      "(1024, 0.0004029133017140899)\r",
      "(1025, 0.00040177482304520787)\r",
      "(1026, 0.00040063992307351183)\r",
      "(1027, 0.00039950858859629505)\r",
      "(1028, 0.00039838080646987763)\r",
      "(1029, 0.00039725656360943085)\r",
      "(1030, 0.00039613584698916017)\r",
      "(1031, 0.0003950186436414197)\r",
      "(1032, 0.0003939049406569)\r",
      "(1033, 0.0003927947251832134)\r",
      "(1034, 0.0003916879844266906)\r"
     ]
    },
    {
     "name": "stdout",
     "output_type": "stream",
     "text": [
      "(1035, 0.00039058470564954506)\r",
      "(1036, 0.0003894848761716737)\r",
      "(1037, 0.00038838848336925205)\r",
      "(1038, 0.00038729551467440196)\r",
      "(1039, 0.000386205957575039)\r",
      "(1040, 0.00038511979961525526)\r",
      "(1041, 0.0003840370283937485)\r",
      "(1042, 0.0003829576315645654)\r",
      "(1043, 0.0003818815968366016)\r",
      "(1044, 0.0003808089119725725)\r",
      "(1045, 0.0003797395647899391)\r",
      "(1046, 0.00037867354315952793)\r",
      "(1047, 0.00037761083500592845)\r",
      "(1048, 0.00037655142830665054)\r",
      "(1049, 0.00037549531109252543)\r",
      "(1050, 0.0003744424714466906)\r",
      "(1051, 0.0003733928975049946)\r",
      "(1052, 0.00037234657745551734)\r",
      "(1053, 0.0003713034995370326)\r",
      "(1054, 0.0003702636520418944)\r"
     ]
    },
    {
     "name": "stdout",
     "output_type": "stream",
     "text": [
      "(1055, 0.00036922702331114286)\r",
      "(1056, 0.00036819360173916203)\r",
      "(1057, 0.0003671633757700286)\r",
      "(1058, 0.00036613633389775404)\r",
      "(1059, 0.0003651124646675864)\r",
      "(1060, 0.0003640917566743114)\r",
      "(1061, 0.00036307419856179376)\r",
      "(1062, 0.0003620597790241064)\r",
      "(1063, 0.000361048486804545)\r",
      "(1064, 0.00036004031069358837)\r",
      "(1065, 0.00035903523953285217)\r",
      "(1066, 0.00035803326221058555)\r",
      "(1067, 0.00035703436766351416)\r",
      "(1068, 0.00035603854487621753)\r",
      "(1069, 0.0003550457828812126)\r",
      "(1070, 0.000354056070757632)\r",
      "(1071, 0.000353069397632718)\r",
      "(1072, 0.0003520857526798014)\r",
      "(1073, 0.00035110512511892)\r"
     ]
    },
    {
     "name": "stdout",
     "output_type": "stream",
     "text": [
      "(1074, 0.0003501275042165594)\r",
      "(1075, 0.0003491528792853955)\r",
      "(1076, 0.00034818123968403855)\r",
      "(1077, 0.00034721257481642884)\r",
      "(1078, 0.0003462468741321108)\r",
      "(1079, 0.00034528412712633285)\r",
      "(1080, 0.0003443243233375207)\r",
      "(1081, 0.00034336745235088567)\r",
      "(1082, 0.00034241350379537495)\r",
      "(1083, 0.00034146246734325465)\r",
      "(1084, 0.00034051433271214314)\r",
      "(1085, 0.00033956908966249527)\r",
      "(1086, 0.00033862672799858917)\r",
      "(1087, 0.00033768723756846315)\r",
      "(1088, 0.00033675060826263175)\r",
      "(1089, 0.00033581683001455135)\r",
      "(1090, 0.00033488589280073703)\r"
     ]
    },
    {
     "name": "stdout",
     "output_type": "stream",
     "text": [
      "(1091, 0.0003339577866398331)\r",
      "(1092, 0.000333032501592908)\r",
      "(1093, 0.0003321100277625288)\r",
      "(1094, 0.0003311903552937565)\r",
      "(1095, 0.00033027347437287455)\r",
      "(1096, 0.0003293593752273408)\r",
      "(1097, 0.00032844804812626297)\r",
      "(1098, 0.00032753948337913344)\r",
      "(1099, 0.0003266336713361337)\r",
      "(1100, 0.00032573060238861337)\r",
      "(1101, 0.0003248302669681779)\r",
      "(1102, 0.00032393265554577904)\r",
      "(1103, 0.0003230377586325467)\r",
      "(1104, 0.00032214556677992434)\r",
      "(1105, 0.0003212560705780691)\r",
      "(1106, 0.0003203692606568598)\r",
      "(1107, 0.0003194851276855159)\r",
      "(1108, 0.00031860366237152377)\r"
     ]
    },
    {
     "name": "stdout",
     "output_type": "stream",
     "text": [
      "(1109, 0.00031772485546112763)\r",
      "(1110, 0.0003168486977399936)\r",
      "(1111, 0.0003159751800309264)\r",
      "(1112, 0.0003151042931955775)\r",
      "(1113, 0.0003142360281332058)\r",
      "(1114, 0.00031337037578117326)\r",
      "(1115, 0.00031250732711370955)\r",
      "(1116, 0.0003116468731432761)\r",
      "(1117, 0.0003107890049189867)\r",
      "(1118, 0.0003099337135264163)\r",
      "(1119, 0.00030908099008948613)\r",
      "(1120, 0.00030823082576715945)\r",
      "(1121, 0.0003073832117553299)\r",
      "(1122, 0.000306538139286979)\r",
      "(1123, 0.000305695599629916)\r",
      "(1124, 0.0003048555840883223)\r",
      "(1125, 0.0003040180840023943)\r",
      "(1126, 0.0003031830907476432)\r"
     ]
    },
    {
     "name": "stdout",
     "output_type": "stream",
     "text": [
      "(1127, 0.0003023505957345415)\r",
      "(1128, 0.0003015205904092066)\r",
      "(1129, 0.0003006930662528763)\r",
      "(1130, 0.00029986801478138625)\r",
      "(1131, 0.0002990454275451669)\r",
      "(1132, 0.0002982252961292403)\r",
      "(1133, 0.0002974076121527019)\r",
      "(1134, 0.00029659236726940866)\r",
      "(1135, 0.0002957795531662575)\r",
      "(1136, 0.0002949691615652533)\r",
      "(1137, 0.00029416118422075695)\r",
      "(1138, 0.0002933556129210389)\r",
      "(1139, 0.00029255243948845503)\r",
      "(1140, 0.0002917516557770454)\r",
      "(1141, 0.00029095325367546376)\r",
      "(1142, 0.00029015722510354814)\r",
      "(1143, 0.0002893635620150793)\r",
      "(1144, 0.0002885722563962438)\r",
      "(1145, 0.00028778330026444407)\r"
     ]
    },
    {
     "name": "stdout",
     "output_type": "stream",
     "text": [
      "(1146, 0.00028699668567088495)\r",
      "(1147, 0.00028621240469698295)\r",
      "(1148, 0.0002854304494581549)\r",
      "(1149, 0.0002846508120995442)\r",
      "(1150, 0.0002838734847991243)\r",
      "(1151, 0.0002830984597658293)\r",
      "(1152, 0.00028232572923974367)\r",
      "(1153, 0.0002815552854926346)\r",
      "(1154, 0.0002807871208264306)\r",
      "(1155, 0.0002800212275742698)\r",
      "(1156, 0.00027925759810017923)\r",
      "(1157, 0.0002784962247982412)\r",
      "(1158, 0.0002777371000933019)\r",
      "(1159, 0.0002769802164401401)\r",
      "(1160, 0.0002762255663236639)\r",
      "(1161, 0.0002754731422589368)\r",
      "(1162, 0.0002747229367901796)\r",
      "(1163, 0.000273974942492165)\r",
      "(1164, 0.0002732291519685385)\r"
     ]
    },
    {
     "name": "stdout",
     "output_type": "stream",
     "text": [
      "(1165, 0.0002724855578525312)\r",
      "(1166, 0.0002717441528063079)\r",
      "(1167, 0.0002710049295215104)\r",
      "(1168, 0.00027026788071843674)\r",
      "(1169, 0.00026953299914607453)\r",
      "(1170, 0.0002688002775826466)\r",
      "(1171, 0.0002680697088341114)\r",
      "(1172, 0.00026734128573573264)\r",
      "(1173, 0.0002666150011500713)\r",
      "(1174, 0.00026589084796821563)\r",
      "(1175, 0.00026516881910964874)\r",
      "(1176, 0.00026444890752075524)\r",
      "(1177, 0.0002637311061767338)\r",
      "(1178, 0.00026301540807993504)\r",
      "(1179, 0.0002623018062592237)\r",
      "(1180, 0.00026159029377257156)\r",
      "(1181, 0.00026088086370403896)\r",
      "(1182, 0.00026017350916432956)\r"
     ]
    },
    {
     "name": "stdout",
     "output_type": "stream",
     "text": [
      "(1183, 0.00025946822329253393)\r",
      "(1184, 0.00025876499925277664)\r",
      "(1185, 0.00025806383023765965)\r",
      "(1186, 0.00025736470946508206)\r",
      "(1187, 0.0002566676301798161)\r",
      "(1188, 0.0002559725856532155)\r",
      "(1189, 0.0002552795691820772)\r",
      "(1190, 0.0002545885740897088)\r",
      "(1191, 0.00025389959372580884)\r",
      "(1192, 0.00025321262146550064)\r",
      "(1193, 0.00025252765070887643)\r",
      "(1194, 0.0002518446748830831)\r",
      "(1195, 0.0002511636874394947)\r",
      "(1196, 0.0002504846818552919)\r",
      "(1197, 0.0002498076516330078)\r",
      "(1198, 0.00024913259030007575)\r",
      "(1199, 0.0002484594914093928)\r",
      "(1200, 0.00024778834853768464)\r"
     ]
    },
    {
     "name": "stdout",
     "output_type": "stream",
     "text": [
      "(1201, 0.00024711915528708594)\r",
      "(1202, 0.0002464519052853664)\r",
      "(1203, 0.0002457865921826082)\r",
      "(1204, 0.0002451232096551543)\r",
      "(1205, 0.00024446175140330103)\r",
      "(1206, 0.0002438022111505148)\r",
      "(1207, 0.0002431445826456894)\r",
      "(1208, 0.00024248885966084326)\r",
      "(1209, 0.00024183503599202664)\r",
      "(1210, 0.00024118310545938456)\r",
      "(1211, 0.0002405330619065455)\r",
      "(1212, 0.00023988489919984292)\r",
      "(1213, 0.0002392386112304042)\r",
      "(1214, 0.0002385941919116865)\r",
      "(1215, 0.0002379516351808922)\r",
      "(1216, 0.00023731093499802425)\r",
      "(1217, 0.0002366720853459541)\r",
      "(1218, 0.00023603508023116326)\r",
      "(1219, 0.00023539991368179113)\r"
     ]
    },
    {
     "name": "stdout",
     "output_type": "stream",
     "text": [
      "(1220, 0.0002347665797495568)\r",
      "(1221, 0.0002341350725086499)\r",
      "(1222, 0.00023350538605529657)\r",
      "(1223, 0.00023287751450850352)\r",
      "(1224, 0.00023225145200945663)\r",
      "(1225, 0.00023162719272108875)\r",
      "(1226, 0.00023100473082932944)\r",
      "(1227, 0.00023038406054116058)\r",
      "(1228, 0.00022976517608586734)\r",
      "(1229, 0.00022914807171410425)\r",
      "(1230, 0.00022853274169931374)\r",
      "(1231, 0.00022791918033511437)\r",
      "(1232, 0.0002273073819370568)\r",
      "(1233, 0.0002266973408430353)\r",
      "(1234, 0.00022608905141051174)\r",
      "(1235, 0.0002254825080192788)\r",
      "(1236, 0.00022487770507036286)\r",
      "(1237, 0.00022427463698509653)\r",
      "(1238, 0.00022367329820570148)\r",
      "(1239, 0.00022307368319620594)\r"
     ]
    },
    {
     "name": "stdout",
     "output_type": "stream",
     "text": [
      "(1240, 0.00022247578644034576)\r",
      "(1241, 0.00022187960244248367)\r",
      "(1242, 0.0002212851257283604)\r",
      "(1243, 0.00022069235084333356)\r",
      "(1244, 0.00022010127235346522)\r",
      "(1245, 0.00021951188484459994)\r",
      "(1246, 0.0002189241829237871)\r",
      "(1247, 0.00021833816121735584)\r",
      "(1248, 0.00021775381437150193)\r",
      "(1249, 0.00021717113705270696)\r",
      "(1250, 0.00021659012394732136)\r",
      "(1251, 0.00021601076976081424)\r",
      "(1252, 0.00021543306921902985)\r",
      "(1253, 0.00021485701706743782)\r",
      "(1254, 0.00021428260806954976)\r",
      "(1255, 0.00021370983701001427)\r",
      "(1256, 0.0002131386986916974)\r",
      "(1257, 0.0002125691879372746)\r"
     ]
    },
    {
     "name": "stdout",
     "output_type": "stream",
     "text": [
      "(1258, 0.00021200129958815048)\r",
      "(1259, 0.00021143502850454865)\r",
      "(1260, 0.00021087036956626877)\r",
      "(1261, 0.00021030731767160855)\r",
      "(1262, 0.00020974586773745457)\r",
      "(1263, 0.00020918601470004054)\r",
      "(1264, 0.000208627753513371)\r",
      "(1265, 0.00020807107915064746)\r",
      "(1266, 0.00020751598660336007)\r",
      "(1267, 0.00020696247088104755)\r",
      "(1268, 0.00020641052701189015)\r",
      "(1269, 0.0002058601500424698)\r",
      "(1270, 0.00020531133503703158)\r",
      "(1271, 0.00020476407707741207)\r",
      "(1272, 0.00020421837126546424)\r",
      "(1273, 0.00020367421271815943)\r",
      "(1274, 0.00020313159657250963)\r",
      "(1275, 0.00020259051798183602)\r"
     ]
    },
    {
     "name": "stdout",
     "output_type": "stream",
     "text": [
      "(1276, 0.00020205097211869357)\r",
      "(1277, 0.00020151295417097638)\r",
      "(1278, 0.00020097645934600628)\r",
      "(1279, 0.00020044148286763703)\r",
      "(1280, 0.00019990801997784864)\r",
      "(1281, 0.00019937606593468542)\r",
      "(1282, 0.00019884561601434894)\r",
      "(1283, 0.0001983166655102998)\r",
      "(1284, 0.00019778920973202892)\r",
      "(1285, 0.0001972632440071501)\r",
      "(1286, 0.00019673876367950794)\r",
      "(1287, 0.00019621576410977656)\r",
      "(1288, 0.00019569424067589252)\r",
      "(1289, 0.00019517418877166304)\r",
      "(1290, 0.0001946556038091896)\r",
      "(1291, 0.00019413848121432677)\r",
      "(1292, 0.0001936228164324227)\r",
      "(1293, 0.00019310860492344727)\r"
     ]
    },
    {
     "name": "stdout",
     "output_type": "stream",
     "text": [
      "(1294, 0.00019259584216358824)\r",
      "(1295, 0.00019208452364684564)\r",
      "(1296, 0.000191574644881656)\r",
      "(1297, 0.00019106620139315084)\r",
      "(1298, 0.00019055918872375733)\r",
      "(1299, 0.0001900536024296602)\r",
      "(1300, 0.00018954943808471557)\r",
      "(1301, 0.00018904669127823816)\r",
      "(1302, 0.00018854535761494209)\r",
      "(1303, 0.0001880454327155435)\r",
      "(1304, 0.00018754691221604017)\r",
      "(1305, 0.00018704979176897575)\r",
      "(1306, 0.00018655406704106643)\r",
      "(1307, 0.00018605973371595423)\r",
      "(1308, 0.00018556678749100827)\r",
      "(1309, 0.00018507522408040846)\r",
      "(1310, 0.00018458503921293972)\r",
      "(1311, 0.00018409622863292715)\r",
      "(1312, 0.00018360878809885867)\r"
     ]
    },
    {
     "name": "stdout",
     "output_type": "stream",
     "text": [
      "(1313, 0.00018312271338531127)\r",
      "(1314, 0.000182638000281574)\r",
      "(1315, 0.00018215464459192329)\r",
      "(1316, 0.00018167264213540314)\r",
      "(1317, 0.00018119198874544084)\r",
      "(1318, 0.00018071268027144258)\r",
      "(1319, 0.00018023471257610013)\r",
      "(1320, 0.00017975808153781174)\r",
      "(1321, 0.00017928278304848498)\r",
      "(1322, 0.00017880881301562764)\r",
      "(1323, 0.00017833616736064617)\r",
      "(1324, 0.00017786484201961797)\r",
      "(1325, 0.00017739483294208593)\r",
      "(1326, 0.0001769261360933137)\r",
      "(1327, 0.00017645874745077477)\r",
      "(1328, 0.0001759926630083844)\r",
      "(1329, 0.0001755278787731541)\r",
      "(1330, 0.00017506439076448422)\r",
      "(1331, 0.00017460219501905217)\r"
     ]
    },
    {
     "name": "stdout",
     "output_type": "stream",
     "text": [
      "(1332, 0.00017414128758417818)\r",
      "(1333, 0.00017368166452353675)\r",
      "(1334, 0.00017322332191332197)\r",
      "(1335, 0.00017276625584318687)\r",
      "(1336, 0.00017231046241767464)\r",
      "(1337, 0.00017185593775419662)\r",
      "(1338, 0.00017140267798298507)\r",
      "(1339, 0.00017095067924951125)\r",
      "(1340, 0.00017049993771180725)\r",
      "(1341, 0.00017005044954074855)\r",
      "(1342, 0.00016960221092148577)\r",
      "(1343, 0.00016915521805175513)\r",
      "(1344, 0.00016870946714331043)\r",
      "(1345, 0.00016826495442056312)\r",
      "(1346, 0.00016782167612053694)\r",
      "(1347, 0.00016737962849462827)\r",
      "(1348, 0.00016693880780626247)\r"
     ]
    },
    {
     "name": "stdout",
     "output_type": "stream",
     "text": [
      "(1349, 0.00016649921033216232)\r",
      "(1350, 0.000166060832361647)\r",
      "(1351, 0.00016562367019757197)\r",
      "(1352, 0.00016518772015497237)\r",
      "(1353, 0.00016475297856167564)\r",
      "(1354, 0.00016431944175907738)\r",
      "(1355, 0.00016388710609963877)\r",
      "(1356, 0.00016345596795012247)\r",
      "(1357, 0.00016302602368843496)\r",
      "(1358, 0.00016259726970587892)\r",
      "(1359, 0.00016216970240563584)\r",
      "(1360, 0.00016174331820436208)\r",
      "(1361, 0.00016131811352919885)\r",
      "(1362, 0.00016089408482117018)\r",
      "(1363, 0.0001604712285330124)\r",
      "(1364, 0.0001600495411296242)\r",
      "(1365, 0.0001596290190880262)\r",
      "(1366, 0.00015920965889748358)\r"
     ]
    },
    {
     "name": "stdout",
     "output_type": "stream",
     "text": [
      "(1367, 0.0001587914570589752)\r",
      "(1368, 0.00015837441008597123)\r",
      "(1369, 0.00015795851450373894)\r",
      "(1370, 0.0001575437668491395)\r",
      "(1371, 0.00015713016367107938)\r",
      "(1372, 0.0001567177015303075)\r",
      "(1373, 0.00015630637699953962)\r",
      "(1374, 0.00015589618666260254)\r",
      "(1375, 0.00015548712711553958)\r",
      "(1376, 0.00015507919496608196)\r",
      "(1377, 0.0001546723868331205)\r",
      "(1378, 0.0001542666993468317)\r",
      "(1379, 0.0001538621291501096)\r",
      "(1380, 0.00015345867289558892)\r",
      "(1381, 0.0001530563272485474)\r",
      "(1382, 0.00015265508888539895)\r",
      "(1383, 0.0001522549544933308)\r",
      "(1384, 0.0001518559207712463)\r",
      "(1385, 0.00015145798442907566)\r"
     ]
    },
    {
     "name": "stdout",
     "output_type": "stream",
     "text": [
      "(1386, 0.0001510611421877401)\r",
      "(1387, 0.00015066539078009458)\r",
      "(1388, 0.00015027072694860871)\r",
      "(1389, 0.00014987714744859294)\r",
      "(1390, 0.0001494846490444129)\r",
      "(1391, 0.00014909322851287853)\r",
      "(1392, 0.0001487028826412523)\r",
      "(1393, 0.0001483136082273782)\r",
      "(1394, 0.00014792540207981012)\r",
      "(1395, 0.0001475382610184295)\r",
      "(1396, 0.0001471521818737593)\r",
      "(1397, 0.00014676716148627882)\r",
      "(1398, 0.00014638319670801894)\r",
      "(1399, 0.00014600028440138826)\r",
      "(1400, 0.0001456184214388146)\r",
      "(1401, 0.00014523760470352612)\r",
      "(1402, 0.00014485783108951817)\r",
      "(1403, 0.00014447909750119504)\r"
     ]
    },
    {
     "name": "stdout",
     "output_type": "stream",
     "text": [
      "(1404, 0.00014410140085268676)\r",
      "(1405, 0.00014372473806944394)\r",
      "(1406, 0.00014334910608641588)\r",
      "(1407, 0.00014297450184899512)\r",
      "(1408, 0.00014260092231379817)\r",
      "(1409, 0.00014222836444570755)\r",
      "(1410, 0.00014185682522125485)\r",
      "(1411, 0.00014148630162663835)\r",
      "(1412, 0.00014111679065866736)\r",
      "(1413, 0.00014074828932245643)\r",
      "(1414, 0.00014038079463529458)\r",
      "(1415, 0.00014001430362320253)\r",
      "(1416, 0.00013964881332204)\r",
      "(1417, 0.00013928432077796283)\r",
      "(1418, 0.00013892082304739272)\r",
      "(1419, 0.00013855831719552616)\r",
      "(1420, 0.0001381968002972796)\r",
      "(1421, 0.00013783626943872043)\r",
      "(1422, 0.00013747672171411608)\r",
      "(1423, 0.00013711815422817739)\r"
     ]
    },
    {
     "name": "stdout",
     "output_type": "stream",
     "text": [
      "(1424, 0.0001367605640947313)\r",
      "(1425, 0.00013640394843766584)\r",
      "(1426, 0.00013604830439057654)\r",
      "(1427, 0.00013569362909511673)\r",
      "(1428, 0.00013533991970421272)\r",
      "(1429, 0.00013498717337895446)\r",
      "(1430, 0.00013463538729083764)\r",
      "(1431, 0.0001342845586197905)\r",
      "(1432, 0.00013393468455544333)\r",
      "(1433, 0.00013358576229710053)\r",
      "(1434, 0.0001332377890522552)\r",
      "(1435, 0.00013289076203850663)\r",
      "(1436, 0.0001325446784822368)\r",
      "(1437, 0.00013219953561987942)\r",
      "(1438, 0.0001318553306951402)\r",
      "(1439, 0.00013151206096253314)\r",
      "(1440, 0.00013116972368476307)\r",
      "(1441, 0.00013082831613334752)\r"
     ]
    },
    {
     "name": "stdout",
     "output_type": "stream",
     "text": [
      "(1442, 0.0001304878355895616)\r",
      "(1443, 0.00013014827934279373)\r",
      "(1444, 0.00012980964469197623)\r",
      "(1445, 0.0001294719289441037)\r",
      "(1446, 0.000129135129416634)\r",
      "(1447, 0.00012879924343325722)\r",
      "(1448, 0.0001284642683283999)\r",
      "(1449, 0.0001281302014452584)\r",
      "(1450, 0.00012779704013448078)\r",
      "(1451, 0.0001274647817560826)\r",
      "(1452, 0.00012713342367845216)\r",
      "(1453, 0.0001268029632794573)\r",
      "(1454, 0.00012647339794448172)\r",
      "(1455, 0.00012614472506720914)\r",
      "(1456, 0.00012581694205137655)\r",
      "(1457, 0.0001254900463076802)\r",
      "(1458, 0.00012516403525552952)\r",
      "(1459, 0.00012483890632350767)\r",
      "(1460, 0.00012451465694757148)\r"
     ]
    },
    {
     "name": "stdout",
     "output_type": "stream",
     "text": [
      "(1461, 0.00012419128457296608)\r",
      "(1462, 0.0001238687866524254)\r",
      "(1463, 0.0001235471606471181)\r",
      "(1464, 0.00012322640402743124)\r",
      "(1465, 0.00012290651426988123)\r",
      "(1466, 0.00012258748886144854)\r",
      "(1467, 0.00012226932529600453)\r",
      "(1468, 0.00012195202107541912)\r",
      "(1469, 0.00012163557371050617)\r",
      "(1470, 0.00012131998071954935)\r",
      "(1471, 0.00012100523962876424)\r",
      "(1472, 0.00012069134797276019)\r",
      "(1473, 0.00012037830329355095)\r",
      "(1474, 0.00012006610314182293)\r",
      "(1475, 0.00011975474507546262)\r",
      "(1476, 0.00011944422666098595)\r",
      "(1477, 0.00011913454547238857)\r",
      "(1478, 0.0001188256990908028)\r"
     ]
    },
    {
     "name": "stdout",
     "output_type": "stream",
     "text": [
      "(1479, 0.00011851768510608783)\r",
      "(1480, 0.0001182105011158417)\r",
      "(1481, 0.00011790414472473639)\r",
      "(1482, 0.00011759861354578569)\r",
      "(1483, 0.00011729390519935822)\r",
      "(1484, 0.00011699001731347909)\r",
      "(1485, 0.00011668694752364855)\r",
      "(1486, 0.00011638469347362668)\r",
      "(1487, 0.00011608325281396436)\r",
      "(1488, 0.00011578262320262745)\r",
      "(1489, 0.00011548280230610324)\r",
      "(1490, 0.00011518378779761032)\r",
      "(1491, 0.00011488557735788372)\r",
      "(1492, 0.0001145881686751553)\r",
      "(1493, 0.00011429155944513423)\r",
      "(1494, 0.00011399574737066603)\r",
      "(1495, 0.00011370073016171347)\r",
      "(1496, 0.00011340650553678444)\r",
      "(1497, 0.00011311307122034025)\r"
     ]
    },
    {
     "name": "stdout",
     "output_type": "stream",
     "text": [
      "(1498, 0.00011282042494454557)\r",
      "(1499, 0.00011252856444860648)\r",
      "(1500, 0.00011223748747939474)\r",
      "(1501, 0.00011194719179110747)\r",
      "(1502, 0.0001116576751438027)\r",
      "(1503, 0.00011136893530627334)\r",
      "(1504, 0.0001110809700531367)\r",
      "(1505, 0.00011079377716770795)\r",
      "(1506, 0.00011050735443796635)\r",
      "(1507, 0.00011022169966103485)\r",
      "(1508, 0.00010993681063978913)\r",
      "(1509, 0.00010965268518508825)\r",
      "(1510, 0.00010936932111350898)\r",
      "(1511, 0.00010908671624973661)\r",
      "(1512, 0.0001088048684244604)\r",
      "(1513, 0.00010852377547564051)\r",
      "(1514, 0.00010824343524865095)\r",
      "(1515, 0.00010796384559401596)\r"
     ]
    },
    {
     "name": "stdout",
     "output_type": "stream",
     "text": [
      "(1516, 0.00010768500437092316)\r",
      "(1517, 0.0001074069094443182)\r",
      "(1518, 0.00010712955868585081)\r",
      "(1519, 0.00010685294997433911)\r",
      "(1520, 0.00010657708119527162)\r",
      "(1521, 0.00010630195024014935)\r",
      "(1522, 0.0001060275550079125)\r",
      "(1523, 0.00010575389340396179)\r",
      "(1524, 0.00010548096333966142)\r",
      "(1525, 0.00010520876273392578)\r",
      "(1526, 0.00010493728951144015)\r",
      "(1527, 0.00010466654160392679)\r",
      "(1528, 0.00010439651694916754)\r",
      "(1529, 0.00010412721349162889)\r",
      "(1530, 0.00010385862918244618)\r",
      "(1531, 0.00010359076197908736)\r",
      "(1532, 0.00010332360984501722)\r"
     ]
    },
    {
     "name": "stdout",
     "output_type": "stream",
     "text": [
      "(1533, 0.00010305717075080298)\r",
      "(1534, 0.00010279144267233726)\r",
      "(1535, 0.0001025264235933848)\r",
      "(1536, 0.00010226211150236477)\r",
      "(1537, 0.0001019985043952177)\r",
      "(1538, 0.00010173560027362916)\r",
      "(1539, 0.00010147339714565516)\r",
      "(1540, 0.00010121189302522715)\r",
      "(1541, 0.00010095108593341738)\r",
      "(1542, 0.00010069097389634379)\r",
      "(1543, 0.00010043155494691569)\r",
      "(1544, 0.00010017282712433891)\r",
      "(1545, 9.991478847314159e-05)\r",
      "(1546, 9.965743704491936e-05)\r",
      "(1547, 9.940077089736099e-05)\r",
      "(1548, 9.914478809247535e-05)\r",
      "(1549, 9.888948670025527e-05)\r",
      "(1550, 9.86348647965842e-05)\r",
      "(1551, 9.83809204619435e-05)\r"
     ]
    },
    {
     "name": "stdout",
     "output_type": "stream",
     "text": [
      "(1552, 9.812765178395648e-05)\r",
      "(1553, 9.787505685577582e-05)\r",
      "(1554, 9.762313377654931e-05)\r",
      "(1555, 9.737188065156593e-05)\r",
      "(1556, 9.71212955911237e-05)\r",
      "(1557, 9.687137671275312e-05)\r",
      "(1558, 9.662212213864711e-05)\r",
      "(1559, 9.637352999740522e-05)\r",
      "(1560, 9.612559842322141e-05)\r",
      "(1561, 9.587832555619029e-05)\r",
      "(1562, 9.563170954181482e-05)\r",
      "(1563, 9.538574853211103e-05)\r",
      "(1564, 9.514044068399804e-05)\r",
      "(1565, 9.489578416056266e-05)\r",
      "(1566, 9.465177713024808e-05)\r",
      "(1567, 9.440841776716045e-05)\r",
      "(1568, 9.416570425169444e-05)\r",
      "(1569, 9.392363476924365e-05)\r"
     ]
    },
    {
     "name": "stdout",
     "output_type": "stream",
     "text": [
      "(1570, 9.368220751050746e-05)\r",
      "(1571, 9.344142067275488e-05)\r",
      "(1572, 9.320127245805687e-05)\r",
      "(1573, 9.296176107391229e-05)\r",
      "(1574, 9.272288473387366e-05)\r",
      "(1575, 9.248464165689662e-05)\r",
      "(1576, 9.224703006684944e-05)\r",
      "(1577, 9.201004819409567e-05)\r",
      "(1578, 9.177369427308995e-05)\r",
      "(1579, 9.153796654539578e-05)\r",
      "(1580, 9.130286325600632e-05)\r",
      "(1581, 9.106838265699958e-05)\r",
      "(1582, 9.083452300449753e-05)\r",
      "(1583, 9.060128256168295e-05)\r",
      "(1584, 9.036865959496255e-05)\r",
      "(1585, 9.013665237809907e-05)\r",
      "(1586, 8.990525918805643e-05)\r",
      "(1587, 8.96744783086533e-05)\r",
      "(1588, 8.944430802863939e-05)\r",
      "(1589, 8.921474664152496e-05)\r"
     ]
    },
    {
     "name": "stdout",
     "output_type": "stream",
     "text": [
      "(1590, 8.898579244652545e-05)\r",
      "(1591, 8.875744374791285e-05)\r",
      "(1592, 8.852969885452703e-05)\r",
      "(1593, 8.830255608183475e-05)\r",
      "(1594, 8.807601374921135e-05)\r",
      "(1595, 8.785007018104483e-05)\r",
      "(1596, 8.762472370752078e-05)\r",
      "(1597, 8.739997266461115e-05)\r",
      "(1598, 8.717581539088024e-05)\r",
      "(1599, 8.695225023240827e-05)\r",
      "(1600, 8.672927553943796e-05)\r",
      "(1601, 8.650688966700081e-05)\r",
      "(1602, 8.628509097538385e-05)\r",
      "(1603, 8.606387782980091e-05)\r",
      "(1604, 8.584324860022311e-05)\r",
      "(1605, 8.562320166232293e-05)\r",
      "(1606, 8.540373539571394e-05)\r",
      "(1607, 8.518484818584951e-05)\r"
     ]
    },
    {
     "name": "stdout",
     "output_type": "stream",
     "text": [
      "(1608, 8.496653842226283e-05)\r",
      "(1609, 8.474880449982924e-05)\r",
      "(1610, 8.453164481843791e-05)\r",
      "(1611, 8.431505778202783e-05)\r",
      "(1612, 8.409904180080366e-05)\r",
      "(1613, 8.38835952880462e-05)\r",
      "(1614, 8.366871666344087e-05)\r",
      "(1615, 8.34544043503655e-05)\r",
      "(1616, 8.324065677731127e-05)\r",
      "(1617, 8.302747237771381e-05)\r",
      "(1618, 8.281484958962582e-05)\r",
      "(1619, 8.260278685554851e-05)\r",
      "(1620, 8.239128262321649e-05)\r",
      "(1621, 8.218033534431729e-05)\r",
      "(1622, 8.196994347591166e-05)\r",
      "(1623, 8.176010547978852e-05)\r",
      "(1624, 8.155081982150291e-05)\r",
      "(1625, 8.134208497163722e-05)\r",
      "(1626, 8.11338994061094e-05)\r",
      "(1627, 8.0926261604417e-05)\r"
     ]
    },
    {
     "name": "stdout",
     "output_type": "stream",
     "text": [
      "(1628, 8.071917005137471e-05)\r",
      "(1629, 8.051262323535883e-05)\r",
      "(1630, 8.030661965083825e-05)\r",
      "(1631, 8.010115779534919e-05)\r",
      "(1632, 7.989623617186742e-05)\r",
      "(1633, 7.969185328705341e-05)\r",
      "(1634, 7.948800765283049e-05)\r",
      "(1635, 7.928469778558243e-05)\r",
      "(1636, 7.908192220535148e-05)\r",
      "(1637, 7.887967943725762e-05)\r",
      "(1638, 7.867796801117249e-05)\r",
      "(1639, 7.847678645996577e-05)\r",
      "(1640, 7.827613332266933e-05)\r",
      "(1641, 7.807600714129612e-05)\r",
      "(1642, 7.787640646352802e-05)\r",
      "(1643, 7.767732984001139e-05)\r",
      "(1644, 7.747877582656894e-05)\r",
      "(1645, 7.728074298292267e-05)\r",
      "(1646, 7.708322987379549e-05)\r"
     ]
    },
    {
     "name": "stdout",
     "output_type": "stream",
     "text": [
      "(1647, 7.6886235067476e-05)\r",
      "(1648, 7.668975713692019e-05)\r",
      "(1649, 7.649379465863353e-05)\r",
      "(1650, 7.629834621504052e-05)\r",
      "(1651, 7.610341039083099e-05)\r",
      "(1652, 7.590898577580526e-05)\r",
      "(1653, 7.571507096470714e-05)\r",
      "(1654, 7.552166455483942e-05)\r",
      "(1655, 7.532876514890805e-05)\r",
      "(1656, 7.513637135342978e-05)\r",
      "(1657, 7.494448177935798e-05)\r",
      "(1658, 7.475309504080779e-05)\r",
      "(1659, 7.456220975758268e-05)\r",
      "(1660, 7.437182455184058e-05)\r",
      "(1661, 7.418193805125387e-05)\r",
      "(1662, 7.399254888694293e-05)\r",
      "(1663, 7.380365569394366e-05)\r",
      "(1664, 7.361525711167508e-05)\r",
      "(1665, 7.342735178393168e-05)\r"
     ]
    },
    {
     "name": "stdout",
     "output_type": "stream",
     "text": [
      "(1666, 7.323993835745118e-05)\r",
      "(1667, 7.30530154839653e-05)\r",
      "(1668, 7.286658181876747e-05)\r",
      "(1669, 7.268063602133883e-05)\r",
      "(1670, 7.249517675486605e-05)\r",
      "(1671, 7.231020268686717e-05)\r",
      "(1672, 7.212571248839312e-05)\r",
      "(1673, 7.194170483481181e-05)\r",
      "(1674, 7.1758178405168e-05)\r",
      "(1675, 7.157513188233455e-05)\r",
      "(1676, 7.139256395332177e-05)\r",
      "(1677, 7.121047330911207e-05)\r",
      "(1678, 7.102885864417857e-05)\r",
      "(1679, 7.084771865663645e-05)\r",
      "(1680, 7.06670520498174e-05)\r",
      "(1681, 7.048685752862553e-05)\r",
      "(1682, 7.030713380459085e-05)\r",
      "(1683, 7.012787959001186e-05)\r",
      "(1684, 6.994909360332483e-05)\r"
     ]
    },
    {
     "name": "stdout",
     "output_type": "stream",
     "text": [
      "(1685, 6.977077456546054e-05)\r",
      "(1686, 6.959292120220895e-05)\r",
      "(1687, 6.941553224199952e-05)\r",
      "(1688, 6.923860641747542e-05)\r",
      "(1689, 6.906214246485458e-05)\r",
      "(1690, 6.88861391243974e-05)\r",
      "(1691, 6.871059514024207e-05)\r",
      "(1692, 6.853550925913399e-05)\r",
      "(1693, 6.836088023278967e-05)\r",
      "(1694, 6.818670681583613e-05)\r",
      "(1695, 6.801298776675257e-05)\r",
      "(1696, 6.783972184754815e-05)\r",
      "(1697, 6.766690782407156e-05)\r",
      "(1698, 6.749454446600471e-05)\r",
      "(1699, 6.732263054606685e-05)\r",
      "(1700, 6.715116484048228e-05)\r",
      "(1701, 6.69801461300796e-05)\r",
      "(1702, 6.680957319791677e-05)\r",
      "(1703, 6.66394448319596e-05)\r"
     ]
    },
    {
     "name": "stdout",
     "output_type": "stream",
     "text": [
      "(1704, 6.646975982270701e-05)\r",
      "(1705, 6.630051696460627e-05)\r",
      "(1706, 6.613171505525746e-05)\r",
      "(1707, 6.596335289667051e-05)\r",
      "(1708, 6.579542929320705e-05)\r",
      "(1709, 6.562794305410012e-05)\r",
      "(1710, 6.546089298997599e-05)\r",
      "(1711, 6.529427791758302e-05)\r",
      "(1712, 6.51280966548935e-05)\r",
      "(1713, 6.496234802409646e-05)\r",
      "(1714, 6.479703085159166e-05)\r",
      "(1715, 6.463214396593275e-05)\r",
      "(1716, 6.44676862000305e-05)\r",
      "(1717, 6.430365638956951e-05)\r",
      "(1718, 6.414005337394909e-05)\r",
      "(1719, 6.397687599596224e-05)\r",
      "(1720, 6.381412310178995e-05)\r",
      "(1721, 6.36517935409958e-05)\r"
     ]
    },
    {
     "name": "stdout",
     "output_type": "stream",
     "text": [
      "(1722, 6.348988616541663e-05)\r",
      "(1723, 6.332839983231088e-05)\r",
      "(1724, 6.316733340088391e-05)\r",
      "(1725, 6.300668573370186e-05)\r",
      "(1726, 6.284645569668633e-05)\r",
      "(1727, 6.268664215973957e-05)\r",
      "(1728, 6.252724399484731e-05)\r",
      "(1729, 6.236826007859589e-05)\r",
      "(1730, 6.220968928948709e-05)\r",
      "(1731, 6.205153051061262e-05)\r",
      "(1732, 6.189378262728454e-05)\r",
      "(1733, 6.173644452844874e-05)\r",
      "(1734, 6.157951510620685e-05)\r",
      "(1735, 6.142299325581121e-05)\r",
      "(1736, 6.126687787628996e-05)\r",
      "(1737, 6.111116786902392e-05)\r",
      "(1738, 6.095586213852948e-05)\r",
      "(1739, 6.080095959324123e-05)\r"
     ]
    },
    {
     "name": "stdout",
     "output_type": "stream",
     "text": [
      "(1740, 6.064645914487665e-05)\r",
      "(1741, 6.0492359706698594e-05)\r",
      "(1742, 6.0338660197448214e-05)\r",
      "(1743, 6.0185359536614775e-05)\r",
      "(1744, 6.003245664868335e-05)\r",
      "(1745, 5.987995046029498e-05)\r",
      "(1746, 5.972783990165929e-05)\r",
      "(1747, 5.957612390513247e-05)\r",
      "(1748, 5.94248014075744e-05)\r",
      "(1749, 5.927387134813941e-05)\r",
      "(1750, 5.9123332668586664e-05)\r",
      "(1751, 5.897318431437748e-05)\r",
      "(1752, 5.882342523435563e-05)\r",
      "(1753, 5.8674054379168656e-05)\r",
      "(1754, 5.852507070346701e-05)\r",
      "(1755, 5.8376473164954895e-05)\r",
      "(1756, 5.822826072359884e-05)\r",
      "(1757, 5.808043234303958e-05)\r"
     ]
    },
    {
     "name": "stdout",
     "output_type": "stream",
     "text": [
      "(1758, 5.7932986989171246e-05)\r",
      "(1759, 5.778592363249703e-05)\r",
      "(1760, 5.7639241243719176e-05)\r",
      "(1761, 5.7492938799556016e-05)\r",
      "(1762, 5.7347015277073557e-05)\r",
      "(1763, 5.720146965808624e-05)\r",
      "(1764, 5.7056300926478056e-05)\r",
      "(1765, 5.6911508069142114e-05)\r",
      "(1766, 5.676709007597632e-05)\r",
      "(1767, 5.662304593956448e-05)\r",
      "(1768, 5.647937465595834e-05)\r",
      "(1769, 5.633607522357244e-05)\r",
      "(1770, 5.619314664365169e-05)\r",
      "(1771, 5.605058792058169e-05)\r",
      "(1772, 5.590839806125551e-05)\r",
      "(1773, 5.576657607585567e-05)\r",
      "(1774, 5.5625120977378265e-05)\r",
      "(1775, 5.548403178068568e-05)\r"
     ]
    },
    {
     "name": "stdout",
     "output_type": "stream",
     "text": [
      "(1776, 5.534330750517487e-05)\r",
      "(1777, 5.5202947171157754e-05)\r",
      "(1778, 5.5062949803472514e-05)\r",
      "(1779, 5.49233144286502e-05)\r",
      "(1780, 5.4784040075853954e-05)\r",
      "(1781, 5.4645125777974986e-05)\r",
      "(1782, 5.450657057005703e-05)\r",
      "(1783, 5.436837348992103e-05)\r",
      "(1784, 5.423053357800409e-05)\r",
      "(1785, 5.4093049877984005e-05)\r",
      "(1786, 5.395592143567556e-05)\r",
      "(1787, 5.38191473002835e-05)\r",
      "(1788, 5.3682726522984784e-05)\r",
      "(1789, 5.3546658158024444e-05)\r",
      "(1790, 5.3410941262554605e-05)\r",
      "(1791, 5.327557489584537e-05)\r",
      "(1792, 5.314055812053756e-05)\r"
     ]
    },
    {
     "name": "stdout",
     "output_type": "stream",
     "text": [
      "(1793, 5.300589000122541e-05)\r",
      "(1794, 5.287156960570931e-05)\r",
      "(1795, 5.2737596004206776e-05)\r",
      "(1796, 5.260396826997693e-05)\r",
      "(1797, 5.247068547743259e-05)\r",
      "(1798, 5.2337746706219023e-05)\r",
      "(1799, 5.220515103602885e-05)\r",
      "(1800, 5.2072897550994694e-05)\r",
      "(1801, 5.19409853363886e-05)\r",
      "(1802, 5.180941348144424e-05)\r",
      "(1803, 5.1678181076684695e-05)\r",
      "(1804, 5.1547287216273524e-05)\r",
      "(1805, 5.141673099675541e-05)\r",
      "(1806, 5.1286511516581896e-05)\r",
      "(1807, 5.115662787720656e-05)\r",
      "(1808, 5.102707918276762e-05)\r",
      "(1809, 5.0897864540084397e-05)\r",
      "(1810, 5.076898305708487e-05)\r"
     ]
    },
    {
     "name": "stdout",
     "output_type": "stream",
     "text": [
      "(1811, 5.0640433847038755e-05)\r",
      "(1812, 5.051221602243481e-05)\r",
      "(1813, 5.038432870078283e-05)\r",
      "(1814, 5.0256771000687855e-05)\r",
      "(1815, 5.0129542044357025e-05)\r",
      "(1816, 5.000264095508623e-05)\r",
      "(1817, 4.987606685976679e-05)\r",
      "(1818, 4.9749818887783965e-05)\r",
      "(1819, 4.9623896169915846e-05)\r",
      "(1820, 4.9498297840212304e-05)\r",
      "(1821, 4.937302303552104e-05)\r",
      "(1822, 4.9248070894229845e-05)\r",
      "(1823, 4.9123440557518035e-05)\r",
      "(1824, 4.899913116950994e-05)\r",
      "(1825, 4.8875141875546984e-05)\r",
      "(1826, 4.8751471824693276e-05)\r",
      "(1827, 4.8628120167694124e-05)\r",
      "(1828, 4.850508605728663e-05)\r",
      "(1829, 4.8382368650077775e-05)\r"
     ]
    },
    {
     "name": "stdout",
     "output_type": "stream",
     "text": [
      "(1830, 4.8259967103092426e-05)\r",
      "(1831, 4.813788057753264e-05)\r",
      "(1832, 4.801610823579614e-05)\r",
      "(1833, 4.7894649242570715e-05)\r",
      "(1834, 4.777350276624163e-05)\r",
      "(1835, 4.765266797606749e-05)\r",
      "(1836, 4.753214404405811e-05)\r",
      "(1837, 4.7411930144971405e-05)\r",
      "(1838, 4.7292025455370166e-05)\r",
      "(1839, 4.7172429154716065e-05)\r",
      "(1840, 4.705314042379981e-05)\r",
      "(1841, 4.693415844693183e-05)\r",
      "(1842, 4.681548240958918e-05)\r",
      "(1843, 4.6697111500449394e-05)\r",
      "(1844, 4.657904490997763e-05)\r",
      "(1845, 4.646128183073717e-05)\r",
      "(1846, 4.63438214580132e-05)\r",
      "(1847, 4.6226662989026716e-05)\r",
      "(1848, 4.610980562387151e-05)\r"
     ]
    },
    {
     "name": "stdout",
     "output_type": "stream",
     "text": [
      "(1849, 4.599324856331871e-05)\r",
      "(1850, 4.587699101241623e-05)\r",
      "(1851, 4.576103217688381e-05)\r",
      "(1852, 4.564537126592923e-05)\r",
      "(1853, 4.5530007489426843e-05)\r",
      "(1854, 4.541494006057698e-05)\r",
      "(1855, 4.5300168195120094e-05)\r",
      "(1856, 4.518569110945536e-05)\r",
      "(1857, 4.507150802392588e-05)\r",
      "(1858, 4.495761815952823e-05)\r",
      "(1859, 4.484402074072779e-05)\r",
      "(1860, 4.473071499295139e-05)\r",
      "(1861, 4.461770014508927e-05)\r",
      "(1862, 4.450497542761401e-05)\r",
      "(1863, 4.439254007179556e-05)\r",
      "(1864, 4.428039331361147e-05)\r",
      "(1865, 4.416853438904892e-05)\r",
      "(1866, 4.4056962537545375e-05)\r",
      "(1867, 4.394567699963852e-05)\r"
     ]
    },
    {
     "name": "stdout",
     "output_type": "stream",
     "text": [
      "(1868, 4.3834677018998176e-05)\r",
      "(1869, 4.372396184070236e-05)\r",
      "(1870, 4.361353071170437e-05)\r",
      "(1871, 4.350338288223842e-05)\r",
      "(1872, 4.339351760331374e-05)\r",
      "(1873, 4.328393412858972e-05)\r",
      "(1874, 4.3174631713904e-05)\r",
      "(1875, 4.306560961727008e-05)\r",
      "(1876, 4.2956867097779835e-05)\r",
      "(1877, 4.284840341841688e-05)\r",
      "(1878, 4.27402178421435e-05)\r",
      "(1879, 4.26323096358088e-05)\r",
      "(1880, 4.252467806686164e-05)\r",
      "(1881, 4.2417322405381605e-05)\r",
      "(1882, 4.23102419239202e-05)\r",
      "(1883, 4.220343589640373e-05)\r",
      "(1884, 4.209690359875667e-05)\r",
      "(1885, 4.199064430936837e-05)\r"
     ]
    },
    {
     "name": "stdout",
     "output_type": "stream",
     "text": [
      "(1886, 4.18846573084653e-05)\r",
      "(1887, 4.177894187826511e-05)\r",
      "(1888, 4.167349730250536e-05)\r",
      "(1889, 4.1568322867692027e-05)\r",
      "(1890, 4.1463417861533806e-05)\r",
      "(1891, 4.13587815746596e-05)\r",
      "(1892, 4.125441329889657e-05)\r",
      "(1893, 4.11503123280497e-05)\r",
      "(1894, 4.104647795821214e-05)\r",
      "(1895, 4.094290948760669e-05)\r",
      "(1896, 4.083960621564581e-05)\r",
      "(1897, 4.0736567444492474e-05)\r",
      "(1898, 4.0633792477495046e-05)\r",
      "(1899, 4.0531280620748036e-05)\r",
      "(1900, 4.04290311815271e-05)\r",
      "(1901, 4.0327043469537196e-05)\r",
      "(1902, 4.0225316795972805e-05)\r"
     ]
    },
    {
     "name": "stdout",
     "output_type": "stream",
     "text": [
      "(1903, 4.012385047398467e-05)\r",
      "(1904, 4.002264381961515e-05)\r",
      "(1905, 3.992169614913995e-05)\r",
      "(1906, 3.9821006781566035e-05)\r",
      "(1907, 3.9720575038316964e-05)\r",
      "(1908, 3.962040024166857e-05)\r",
      "(1909, 3.952048171646545e-05)\r",
      "(1910, 3.942081878886917e-05)\r",
      "(1911, 3.932141078744973e-05)\r",
      "(1912, 3.92222570425587e-05)\r",
      "(1913, 3.9123356885858666e-05)\r",
      "(1914, 3.9024709651570815e-05)\r",
      "(1915, 3.892631467506723e-05)\r",
      "(1916, 3.8828171294118445e-05)\r",
      "(1917, 3.8730278848266685e-05)\r",
      "(1918, 3.863263667804319e-05)\r",
      "(1919, 3.8535244126840253e-05)\r",
      "(1920, 3.843810053981604e-05)\r",
      "(1921, 3.834120526311205e-05)\r"
     ]
    },
    {
     "name": "stdout",
     "output_type": "stream",
     "text": [
      "(1922, 3.8244557645256525e-05)\r",
      "(1923, 3.814815703669408e-05)\r",
      "(1924, 3.8052002788690985e-05)\r",
      "(1925, 3.7956094255987354e-05)\r",
      "(1926, 3.786043079367285e-05)\r",
      "(1927, 3.776501175859002e-05)\r",
      "(1928, 3.766983651089339e-05)\r",
      "(1929, 3.7574904410457295e-05)\r",
      "(1930, 3.7480214820308264e-05)\r",
      "(1931, 3.7385767104906115e-05)\r",
      "(1932, 3.729156062998612e-05)\r",
      "(1933, 3.719759476364976e-05)\r",
      "(1934, 3.7103868875738584e-05)\r",
      "(1935, 3.701038233689611e-05)\r",
      "(1936, 3.691713452043882e-05)\r",
      "(1937, 3.6824124801573994e-05)\r",
      "(1938, 3.673135255599359e-05)\r",
      "(1939, 3.663881716252532e-05)\r",
      "(1940, 3.654651800047814e-05)\r"
     ]
    },
    {
     "name": "stdout",
     "output_type": "stream",
     "text": [
      "(1941, 3.645445445182511e-05)\r",
      "(1942, 3.6362625899797304e-05)\r",
      "(1943, 3.6271031729350266e-05)\r",
      "(1944, 3.617967132700629e-05)\r",
      "(1945, 3.6088544081008746e-05)\r",
      "(1946, 3.599764938163239e-05)\r",
      "(1947, 3.5906986620245705e-05)\r",
      "(1948, 3.581655519040121e-05)\r",
      "(1949, 3.572635448736579e-05)\r",
      "(1950, 3.5636383907027264e-05)\r",
      "(1951, 3.554664284854432e-05)\r",
      "(1952, 3.5457130710913525e-05)\r",
      "(1953, 3.5367846896554914e-05)\r",
      "(1954, 3.52787908083471e-05)\r",
      "(1955, 3.518996185102935e-05)\r",
      "(1956, 3.510135943119995e-05)\r",
      "(1957, 3.501298295731455e-05)\r",
      "(1958, 3.492483183828128e-05)\r",
      "(1959, 3.4836905485954076e-05)\r"
     ]
    },
    {
     "name": "stdout",
     "output_type": "stream",
     "text": [
      "(1960, 3.4749203313259886e-05)\r",
      "(1961, 3.466172473482089e-05)\r",
      "(1962, 3.45744691661734e-05)\r",
      "(1963, 3.448743602579313e-05)\r",
      "(1964, 3.4400624732287376e-05)\r",
      "(1965, 3.431403470735557e-05)\r",
      "(1966, 3.422766537282579e-05)\r",
      "(1967, 3.414151615299164e-05)\r",
      "(1968, 3.405558647305191e-05)\r",
      "(1969, 3.396987576113542e-05)\r",
      "(1970, 3.388438344502624e-05)\r",
      "(1971, 3.379910895527972e-05)\r",
      "(1972, 3.3714051724285604e-05)\r",
      "(1973, 3.3629211184708155e-05)\r",
      "(1974, 3.354458677182251e-05)\r",
      "(1975, 3.346017792179885e-05)\r",
      "(1976, 3.3375984073259395e-05)\r",
      "(1977, 3.329200466540689e-05)\r"
     ]
    },
    {
     "name": "stdout",
     "output_type": "stream",
     "text": [
      "(1978, 3.320823913895831e-05)\r",
      "(1979, 3.31246869369225e-05)\r",
      "(1980, 3.304134750335216e-05)\r",
      "(1981, 3.2958220283654136e-05)\r",
      "(1982, 3.287530472489967e-05)\r",
      "(1983, 3.279260027629036e-05)\r",
      "(1984, 3.271010638728719e-05)\r",
      "(1985, 3.262782250932304e-05)\r",
      "(1986, 3.254574809626856e-05)\r",
      "(1987, 3.246388260209403e-05)\r",
      "(1988, 3.238222548304901e-05)\r",
      "(1989, 3.230077619688209e-05)\r",
      "(1990, 3.22195342020607e-05)\r",
      "(1991, 3.2138498959483244e-05)\r",
      "(1992, 3.2057669931231605e-05)\r",
      "(1993, 3.1977046580102665e-05)\r",
      "(1994, 3.189662837147596e-05)\r",
      "(1995, 3.18164147712877e-05)\r",
      "(1996, 3.173640524774258e-05)\r",
      "(1997, 3.165659926928802e-05)\r"
     ]
    },
    {
     "name": "stdout",
     "output_type": "stream",
     "text": [
      "(1998, 3.157699630726023e-05)\r",
      "(1999, 3.149759583323562e-05)\r",
      "(2000, 3.141839732120963e-05)\r",
      "(2001, 3.133940024541545e-05)\r",
      "(2002, 3.126060408281416e-05)\r",
      "(2003, 3.118200831075785e-05)\r",
      "(2004, 3.1103612408701106e-05)\r",
      "(2005, 3.1025415857109926e-05)\r",
      "(2006, 3.094741813730483e-05)\r",
      "(2007, 3.0869618733794884e-05)\r",
      "(2008, 3.079201713100708e-05)\r",
      "(2009, 3.071461281437508e-05)\r",
      "(2010, 3.063740527205032e-05)\r",
      "(2011, 3.056039399303269e-05)\r",
      "(2012, 3.0483578467792103e-05)\r",
      "(2013, 3.0406958187644653e-05)\r",
      "(2014, 3.0330532645529777e-05)\r",
      "(2015, 3.0254301336164658e-05)\r",
      "(2016, 3.0178263755420453e-05)\r",
      "(2017, 3.01024194003212e-05)\r"
     ]
    },
    {
     "name": "stdout",
     "output_type": "stream",
     "text": [
      "(2018, 3.0026767769198278e-05)\r",
      "(2019, 2.9951308362311795e-05)\r",
      "(2020, 2.9876040680760006e-05)\r",
      "(2021, 2.9800964226945117e-05)\r",
      "(2022, 2.9726078504883363e-05)\r",
      "(2023, 2.9651383019737046e-05)\r",
      "(2024, 2.957687727828022e-05)\r",
      "(2025, 2.950256078811959e-05)\r",
      "(2026, 2.9428433058938187e-05)\r",
      "(2027, 2.9354493600782718e-05)\r",
      "(2028, 2.9280741925618433e-05)\r",
      "(2029, 2.920717754701675e-05)\r",
      "(2030, 2.9133799979220766e-05)\r",
      "(2031, 2.906060873792206e-05)\r",
      "(2032, 2.8987603340570723e-05)\r",
      "(2033, 2.891478330512981e-05)\r",
      "(2034, 2.884214815131876e-05)\r",
      "(2035, 2.8769697400767854e-05)\r"
     ]
    },
    {
     "name": "stdout",
     "output_type": "stream",
     "text": [
      "(2036, 2.8697430574839458e-05)\r",
      "(2037, 2.8625347198204582e-05)\r",
      "(2038, 2.8553446794642156e-05)\r",
      "(2039, 2.848172889092652e-05)\r",
      "(2040, 2.8410193014182234e-05)\r",
      "(2041, 2.8338838693127357e-05)\r",
      "(2042, 2.8267665457916845e-05)\r",
      "(2043, 2.8196672839208468e-05)\r",
      "(2044, 2.8125860369872486e-05)\r",
      "(2045, 2.8055227583746456e-05)\r",
      "(2046, 2.7984774015634323e-05)\r",
      "(2047, 2.791449920161642e-05)\r",
      "(2048, 2.7844402679359468e-05)\r",
      "(2049, 2.7774483987338138e-05)\r",
      "(2050, 2.7704742665456023e-05)\r",
      "(2051, 2.763517825504467e-05)\r",
      "(2052, 2.7565790298862547e-05)\r",
      "(2053, 2.7496578339694896e-05)\r"
     ]
    },
    {
     "name": "stdout",
     "output_type": "stream",
     "text": [
      "(2054, 2.742754192315124e-05)\r",
      "(2055, 2.735868059502143e-05)\r",
      "(2056, 2.728999390251846e-05)\r",
      "(2057, 2.7221481393966616e-05)\r",
      "(2058, 2.7153142619577768e-05)\r",
      "(2059, 2.7084977129895927e-05)\r",
      "(2060, 2.7016984477350813e-05)\r",
      "(2061, 2.6949164214857948e-05)\r",
      "(2062, 2.6881515896905828e-05)\r",
      "(2063, 2.6814039079865816e-05)\r",
      "(2064, 2.6746733319970646e-05)\r",
      "(2065, 2.667959817548957e-05)\r",
      "(2066, 2.661263320579483e-05)\r",
      "(2067, 2.6545837971205403e-05)\r",
      "(2068, 2.647921203345231e-05)\r",
      "(2069, 2.641275495505614e-05)\r",
      "(2070, 2.634646630056936e-05)\r",
      "(2071, 2.6280345634399847e-05)\r",
      "(2072, 2.6214392523296395e-05)\r"
     ]
    },
    {
     "name": "stdout",
     "output_type": "stream",
     "text": [
      "(2073, 2.614860653448309e-05)\r",
      "(2074, 2.6082987236746185e-05)\r",
      "(2075, 2.6017534199345558e-05)\r",
      "(2076, 2.595224699418916e-05)\r",
      "(2077, 2.5887125192413874e-05)\r",
      "(2078, 2.5822168367492184e-05)\r",
      "(2079, 2.575737609352225e-05)\r",
      "(2080, 2.5692747946780656e-05)\r",
      "(2081, 2.5628283502925135e-05)\r",
      "(2082, 2.5563982340256274e-05)\r",
      "(2083, 2.549984403738632e-05)\r",
      "(2084, 2.5435868174325856e-05)\r",
      "(2085, 2.5372054332327608e-05)\r",
      "(2086, 2.5308402093264296e-05)\r",
      "(2087, 2.524491104087051e-05)\r",
      "(2088, 2.5181580759188575e-05)\r",
      "(2089, 2.511841083427636e-05)\r",
      "(2090, 2.5055400852653225e-05)\r",
      "(2091, 2.4992550401299303e-05)\r"
     ]
    },
    {
     "name": "stdout",
     "output_type": "stream",
     "text": [
      "(2092, 2.4929859069984428e-05)\r",
      "(2093, 2.4867326448782246e-05)\r",
      "(2094, 2.480495212760365e-05)\r",
      "(2095, 2.4742735699767997e-05)\r",
      "(2096, 2.4680676757809112e-05)\r",
      "(2097, 2.4618774896425266e-05)\r",
      "(2098, 2.455702971077014e-05)\r",
      "(2099, 2.449544079722854e-05)\r",
      "(2100, 2.4434007753415636e-05)\r",
      "(2101, 2.437273017802091e-05)\r",
      "(2102, 2.4311607670496867e-05)\r",
      "(2103, 2.425063983183466e-05)\r",
      "(2104, 2.4189826263786986e-05)\r",
      "(2105, 2.412916656917789e-05)\r",
      "(2106, 2.4068660351281032e-05)\r",
      "(2107, 2.4008307216458295e-05)\r",
      "(2108, 2.3948106769656615e-05)\r",
      "(2109, 2.3888058617978197e-05)\r",
      "(2110, 2.382816236974821e-05)\r",
      "(2111, 2.376841763404834e-05)\r"
     ]
    },
    {
     "name": "stdout",
     "output_type": "stream",
     "text": [
      "(2112, 2.370882402149228e-05)\r",
      "(2113, 2.3649381142672663e-05)\r",
      "(2114, 2.3590088610023215e-05)\r",
      "(2115, 2.3530946036731395e-05)\r",
      "(2116, 2.347195303766903e-05)\r",
      "(2117, 2.3413109227218546e-05)\r",
      "(2118, 2.3354414222531913e-05)\r",
      "(2119, 2.3295867640735984e-05)\r",
      "(2120, 2.3237469100018383e-05)\r",
      "(2121, 2.3179218220092424e-05)\r",
      "(2122, 2.3121114620954795e-05)\r",
      "(2123, 2.30631579245921e-05)\r",
      "(2124, 2.300534775249705e-05)\r",
      "(2125, 2.294768372939242e-05)\r",
      "(2126, 2.289016547826431e-05)\r",
      "(2127, 2.2832792625637875e-05)\r",
      "(2128, 2.27755647970763e-05)\r",
      "(2129, 2.2718481620749316e-05)\r",
      "(2130, 2.266154272479451e-05)\r"
     ]
    },
    {
     "name": "stdout",
     "output_type": "stream",
     "text": [
      "(2131, 2.2604747737937468e-05)\r",
      "(2132, 2.2548096291353104e-05)\r",
      "(2133, 2.2491588016027165e-05)\r",
      "(2134, 2.2435222543841832e-05)\r",
      "(2135, 2.237899950912659e-05)\r",
      "(2136, 2.232291854493389e-05)\r",
      "(2137, 2.2266979287227695e-05)\r",
      "(2138, 2.2211181371779792e-05)\r",
      "(2139, 2.2155524436341254e-05)\r",
      "(2140, 2.2100008118159538e-05)\r",
      "(2141, 2.2044632056925564e-05)\r",
      "(2142, 2.1989395892290852e-05)\r",
      "(2143, 2.1934299265418308e-05)\r",
      "(2144, 2.1879341818205927e-05)\r",
      "(2145, 2.182452319313113e-05)\r",
      "(2146, 2.1769843034491084e-05)\r",
      "(2147, 2.1715300986850933e-05)\r",
      "(2148, 2.1660896695973922e-05)\r"
     ]
    },
    {
     "name": "stdout",
     "output_type": "stream",
     "text": [
      "(2149, 2.160662980804525e-05)\r",
      "(2150, 2.1552499971222558e-05)\r",
      "(2151, 2.1498506833618968e-05)\r",
      "(2152, 2.144465004469845e-05)\r",
      "(2153, 2.1390929254965026e-05)\r",
      "(2154, 2.1337344115031676e-05)\r",
      "(2155, 2.1283894278101162e-05)\r",
      "(2156, 2.1230579396553544e-05)\r",
      "(2157, 2.1177399124271943e-05)\r",
      "(2158, 2.1124353116952077e-05)\r",
      "(2159, 2.1071441029465398e-05)\r",
      "(2160, 2.101866251927021e-05)\r",
      "(2161, 2.096601724361977e-05)\r",
      "(2162, 2.091350486157767e-05)\r",
      "(2163, 2.0861125031691305e-05)\r",
      "(2164, 2.0808877414937548e-05)\r",
      "(2165, 2.075676167270634e-05)\r",
      "(2166, 2.0704777466955273e-05)\r",
      "(2167, 2.0652924460054052e-05)\r"
     ]
    },
    {
     "name": "stdout",
     "output_type": "stream",
     "text": [
      "(2168, 2.060120231695458e-05)\r",
      "(2169, 2.054961070193444e-05)\r",
      "(2170, 2.0498149280301932e-05)\r",
      "(2171, 2.0446817719635796e-05)\r",
      "(2172, 2.0395615686218846e-05)\r",
      "(2173, 2.034454284922341e-05)\r",
      "(2174, 2.0293598877455114e-05)\r",
      "(2175, 2.02427834410577e-05)\r",
      "(2176, 2.019209621073741e-05)\r",
      "(2177, 2.014153685869257e-05)\r",
      "(2178, 2.009110505706291e-05)\r",
      "(2179, 2.0040800479944273e-05)\r",
      "(2180, 1.999062280137293e-05)\r",
      "(2181, 1.994057169656519e-05)\r",
      "(2182, 1.9890646841916863e-05)\r",
      "(2183, 1.984084791376279e-05)\r",
      "(2184, 1.979117459008135e-05)\r",
      "(2185, 1.9741626550338887e-05)\r",
      "(2186, 1.9692203472854417e-05)\r"
     ]
    },
    {
     "name": "stdout",
     "output_type": "stream",
     "text": [
      "(2187, 1.9642905038673913e-05)\r",
      "(2188, 1.9593730928160083e-05)\r",
      "(2189, 1.9544680824556496e-05)\r",
      "(2190, 1.9495754409492666e-05)\r",
      "(2191, 1.944695136763296e-05)\r",
      "(2192, 1.939827138264674e-05)\r",
      "(2193, 1.9349714140307352e-05)\r",
      "(2194, 1.9301279326322103e-05)\r",
      "(2195, 1.925296662850127e-05)\r",
      "(2196, 1.9204775733813385e-05)\r",
      "(2197, 1.915670633117407e-05)\r",
      "(2198, 1.9108758110205875e-05)\r",
      "(2199, 1.9060930760927946e-05)\r",
      "(2200, 1.901322397437539e-05)\r",
      "(2201, 1.8965637442598786e-05)\r",
      "(2202, 1.8918170858198935e-05)\r",
      "(2203, 1.887082391463628e-05)\r",
      "(2204, 1.8823596306075545e-05)\r"
     ]
    },
    {
     "name": "stdout",
     "output_type": "stream",
     "text": [
      "(2205, 1.8776487727695153e-05)\r",
      "(2206, 1.8729497875686773e-05)\r",
      "(2207, 1.8682626446170394e-05)\r",
      "(2208, 1.8635873137362857e-05)\r",
      "(2209, 1.858923764663388e-05)\r",
      "(2210, 1.8542719674068802e-05)\r",
      "(2211, 1.8496318918285373e-05)\r",
      "(2212, 1.8450035081080803e-05)\r",
      "(2213, 1.840386786324864e-05)\r",
      "(2214, 1.835781696736678e-05)\r",
      "(2215, 1.831188209578327e-05)\r",
      "(2216, 1.8266062953094307e-05)\r",
      "(2217, 1.8220359243355615e-05)\r",
      "(2218, 1.817477067178595e-05)\r",
      "(2219, 1.8129296944766656e-05)\r",
      "(2220, 1.8083937769221674e-05)\r",
      "(2221, 1.803869285199763e-05)\r",
      "(2222, 1.7993561902651353e-05)\r",
      "(2223, 1.794854462942247e-05)\r",
      "(2224, 1.790364074264045e-05)\r"
     ]
    },
    {
     "name": "stdout",
     "output_type": "stream",
     "text": [
      "(2225, 1.7858849953020493e-05)\r",
      "(2226, 1.7814171971353417e-05)\r",
      "(2227, 1.7769606510828345e-05)\r",
      "(2228, 1.7725153283470278e-05)\r",
      "(2229, 1.7680812003701688e-05)\r",
      "(2230, 1.7636582385399677e-05)\r",
      "(2231, 1.7592464143599118e-05)\r",
      "(2232, 1.7548456994956792e-05)\r",
      "(2233, 1.7504560655737867e-05)\r",
      "(2234, 1.7460774843364105e-05)\r",
      "(2235, 1.741709927548437e-05)\r",
      "(2236, 1.737353367198727e-05)\r",
      "(2237, 1.733007775159412e-05)\r",
      "(2238, 1.728673123526522e-05)\r",
      "(2239, 1.724349384372196e-05)\r",
      "(2240, 1.7200365298530365e-05)\r",
      "(2241, 1.7157345323029705e-05)\r",
      "(2242, 1.7114433639854794e-05)\r",
      "(2243, 1.7071629973103312e-05)\r",
      "(2244, 1.702893404740643e-05)\r"
     ]
    },
    {
     "name": "stdout",
     "output_type": "stream",
     "text": [
      "(2245, 1.698634558823811e-05)\r",
      "(2246, 1.694386432175993e-05)\r",
      "(2247, 1.6901489974820712e-05)\r",
      "(2248, 1.685922227495619e-05)\r",
      "(2249, 1.681706095054346e-05)\r",
      "(2250, 1.677500573049099e-05)\r",
      "(2251, 1.6733056344238324e-05)\r",
      "(2252, 1.669121252268452e-05)\r",
      "(2253, 1.664947399633018e-05)\r",
      "(2254, 1.660784049728954e-05)\r",
      "(2255, 1.656631175836129e-05)\r",
      "(2256, 1.652488751209949e-05)\r",
      "(2257, 1.6483567492670777e-05)\r",
      "(2258, 1.644235143508001e-05)\r",
      "(2259, 1.640123907362211e-05)\r",
      "(2260, 1.6360230145132226e-05)\r",
      "(2261, 1.6319324385889678e-05)\r",
      "(2262, 1.6278521533320283e-05)\r",
      "(2263, 1.6237821325686424e-05)\r"
     ]
    },
    {
     "name": "stdout",
     "output_type": "stream",
     "text": [
      "(2264, 1.619722350100333e-05)\r",
      "(2265, 1.615672779920558e-05)\r",
      "(2266, 1.611633395997995e-05)\r",
      "(2267, 1.6076041724931856e-05)\r",
      "(2268, 1.60358508341802e-05)\r",
      "(2269, 1.5995761030845227e-05)\r",
      "(2270, 1.595577205686959e-05)\r",
      "(2271, 1.5915883656422773e-05)\r",
      "(2272, 1.587609557326988e-05)\r",
      "(2273, 1.5836407552164162e-05)\r",
      "(2274, 1.5796819338691907e-05)\r",
      "(2275, 1.5757330678188945e-05)\r",
      "(2276, 1.5717941318370987e-05)\r",
      "(2277, 1.5678651006393156e-05)\r",
      "(2278, 1.563945948993294e-05)\r",
      "(2279, 1.560036651811829e-05)\r",
      "(2280, 1.5561371839979965e-05)\r",
      "(2281, 1.5522475205843827e-05)\r",
      "(2282, 1.5483676365937966e-05)\r",
      "(2283, 1.5444975072249153e-05)\r",
      "(2284, 1.540637107604691e-05)\r"
     ]
    },
    {
     "name": "stdout",
     "output_type": "stream",
     "text": [
      "(2285, 1.5367864130513544e-05)\r",
      "(2286, 1.5329453988577734e-05)\r",
      "(2287, 1.5291140403842584e-05)\r",
      "(2288, 1.5252923131668326e-05)\r",
      "(2289, 1.521480192654187e-05)\r",
      "(2290, 1.5176776544087842e-05)\r",
      "(2291, 1.5138846741687076e-05)\r",
      "(2292, 1.510101227569159e-05)\r",
      "(2293, 1.506327290359025e-05)\r",
      "(2294, 1.502562838447254e-05)\r",
      "(2295, 1.498807847670776e-05)\r",
      "(2296, 1.4950622939955891e-05)\r",
      "(2297, 1.4913261534857865e-05)\r",
      "(2298, 1.4875994021333695e-05)\r",
      "(2299, 1.4838820161830722e-05)\r",
      "(2300, 1.4801739718074825e-05)\r",
      "(2301, 1.4764752452462391e-05)\r",
      "(2302, 1.472785812821473e-05)\r"
     ]
    },
    {
     "name": "stdout",
     "output_type": "stream",
     "text": [
      "(2303, 1.469105650999649e-05)\r",
      "(2304, 1.4654347361440526e-05)\r",
      "(2305, 1.4617730448550572e-05)\r",
      "(2306, 1.4581205536143413e-05)\r",
      "(2307, 1.4544772391096798e-05)\r",
      "(2308, 1.4508430780647735e-05)\r",
      "(2309, 1.4472180471928264e-05)\r",
      "(2310, 1.4436021233511872e-05)\r",
      "(2311, 1.4399952832938617e-05)\r",
      "(2312, 1.4363975041200055e-05)\r",
      "(2313, 1.43280876274805e-05)\r",
      "(2314, 1.4292290361786052e-05)\r",
      "(2315, 1.4256583016490834e-05)\r",
      "(2316, 1.4220965362779689e-05)\r",
      "(2317, 1.4185437172813118e-05)\r",
      "(2318, 1.4149998219417722e-05)\r",
      "(2319, 1.4114648276395213e-05)\r",
      "(2320, 1.40793871179036e-05)\r",
      "(2321, 1.4044214518456953e-05)\r"
     ]
    },
    {
     "name": "stdout",
     "output_type": "stream",
     "text": [
      "(2322, 1.4009130253543715e-05)\r",
      "(2323, 1.3974134098389379e-05)\r",
      "(2324, 1.3939225830275763e-05)\r",
      "(2325, 1.3904405225602713e-05)\r",
      "(2326, 1.3869672062362012e-05)\r",
      "(2327, 1.3835026118126935e-05)\r",
      "(2328, 1.3800467172371434e-05)\r",
      "(2329, 1.3765995003686631e-05)\r",
      "(2330, 1.3731609392563825e-05)\r",
      "(2331, 1.3697310119384152e-05)\r",
      "(2332, 1.3663096964573016e-05)\r",
      "(2333, 1.3628969710300635e-05)\r",
      "(2334, 1.3594928138317174e-05)\r",
      "(2335, 1.3560972031807903e-05)\r",
      "(2336, 1.3527101173537619e-05)\r",
      "(2337, 1.3493315347860352e-05)\r",
      "(2338, 1.3459614338554641e-05)\r",
      "(2339, 1.3425997930833186e-05)\r",
      "(2340, 1.3392465910414978e-05)\r"
     ]
    },
    {
     "name": "stdout",
     "output_type": "stream",
     "text": [
      "(2341, 1.335901806321589e-05)\r",
      "(2342, 1.3325654176121451e-05)\r",
      "(2343, 1.3292374035286099e-05)\r",
      "(2344, 1.325917742953401e-05)\r",
      "(2345, 1.3226064146494057e-05)\r",
      "(2346, 1.3193033975382243e-05)\r",
      "(2347, 1.3160086705455593e-05)\r",
      "(2348, 1.312722212632113e-05)\r",
      "(2349, 1.3094440028554003e-05)\r",
      "(2350, 1.3061740203388081e-05)\r",
      "(2351, 1.3029122441788288e-05)\r",
      "(2352, 1.2996586536459908e-05)\r",
      "(2353, 1.2964132279684287e-05)\r",
      "(2354, 1.2931759464709824e-05)\r",
      "(2355, 1.2899467884515196e-05)\r",
      "(2356, 1.2867257334436812e-05)\r",
      "(2357, 1.2835127608304413e-05)\r",
      "(2358, 1.2803078501841347e-05)\r",
      "(2359, 1.2771109810809571e-05)\r"
     ]
    },
    {
     "name": "stdout",
     "output_type": "stream",
     "text": [
      "(2360, 1.2739221331009477e-05)\r",
      "(2361, 1.2707412859979842e-05)\r",
      "(2362, 1.267568419467924e-05)\r",
      "(2363, 1.2644035133185985e-05)\r",
      "(2364, 1.261246547346151e-05)\r",
      "(2365, 1.2580975014895671e-05)\r",
      "(2366, 1.2549563557224688e-05)\r",
      "(2367, 1.2518230899140065e-05)\r",
      "(2368, 1.2486976842615667e-05)\r",
      "(2369, 1.2455801187652997e-05)\r",
      "(2370, 1.242470373614461e-05)\r",
      "(2371, 1.2393684290019408e-05)\r",
      "(2372, 1.2362742652015152e-05)\r",
      "(2373, 1.2331878624751057e-05)\r",
      "(2374, 1.2301092011809363e-05)\r",
      "(2375, 1.2270382617580591e-05)\r",
      "(2376, 1.2239750246490698e-05)\r",
      "(2377, 1.220919470315546e-05)\r",
      "(2378, 1.2178715794234577e-05)\r"
     ]
    },
    {
     "name": "stdout",
     "output_type": "stream",
     "text": [
      "(2379, 1.2148313324568366e-05)\r",
      "(2380, 1.2117987101195229e-05)\r",
      "(2381, 1.2087736931188125e-05)\r",
      "(2382, 1.205756262227247e-05)\r",
      "(2383, 1.2027463981744376e-05)\r",
      "(2384, 1.1997440819406225e-05)\r",
      "(2385, 1.1967492943394622e-05)\r",
      "(2386, 1.193762016327051e-05)\r",
      "(2387, 1.1907822289246403e-05)\r",
      "(2388, 1.1878099131722691e-05)\r",
      "(2389, 1.1848450501905492e-05)\r",
      "(2390, 1.1818876211033962e-05)\r",
      "(2391, 1.1789376070998143e-05)\r",
      "(2392, 1.1759949894802278e-05)\r",
      "(2393, 1.1730597494401663e-05)\r",
      "(2394, 1.170131868425593e-05)\r",
      "(2395, 1.1672113277620947e-05)\r",
      "(2396, 1.1642981089020593e-05)\r",
      "(2397, 1.1613921933319624e-05)\r",
      "(2398, 1.1584935625723503e-05)\r",
      "(2399, 1.1556021981932743e-05)\r"
     ]
    },
    {
     "name": "stdout",
     "output_type": "stream",
     "text": [
      "(2400, 1.1527180819069617e-05)\r",
      "(2401, 1.1498411952588347e-05)\r",
      "(2402, 1.1469715200291507e-05)\r",
      "(2403, 1.1441090380321548e-05)\r",
      "(2404, 1.1412537310233798e-05)\r",
      "(2405, 1.13840558085411e-05)\r",
      "(2406, 1.135564569502257e-05)\r",
      "(2407, 1.1327306788560796e-05)\r",
      "(2408, 1.1299038909458812e-05)\r",
      "(2409, 1.1270841878204128e-05)\r",
      "(2410, 1.124271551562307e-05)\r",
      "(2411, 1.1214659643189553e-05)\r",
      "(2412, 1.1186674082715996e-05)\r",
      "(2413, 1.1158758656662093e-05)\r",
      "(2414, 1.1130913187516817e-05)\r",
      "(2415, 1.1103137498570577e-05)\r",
      "(2416, 1.1075431413915046e-05)\r",
      "(2417, 1.1047794757052913e-05)\r",
      "(2418, 1.1020227353060114e-05)\r"
     ]
    },
    {
     "name": "stdout",
     "output_type": "stream",
     "text": [
      "(2419, 1.0992729026423322e-05)\r",
      "(2420, 1.0965299603356577e-05)\r",
      "(2421, 1.0937938909484374e-05)\r",
      "(2422, 1.0910646770768245e-05)\r",
      "(2423, 1.0883423014587716e-05)\r",
      "(2424, 1.085626746773237e-05)\r",
      "(2425, 1.0829179958563924e-05)\r",
      "(2426, 1.0802160314390561e-05)\r",
      "(2427, 1.0775208364864487e-05)\r",
      "(2428, 1.0748323937966369e-05)\r",
      "(2429, 1.0721506863402849e-05)\r",
      "(2430, 1.0694756971834161e-05)\r",
      "(2431, 1.0668074092866386e-05)\r",
      "(2432, 1.0641458057213386e-05)\r",
      "(2433, 1.0614908696542205e-05)\r",
      "(2434, 1.0588425842391918e-05)\r",
      "(2435, 1.0562009326482386e-05)\r",
      "(2436, 1.0535658981795073e-05)\r",
      "(2437, 1.0509374641337505e-05)\r"
     ]
    },
    {
     "name": "stdout",
     "output_type": "stream",
     "text": [
      "(2438, 1.0483156137525499e-05)\r",
      "(2439, 1.0457003305271397e-05)\r",
      "(2440, 1.0430915978123459e-05)\r",
      "(2441, 1.0404893991354085e-05)\r",
      "(2442, 1.0378937179180206e-05)\r",
      "(2443, 1.0353045377697026e-05)\r",
      "(2444, 1.0327218423024906e-05)\r",
      "(2445, 1.030145615022841e-05)\r",
      "(2446, 1.027575839779401e-05)\r",
      "(2447, 1.025012500160804e-05)\r",
      "(2448, 1.022455579989761e-05)\r",
      "(2449, 1.0199050630296766e-05)\r",
      "(2450, 1.017360933154479e-05)\r",
      "(2451, 1.0148231742405273e-05)\r",
      "(2452, 1.0122917701665996e-05)\r",
      "(2453, 1.0097667049682778e-05)\r",
      "(2454, 1.0072479626217783e-05)\r",
      "(2455, 1.0047355271365809e-05)\r",
      "(2456, 1.0022293826789268e-05)\r",
      "(2457, 9.997295133247811e-06)\r\n",
      " iterations =  2457\n"
     ]
    },
    {
     "name": "stdout",
     "output_type": "stream",
     "text": [
      "CPU times: user 29.3 s, sys: 332 ms, total: 29.6 s\n",
      "Wall time: 29.2 s\n"
     ]
    },
    {
     "data": {
      "text/plain": [
       "<matplotlib.colorbar.Colorbar at 0x7f1230fb92b0>"
      ]
     },
     "execution_count": 33,
     "metadata": {},
     "output_type": "execute_result"
    },
    {
     "data": {
      "image/png": "[encoded data removed]",
      "text/plain": [
       "<Figure size 720x480.24 with 2 Axes>"
      ]
     },
     "metadata": {
      "image/png": {
       "height": 408,
       "width": 555
      },
      "needs_background": "light"
     },
     "output_type": "display_data"
    }
   ],
   "source": [
    "%%time\n",
    "%matplotlib inline\n",
    "%config InlineBackend.figure_format = 'retina'\n",
    "import numpy as np\n",
    "import matplotlib.pyplot as plt\n",
    "import itertools\n",
    "from numba import jit, float64\n",
    "# Boundary conditions\n",
    "Tnorth, Tsouth, Twest, Teast = 100, 20, 50, 50\n",
    "\n",
    "# Set meshgrid\n",
    "n, l = 64, 1.0\n",
    "X, Y = np.meshgrid(np.linspace(0,l,n), np.linspace(0,l,n))\n",
    "T = np.zeros((n,n))\n",
    "\n",
    "# Set Boundary condition\n",
    "T[n-1:, :] = Tnorth\n",
    "T[:1, :] = Tsouth\n",
    "T[:, n-1:] = Teast\n",
    "T[:, :1] = Twest\n",
    "\n",
    "def laplace(T, n):\n",
    "    residual = 0.0\n",
    "    for i in range(1, n-1):\n",
    "        for j in range(1, n-1):\n",
    "            T_old = T[i,j]\n",
    "            T[i, j] = 0.25 * (T[i+1,j] + T[i-1,j] + T[i,j+1] + T[i,j-1])\n",
    "            if T[i,j]>0:\n",
    "                residual=max(residual,abs((T_old-T[i,j])/T[i,j]))\n",
    "    return residual\n",
    "\n",
    "residual = 1.0   \n",
    "istep = 0\n",
    "while residual > 1e-5 :\n",
    "    istep += 1\n",
    "    residual = laplace(T, n)\n",
    "    print ((istep, residual), end=\"\\r\")\n",
    "\n",
    "print(\"\\n iterations = \",istep)\n",
    "plt.rcParams['figure.figsize'] = (10,6.67)\n",
    "plt.title(\"Temperature\")\n",
    "plt.contourf(X, Y, T)\n",
    "plt.colorbar()"
   ]
  },
  {
   "cell_type": "markdown",
   "metadata": {},
   "source": [
    "## Vectorize performance"
   ]
  },
  {
   "cell_type": "code",
   "execution_count": 34,
   "metadata": {
    "lines_to_next_cell": 2,
    "slideshow": {
     "slide_type": "slide"
    }
   },
   "outputs": [
    {
     "name": "stderr",
     "output_type": "stream",
     "text": [
      "/usr/share/miniconda3/envs/runenv/lib/python3.8/site-packages/numba/np/ufunc/parallel.py:355: NumbaWarning: The TBB threading layer requires TBB version 2019.5 or later i.e., TBB_INTERFACE_VERSION >= 11005. Found TBB_INTERFACE_VERSION = 9107. The TBB threading layer is disabled.\n",
      "  warnings.warn(problem)\n"
     ]
    }
   ],
   "source": [
    "import socket\n",
    "import numpy as np\n",
    "from numba import vectorize\n",
    "\n",
    "@vectorize(['float64(float64, float64)'], target=\"cpu\", cache=True, nopython=True)\n",
    "def cpu_add(a, b):\n",
    "   return a + b\n",
    "\n",
    "@vectorize(['float64(float64, float64)'], target=\"parallel\", cache=True, nopython=True)\n",
    "def parallel_add(a, b):\n",
    "   return a + b\n",
    "\n",
    "if socket.gethostname() == \"gpu-irmar.insa-rennes.fr\":\n",
    "    @vectorize(['float64(float64, float64)'], target=\"cuda\", cache=True, nopython=True)\n",
    "    def parallel_add(a, b):\n",
    "       return a + b"
   ]
  },
  {
   "cell_type": "code",
   "execution_count": 35,
   "metadata": {},
   "outputs": [
    {
     "name": "stderr",
     "output_type": "stream",
     "text": [
      "\r",
      "N/A% (0 of 6) |                          | Elapsed Time: 0:00:00 ETA:  --:--:--"
     ]
    },
    {
     "name": "stderr",
     "output_type": "stream",
     "text": [
      "\r",
      " 16% (1 of 6) |####                      | Elapsed Time: 0:00:29 ETA:   0:02:25"
     ]
    },
    {
     "name": "stderr",
     "output_type": "stream",
     "text": [
      "\r",
      " 33% (2 of 6) |########                  | Elapsed Time: 0:00:52 ETA:   0:01:34"
     ]
    },
    {
     "name": "stderr",
     "output_type": "stream",
     "text": [
      "\r",
      " 50% (3 of 6) |#############             | Elapsed Time: 0:01:11 ETA:   0:00:57"
     ]
    },
    {
     "name": "stderr",
     "output_type": "stream",
     "text": [
      "\r",
      " 66% (4 of 6) |#################         | Elapsed Time: 0:01:29 ETA:   0:00:34"
     ]
    },
    {
     "name": "stderr",
     "output_type": "stream",
     "text": [
      "\r",
      " 83% (5 of 6) |#####################     | Elapsed Time: 0:01:47 ETA:   0:00:18"
     ]
    },
    {
     "name": "stderr",
     "output_type": "stream",
     "text": [
      "\r",
      "100% (6 of 6) |##########################| Elapsed Time: 0:01:58 Time:  0:01:58"
     ]
    },
    {
     "name": "stderr",
     "output_type": "stream",
     "text": [
      "\n"
     ]
    },
    {
     "data": {
      "image/png": "[encoded data removed]",
      "text/plain": [
       "<Figure size 432x288 with 1 Axes>"
      ]
     },
     "metadata": {
      "image/png": {
       "height": 274,
       "width": 400
      }
     },
     "output_type": "display_data"
    }
   ],
   "source": [
    "%matplotlib inline\n",
    "import matplotlib.pyplot as plt\n",
    "import seaborn; seaborn.set()\n",
    "import progressbar\n",
    "Nrange = (2 ** np.arange(6, 12)).astype(int)\n",
    "\n",
    "t_numpy = []\n",
    "t_numba_cpu = []\n",
    "t_numba_parallel = []\n",
    "\n",
    "bar = progressbar.ProgressBar()\n",
    "\n",
    "for N in bar(Nrange):\n",
    "    # Initialize arrays\n",
    "\n",
    "    A = np.ones(N*N, dtype=np.float32).reshape(N,N)\n",
    "    B = np.ones(A.shape, dtype=A.dtype)\n",
    "    C = np.empty_like(A, dtype=A.dtype)\n",
    "\n",
    "    t1 = %timeit -oq C = A + B\n",
    "    t2 = %timeit -oq C = cpu_add(A, B)\n",
    "    t3 = %timeit -oq C = parallel_add(A, B)\n",
    "        \n",
    "    t_numpy.append(t1.best)\n",
    "    t_numba_cpu.append(t2.best)\n",
    "    t_numba_parallel.append(t3.best)\n",
    "   \n",
    "plt.loglog(Nrange, t_numpy, label='numpy')\n",
    "plt.loglog(Nrange, t_numba_cpu, label='numba cpu')\n",
    "plt.loglog(Nrange, t_numba_parallel, label='numba parallel')\n",
    "plt.legend(loc='lower right')\n",
    "plt.xlabel('Number of points')\n",
    "plt.ylabel('Execution Time (s)');"
   ]
  },
  {
   "cell_type": "markdown",
   "metadata": {
    "slideshow": {
     "slide_type": "skip"
    }
   },
   "source": [
    "## References\n",
    "\n",
    "* [Numba by Loic Gouarin](https://github.com/gouarin/cours_numba_2017)\n",
    "* [Numba Documentation](http://numba.pydata.org/numba-doc/latest/index.html)\n",
    "* [Numbapro](https://github.com/ContinuumIO/numbapro-examples/)\n",
    "* [Numba examples](https://github.com/harrism/numba_examples)\n"
   ]
  }
 ],
 "metadata": {
  "jupytext": {
   "cell_metadata_json": true,
   "comment_magics": false,
   "encoding": "# -*- coding: utf-8 -*-"
  },
  "kernelspec": {
   "display_name": "Python 3",
   "language": "python",
   "name": "python3"
  },
  "language_info": {
   "codemirror_mode": {
    "name": "ipython",
    "version": 3
   },
   "file_extension": ".py",
   "mimetype": "text/x-python",
   "name": "python",
   "nbconvert_exporter": "python",
   "pygments_lexer": "ipython3",
   "version": "3.8.5"
  }
 },
 "nbformat": 4,
 "nbformat_minor": 4
}
